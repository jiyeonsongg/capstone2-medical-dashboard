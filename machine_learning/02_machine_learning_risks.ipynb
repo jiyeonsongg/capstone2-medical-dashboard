{
 "cells": [
  {
   "cell_type": "code",
   "execution_count": 1,
   "metadata": {},
   "outputs": [],
   "source": [
    "import pandas as pd\n",
    "import numpy as np"
   ]
  },
  {
   "cell_type": "code",
   "execution_count": 2,
   "metadata": {},
   "outputs": [],
   "source": [
    "# pip install pmdarima"
   ]
  },
  {
   "cell_type": "markdown",
   "metadata": {},
   "source": [
    "# SECOND ML MODEL\n",
    "### Warning Sepsis Risk by Predicting the Temperature"
   ]
  },
  {
   "cell_type": "code",
   "execution_count": 3,
   "metadata": {},
   "outputs": [],
   "source": [
    "temp_df = pd.read_csv(\"../processed_data/chartevents_6_temp.csv\").drop(columns = ['Temperature_C_all', 'Temperature_F_all', 'new_temp_c_all'])"
   ]
  },
  {
   "cell_type": "code",
   "execution_count": 4,
   "metadata": {},
   "outputs": [],
   "source": [
    "temp_df[\"charttime\"] = pd.to_datetime(temp_df[\"charttime\"])"
   ]
  },
  {
   "cell_type": "code",
   "execution_count": 5,
   "metadata": {},
   "outputs": [
    {
     "data": {
      "text/plain": [
       "subject_id\n",
       "21280    1664\n",
       "12613    1638\n",
       "11923    1441\n",
       "1785     1307\n",
       "3932     1296\n",
       "         ... \n",
       "8712        1\n",
       "10373       1\n",
       "5927        1\n",
       "19768       1\n",
       "16231       1\n",
       "Name: count, Length: 22289, dtype: int64"
      ]
     },
     "execution_count": 5,
     "metadata": {},
     "output_type": "execute_result"
    }
   ],
   "source": [
    "temp_df['subject_id'].value_counts()"
   ]
  },
  {
   "cell_type": "markdown",
   "metadata": {},
   "source": [
    "I am going to take a look the patient (subject_id: 21280) who has the most hospital information."
   ]
  },
  {
   "cell_type": "code",
   "execution_count": 15,
   "metadata": {},
   "outputs": [
    {
     "data": {
      "text/html": [
       "<div>\n",
       "<style scoped>\n",
       "    .dataframe tbody tr th:only-of-type {\n",
       "        vertical-align: middle;\n",
       "    }\n",
       "\n",
       "    .dataframe tbody tr th {\n",
       "        vertical-align: top;\n",
       "    }\n",
       "\n",
       "    .dataframe thead th {\n",
       "        text-align: right;\n",
       "    }\n",
       "</style>\n",
       "<table border=\"1\" class=\"dataframe\">\n",
       "  <thead>\n",
       "    <tr style=\"text-align: right;\">\n",
       "      <th></th>\n",
       "      <th>subject_id</th>\n",
       "      <th>hadm_id</th>\n",
       "      <th>icustay_id</th>\n",
       "      <th>Temperature_final</th>\n",
       "    </tr>\n",
       "    <tr>\n",
       "      <th>charttime</th>\n",
       "      <th></th>\n",
       "      <th></th>\n",
       "      <th></th>\n",
       "      <th></th>\n",
       "    </tr>\n",
       "  </thead>\n",
       "  <tbody>\n",
       "    <tr>\n",
       "      <th>2159-02-02 16:00:00</th>\n",
       "      <td>21280</td>\n",
       "      <td>100374</td>\n",
       "      <td>224298.0</td>\n",
       "      <td>37.000000</td>\n",
       "    </tr>\n",
       "    <tr>\n",
       "      <th>2159-02-03 00:00:00</th>\n",
       "      <td>21280</td>\n",
       "      <td>100374</td>\n",
       "      <td>224298.0</td>\n",
       "      <td>37.666698</td>\n",
       "    </tr>\n",
       "    <tr>\n",
       "      <th>2159-02-03 04:00:00</th>\n",
       "      <td>21280</td>\n",
       "      <td>100374</td>\n",
       "      <td>224298.0</td>\n",
       "      <td>36.611099</td>\n",
       "    </tr>\n",
       "    <tr>\n",
       "      <th>2159-02-03 08:00:00</th>\n",
       "      <td>21280</td>\n",
       "      <td>100374</td>\n",
       "      <td>224298.0</td>\n",
       "      <td>36.833302</td>\n",
       "    </tr>\n",
       "    <tr>\n",
       "      <th>2159-02-03 12:00:00</th>\n",
       "      <td>21280</td>\n",
       "      <td>100374</td>\n",
       "      <td>224298.0</td>\n",
       "      <td>36.833302</td>\n",
       "    </tr>\n",
       "    <tr>\n",
       "      <th>...</th>\n",
       "      <td>...</td>\n",
       "      <td>...</td>\n",
       "      <td>...</td>\n",
       "      <td>...</td>\n",
       "    </tr>\n",
       "    <tr>\n",
       "      <th>2164-02-15 15:00:00</th>\n",
       "      <td>21280</td>\n",
       "      <td>199369</td>\n",
       "      <td>229375.0</td>\n",
       "      <td>38.333302</td>\n",
       "    </tr>\n",
       "    <tr>\n",
       "      <th>2164-02-15 22:00:00</th>\n",
       "      <td>21280</td>\n",
       "      <td>199369</td>\n",
       "      <td>229375.0</td>\n",
       "      <td>38.444401</td>\n",
       "    </tr>\n",
       "    <tr>\n",
       "      <th>2164-02-16 03:00:00</th>\n",
       "      <td>21280</td>\n",
       "      <td>199369</td>\n",
       "      <td>229375.0</td>\n",
       "      <td>39.111099</td>\n",
       "    </tr>\n",
       "    <tr>\n",
       "      <th>2164-02-16 07:00:00</th>\n",
       "      <td>21280</td>\n",
       "      <td>199369</td>\n",
       "      <td>229375.0</td>\n",
       "      <td>39.944401</td>\n",
       "    </tr>\n",
       "    <tr>\n",
       "      <th>2164-02-16 11:00:00</th>\n",
       "      <td>21280</td>\n",
       "      <td>199369</td>\n",
       "      <td>229375.0</td>\n",
       "      <td>39.611099</td>\n",
       "    </tr>\n",
       "  </tbody>\n",
       "</table>\n",
       "<p>1664 rows × 4 columns</p>\n",
       "</div>"
      ],
      "text/plain": [
       "                     subject_id  hadm_id  icustay_id  Temperature_final\n",
       "charttime                                                              \n",
       "2159-02-02 16:00:00       21280   100374    224298.0          37.000000\n",
       "2159-02-03 00:00:00       21280   100374    224298.0          37.666698\n",
       "2159-02-03 04:00:00       21280   100374    224298.0          36.611099\n",
       "2159-02-03 08:00:00       21280   100374    224298.0          36.833302\n",
       "2159-02-03 12:00:00       21280   100374    224298.0          36.833302\n",
       "...                         ...      ...         ...                ...\n",
       "2164-02-15 15:00:00       21280   199369    229375.0          38.333302\n",
       "2164-02-15 22:00:00       21280   199369    229375.0          38.444401\n",
       "2164-02-16 03:00:00       21280   199369    229375.0          39.111099\n",
       "2164-02-16 07:00:00       21280   199369    229375.0          39.944401\n",
       "2164-02-16 11:00:00       21280   199369    229375.0          39.611099\n",
       "\n",
       "[1664 rows x 4 columns]"
      ]
     },
     "execution_count": 15,
     "metadata": {},
     "output_type": "execute_result"
    }
   ],
   "source": [
    "patient_21280_df = temp_df[temp_df['subject_id'] == 21280].set_index('charttime')\n",
    "patient_21280_df"
   ]
  },
  {
   "cell_type": "code",
   "execution_count": 16,
   "metadata": {},
   "outputs": [
    {
     "data": {
      "text/plain": [
       "<Axes: xlabel='charttime'>"
      ]
     },
     "execution_count": 16,
     "metadata": {},
     "output_type": "execute_result"
    },
    {
     "data": {
      "image/png": "[encoded data removed]",
      "text/plain": [
       "<Figure size 1200x500 with 1 Axes>"
      ]
     },
     "metadata": {},
     "output_type": "display_data"
    }
   ],
   "source": [
    "patient_21280_df['Temperature_final'].plot(figsize=(12,5))"
   ]
  },
  {
   "cell_type": "markdown",
   "metadata": {},
   "source": [
    "Check for Stationarity"
   ]
  },
  {
   "cell_type": "code",
   "execution_count": 18,
   "metadata": {},
   "outputs": [],
   "source": [
    "from statsmodels.tsa.stattools import adfuller\n",
    "\n",
    "def ad_test(dataset):\n",
    "    dftest = adfuller(dataset, autolag = 'AIC')\n",
    "    print(\"1. ADF: \", dftest[0])\n",
    "    print(\"2. P-value: \", dftest[1])\n",
    "    print(\"3. Num of Lags: \", dftest[2])\n",
    "    print(\"4. Num of Observations Used For ADF Registration and Critical Values Calculation: \", dftest[3])\n",
    "    print(\"5. Critical values: \")\n",
    "    for key, val in dftest[4].items():\n",
    "        print(\"\\t\", key, \": \", val)"
   ]
  },
  {
   "cell_type": "code",
   "execution_count": 19,
   "metadata": {},
   "outputs": [
    {
     "name": "stdout",
     "output_type": "stream",
     "text": [
      "1. ADF:  -12.60581187301637\n",
      "2. P-value:  1.6969070660125424e-23\n",
      "3. Num of Lags:  5\n",
      "4. Num of Observations Used For ADF Registration and Critical Values Calculation:  1658\n",
      "5. Critical values: \n",
      "\t 1% :  -3.434300212992577\n",
      "\t 5% :  -2.863284793874921\n",
      "\t 10% :  -2.567698886736967\n"
     ]
    }
   ],
   "source": [
    "ad_test(patient_21280_df['Temperature_final'])"
   ]
  },
  {
   "cell_type": "markdown",
   "metadata": {},
   "source": [
    "Figure Out Order for ARIMA Model"
   ]
  },
  {
   "cell_type": "code",
   "execution_count": 20,
   "metadata": {},
   "outputs": [],
   "source": [
    "from pmdarima import auto_arima\n",
    "import warnings\n",
    "warnings.filterwarnings(\"ignore\")"
   ]
  },
  {
   "cell_type": "code",
   "execution_count": 21,
   "metadata": {},
   "outputs": [
    {
     "name": "stdout",
     "output_type": "stream",
     "text": [
      "Performing stepwise search to minimize aic\n",
      " ARIMA(2,0,2)(0,0,0)[0] intercept   : AIC=6180.785, Time=1.54 sec\n",
      " ARIMA(0,0,0)(0,0,0)[0] intercept   : AIC=6288.334, Time=0.03 sec\n",
      " ARIMA(1,0,0)(0,0,0)[0] intercept   : AIC=6215.992, Time=0.16 sec\n",
      " ARIMA(0,0,1)(0,0,0)[0] intercept   : AIC=6231.830, Time=0.11 sec\n",
      " ARIMA(0,0,0)(0,0,0)[0]             : AIC=16752.770, Time=0.02 sec\n",
      " ARIMA(1,0,2)(0,0,0)[0] intercept   : AIC=6180.663, Time=1.05 sec\n",
      " ARIMA(0,0,2)(0,0,0)[0] intercept   : AIC=6204.596, Time=0.16 sec\n",
      " ARIMA(1,0,1)(0,0,0)[0] intercept   : AIC=6180.548, Time=0.67 sec\n",
      " ARIMA(2,0,1)(0,0,0)[0] intercept   : AIC=6190.468, Time=0.39 sec\n",
      " ARIMA(2,0,0)(0,0,0)[0] intercept   : AIC=6190.246, Time=0.09 sec\n",
      " ARIMA(1,0,1)(0,0,0)[0]             : AIC=6227.599, Time=0.25 sec\n",
      "\n",
      "Best model:  ARIMA(1,0,1)(0,0,0)[0] intercept\n",
      "Total fit time: 4.498 seconds\n"
     ]
    },
    {
     "data": {
      "text/html": [
       "<table class=\"simpletable\">\n",
       "<caption>SARIMAX Results</caption>\n",
       "<tr>\n",
       "  <th>Dep. Variable:</th>           <td>y</td>        <th>  No. Observations:  </th>   <td>1664</td>   \n",
       "</tr>\n",
       "<tr>\n",
       "  <th>Model:</th>           <td>SARIMAX(1, 0, 1)</td> <th>  Log Likelihood     </th> <td>-3086.274</td>\n",
       "</tr>\n",
       "<tr>\n",
       "  <th>Date:</th>            <td>Sun, 04 Feb 2024</td> <th>  AIC                </th> <td>6180.548</td> \n",
       "</tr>\n",
       "<tr>\n",
       "  <th>Time:</th>                <td>20:56:45</td>     <th>  BIC                </th> <td>6202.216</td> \n",
       "</tr>\n",
       "<tr>\n",
       "  <th>Sample:</th>                  <td>0</td>        <th>  HQIC               </th> <td>6188.578</td> \n",
       "</tr>\n",
       "<tr>\n",
       "  <th></th>                      <td> - 1664</td>     <th>                     </th>     <td> </td>    \n",
       "</tr>\n",
       "<tr>\n",
       "  <th>Covariance Type:</th>        <td>opg</td>       <th>                     </th>     <td> </td>    \n",
       "</tr>\n",
       "</table>\n",
       "<table class=\"simpletable\">\n",
       "<tr>\n",
       "      <td></td>         <th>coef</th>     <th>std err</th>      <th>z</th>      <th>P>|z|</th>  <th>[0.025</th>    <th>0.975]</th>  \n",
       "</tr>\n",
       "<tr>\n",
       "  <th>intercept</th> <td>   13.2054</td> <td>    1.542</td> <td>    8.563</td> <td> 0.000</td> <td>   10.183</td> <td>   16.228</td>\n",
       "</tr>\n",
       "<tr>\n",
       "  <th>ar.L1</th>     <td>    0.6438</td> <td>    0.042</td> <td>   15.429</td> <td> 0.000</td> <td>    0.562</td> <td>    0.726</td>\n",
       "</tr>\n",
       "<tr>\n",
       "  <th>ma.L1</th>     <td>   -0.4555</td> <td>    0.042</td> <td>  -10.727</td> <td> 0.000</td> <td>   -0.539</td> <td>   -0.372</td>\n",
       "</tr>\n",
       "<tr>\n",
       "  <th>sigma2</th>    <td>    2.3804</td> <td>    0.008</td> <td>  303.214</td> <td> 0.000</td> <td>    2.365</td> <td>    2.396</td>\n",
       "</tr>\n",
       "</table>\n",
       "<table class=\"simpletable\">\n",
       "<tr>\n",
       "  <th>Ljung-Box (L1) (Q):</th>     <td>0.59</td> <th>  Jarque-Bera (JB):  </th> <td>61753351.85</td>\n",
       "</tr>\n",
       "<tr>\n",
       "  <th>Prob(Q):</th>                <td>0.44</td> <th>  Prob(JB):          </th>    <td>0.00</td>    \n",
       "</tr>\n",
       "<tr>\n",
       "  <th>Heteroskedasticity (H):</th> <td>2.41</td> <th>  Skew:              </th>   <td>-26.51</td>   \n",
       "</tr>\n",
       "<tr>\n",
       "  <th>Prob(H) (two-sided):</th>    <td>0.00</td> <th>  Kurtosis:          </th>   <td>945.26</td>   \n",
       "</tr>\n",
       "</table><br/><br/>Warnings:<br/>[1] Covariance matrix calculated using the outer product of gradients (complex-step)."
      ],
      "text/latex": [
       "\\begin{center}\n",
       "\\begin{tabular}{lclc}\n",
       "\\toprule\n",
       "\\textbf{Dep. Variable:}          &        y         & \\textbf{  No. Observations:  } &     1664     \\\\\n",
       "\\textbf{Model:}                  & SARIMAX(1, 0, 1) & \\textbf{  Log Likelihood     } &  -3086.274   \\\\\n",
       "\\textbf{Date:}                   & Sun, 04 Feb 2024 & \\textbf{  AIC                } &   6180.548   \\\\\n",
       "\\textbf{Time:}                   &     20:56:45     & \\textbf{  BIC                } &   6202.216   \\\\\n",
       "\\textbf{Sample:}                 &        0         & \\textbf{  HQIC               } &   6188.578   \\\\\n",
       "\\textbf{}                        &      - 1664      & \\textbf{                     } &              \\\\\n",
       "\\textbf{Covariance Type:}        &       opg        & \\textbf{                     } &              \\\\\n",
       "\\bottomrule\n",
       "\\end{tabular}\n",
       "\\begin{tabular}{lcccccc}\n",
       "                   & \\textbf{coef} & \\textbf{std err} & \\textbf{z} & \\textbf{P$> |$z$|$} & \\textbf{[0.025} & \\textbf{0.975]}  \\\\\n",
       "\\midrule\n",
       "\\textbf{intercept} &      13.2054  &        1.542     &     8.563  &         0.000        &       10.183    &       16.228     \\\\\n",
       "\\textbf{ar.L1}     &       0.6438  &        0.042     &    15.429  &         0.000        &        0.562    &        0.726     \\\\\n",
       "\\textbf{ma.L1}     &      -0.4555  &        0.042     &   -10.727  &         0.000        &       -0.539    &       -0.372     \\\\\n",
       "\\textbf{sigma2}    &       2.3804  &        0.008     &   303.214  &         0.000        &        2.365    &        2.396     \\\\\n",
       "\\bottomrule\n",
       "\\end{tabular}\n",
       "\\begin{tabular}{lclc}\n",
       "\\textbf{Ljung-Box (L1) (Q):}     & 0.59 & \\textbf{  Jarque-Bera (JB):  } & 61753351.85  \\\\\n",
       "\\textbf{Prob(Q):}                & 0.44 & \\textbf{  Prob(JB):          } &     0.00     \\\\\n",
       "\\textbf{Heteroskedasticity (H):} & 2.41 & \\textbf{  Skew:              } &    -26.51    \\\\\n",
       "\\textbf{Prob(H) (two-sided):}    & 0.00 & \\textbf{  Kurtosis:          } &    945.26    \\\\\n",
       "\\bottomrule\n",
       "\\end{tabular}\n",
       "%\\caption{SARIMAX Results}\n",
       "\\end{center}\n",
       "\n",
       "Warnings: \\newline\n",
       " [1] Covariance matrix calculated using the outer product of gradients (complex-step)."
      ],
      "text/plain": [
       "<class 'statsmodels.iolib.summary.Summary'>\n",
       "\"\"\"\n",
       "                               SARIMAX Results                                \n",
       "==============================================================================\n",
       "Dep. Variable:                      y   No. Observations:                 1664\n",
       "Model:               SARIMAX(1, 0, 1)   Log Likelihood               -3086.274\n",
       "Date:                Sun, 04 Feb 2024   AIC                           6180.548\n",
       "Time:                        20:56:45   BIC                           6202.216\n",
       "Sample:                             0   HQIC                          6188.578\n",
       "                               - 1664                                         \n",
       "Covariance Type:                  opg                                         \n",
       "==============================================================================\n",
       "                 coef    std err          z      P>|z|      [0.025      0.975]\n",
       "------------------------------------------------------------------------------\n",
       "intercept     13.2054      1.542      8.563      0.000      10.183      16.228\n",
       "ar.L1          0.6438      0.042     15.429      0.000       0.562       0.726\n",
       "ma.L1         -0.4555      0.042    -10.727      0.000      -0.539      -0.372\n",
       "sigma2         2.3804      0.008    303.214      0.000       2.365       2.396\n",
       "===================================================================================\n",
       "Ljung-Box (L1) (Q):                   0.59   Jarque-Bera (JB):          61753351.85\n",
       "Prob(Q):                              0.44   Prob(JB):                         0.00\n",
       "Heteroskedasticity (H):               2.41   Skew:                           -26.51\n",
       "Prob(H) (two-sided):                  0.00   Kurtosis:                       945.26\n",
       "===================================================================================\n",
       "\n",
       "Warnings:\n",
       "[1] Covariance matrix calculated using the outer product of gradients (complex-step).\n",
       "\"\"\""
      ]
     },
     "execution_count": 21,
     "metadata": {},
     "output_type": "execute_result"
    }
   ],
   "source": [
    "stepwise_fit = auto_arima(patient_21280_df['Temperature_final'], trace = True, suppress_warnings = True)\n",
    "stepwise_fit.summary()"
   ]
  },
  {
   "cell_type": "code",
   "execution_count": 33,
   "metadata": {},
   "outputs": [],
   "source": [
    "from statsmodels.tsa.arima.model import ARIMA"
   ]
  },
  {
   "cell_type": "markdown",
   "metadata": {},
   "source": [
    "Split Data into Training and Testing"
   ]
  },
  {
   "cell_type": "code",
   "execution_count": 34,
   "metadata": {},
   "outputs": [
    {
     "name": "stdout",
     "output_type": "stream",
     "text": [
      "(1664, 4)\n",
      "(1634, 4) (30, 4)\n"
     ]
    }
   ],
   "source": [
    "print(patient_21280_df.shape)\n",
    "train = patient_21280_df.iloc[:-30]\n",
    "test = patient_21280_df.iloc[-30:]\n",
    "print(train.shape, test.shape)"
   ]
  },
  {
   "cell_type": "markdown",
   "metadata": {},
   "source": [
    "Train the Model"
   ]
  },
  {
   "cell_type": "code",
   "execution_count": 35,
   "metadata": {},
   "outputs": [
    {
     "data": {
      "text/html": [
       "<table class=\"simpletable\">\n",
       "<caption>SARIMAX Results</caption>\n",
       "<tr>\n",
       "  <th>Dep. Variable:</th>   <td>Temperature_final</td> <th>  No. Observations:  </th>   <td>1634</td>   \n",
       "</tr>\n",
       "<tr>\n",
       "  <th>Model:</th>            <td>ARIMA(1, 0, 5)</td>   <th>  Log Likelihood     </th> <td>-3028.913</td>\n",
       "</tr>\n",
       "<tr>\n",
       "  <th>Date:</th>            <td>Sun, 04 Feb 2024</td>  <th>  AIC                </th> <td>6073.825</td> \n",
       "</tr>\n",
       "<tr>\n",
       "  <th>Time:</th>                <td>21:14:34</td>      <th>  BIC                </th> <td>6117.015</td> \n",
       "</tr>\n",
       "<tr>\n",
       "  <th>Sample:</th>                  <td>0</td>         <th>  HQIC               </th> <td>6089.846</td> \n",
       "</tr>\n",
       "<tr>\n",
       "  <th></th>                      <td> - 1634</td>      <th>                     </th>     <td> </td>    \n",
       "</tr>\n",
       "<tr>\n",
       "  <th>Covariance Type:</th>        <td>opg</td>        <th>                     </th>     <td> </td>    \n",
       "</tr>\n",
       "</table>\n",
       "<table class=\"simpletable\">\n",
       "<tr>\n",
       "     <td></td>       <th>coef</th>     <th>std err</th>      <th>z</th>      <th>P>|z|</th>  <th>[0.025</th>    <th>0.975]</th>  \n",
       "</tr>\n",
       "<tr>\n",
       "  <th>const</th>  <td>   37.0706</td> <td>    0.176</td> <td>  210.122</td> <td> 0.000</td> <td>   36.725</td> <td>   37.416</td>\n",
       "</tr>\n",
       "<tr>\n",
       "  <th>ar.L1</th>  <td>    0.9039</td> <td>    0.072</td> <td>   12.563</td> <td> 0.000</td> <td>    0.763</td> <td>    1.045</td>\n",
       "</tr>\n",
       "<tr>\n",
       "  <th>ma.L1</th>  <td>   -0.7477</td> <td>    0.072</td> <td>  -10.386</td> <td> 0.000</td> <td>   -0.889</td> <td>   -0.607</td>\n",
       "</tr>\n",
       "<tr>\n",
       "  <th>ma.L2</th>  <td>   -0.0175</td> <td>    0.015</td> <td>   -1.194</td> <td> 0.232</td> <td>   -0.046</td> <td>    0.011</td>\n",
       "</tr>\n",
       "<tr>\n",
       "  <th>ma.L3</th>  <td>   -0.0356</td> <td>    0.017</td> <td>   -2.103</td> <td> 0.035</td> <td>   -0.069</td> <td>   -0.002</td>\n",
       "</tr>\n",
       "<tr>\n",
       "  <th>ma.L4</th>  <td>   -0.0013</td> <td>    0.016</td> <td>   -0.083</td> <td> 0.934</td> <td>   -0.033</td> <td>    0.030</td>\n",
       "</tr>\n",
       "<tr>\n",
       "  <th>ma.L5</th>  <td>    0.0014</td> <td>    0.017</td> <td>    0.082</td> <td> 0.934</td> <td>   -0.032</td> <td>    0.035</td>\n",
       "</tr>\n",
       "<tr>\n",
       "  <th>sigma2</th> <td>    2.3854</td> <td>    0.008</td> <td>  290.496</td> <td> 0.000</td> <td>    2.369</td> <td>    2.402</td>\n",
       "</tr>\n",
       "</table>\n",
       "<table class=\"simpletable\">\n",
       "<tr>\n",
       "  <th>Ljung-Box (L1) (Q):</th>     <td>0.00</td>  <th>  Jarque-Bera (JB):  </th> <td>62880607.64</td>\n",
       "</tr>\n",
       "<tr>\n",
       "  <th>Prob(Q):</th>                <td>1.00</td>  <th>  Prob(JB):          </th>    <td>0.00</td>    \n",
       "</tr>\n",
       "<tr>\n",
       "  <th>Heteroskedasticity (H):</th> <td>17.62</td> <th>  Skew:              </th>   <td>-27.05</td>   \n",
       "</tr>\n",
       "<tr>\n",
       "  <th>Prob(H) (two-sided):</th>    <td>0.00</td>  <th>  Kurtosis:          </th>   <td>962.51</td>   \n",
       "</tr>\n",
       "</table><br/><br/>Warnings:<br/>[1] Covariance matrix calculated using the outer product of gradients (complex-step)."
      ],
      "text/latex": [
       "\\begin{center}\n",
       "\\begin{tabular}{lclc}\n",
       "\\toprule\n",
       "\\textbf{Dep. Variable:}          & Temperature\\_final & \\textbf{  No. Observations:  } &     1634     \\\\\n",
       "\\textbf{Model:}                  &   ARIMA(1, 0, 5)   & \\textbf{  Log Likelihood     } &  -3028.913   \\\\\n",
       "\\textbf{Date:}                   &  Sun, 04 Feb 2024  & \\textbf{  AIC                } &   6073.825   \\\\\n",
       "\\textbf{Time:}                   &      21:14:34      & \\textbf{  BIC                } &   6117.015   \\\\\n",
       "\\textbf{Sample:}                 &         0          & \\textbf{  HQIC               } &   6089.846   \\\\\n",
       "\\textbf{}                        &       - 1634       & \\textbf{                     } &              \\\\\n",
       "\\textbf{Covariance Type:}        &        opg         & \\textbf{                     } &              \\\\\n",
       "\\bottomrule\n",
       "\\end{tabular}\n",
       "\\begin{tabular}{lcccccc}\n",
       "                & \\textbf{coef} & \\textbf{std err} & \\textbf{z} & \\textbf{P$> |$z$|$} & \\textbf{[0.025} & \\textbf{0.975]}  \\\\\n",
       "\\midrule\n",
       "\\textbf{const}  &      37.0706  &        0.176     &   210.122  &         0.000        &       36.725    &       37.416     \\\\\n",
       "\\textbf{ar.L1}  &       0.9039  &        0.072     &    12.563  &         0.000        &        0.763    &        1.045     \\\\\n",
       "\\textbf{ma.L1}  &      -0.7477  &        0.072     &   -10.386  &         0.000        &       -0.889    &       -0.607     \\\\\n",
       "\\textbf{ma.L2}  &      -0.0175  &        0.015     &    -1.194  &         0.232        &       -0.046    &        0.011     \\\\\n",
       "\\textbf{ma.L3}  &      -0.0356  &        0.017     &    -2.103  &         0.035        &       -0.069    &       -0.002     \\\\\n",
       "\\textbf{ma.L4}  &      -0.0013  &        0.016     &    -0.083  &         0.934        &       -0.033    &        0.030     \\\\\n",
       "\\textbf{ma.L5}  &       0.0014  &        0.017     &     0.082  &         0.934        &       -0.032    &        0.035     \\\\\n",
       "\\textbf{sigma2} &       2.3854  &        0.008     &   290.496  &         0.000        &        2.369    &        2.402     \\\\\n",
       "\\bottomrule\n",
       "\\end{tabular}\n",
       "\\begin{tabular}{lclc}\n",
       "\\textbf{Ljung-Box (L1) (Q):}     &  0.00 & \\textbf{  Jarque-Bera (JB):  } & 62880607.64  \\\\\n",
       "\\textbf{Prob(Q):}                &  1.00 & \\textbf{  Prob(JB):          } &     0.00     \\\\\n",
       "\\textbf{Heteroskedasticity (H):} & 17.62 & \\textbf{  Skew:              } &    -27.05    \\\\\n",
       "\\textbf{Prob(H) (two-sided):}    &  0.00 & \\textbf{  Kurtosis:          } &    962.51    \\\\\n",
       "\\bottomrule\n",
       "\\end{tabular}\n",
       "%\\caption{SARIMAX Results}\n",
       "\\end{center}\n",
       "\n",
       "Warnings: \\newline\n",
       " [1] Covariance matrix calculated using the outer product of gradients (complex-step)."
      ],
      "text/plain": [
       "<class 'statsmodels.iolib.summary.Summary'>\n",
       "\"\"\"\n",
       "                               SARIMAX Results                                \n",
       "==============================================================================\n",
       "Dep. Variable:      Temperature_final   No. Observations:                 1634\n",
       "Model:                 ARIMA(1, 0, 5)   Log Likelihood               -3028.913\n",
       "Date:                Sun, 04 Feb 2024   AIC                           6073.825\n",
       "Time:                        21:14:34   BIC                           6117.015\n",
       "Sample:                             0   HQIC                          6089.846\n",
       "                               - 1634                                         \n",
       "Covariance Type:                  opg                                         \n",
       "==============================================================================\n",
       "                 coef    std err          z      P>|z|      [0.025      0.975]\n",
       "------------------------------------------------------------------------------\n",
       "const         37.0706      0.176    210.122      0.000      36.725      37.416\n",
       "ar.L1          0.9039      0.072     12.563      0.000       0.763       1.045\n",
       "ma.L1         -0.7477      0.072    -10.386      0.000      -0.889      -0.607\n",
       "ma.L2         -0.0175      0.015     -1.194      0.232      -0.046       0.011\n",
       "ma.L3         -0.0356      0.017     -2.103      0.035      -0.069      -0.002\n",
       "ma.L4         -0.0013      0.016     -0.083      0.934      -0.033       0.030\n",
       "ma.L5          0.0014      0.017      0.082      0.934      -0.032       0.035\n",
       "sigma2         2.3854      0.008    290.496      0.000       2.369       2.402\n",
       "===================================================================================\n",
       "Ljung-Box (L1) (Q):                   0.00   Jarque-Bera (JB):          62880607.64\n",
       "Prob(Q):                              1.00   Prob(JB):                         0.00\n",
       "Heteroskedasticity (H):              17.62   Skew:                           -27.05\n",
       "Prob(H) (two-sided):                  0.00   Kurtosis:                       962.51\n",
       "===================================================================================\n",
       "\n",
       "Warnings:\n",
       "[1] Covariance matrix calculated using the outer product of gradients (complex-step).\n",
       "\"\"\""
      ]
     },
     "execution_count": 35,
     "metadata": {},
     "output_type": "execute_result"
    }
   ],
   "source": [
    "model = ARIMA(train['Temperature_final'], order = (1, 0, 5))\n",
    "model = model.fit()\n",
    "model.summary()"
   ]
  },
  {
   "cell_type": "markdown",
   "metadata": {},
   "source": [
    "Make Predictions on Test Sets"
   ]
  },
  {
   "cell_type": "code",
   "execution_count": 38,
   "metadata": {},
   "outputs": [
    {
     "name": "stdout",
     "output_type": "stream",
     "text": [
      "1634    36.757434\n",
      "1635    36.805020\n",
      "1636    36.839626\n",
      "1637    36.861674\n",
      "1638    36.881394\n",
      "1639    36.899574\n",
      "1640    36.916007\n",
      "1641    36.930861\n",
      "1642    36.944287\n",
      "1643    36.956423\n",
      "1644    36.967392\n",
      "1645    36.977307\n",
      "1646    36.986269\n",
      "1647    36.994370\n",
      "1648    37.001692\n",
      "1649    37.008310\n",
      "1650    37.014293\n",
      "1651    37.019700\n",
      "1652    37.024587\n",
      "1653    37.029005\n",
      "1654    37.032998\n",
      "1655    37.036608\n",
      "1656    37.039870\n",
      "1657    37.042819\n",
      "1658    37.045485\n",
      "1659    37.047894\n",
      "1660    37.050072\n",
      "1661    37.052040\n",
      "1662    37.053820\n",
      "1663    37.055428\n",
      "Name: predicted_mean, dtype: float64\n"
     ]
    }
   ],
   "source": [
    "start = len(train)\n",
    "end = len(train) + len(test) - 1\n",
    "pred = model.predict(start = start, end = end, typ = 'levels')\n",
    "print(pred)\n",
    "# pred.index = patient_21280_df.index[start:end+1]\n",
    "# print(pred)"
   ]
  },
  {
   "cell_type": "code",
   "execution_count": 39,
   "metadata": {},
   "outputs": [
    {
     "data": {
      "text/plain": [
       "<Axes: xlabel='charttime'>"
      ]
     },
     "execution_count": 39,
     "metadata": {},
     "output_type": "execute_result"
    },
    {
     "data": {
      "image/png": "[encoded data removed]",
      "text/plain": [
       "<Figure size 640x480 with 1 Axes>"
      ]
     },
     "metadata": {},
     "output_type": "display_data"
    }
   ],
   "source": [
    "pred.plot(legend = True)\n",
    "test['Temperature_final'].plot(legend = True)"
   ]
  },
  {
   "cell_type": "code",
   "execution_count": 40,
   "metadata": {},
   "outputs": [
    {
     "data": {
      "text/plain": [
       "38.19258689880371"
      ]
     },
     "execution_count": 40,
     "metadata": {},
     "output_type": "execute_result"
    }
   ],
   "source": [
    "test['Temperature_final'].mean()"
   ]
  },
  {
   "cell_type": "code",
   "execution_count": 41,
   "metadata": {},
   "outputs": [],
   "source": [
    "from sklearn.metrics import mean_squared_error\n",
    "from math import sqrt"
   ]
  },
  {
   "cell_type": "code",
   "execution_count": 42,
   "metadata": {},
   "outputs": [
    {
     "data": {
      "text/plain": [
       "1.6534199018984093"
      ]
     },
     "execution_count": 42,
     "metadata": {},
     "output_type": "execute_result"
    }
   ],
   "source": [
    "rmse = sqrt(mean_squared_error(pred, test['Temperature_final']))\n",
    "rmse"
   ]
  },
  {
   "cell_type": "code",
   "execution_count": 43,
   "metadata": {},
   "outputs": [
    {
     "data": {
      "text/html": [
       "<div>\n",
       "<style scoped>\n",
       "    .dataframe tbody tr th:only-of-type {\n",
       "        vertical-align: middle;\n",
       "    }\n",
       "\n",
       "    .dataframe tbody tr th {\n",
       "        vertical-align: top;\n",
       "    }\n",
       "\n",
       "    .dataframe thead th {\n",
       "        text-align: right;\n",
       "    }\n",
       "</style>\n",
       "<table border=\"1\" class=\"dataframe\">\n",
       "  <thead>\n",
       "    <tr style=\"text-align: right;\">\n",
       "      <th></th>\n",
       "      <th>subject_id</th>\n",
       "      <th>hadm_id</th>\n",
       "      <th>icustay_id</th>\n",
       "      <th>Temperature_final</th>\n",
       "    </tr>\n",
       "    <tr>\n",
       "      <th>charttime</th>\n",
       "      <th></th>\n",
       "      <th></th>\n",
       "      <th></th>\n",
       "      <th></th>\n",
       "    </tr>\n",
       "  </thead>\n",
       "  <tbody>\n",
       "    <tr>\n",
       "      <th>2164-02-15 15:00:00</th>\n",
       "      <td>21280</td>\n",
       "      <td>199369</td>\n",
       "      <td>229375.0</td>\n",
       "      <td>38.333302</td>\n",
       "    </tr>\n",
       "    <tr>\n",
       "      <th>2164-02-15 22:00:00</th>\n",
       "      <td>21280</td>\n",
       "      <td>199369</td>\n",
       "      <td>229375.0</td>\n",
       "      <td>38.444401</td>\n",
       "    </tr>\n",
       "    <tr>\n",
       "      <th>2164-02-16 03:00:00</th>\n",
       "      <td>21280</td>\n",
       "      <td>199369</td>\n",
       "      <td>229375.0</td>\n",
       "      <td>39.111099</td>\n",
       "    </tr>\n",
       "    <tr>\n",
       "      <th>2164-02-16 07:00:00</th>\n",
       "      <td>21280</td>\n",
       "      <td>199369</td>\n",
       "      <td>229375.0</td>\n",
       "      <td>39.944401</td>\n",
       "    </tr>\n",
       "    <tr>\n",
       "      <th>2164-02-16 11:00:00</th>\n",
       "      <td>21280</td>\n",
       "      <td>199369</td>\n",
       "      <td>229375.0</td>\n",
       "      <td>39.611099</td>\n",
       "    </tr>\n",
       "  </tbody>\n",
       "</table>\n",
       "</div>"
      ],
      "text/plain": [
       "                     subject_id  hadm_id  icustay_id  Temperature_final\n",
       "charttime                                                              \n",
       "2164-02-15 15:00:00       21280   199369    229375.0          38.333302\n",
       "2164-02-15 22:00:00       21280   199369    229375.0          38.444401\n",
       "2164-02-16 03:00:00       21280   199369    229375.0          39.111099\n",
       "2164-02-16 07:00:00       21280   199369    229375.0          39.944401\n",
       "2164-02-16 11:00:00       21280   199369    229375.0          39.611099"
      ]
     },
     "execution_count": 43,
     "metadata": {},
     "output_type": "execute_result"
    }
   ],
   "source": [
    "model2 = ARIMA(patient_21280_df['Temperature_final'], order = (1, 0, 5))\n",
    "model2 = model2.fit()\n",
    "patient_21280_df.tail()"
   ]
  },
  {
   "cell_type": "markdown",
   "metadata": {},
   "source": [
    "For Future Dates"
   ]
  },
  {
   "cell_type": "code",
   "execution_count": 44,
   "metadata": {},
   "outputs": [
    {
     "name": "stdout",
     "output_type": "stream",
     "text": [
      "1664    38.199219\n",
      "1665    37.997461\n",
      "1666    37.863375\n",
      "1667    37.796873\n",
      "1668    37.734469\n",
      "1669    37.673837\n",
      "1670    37.618987\n",
      "1671    37.569367\n",
      "1672    37.524478\n",
      "1673    37.483870\n",
      "1674    37.447134\n",
      "1675    37.413900\n",
      "1676    37.383836\n",
      "1677    37.356638\n",
      "1678    37.332033\n",
      "1679    37.309775\n",
      "1680    37.289639\n",
      "1681    37.271423\n",
      "1682    37.254944\n",
      "1683    37.240036\n",
      "1684    37.226550\n",
      "1685    37.214349\n",
      "1686    37.203312\n",
      "1687    37.193328\n",
      "1688    37.184295\n",
      "1689    37.176124\n",
      "1690    37.168732\n",
      "1691    37.162045\n",
      "1692    37.155995\n",
      "1693    37.150522\n",
      "1694    37.145571\n",
      "Name: ARIMA Predictions, dtype: float64\n"
     ]
    }
   ],
   "source": [
    "# index_future_dates = pd.date_range(starts = , end = )\n",
    "# print(index_future_dates)\n",
    "pred = model2.predict(start = len(patient_21280_df), end = len(patient_21280_df)+30, typ = 'level').rename('ARIMA Predictions')\n",
    "# print(comp_pred)\n",
    "# pred.index = index_future_dates\n",
    "print(pred)"
   ]
  },
  {
   "cell_type": "code",
   "execution_count": null,
   "metadata": {},
   "outputs": [],
   "source": []
  }
 ],
 "metadata": {
  "kernelspec": {
   "display_name": "DSC180A_A05_T2",
   "language": "python",
   "name": "python3"
  },
  "language_info": {
   "codemirror_mode": {
    "name": "ipython",
    "version": 3
   },
   "file_extension": ".py",
   "mimetype": "text/x-python",
   "name": "python",
   "nbconvert_exporter": "python",
   "pygments_lexer": "ipython3",
   "version": "3.12.0"
  }
 },
 "nbformat": 4,
 "nbformat_minor": 2
}
