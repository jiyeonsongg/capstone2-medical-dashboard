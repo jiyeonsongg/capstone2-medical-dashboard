{
 "cells": [
  {
   "cell_type": "code",
   "execution_count": 2,
   "metadata": {},
   "outputs": [],
   "source": [
    "import psycopg2\n",
    "import pandas as pd\n",
    "from scipy import stats\n",
    "import numpy as np\n",
    "import matplotlib.pyplot as plt\n",
    "import seaborn as sns"
   ]
  },
  {
   "cell_type": "code",
   "execution_count": 3,
   "metadata": {},
   "outputs": [],
   "source": [
    "cohort_df = pd.read_csv('../processed_data/cohort_selected.csv')"
   ]
  },
  {
   "cell_type": "markdown",
   "metadata": {},
   "source": [
    "# EDA: Vitals"
   ]
  },
  {
   "cell_type": "markdown",
   "metadata": {},
   "source": [
    "## Temperature"
   ]
  },
  {
   "cell_type": "code",
   "execution_count": 4,
   "metadata": {},
   "outputs": [],
   "source": [
    "chartevents_temp_df = pd.read_csv('../processed_data/chartevents_temp.csv')\n",
    "chartevents_temp_df = chartevents_temp_df.assign(subgroup=0)"
   ]
  },
  {
   "cell_type": "code",
   "execution_count": 5,
   "metadata": {},
   "outputs": [
    {
     "data": {
      "image/png": "[encoded data removed]",
      "text/plain": [
       "<Figure size 864x432 with 1 Axes>"
      ]
     },
     "metadata": {
      "needs_background": "light"
     },
     "output_type": "display_data"
    }
   ],
   "source": [
    "chartevents_temp_df['charttime'] = pd.to_datetime(chartevents_temp_df['charttime'])\n",
    "chartevents_temp_df = chartevents_temp_df[(chartevents_temp_df['Final_Temperature_F'] > 70) & (chartevents_temp_df['Final_Temperature_F'] < 110)]\n",
    "\n",
    "plt.figure(figsize=(12, 6))\n",
    "\n",
    "sns.histplot(x='charttime', y='Final_Temperature_F', data=chartevents_temp_df, kde=True, bins=30)\n",
    "\n",
    "plt.title('Histogram of Temperature Values Over Time')\n",
    "plt.xlabel('Chart Time')\n",
    "plt.ylabel('Temperature (°F)')\n",
    "\n",
    "plt.xticks(rotation=45, ha='right')\n",
    "\n",
    "plt.tight_layout()\n",
    "plt.show()\n"
   ]
  },
  {
   "cell_type": "code",
   "execution_count": 6,
   "metadata": {},
   "outputs": [],
   "source": [
    "subgroup_1_df = pd.read_csv('../processed_data/subgroup_7.csv')\n",
    "subgroup_1_df['subgroup'] = 1\n",
    "\n",
    "subgroup_2_df = pd.read_csv('../processed_data/subgroup_5.csv')\n",
    "subgroup_2_df['subgroup'] = 2\n",
    "\n",
    "subgroup_3_df = pd.read_csv('../processed_data/subgroup_3.csv')\n",
    "subgroup_3_df['subgroup'] = 3\n",
    "\n",
    "subgroup_4_df = pd.read_csv('../processed_data/subgroup_1.csv')\n",
    "subgroup_4_df['subgroup'] = 4\n",
    "\n",
    "subgroup_5_df = pd.read_csv('../processed_data/subgroup_4.csv')\n",
    "subgroup_5_df['subgroup'] = 5\n",
    "\n",
    "subgroup_6_df = pd.read_csv('../processed_data/subgroup_2.csv')\n",
    "subgroup_6_df['subgroup'] = 6\n",
    "\n",
    "subgroup_7_df = pd.read_csv('../processed_data/subgroup_6.csv')\n",
    "subgroup_7_df['subgroup'] = 7\n"
   ]
  },
  {
   "cell_type": "code",
   "execution_count": 7,
   "metadata": {},
   "outputs": [],
   "source": [
    "cohort_temp = pd.merge(cohort_df[['hadm_id']], chartevents_temp_df, on='hadm_id', how='inner')"
   ]
  },
  {
   "cell_type": "code",
   "execution_count": 8,
   "metadata": {},
   "outputs": [],
   "source": [
    "def merge_temperature_for_subgroup(chartevents_temp_df, subgroup_df, subgroup_number):\n",
    "    if 'level_0' in subgroup_df.columns:\n",
    "        subgroup_df = subgroup_df.drop('level_0', axis=1)\n",
    "\n",
    "    subgroup_df.reset_index(inplace=True)\n",
    "\n",
    "    merged_df = pd.merge(chartevents_temp_df[['subject_id', 'hadm_id', 'icustay_id', 'charttime', 'Final_Temperature_F']],\n",
    "                        subgroup_df[['subject_id', 'rounded_age', 'admission_type_encoded', 'subgroup']],\n",
    "                        on='subject_id', how='inner')\n",
    "\n",
    "    return merged_df"
   ]
  },
  {
   "cell_type": "code",
   "execution_count": 9,
   "metadata": {},
   "outputs": [],
   "source": [
    "subgroup_1_temp_df = merge_temperature_for_subgroup(chartevents_temp_df, subgroup_1_df, 1)\n",
    "subgroup_2_temp_df = merge_temperature_for_subgroup(chartevents_temp_df, subgroup_2_df, 2)\n",
    "subgroup_3_temp_df = merge_temperature_for_subgroup(chartevents_temp_df, subgroup_3_df, 3)\n",
    "subgroup_4_temp_df = merge_temperature_for_subgroup(chartevents_temp_df, subgroup_4_df, 4)\n",
    "subgroup_5_temp_df = merge_temperature_for_subgroup(chartevents_temp_df, subgroup_5_df, 5)\n",
    "subgroup_6_temp_df = merge_temperature_for_subgroup(chartevents_temp_df, subgroup_6_df, 6)\n",
    "subgroup_7_temp_df = merge_temperature_for_subgroup(chartevents_temp_df, subgroup_7_df, 7)\n"
   ]
  },
  {
   "cell_type": "code",
   "execution_count": 10,
   "metadata": {},
   "outputs": [],
   "source": [
    "filter_condition = (subgroup_1_temp_df['Final_Temperature_F'] > 70) & (subgroup_1_temp_df['Final_Temperature_F'] < 110)\n",
    "subgroup_1_temp_df = subgroup_1_temp_df[filter_condition].reset_index(drop=True)\n",
    "\n",
    "filter_condition = (subgroup_2_temp_df['Final_Temperature_F'] > 70) & (subgroup_2_temp_df['Final_Temperature_F'] < 110)\n",
    "subgroup_2_temp_df = subgroup_2_temp_df[filter_condition].reset_index(drop=True)\n",
    "\n",
    "filter_condition = (subgroup_3_temp_df['Final_Temperature_F'] > 70) & (subgroup_3_temp_df['Final_Temperature_F'] < 110)\n",
    "subgroup_3_temp_df = subgroup_3_temp_df[filter_condition].reset_index(drop=True)\n",
    "\n",
    "filter_condition = (subgroup_4_temp_df['Final_Temperature_F'] > 70) & (subgroup_4_temp_df['Final_Temperature_F'] < 110)\n",
    "subgroup_4_temp_df = subgroup_4_temp_df[filter_condition].reset_index(drop=True)\n",
    "\n",
    "filter_condition = (subgroup_5_temp_df['Final_Temperature_F'] > 70) & (subgroup_5_temp_df['Final_Temperature_F'] < 110)\n",
    "subgroup_5_temp_df = subgroup_5_temp_df[filter_condition].reset_index(drop=True)\n",
    "\n",
    "filter_condition = (subgroup_6_temp_df['Final_Temperature_F'] > 70) & (subgroup_6_temp_df['Final_Temperature_F'] < 110)\n",
    "subgroup_6_temp_df = subgroup_6_temp_df[filter_condition].reset_index(drop=True)\n",
    "\n",
    "filter_condition = (subgroup_7_temp_df['Final_Temperature_F'] > 70) & (subgroup_7_temp_df['Final_Temperature_F'] < 110)\n",
    "subgroup_7_temp_df = subgroup_7_temp_df[filter_condition].reset_index(drop=True)\n"
   ]
  },
  {
   "cell_type": "code",
   "execution_count": 11,
   "metadata": {},
   "outputs": [
    {
     "data": {
      "text/html": [
       "<div>\n",
       "<style scoped>\n",
       "    .dataframe tbody tr th:only-of-type {\n",
       "        vertical-align: middle;\n",
       "    }\n",
       "\n",
       "    .dataframe tbody tr th {\n",
       "        vertical-align: top;\n",
       "    }\n",
       "\n",
       "    .dataframe thead th {\n",
       "        text-align: right;\n",
       "    }\n",
       "</style>\n",
       "<table border=\"1\" class=\"dataframe\">\n",
       "  <thead>\n",
       "    <tr style=\"text-align: right;\">\n",
       "      <th></th>\n",
       "      <th>Original Chartevents</th>\n",
       "      <th>Subgroup 1</th>\n",
       "      <th>Subgroup 2</th>\n",
       "      <th>Subgroup 3</th>\n",
       "      <th>Subgroup 4</th>\n",
       "      <th>Subgroup 5</th>\n",
       "      <th>Subgroup 6</th>\n",
       "      <th>Subgroup 7</th>\n",
       "    </tr>\n",
       "    <tr>\n",
       "      <th>Statistic</th>\n",
       "      <th></th>\n",
       "      <th></th>\n",
       "      <th></th>\n",
       "      <th></th>\n",
       "      <th></th>\n",
       "      <th></th>\n",
       "      <th></th>\n",
       "      <th></th>\n",
       "    </tr>\n",
       "  </thead>\n",
       "  <tbody>\n",
       "    <tr>\n",
       "      <th>mean</th>\n",
       "      <td>98.58</td>\n",
       "      <td>98.27</td>\n",
       "      <td>98.91</td>\n",
       "      <td>98.40</td>\n",
       "      <td>98.38</td>\n",
       "      <td>98.70</td>\n",
       "      <td>98.29</td>\n",
       "      <td>98.56</td>\n",
       "    </tr>\n",
       "    <tr>\n",
       "      <th>max</th>\n",
       "      <td>109.00</td>\n",
       "      <td>106.90</td>\n",
       "      <td>108.14</td>\n",
       "      <td>107.90</td>\n",
       "      <td>107.00</td>\n",
       "      <td>109.00</td>\n",
       "      <td>109.00</td>\n",
       "      <td>109.00</td>\n",
       "    </tr>\n",
       "    <tr>\n",
       "      <th>mode</th>\n",
       "      <td>98.60</td>\n",
       "      <td>98.60</td>\n",
       "      <td>98.60</td>\n",
       "      <td>98.60</td>\n",
       "      <td>98.60</td>\n",
       "      <td>98.60</td>\n",
       "      <td>98.60</td>\n",
       "      <td>98.60</td>\n",
       "    </tr>\n",
       "    <tr>\n",
       "      <th>std</th>\n",
       "      <td>1.52</td>\n",
       "      <td>1.40</td>\n",
       "      <td>1.56</td>\n",
       "      <td>1.51</td>\n",
       "      <td>1.45</td>\n",
       "      <td>1.45</td>\n",
       "      <td>1.44</td>\n",
       "      <td>1.51</td>\n",
       "    </tr>\n",
       "    <tr>\n",
       "      <th>median</th>\n",
       "      <td>98.60</td>\n",
       "      <td>98.20</td>\n",
       "      <td>98.80</td>\n",
       "      <td>98.30</td>\n",
       "      <td>98.30</td>\n",
       "      <td>98.70</td>\n",
       "      <td>98.24</td>\n",
       "      <td>98.50</td>\n",
       "    </tr>\n",
       "  </tbody>\n",
       "</table>\n",
       "</div>"
      ],
      "text/plain": [
       "           Original Chartevents  Subgroup 1  Subgroup 2  Subgroup 3  \\\n",
       "Statistic                                                             \n",
       "mean                      98.58       98.27       98.91       98.40   \n",
       "max                      109.00      106.90      108.14      107.90   \n",
       "mode                      98.60       98.60       98.60       98.60   \n",
       "std                        1.52        1.40        1.56        1.51   \n",
       "median                    98.60       98.20       98.80       98.30   \n",
       "\n",
       "           Subgroup 4  Subgroup 5  Subgroup 6  Subgroup 7  \n",
       "Statistic                                                  \n",
       "mean            98.38       98.70       98.29       98.56  \n",
       "max            107.00      109.00      109.00      109.00  \n",
       "mode            98.60       98.60       98.60       98.60  \n",
       "std              1.45        1.45        1.44        1.51  \n",
       "median          98.30       98.70       98.24       98.50  "
      ]
     },
     "execution_count": 11,
     "metadata": {},
     "output_type": "execute_result"
    }
   ],
   "source": [
    "\n",
    "\n",
    "original_stats = cohort_temp['Final_Temperature_F'].agg(lambda x: pd.Series({'mean': x.mean(), 'max': x.max(), 'mode': x.mode().iloc[0], 'std': x.std(), 'median': x.median()}))\n",
    "\n",
    "subgroup_1_stats = subgroup_1_temp_df['Final_Temperature_F'].agg(lambda x: pd.Series({'mean': x.mean(), 'max': x.max(), 'mode': x.mode().iloc[0], 'std': x.std(), 'median': x.median()}))\n",
    "\n",
    "subgroup_2_stats = subgroup_2_temp_df['Final_Temperature_F'].agg(lambda x: pd.Series({'mean': x.mean(), 'max': x.max(), 'mode': x.mode().iloc[0], 'std': x.std(), 'median': x.median()}))\n",
    "\n",
    "subgroup_3_stats = subgroup_3_temp_df['Final_Temperature_F'].agg(lambda x: pd.Series({'mean': x.mean(), 'max': x.max(), 'mode': x.mode().iloc[0], 'std': x.std(), 'median': x.median()}))\n",
    "\n",
    "subgroup_4_stats = subgroup_4_temp_df['Final_Temperature_F'].agg(lambda x: pd.Series({'mean': x.mean(), 'max': x.max(), 'mode': x.mode().iloc[0], 'std': x.std(), 'median': x.median()}))\n",
    "\n",
    "subgroup_5_stats = subgroup_5_temp_df['Final_Temperature_F'].agg(lambda x: pd.Series({'mean': x.mean(), 'max': x.max(), 'mode': x.mode().iloc[0], 'std': x.std(), 'median': x.median()}))\n",
    "\n",
    "subgroup_6_stats = subgroup_6_temp_df['Final_Temperature_F'].agg(lambda x: pd.Series({'mean': x.mean(), 'max': x.max(), 'mode': x.mode().iloc[0], 'std': x.std(), 'median': x.median()}))\n",
    "\n",
    "subgroup_7_stats = subgroup_7_temp_df['Final_Temperature_F'].agg(lambda x: pd.Series({'mean': x.mean(), 'max': x.max(), 'mode': x.mode().iloc[0], 'std': x.std(), 'median': x.median()}))\n",
    "\n",
    "result_df = pd.DataFrame({\n",
    "    'Statistic': ['mean', 'max', 'mode', 'std', 'median'],\n",
    "    'Original Chartevents': original_stats.values,\n",
    "    'Subgroup 1': subgroup_1_stats.values,\n",
    "    'Subgroup 2': subgroup_2_stats.values,\n",
    "    'Subgroup 3': subgroup_3_stats.values,\n",
    "    'Subgroup 4': subgroup_4_stats.values,\n",
    "    'Subgroup 5': subgroup_5_stats.values,\n",
    "    'Subgroup 6': subgroup_6_stats.values,\n",
    "    'Subgroup 7': subgroup_7_stats.values\n",
    "})\n",
    "\n",
    "result_df.set_index('Statistic', inplace=True)\n",
    "\n",
    "result_df = result_df.round(2)\n",
    "result_df\n"
   ]
  },
  {
   "cell_type": "code",
   "execution_count": 12,
   "metadata": {},
   "outputs": [
    {
     "data": {
      "image/png": "[encoded data removed]",
      "text/plain": [
       "<Figure size 1152x576 with 1 Axes>"
      ]
     },
     "metadata": {
      "needs_background": "light"
     },
     "output_type": "display_data"
    }
   ],
   "source": [
    "all_subgroups_df = pd.concat([cohort_temp, subgroup_1_temp_df, subgroup_2_temp_df, subgroup_3_temp_df, \n",
    "                                subgroup_4_temp_df, subgroup_5_temp_df, subgroup_6_temp_df, subgroup_7_temp_df\n",
    "                                ], keys=['Original','Subgroup 1', 'Subgroup 2', 'Subgroup 3', 'Subgroup 4', 'Subgroup 5', 'Subgroup 6', 'Subgroup 7'])\n",
    "\n",
    "# Plot boxplot\n",
    "plt.figure(figsize=(16, 8))\n",
    "sns.boxplot(data=all_subgroups_df, x='subgroup', y='Final_Temperature_F')\n",
    "plt.title('Temperature Distribution Comparison')\n",
    "plt.xlabel('Subgroup')\n",
    "plt.ylabel('Final Temperature (F)')\n",
    "plt.show()\n",
    "\n"
   ]
  },
  {
   "cell_type": "code",
   "execution_count": 76,
   "metadata": {},
   "outputs": [],
   "source": [
    "from scipy.stats import ttest_ind\n",
    "\n",
    "def bootstrap_subgroup_temperature(subgroup_data, cohort_data, num_bootstraps=1000, alpha=0.05):\n",
    "    \"\"\"\n",
    "    Perform bootstrapping for a subgroup's temperature data and conduct hypothesis testing to verify if it is statistically different from the entire cohort.\n",
    "\n",
    "    Parameters:\n",
    "    - subgroup_data (array-like): Temperature data for the subgroup.\n",
    "    - cohort_data (array-like): Temperature data for the entire cohort.\n",
    "    - num_bootstraps (int): Number of bootstrap samples to generate.\n",
    "    - alpha (float): Significance level for hypothesis testing.\n",
    "\n",
    "    Returns:\n",
    "    - p_value (float): The p-value from the hypothesis test.\n",
    "    \"\"\"\n",
    "\n",
    "    # Calculate observed difference in means\n",
    "    obs_diff = np.mean(subgroup_data) - np.mean(cohort_data)\n",
    "\n",
    "    # Bootstrap resampling\n",
    "    diffs = []\n",
    "    for _ in range(num_bootstraps):\n",
    "        # Resample with replacement\n",
    "        subgroup_sample = np.random.choice(subgroup_data, size=len(subgroup_data), replace=True)\n",
    "        cohort_sample = np.random.choice(cohort_data, size=len(cohort_data), replace=True)\n",
    "        \n",
    "        # Calculate difference in means for each sample\n",
    "        diff = np.mean(subgroup_sample) - np.mean(cohort_sample)\n",
    "        diffs.append(diff)\n",
    "\n",
    "    # Calculate p-value\n",
    "    p_value = (np.sum(np.abs(diffs) >= np.abs(obs_diff)) + 1) / (num_bootstraps + 1)\n",
    "\n",
    "    return p_value\n"
   ]
  },
  {
   "cell_type": "code",
   "execution_count": 77,
   "metadata": {},
   "outputs": [
    {
     "name": "stdout",
     "output_type": "stream",
     "text": [
      "P-value: 0.4975024975024975\n"
     ]
    }
   ],
   "source": [
    "subgroup1_temp_data = subgroup_1_temp_df['Final_Temperature_F']\n",
    "cohort_temp_data = cohort_temp['Final_Temperature_F']\n",
    "p_value = bootstrap_subgroup_temperature(subgroup1_temp_data, cohort_temp_data)\n",
    "print(\"P-value:\", p_value)"
   ]
  },
  {
   "cell_type": "code",
   "execution_count": 78,
   "metadata": {},
   "outputs": [
    {
     "name": "stdout",
     "output_type": "stream",
     "text": [
      "P-value: 0.4775224775224775\n"
     ]
    }
   ],
   "source": [
    "subgroup2_temp_data = subgroup_2_temp_df['Final_Temperature_F']\n",
    "cohort_temp_data = cohort_temp['Final_Temperature_F']\n",
    "p_value = bootstrap_subgroup_temperature(subgroup2_temp_data, cohort_temp_data)\n",
    "print(\"P-value:\", p_value)"
   ]
  },
  {
   "cell_type": "code",
   "execution_count": 79,
   "metadata": {},
   "outputs": [
    {
     "name": "stdout",
     "output_type": "stream",
     "text": [
      "P-value: 0.5004995004995005\n"
     ]
    }
   ],
   "source": [
    "subgroup3_temp_data = subgroup_3_temp_df['Final_Temperature_F']\n",
    "cohort_temp_data = cohort_temp['Final_Temperature_F']\n",
    "p_value = bootstrap_subgroup_temperature(subgroup3_temp_data, cohort_temp_data)\n",
    "print(\"P-value:\", p_value)"
   ]
  },
  {
   "cell_type": "code",
   "execution_count": 80,
   "metadata": {},
   "outputs": [
    {
     "name": "stdout",
     "output_type": "stream",
     "text": [
      "P-value: 0.46353646353646355\n"
     ]
    }
   ],
   "source": [
    "subgroup4_temp_data = subgroup_4_temp_df['Final_Temperature_F']\n",
    "cohort_temp_data = cohort_temp['Final_Temperature_F']\n",
    "p_value = bootstrap_subgroup_temperature(subgroup4_temp_data, cohort_temp_data)\n",
    "print(\"P-value:\", p_value)"
   ]
  },
  {
   "cell_type": "code",
   "execution_count": 81,
   "metadata": {},
   "outputs": [
    {
     "name": "stdout",
     "output_type": "stream",
     "text": [
      "P-value: 0.4995004995004995\n"
     ]
    }
   ],
   "source": [
    "subgroup5_temp_data = subgroup_5_temp_df['Final_Temperature_F']\n",
    "cohort_temp_data = cohort_temp['Final_Temperature_F']\n",
    "p_value = bootstrap_subgroup_temperature(subgroup5_temp_data, cohort_temp_data)\n",
    "print(\"P-value:\", p_value)"
   ]
  },
  {
   "cell_type": "code",
   "execution_count": 82,
   "metadata": {},
   "outputs": [
    {
     "name": "stdout",
     "output_type": "stream",
     "text": [
      "P-value: 0.5004995004995005\n"
     ]
    }
   ],
   "source": [
    "subgroup6_temp_data = subgroup_6_temp_df['Final_Temperature_F']\n",
    "cohort_temp_data = cohort_temp['Final_Temperature_F']\n",
    "p_value = bootstrap_subgroup_temperature(subgroup6_temp_data, cohort_temp_data)\n",
    "print(\"P-value:\", p_value)"
   ]
  },
  {
   "cell_type": "code",
   "execution_count": 83,
   "metadata": {},
   "outputs": [
    {
     "name": "stdout",
     "output_type": "stream",
     "text": [
      "P-value: 0.5094905094905094\n"
     ]
    }
   ],
   "source": [
    "subgroup7_temp_data = subgroup_7_temp_df['Final_Temperature_F']\n",
    "cohort_temp_data = cohort_temp['Final_Temperature_F']\n",
    "p_value = bootstrap_subgroup_temperature(subgroup2_temp_data, cohort_temp_data)\n",
    "print(\"P-value:\", p_value)"
   ]
  },
  {
   "cell_type": "markdown",
   "metadata": {},
   "source": [
    "## Respiratory Rate"
   ]
  },
  {
   "cell_type": "code",
   "execution_count": 118,
   "metadata": {},
   "outputs": [],
   "source": [
    "chartevents_rr_df = pd.read_csv('../processed_data/chartevents_rr.csv')"
   ]
  },
  {
   "cell_type": "code",
   "execution_count": 119,
   "metadata": {},
   "outputs": [
    {
     "data": {
      "text/plain": [
       "count    6.263265e+06\n",
       "mean     2.039807e+01\n",
       "std      9.412437e+02\n",
       "min     -1.000000e+00\n",
       "25%      1.600000e+01\n",
       "50%      1.900000e+01\n",
       "75%      2.400000e+01\n",
       "max      2.355555e+06\n",
       "Name: RespiratoryRate_combined, dtype: float64"
      ]
     },
     "execution_count": 119,
     "metadata": {},
     "output_type": "execute_result"
    }
   ],
   "source": [
    "chartevents_rr_df['RespiratoryRate_combined'].describe()\n",
    "\n"
   ]
  },
  {
   "cell_type": "code",
   "execution_count": 120,
   "metadata": {},
   "outputs": [],
   "source": [
    "#Fixing negative\n",
    "index_to_replace = chartevents_rr_df[chartevents_rr_df['RespiratoryRate_combined'] < 0].index[0]\n",
    "chartevents_rr_df.loc[index_to_replace, 'RespiratoryRate_combined'] = chartevents_rr_df.loc[index_to_replace, 'Respiratory Rate (spontaneous)']"
   ]
  },
  {
   "cell_type": "code",
   "execution_count": 121,
   "metadata": {},
   "outputs": [
    {
     "name": "stderr",
     "output_type": "stream",
     "text": [
      "/var/folders/48/vk7lyccx60x4918_6lqc64fw0000gn/T/ipykernel_26693/445750811.py:33: SettingWithCopyWarning: \n",
      "A value is trying to be set on a copy of a slice from a DataFrame.\n",
      "Try using .loc[row_indexer,col_indexer] = value instead\n",
      "\n",
      "See the caveats in the documentation: https://pandas.pydata.org/pandas-docs/stable/user_guide/indexing.html#returning-a-view-versus-a-copy\n",
      "  outliers['RespiratoryRate_combined'] = outliers.apply(get_best_respiratory_rate, axis=1)\n"
     ]
    }
   ],
   "source": [
    "#Finding best value replacement for outlier values \n",
    "column_name = 'RespiratoryRate_combined'\n",
    "\n",
    "\n",
    "Q1 = chartevents_rr_df[column_name].quantile(0.25)\n",
    "Q3 = chartevents_rr_df[column_name].quantile(0.75)\n",
    "IQR = Q3 - Q1\n",
    "\n",
    "lower_bound = Q1 - 1.5 * IQR\n",
    "upper_bound = Q3 + 1.5 * IQR\n",
    "\n",
    "\n",
    "outliers = chartevents_rr_df[(chartevents_rr_df[column_name] < lower_bound) | (chartevents_rr_df[column_name] > upper_bound)]\n",
    "\n",
    "def get_best_respiratory_rate(row):\n",
    "    candidate_columns = ['Respiratory Rate', 'Respiratory Rate (Set)', 'Respiratory Rate (Total)']\n",
    "\n",
    "    best_value = None\n",
    "    min_difference = float('inf')\n",
    "\n",
    "    for column in candidate_columns:\n",
    "        value = row[column]\n",
    "        if not pd.isnull(value) and 12 <= value <= 22:\n",
    "            return value\n",
    "        elif not pd.isnull(value):\n",
    "            difference = abs(value - 17)  # 17 is the midpoint of the decent human respiratory rate range\n",
    "            if difference < min_difference:\n",
    "                min_difference = difference\n",
    "                best_value = value\n",
    "\n",
    "    return best_value\n",
    "\n",
    "outliers['RespiratoryRate_combined'] = outliers.apply(get_best_respiratory_rate, axis=1)"
   ]
  },
  {
   "cell_type": "code",
   "execution_count": 122,
   "metadata": {},
   "outputs": [],
   "source": [
    "#Fixing error values leftover \n",
    "outliers.loc[outliers['RespiratoryRate_combined'] > 90, 'RespiratoryRate_combined'] /= 10\n",
    "outliers.loc[outliers['RespiratoryRate_combined'] > 90, 'RespiratoryRate_combined'] /= 10\n",
    "outliers.loc[outliers['RespiratoryRate_combined'] > 90, 'RespiratoryRate_combined'] /= 100000\n"
   ]
  },
  {
   "cell_type": "code",
   "execution_count": 123,
   "metadata": {},
   "outputs": [
    {
     "data": {
      "text/plain": [
       "count    103441.000000\n",
       "mean         29.390770\n",
       "std          18.495647\n",
       "min           0.000000\n",
       "25%           2.000000\n",
       "50%          38.000000\n",
       "75%          41.000000\n",
       "max          90.000000\n",
       "Name: RespiratoryRate_combined, dtype: float64"
      ]
     },
     "execution_count": 123,
     "metadata": {},
     "output_type": "execute_result"
    }
   ],
   "source": [
    "outliers['RespiratoryRate_combined'].describe()"
   ]
  },
  {
   "cell_type": "code",
   "execution_count": 124,
   "metadata": {},
   "outputs": [
    {
     "data": {
      "image/png": "[encoded data removed]",
      "text/plain": [
       "<Figure size 1152x432 with 2 Axes>"
      ]
     },
     "metadata": {
      "needs_background": "light"
     },
     "output_type": "display_data"
    }
   ],
   "source": [
    "#Visualize outliers before and after\n",
    "respiratory_rate_column = chartevents_rr_df[chartevents_rr_df['RespiratoryRate_combined'] > 0]['RespiratoryRate_combined'].dropna()\n",
    "respiratory_rate_column_fixed = outliers[outliers['RespiratoryRate_combined'] > 0]['RespiratoryRate_combined'].dropna()\n",
    "\n",
    "plt.figure(figsize=(16, 6))\n",
    "\n",
    "plt.subplot(1, 2, 1)\n",
    "plt.hist(respiratory_rate_column, bins=50, color='skyblue', edgecolor='black')\n",
    "plt.title('Original Respiratory Rate Outliers')\n",
    "plt.xlabel('Respiratory Rate (breaths per minute)')\n",
    "plt.ylabel('Frequency')\n",
    "\n",
    "plt.subplot(1, 2, 2)\n",
    "plt.hist(respiratory_rate_column_fixed, bins=50, color='skyblue', edgecolor='black')\n",
    "plt.title('Fixed Respiratory Rate Outliers')\n",
    "plt.xlabel('Respiratory Rate (breaths per minute)')\n",
    "plt.ylabel('Frequency')\n",
    "\n",
    "plt.tight_layout()\n",
    "plt.show()\n"
   ]
  },
  {
   "cell_type": "code",
   "execution_count": 125,
   "metadata": {},
   "outputs": [],
   "source": [
    "outliers.set_index(['subject_id', 'hadm_id', 'charttime'], inplace=True)\n",
    "chartevents_rr_df.set_index(['subject_id', 'hadm_id', 'charttime'], inplace=True)\n",
    "\n",
    "chartevents_rr_df.update(outliers[['RespiratoryRate_combined']])\n",
    "\n",
    "chartevents_rr_df.reset_index(inplace=True)"
   ]
  },
  {
   "cell_type": "code",
   "execution_count": 126,
   "metadata": {},
   "outputs": [
    {
     "data": {
      "text/html": [
       "<div>\n",
       "<style scoped>\n",
       "    .dataframe tbody tr th:only-of-type {\n",
       "        vertical-align: middle;\n",
       "    }\n",
       "\n",
       "    .dataframe tbody tr th {\n",
       "        vertical-align: top;\n",
       "    }\n",
       "\n",
       "    .dataframe thead th {\n",
       "        text-align: right;\n",
       "    }\n",
       "</style>\n",
       "<table border=\"1\" class=\"dataframe\">\n",
       "  <thead>\n",
       "    <tr style=\"text-align: right;\">\n",
       "      <th></th>\n",
       "      <th>subject_id</th>\n",
       "      <th>hadm_id</th>\n",
       "      <th>charttime</th>\n",
       "      <th>icustay_id</th>\n",
       "      <th>Respiratory Rate</th>\n",
       "      <th>Respiratory Rate (Set)</th>\n",
       "      <th>Respiratory Rate (Total)</th>\n",
       "      <th>Respiratory Rate (spontaneous)</th>\n",
       "      <th>Respiratory Rate Set</th>\n",
       "      <th>RespiratoryRate_combined</th>\n",
       "    </tr>\n",
       "  </thead>\n",
       "  <tbody>\n",
       "    <tr>\n",
       "      <th>100846</th>\n",
       "      <td>801</td>\n",
       "      <td>187764</td>\n",
       "      <td>2197-07-05 19:30:00</td>\n",
       "      <td>283491.0</td>\n",
       "      <td>NaN</td>\n",
       "      <td>NaN</td>\n",
       "      <td>NaN</td>\n",
       "      <td>NaN</td>\n",
       "      <td>120.0</td>\n",
       "      <td>120.0</td>\n",
       "    </tr>\n",
       "    <tr>\n",
       "      <th>563720</th>\n",
       "      <td>4785</td>\n",
       "      <td>139435</td>\n",
       "      <td>2199-02-12 20:50:00</td>\n",
       "      <td>262938.0</td>\n",
       "      <td>NaN</td>\n",
       "      <td>NaN</td>\n",
       "      <td>NaN</td>\n",
       "      <td>NaN</td>\n",
       "      <td>123.0</td>\n",
       "      <td>123.0</td>\n",
       "    </tr>\n",
       "    <tr>\n",
       "      <th>968957</th>\n",
       "      <td>8132</td>\n",
       "      <td>106508</td>\n",
       "      <td>2177-11-13 06:15:00</td>\n",
       "      <td>247952.0</td>\n",
       "      <td>NaN</td>\n",
       "      <td>NaN</td>\n",
       "      <td>NaN</td>\n",
       "      <td>NaN</td>\n",
       "      <td>110.0</td>\n",
       "      <td>110.0</td>\n",
       "    </tr>\n",
       "    <tr>\n",
       "      <th>2504980</th>\n",
       "      <td>21187</td>\n",
       "      <td>118827</td>\n",
       "      <td>2107-10-08 23:02:00</td>\n",
       "      <td>289919.0</td>\n",
       "      <td>NaN</td>\n",
       "      <td>NaN</td>\n",
       "      <td>NaN</td>\n",
       "      <td>NaN</td>\n",
       "      <td>100.0</td>\n",
       "      <td>100.0</td>\n",
       "    </tr>\n",
       "    <tr>\n",
       "      <th>2504981</th>\n",
       "      <td>21187</td>\n",
       "      <td>118827</td>\n",
       "      <td>2107-10-09 03:02:00</td>\n",
       "      <td>289919.0</td>\n",
       "      <td>NaN</td>\n",
       "      <td>NaN</td>\n",
       "      <td>NaN</td>\n",
       "      <td>NaN</td>\n",
       "      <td>130.0</td>\n",
       "      <td>130.0</td>\n",
       "    </tr>\n",
       "    <tr>\n",
       "      <th>3416498</th>\n",
       "      <td>28801</td>\n",
       "      <td>144188</td>\n",
       "      <td>2173-02-21 16:05:00</td>\n",
       "      <td>288412.0</td>\n",
       "      <td>NaN</td>\n",
       "      <td>NaN</td>\n",
       "      <td>NaN</td>\n",
       "      <td>2423.0</td>\n",
       "      <td>NaN</td>\n",
       "      <td>2423.0</td>\n",
       "    </tr>\n",
       "    <tr>\n",
       "      <th>3614537</th>\n",
       "      <td>30509</td>\n",
       "      <td>161350</td>\n",
       "      <td>2113-07-25 13:12:00</td>\n",
       "      <td>251795.0</td>\n",
       "      <td>NaN</td>\n",
       "      <td>NaN</td>\n",
       "      <td>NaN</td>\n",
       "      <td>189.0</td>\n",
       "      <td>NaN</td>\n",
       "      <td>189.0</td>\n",
       "    </tr>\n",
       "    <tr>\n",
       "      <th>4463073</th>\n",
       "      <td>54247</td>\n",
       "      <td>171612</td>\n",
       "      <td>2121-07-07 09:00:00</td>\n",
       "      <td>217082.0</td>\n",
       "      <td>NaN</td>\n",
       "      <td>NaN</td>\n",
       "      <td>NaN</td>\n",
       "      <td>315.0</td>\n",
       "      <td>NaN</td>\n",
       "      <td>315.0</td>\n",
       "    </tr>\n",
       "    <tr>\n",
       "      <th>4620725</th>\n",
       "      <td>57333</td>\n",
       "      <td>134115</td>\n",
       "      <td>2178-10-13 10:00:00</td>\n",
       "      <td>272679.0</td>\n",
       "      <td>NaN</td>\n",
       "      <td>NaN</td>\n",
       "      <td>NaN</td>\n",
       "      <td>650.0</td>\n",
       "      <td>NaN</td>\n",
       "      <td>650.0</td>\n",
       "    </tr>\n",
       "    <tr>\n",
       "      <th>5239414</th>\n",
       "      <td>73611</td>\n",
       "      <td>138998</td>\n",
       "      <td>2183-01-01 08:09:00</td>\n",
       "      <td>215592.0</td>\n",
       "      <td>NaN</td>\n",
       "      <td>NaN</td>\n",
       "      <td>NaN</td>\n",
       "      <td>430.0</td>\n",
       "      <td>NaN</td>\n",
       "      <td>430.0</td>\n",
       "    </tr>\n",
       "  </tbody>\n",
       "</table>\n",
       "</div>"
      ],
      "text/plain": [
       "         subject_id  hadm_id            charttime  icustay_id  \\\n",
       "100846          801   187764  2197-07-05 19:30:00    283491.0   \n",
       "563720         4785   139435  2199-02-12 20:50:00    262938.0   \n",
       "968957         8132   106508  2177-11-13 06:15:00    247952.0   \n",
       "2504980       21187   118827  2107-10-08 23:02:00    289919.0   \n",
       "2504981       21187   118827  2107-10-09 03:02:00    289919.0   \n",
       "3416498       28801   144188  2173-02-21 16:05:00    288412.0   \n",
       "3614537       30509   161350  2113-07-25 13:12:00    251795.0   \n",
       "4463073       54247   171612  2121-07-07 09:00:00    217082.0   \n",
       "4620725       57333   134115  2178-10-13 10:00:00    272679.0   \n",
       "5239414       73611   138998  2183-01-01 08:09:00    215592.0   \n",
       "\n",
       "         Respiratory Rate  Respiratory Rate (Set)  Respiratory Rate (Total)  \\\n",
       "100846                NaN                     NaN                       NaN   \n",
       "563720                NaN                     NaN                       NaN   \n",
       "968957                NaN                     NaN                       NaN   \n",
       "2504980               NaN                     NaN                       NaN   \n",
       "2504981               NaN                     NaN                       NaN   \n",
       "3416498               NaN                     NaN                       NaN   \n",
       "3614537               NaN                     NaN                       NaN   \n",
       "4463073               NaN                     NaN                       NaN   \n",
       "4620725               NaN                     NaN                       NaN   \n",
       "5239414               NaN                     NaN                       NaN   \n",
       "\n",
       "         Respiratory Rate (spontaneous)  Respiratory Rate Set  \\\n",
       "100846                              NaN                 120.0   \n",
       "563720                              NaN                 123.0   \n",
       "968957                              NaN                 110.0   \n",
       "2504980                             NaN                 100.0   \n",
       "2504981                             NaN                 130.0   \n",
       "3416498                          2423.0                   NaN   \n",
       "3614537                           189.0                   NaN   \n",
       "4463073                           315.0                   NaN   \n",
       "4620725                           650.0                   NaN   \n",
       "5239414                           430.0                   NaN   \n",
       "\n",
       "         RespiratoryRate_combined  \n",
       "100846                      120.0  \n",
       "563720                      123.0  \n",
       "968957                      110.0  \n",
       "2504980                     100.0  \n",
       "2504981                     130.0  \n",
       "3416498                    2423.0  \n",
       "3614537                     189.0  \n",
       "4463073                     315.0  \n",
       "4620725                     650.0  \n",
       "5239414                     430.0  "
      ]
     },
     "execution_count": 126,
     "metadata": {},
     "output_type": "execute_result"
    }
   ],
   "source": [
    "chartevents_rr_df[chartevents_rr_df['RespiratoryRate_combined'] > 90]"
   ]
  },
  {
   "cell_type": "code",
   "execution_count": 127,
   "metadata": {},
   "outputs": [],
   "source": [
    "chartevents_rr_df.loc[chartevents_rr_df['RespiratoryRate_combined'] > 90, 'RespiratoryRate_combined'] /= 10\n",
    "chartevents_rr_df.loc[chartevents_rr_df['RespiratoryRate_combined'] > 90, 'RespiratoryRate_combined'] /= 10\n"
   ]
  },
  {
   "cell_type": "code",
   "execution_count": 128,
   "metadata": {},
   "outputs": [
    {
     "data": {
      "text/plain": [
       "count    6.263265e+06\n",
       "mean     2.001401e+01\n",
       "std      6.209322e+00\n",
       "min      0.000000e+00\n",
       "25%      1.600000e+01\n",
       "50%      1.900000e+01\n",
       "75%      2.400000e+01\n",
       "max      9.000000e+01\n",
       "Name: RespiratoryRate_combined, dtype: float64"
      ]
     },
     "execution_count": 128,
     "metadata": {},
     "output_type": "execute_result"
    }
   ],
   "source": [
    "chartevents_rr_df['RespiratoryRate_combined'].describe()"
   ]
  },
  {
   "cell_type": "code",
   "execution_count": 129,
   "metadata": {},
   "outputs": [],
   "source": [
    "cohort_rr = pd.merge(cohort_df[['hadm_id']], chartevents_rr_df, on='hadm_id', how='inner')\n"
   ]
  },
  {
   "cell_type": "code",
   "execution_count": 130,
   "metadata": {},
   "outputs": [],
   "source": [
    "def merge_respiratory_to_subgroup(respiratory_df, subgroup_df):\n",
    "    respiratory_df['charttime'] = pd.to_datetime(respiratory_df['charttime'])\n",
    "    \n",
    "    if 'level_0' in subgroup_df.columns:\n",
    "        subgroup_df = subgroup_df.drop('level_0', axis=1)\n",
    "\n",
    "    subgroup_df.reset_index(inplace=True)\n",
    "\n",
    "    filtered_respiratory_df = respiratory_df[respiratory_df['subject_id'].isin(subgroup_df['subject_id'])]\n",
    "\n",
    "    merged_df = pd.merge(filtered_respiratory_df[['subject_id', 'hadm_id', 'icustay_id', 'charttime', 'RespiratoryRate_combined']],\n",
    "                        subgroup_df[['subject_id', 'rounded_age', 'admission_type_encoded', 'subgroup']],\n",
    "                        on='subject_id', how='outer')\n",
    "\n",
    "    return merged_df"
   ]
  },
  {
   "cell_type": "code",
   "execution_count": 131,
   "metadata": {},
   "outputs": [],
   "source": [
    "subgroup_1_rr_df = merge_respiratory_to_subgroup(chartevents_rr_df, subgroup_1_df)\n",
    "subgroup_2_rr_df = merge_respiratory_to_subgroup(chartevents_rr_df, subgroup_2_df)\n",
    "subgroup_3_rr_df = merge_respiratory_to_subgroup(chartevents_rr_df, subgroup_3_df)\n",
    "subgroup_4_rr_df = merge_respiratory_to_subgroup(chartevents_rr_df, subgroup_4_df)\n",
    "subgroup_5_rr_df = merge_respiratory_to_subgroup(chartevents_rr_df, subgroup_5_df)\n",
    "subgroup_6_rr_df = merge_respiratory_to_subgroup(chartevents_rr_df, subgroup_6_df)\n",
    "subgroup_7_rr_df = merge_respiratory_to_subgroup(chartevents_rr_df, subgroup_7_df)\n"
   ]
  },
  {
   "cell_type": "code",
   "execution_count": 132,
   "metadata": {},
   "outputs": [
    {
     "data": {
      "text/html": [
       "<div>\n",
       "<style scoped>\n",
       "    .dataframe tbody tr th:only-of-type {\n",
       "        vertical-align: middle;\n",
       "    }\n",
       "\n",
       "    .dataframe tbody tr th {\n",
       "        vertical-align: top;\n",
       "    }\n",
       "\n",
       "    .dataframe thead th {\n",
       "        text-align: right;\n",
       "    }\n",
       "</style>\n",
       "<table border=\"1\" class=\"dataframe\">\n",
       "  <thead>\n",
       "    <tr style=\"text-align: right;\">\n",
       "      <th></th>\n",
       "      <th>Subgroup 1</th>\n",
       "      <th>Subgroup 2</th>\n",
       "      <th>Subgroup 3</th>\n",
       "      <th>Subgroup 4</th>\n",
       "      <th>Subgroup 5</th>\n",
       "      <th>Subgroup 6</th>\n",
       "      <th>Subgroup 7</th>\n",
       "      <th>Original Chartevents</th>\n",
       "    </tr>\n",
       "  </thead>\n",
       "  <tbody>\n",
       "    <tr>\n",
       "      <th>mean</th>\n",
       "      <td>20.25</td>\n",
       "      <td>19.55</td>\n",
       "      <td>19.98</td>\n",
       "      <td>18.81</td>\n",
       "      <td>19.77</td>\n",
       "      <td>20.48</td>\n",
       "      <td>20.29</td>\n",
       "      <td>20.01</td>\n",
       "    </tr>\n",
       "    <tr>\n",
       "      <th>max</th>\n",
       "      <td>90.00</td>\n",
       "      <td>89.00</td>\n",
       "      <td>90.00</td>\n",
       "      <td>88.00</td>\n",
       "      <td>90.00</td>\n",
       "      <td>90.00</td>\n",
       "      <td>90.00</td>\n",
       "      <td>90.00</td>\n",
       "    </tr>\n",
       "    <tr>\n",
       "      <th>mode</th>\n",
       "      <td>20.00</td>\n",
       "      <td>16.00</td>\n",
       "      <td>18.00</td>\n",
       "      <td>16.00</td>\n",
       "      <td>18.00</td>\n",
       "      <td>20.00</td>\n",
       "      <td>20.00</td>\n",
       "      <td>18.00</td>\n",
       "    </tr>\n",
       "    <tr>\n",
       "      <th>std</th>\n",
       "      <td>5.94</td>\n",
       "      <td>6.46</td>\n",
       "      <td>6.31</td>\n",
       "      <td>5.85</td>\n",
       "      <td>6.19</td>\n",
       "      <td>6.05</td>\n",
       "      <td>6.45</td>\n",
       "      <td>6.21</td>\n",
       "    </tr>\n",
       "    <tr>\n",
       "      <th>median</th>\n",
       "      <td>20.00</td>\n",
       "      <td>19.00</td>\n",
       "      <td>19.00</td>\n",
       "      <td>18.00</td>\n",
       "      <td>19.00</td>\n",
       "      <td>20.00</td>\n",
       "      <td>20.00</td>\n",
       "      <td>19.00</td>\n",
       "    </tr>\n",
       "  </tbody>\n",
       "</table>\n",
       "</div>"
      ],
      "text/plain": [
       "        Subgroup 1  Subgroup 2  Subgroup 3  Subgroup 4  Subgroup 5  \\\n",
       "mean         20.25       19.55       19.98       18.81       19.77   \n",
       "max          90.00       89.00       90.00       88.00       90.00   \n",
       "mode         20.00       16.00       18.00       16.00       18.00   \n",
       "std           5.94        6.46        6.31        5.85        6.19   \n",
       "median       20.00       19.00       19.00       18.00       19.00   \n",
       "\n",
       "        Subgroup 6  Subgroup 7  Original Chartevents  \n",
       "mean         20.48       20.29                 20.01  \n",
       "max          90.00       90.00                 90.00  \n",
       "mode         20.00       20.00                 18.00  \n",
       "std           6.05        6.45                  6.21  \n",
       "median       20.00       20.00                 19.00  "
      ]
     },
     "execution_count": 132,
     "metadata": {},
     "output_type": "execute_result"
    }
   ],
   "source": [
    "resp_dfs = [subgroup_1_rr_df,\n",
    "            subgroup_2_rr_df,\n",
    "            subgroup_3_rr_df,\n",
    "            subgroup_4_rr_df,\n",
    "            subgroup_5_rr_df,\n",
    "            subgroup_6_rr_df,\n",
    "            subgroup_7_rr_df]\n",
    "\n",
    "\n",
    "def calculate_stats(df):\n",
    "    return df['RespiratoryRate_combined'].agg(lambda x: pd.Series({\n",
    "        'mean': x.mean(),\n",
    "        'max': x.max(),\n",
    "        'mode': x.mode().iloc[0],\n",
    "        'std': x.std(),\n",
    "        'median': x.median()\n",
    "    }))\n",
    "\n",
    "resp_stats_list = []\n",
    "\n",
    "for i, df in enumerate(resp_dfs):\n",
    "    subgroup_stats = calculate_stats(df)\n",
    "    resp_stats_list.append(subgroup_stats)\n",
    "\n",
    "result_resp_df = pd.DataFrame(resp_stats_list, index=[f'Subgroup {i + 1}' for i in range(len(resp_dfs))])\n",
    "\n",
    "result_resp_df.loc['Original Chartevents'] = calculate_stats(chartevents_rr_df)\n",
    "\n",
    "result_resp_df = result_resp_df.transpose()\n",
    "\n",
    "result_resp_df.round(2)\n"
   ]
  },
  {
   "cell_type": "code",
   "execution_count": 42,
   "metadata": {},
   "outputs": [
    {
     "data": {
      "image/png": "[encoded data removed]",
      "text/plain": [
       "<Figure size 576x360 with 1 Axes>"
      ]
     },
     "metadata": {
      "needs_background": "light"
     },
     "output_type": "display_data"
    }
   ],
   "source": [
    "original_data = chartevents_rr_df['RespiratoryRate_combined'].dropna().tolist()\n",
    "original_data = [value for value in original_data if 0 < value < 50]\n",
    "\n",
    "plt.figure(figsize=(8, 5))\n",
    "plt.hist(original_data, bins=20, color='skyblue', edgecolor='black')\n",
    "plt.title('Distribution of Respiratory Rates - Original')\n",
    "plt.xlabel('Respiratory Rate (combined)')\n",
    "plt.ylabel('Frequency')\n",
    "plt.show()"
   ]
  },
  {
   "cell_type": "code",
   "execution_count": 42,
   "metadata": {},
   "outputs": [
    {
     "data": {
      "image/png": "[encoded data removed]",
      "text/plain": [
       "<Figure size 576x360 with 1 Axes>"
      ]
     },
     "metadata": {
      "needs_background": "light"
     },
     "output_type": "display_data"
    },
    {
     "data": {
      "image/png": "[encoded data removed]",
      "text/plain": [
       "<Figure size 576x360 with 1 Axes>"
      ]
     },
     "metadata": {
      "needs_background": "light"
     },
     "output_type": "display_data"
    },
    {
     "data": {
      "image/png": "[encoded data removed]",
      "text/plain": [
       "<Figure size 576x360 with 1 Axes>"
      ]
     },
     "metadata": {
      "needs_background": "light"
     },
     "output_type": "display_data"
    },
    {
     "data": {
      "image/png": "[encoded data removed]",
      "text/plain": [
       "<Figure size 576x360 with 1 Axes>"
      ]
     },
     "metadata": {
      "needs_background": "light"
     },
     "output_type": "display_data"
    },
    {
     "data": {
      "image/png": "[encoded data removed]",
      "text/plain": [
       "<Figure size 576x360 with 1 Axes>"
      ]
     },
     "metadata": {
      "needs_background": "light"
     },
     "output_type": "display_data"
    },
    {
     "data": {
      "image/png": "[encoded data removed]",
      "text/plain": [
       "<Figure size 576x360 with 1 Axes>"
      ]
     },
     "metadata": {
      "needs_background": "light"
     },
     "output_type": "display_data"
    },
    {
     "data": {
      "image/png": "[encoded data removed]",
      "text/plain": [
       "<Figure size 576x360 with 1 Axes>"
      ]
     },
     "metadata": {
      "needs_background": "light"
     },
     "output_type": "display_data"
    }
   ],
   "source": [
    "subgroups = [subgroup_1_rr_df, subgroup_2_rr_df, subgroup_3_rr_df,\n",
    "             subgroup_4_rr_df, subgroup_5_rr_df, subgroup_6_rr_df, subgroup_7_rr_df]\n",
    "\n",
    "\n",
    "for i, subgroup_df in enumerate(subgroups):\n",
    "    filtered_data = subgroup_df['RespiratoryRate_combined'].dropna().tolist()\n",
    "    filtered_data = [value for value in filtered_data if 0 < value < 50]\n",
    "\n",
    "    plt.figure(figsize=(8, 5))\n",
    "    plt.hist(filtered_data, bins=20, color='skyblue', edgecolor='black')\n",
    "    plt.title(f'Distribution of Respiratory Rates - Subgroup {i + 1}')\n",
    "    plt.xlabel('Respiratory Rate (combined)')\n",
    "    plt.ylabel('Frequency')\n",
    "    plt.show()\n"
   ]
  },
  {
   "cell_type": "code",
   "execution_count": 133,
   "metadata": {},
   "outputs": [],
   "source": [
    "def bootstrap_subgroup_respiratory_rate(subgroup_data, cohort_data, num_bootstraps=1000, alpha=0.05):\n",
    "    \"\"\"\n",
    "    Perform bootstrapping for a subgroup's respiratory rate data and conduct hypothesis testing to verify if it is statistically different from the entire cohort.\n",
    "\n",
    "    Parameters:\n",
    "    - subgroup_data (array-like): Respiratory rate data for the subgroup.\n",
    "    - cohort_data (array-like): Respiratory rate data for the entire cohort.\n",
    "    - num_bootstraps (int): Number of bootstrap samples to generate.\n",
    "    - alpha (float): Significance level for hypothesis testing.\n",
    "\n",
    "    Returns:\n",
    "    - p_value (float): The p-value from the hypothesis test.\n",
    "    \"\"\"\n",
    "\n",
    "    # Bootstrap resampling\n",
    "    subgroup_means = []\n",
    "    cohort_means = []\n",
    "    for _ in range(num_bootstraps):\n",
    "        # Resample with replacement\n",
    "        subgroup_sample = np.random.choice(subgroup_data, size=len(subgroup_data), replace=True)\n",
    "        cohort_sample = np.random.choice(cohort_data, size=len(cohort_data), replace=True)\n",
    "        \n",
    "        # Calculate mean respiratory rate for each sample\n",
    "        subgroup_means.append(np.mean(subgroup_sample))\n",
    "        cohort_means.append(np.mean(cohort_sample))\n",
    "\n",
    "    # Calculate observed difference in means\n",
    "    obs_diff = np.mean(subgroup_data) - np.mean(cohort_data)\n",
    "\n",
    "    # Calculate p-value\n",
    "    p_value = np.mean(subgroup_means >= cohort_means) + np.mean(subgroup_means <= cohort_means)\n",
    "\n",
    "    return p_value\n"
   ]
  },
  {
   "cell_type": "code",
   "execution_count": 134,
   "metadata": {},
   "outputs": [
    {
     "name": "stdout",
     "output_type": "stream",
     "text": [
      "P-value for Respiratory Rate: 0.0\n"
     ]
    }
   ],
   "source": [
    "subgroup1_data_rr = subgroup_1_rr_df['RespiratoryRate_combined']\n",
    "cohort_data_rr = cohort_rr['RespiratoryRate_combined']\n",
    "p_value_rr = bootstrap_subgroup_respiratory_rate(subgroup1_data_rr, cohort_data_rr)\n",
    "print(\"P-value for Respiratory Rate:\", p_value_rr)"
   ]
  },
  {
   "cell_type": "code",
   "execution_count": 86,
   "metadata": {},
   "outputs": [
    {
     "name": "stdout",
     "output_type": "stream",
     "text": [
      "P-value for Respiratory Rate: 0.000999000999000999\n"
     ]
    }
   ],
   "source": [
    "subgroup2_data_rr = subgroup_2_rr_df['RespiratoryRate_combined']\n",
    "cohort_data_rr = cohort_rr['RespiratoryRate_combined']\n",
    "p_value_rr = bootstrap_subgroup_respiratory_rate(subgroup2_data_rr, cohort_data_rr)\n",
    "print(\"P-value for Respiratory Rate:\", p_value_rr)"
   ]
  },
  {
   "cell_type": "code",
   "execution_count": 87,
   "metadata": {},
   "outputs": [
    {
     "name": "stdout",
     "output_type": "stream",
     "text": [
      "P-value for Respiratory Rate: 0.000999000999000999\n"
     ]
    }
   ],
   "source": [
    "subgroup3_data_rr = subgroup_3_rr_df['RespiratoryRate_combined']\n",
    "cohort_data_rr = cohort_rr['RespiratoryRate_combined']\n",
    "p_value_rr = bootstrap_subgroup_respiratory_rate(subgroup3_data_rr, cohort_data_rr)\n",
    "print(\"P-value for Respiratory Rate:\", p_value_rr)"
   ]
  },
  {
   "cell_type": "code",
   "execution_count": 88,
   "metadata": {},
   "outputs": [
    {
     "name": "stdout",
     "output_type": "stream",
     "text": [
      "P-value for Respiratory Rate: 0.07292707292707293\n"
     ]
    }
   ],
   "source": [
    "subgroup4_data_rr = subgroup_4_rr_df['RespiratoryRate_combined']\n",
    "cohort_data_rr = cohort_rr['RespiratoryRate_combined']\n",
    "p_value_rr = bootstrap_subgroup_respiratory_rate(subgroup4_data_rr, cohort_data_rr)\n",
    "print(\"P-value for Respiratory Rate:\", p_value_rr)"
   ]
  },
  {
   "cell_type": "code",
   "execution_count": 89,
   "metadata": {},
   "outputs": [
    {
     "name": "stdout",
     "output_type": "stream",
     "text": [
      "P-value for Respiratory Rate: 0.000999000999000999\n"
     ]
    }
   ],
   "source": [
    "subgroup5_data_rr = subgroup_5_rr_df['RespiratoryRate_combined']\n",
    "cohort_data_rr = cohort_rr['RespiratoryRate_combined']\n",
    "p_value_rr = bootstrap_subgroup_respiratory_rate(subgroup5_data_rr, cohort_data_rr)\n",
    "print(\"P-value for Respiratory Rate:\", p_value_rr)"
   ]
  },
  {
   "cell_type": "code",
   "execution_count": 90,
   "metadata": {},
   "outputs": [
    {
     "name": "stdout",
     "output_type": "stream",
     "text": [
      "P-value for Respiratory Rate: 0.000999000999000999\n"
     ]
    }
   ],
   "source": [
    "subgroup6_data_rr = subgroup_6_rr_df['RespiratoryRate_combined']\n",
    "cohort_data_rr = cohort_rr['RespiratoryRate_combined']\n",
    "p_value_rr = bootstrap_subgroup_respiratory_rate(subgroup6_data_rr, cohort_data_rr)\n",
    "print(\"P-value for Respiratory Rate:\", p_value_rr)"
   ]
  },
  {
   "cell_type": "code",
   "execution_count": 91,
   "metadata": {},
   "outputs": [
    {
     "name": "stdout",
     "output_type": "stream",
     "text": [
      "P-value for Respiratory Rate: 0.000999000999000999\n"
     ]
    }
   ],
   "source": [
    "subgroup7_data_rr = subgroup_7_rr_df['RespiratoryRate_combined']\n",
    "cohort_data_rr = cohort_rr['RespiratoryRate_combined']\n",
    "p_value_rr = bootstrap_subgroup_respiratory_rate(subgroup7_data_rr, cohort_data_rr)\n",
    "print(\"P-value for Respiratory Rate:\", p_value_rr)"
   ]
  },
  {
   "cell_type": "markdown",
   "metadata": {},
   "source": [
    "## Blood Pressure "
   ]
  },
  {
   "cell_type": "code",
   "execution_count": 53,
   "metadata": {},
   "outputs": [],
   "source": [
    "chartevents_bp_df = pd.read_csv('../processed_data/chartevents_bp.csv')"
   ]
  },
  {
   "cell_type": "code",
   "execution_count": 54,
   "metadata": {},
   "outputs": [
    {
     "data": {
      "text/html": [
       "<div>\n",
       "<style scoped>\n",
       "    .dataframe tbody tr th:only-of-type {\n",
       "        vertical-align: middle;\n",
       "    }\n",
       "\n",
       "    .dataframe tbody tr th {\n",
       "        vertical-align: top;\n",
       "    }\n",
       "\n",
       "    .dataframe thead th {\n",
       "        text-align: right;\n",
       "    }\n",
       "</style>\n",
       "<table border=\"1\" class=\"dataframe\">\n",
       "  <thead>\n",
       "    <tr style=\"text-align: right;\">\n",
       "      <th></th>\n",
       "      <th>subject_id</th>\n",
       "      <th>hadm_id</th>\n",
       "      <th>icustay_id</th>\n",
       "      <th>charttime</th>\n",
       "      <th>Arterial BP #2 [Systolic]</th>\n",
       "      <th>Arterial BP [Systolic]</th>\n",
       "      <th>Arterial Blood Pressure systolic</th>\n",
       "      <th>Manual BP [Systolic]</th>\n",
       "      <th>NBP [Systolic]</th>\n",
       "      <th>Non Invasive Blood Pressure systolic</th>\n",
       "      <th>BP_combined</th>\n",
       "      <th>Combined_Blood_Pressure_Systolic</th>\n",
       "      <th>Combined_Blood_Pressure</th>\n",
       "    </tr>\n",
       "  </thead>\n",
       "  <tbody>\n",
       "    <tr>\n",
       "      <th>0</th>\n",
       "      <td>3</td>\n",
       "      <td>145834</td>\n",
       "      <td>211552.0</td>\n",
       "      <td>2101-10-20 18:45:00</td>\n",
       "      <td>NaN</td>\n",
       "      <td>NaN</td>\n",
       "      <td>NaN</td>\n",
       "      <td>NaN</td>\n",
       "      <td>62.0</td>\n",
       "      <td>NaN</td>\n",
       "      <td>62.0</td>\n",
       "      <td>62.0</td>\n",
       "      <td>62.0</td>\n",
       "    </tr>\n",
       "    <tr>\n",
       "      <th>1</th>\n",
       "      <td>3</td>\n",
       "      <td>145834</td>\n",
       "      <td>211552.0</td>\n",
       "      <td>2101-10-20 19:00:00</td>\n",
       "      <td>NaN</td>\n",
       "      <td>NaN</td>\n",
       "      <td>NaN</td>\n",
       "      <td>NaN</td>\n",
       "      <td>66.0</td>\n",
       "      <td>NaN</td>\n",
       "      <td>66.0</td>\n",
       "      <td>66.0</td>\n",
       "      <td>66.0</td>\n",
       "    </tr>\n",
       "    <tr>\n",
       "      <th>2</th>\n",
       "      <td>3</td>\n",
       "      <td>145834</td>\n",
       "      <td>211552.0</td>\n",
       "      <td>2101-10-20 19:15:00</td>\n",
       "      <td>NaN</td>\n",
       "      <td>0.0</td>\n",
       "      <td>NaN</td>\n",
       "      <td>NaN</td>\n",
       "      <td>217.0</td>\n",
       "      <td>NaN</td>\n",
       "      <td>0.0</td>\n",
       "      <td>0.0</td>\n",
       "      <td>0.0</td>\n",
       "    </tr>\n",
       "    <tr>\n",
       "      <th>3</th>\n",
       "      <td>3</td>\n",
       "      <td>145834</td>\n",
       "      <td>211552.0</td>\n",
       "      <td>2101-10-20 19:30:00</td>\n",
       "      <td>NaN</td>\n",
       "      <td>NaN</td>\n",
       "      <td>NaN</td>\n",
       "      <td>NaN</td>\n",
       "      <td>102.0</td>\n",
       "      <td>NaN</td>\n",
       "      <td>102.0</td>\n",
       "      <td>102.0</td>\n",
       "      <td>102.0</td>\n",
       "    </tr>\n",
       "    <tr>\n",
       "      <th>4</th>\n",
       "      <td>3</td>\n",
       "      <td>145834</td>\n",
       "      <td>211552.0</td>\n",
       "      <td>2101-10-20 19:45:00</td>\n",
       "      <td>NaN</td>\n",
       "      <td>NaN</td>\n",
       "      <td>NaN</td>\n",
       "      <td>NaN</td>\n",
       "      <td>94.0</td>\n",
       "      <td>NaN</td>\n",
       "      <td>94.0</td>\n",
       "      <td>94.0</td>\n",
       "      <td>94.0</td>\n",
       "    </tr>\n",
       "    <tr>\n",
       "      <th>...</th>\n",
       "      <td>...</td>\n",
       "      <td>...</td>\n",
       "      <td>...</td>\n",
       "      <td>...</td>\n",
       "      <td>...</td>\n",
       "      <td>...</td>\n",
       "      <td>...</td>\n",
       "      <td>...</td>\n",
       "      <td>...</td>\n",
       "      <td>...</td>\n",
       "      <td>...</td>\n",
       "      <td>...</td>\n",
       "      <td>...</td>\n",
       "    </tr>\n",
       "    <tr>\n",
       "      <th>5784416</th>\n",
       "      <td>99999</td>\n",
       "      <td>113369</td>\n",
       "      <td>246512.0</td>\n",
       "      <td>2117-12-31 22:00:00</td>\n",
       "      <td>NaN</td>\n",
       "      <td>NaN</td>\n",
       "      <td>NaN</td>\n",
       "      <td>NaN</td>\n",
       "      <td>NaN</td>\n",
       "      <td>133.0</td>\n",
       "      <td>133.0</td>\n",
       "      <td>133.0</td>\n",
       "      <td>133.0</td>\n",
       "    </tr>\n",
       "    <tr>\n",
       "      <th>5784417</th>\n",
       "      <td>99999</td>\n",
       "      <td>113369</td>\n",
       "      <td>246512.0</td>\n",
       "      <td>2117-12-31 23:00:00</td>\n",
       "      <td>NaN</td>\n",
       "      <td>NaN</td>\n",
       "      <td>NaN</td>\n",
       "      <td>NaN</td>\n",
       "      <td>NaN</td>\n",
       "      <td>128.0</td>\n",
       "      <td>128.0</td>\n",
       "      <td>128.0</td>\n",
       "      <td>128.0</td>\n",
       "    </tr>\n",
       "    <tr>\n",
       "      <th>5784418</th>\n",
       "      <td>99999</td>\n",
       "      <td>113369</td>\n",
       "      <td>246512.0</td>\n",
       "      <td>2118-01-01 00:01:00</td>\n",
       "      <td>NaN</td>\n",
       "      <td>NaN</td>\n",
       "      <td>NaN</td>\n",
       "      <td>NaN</td>\n",
       "      <td>NaN</td>\n",
       "      <td>139.0</td>\n",
       "      <td>139.0</td>\n",
       "      <td>139.0</td>\n",
       "      <td>139.0</td>\n",
       "    </tr>\n",
       "    <tr>\n",
       "      <th>5784419</th>\n",
       "      <td>99999</td>\n",
       "      <td>113369</td>\n",
       "      <td>246512.0</td>\n",
       "      <td>2117-12-31 11:59:00</td>\n",
       "      <td>NaN</td>\n",
       "      <td>NaN</td>\n",
       "      <td>NaN</td>\n",
       "      <td>NaN</td>\n",
       "      <td>NaN</td>\n",
       "      <td>125.0</td>\n",
       "      <td>125.0</td>\n",
       "      <td>125.0</td>\n",
       "      <td>125.0</td>\n",
       "    </tr>\n",
       "    <tr>\n",
       "      <th>5784420</th>\n",
       "      <td>99999</td>\n",
       "      <td>113369</td>\n",
       "      <td>246512.0</td>\n",
       "      <td>2118-01-01 05:05:00</td>\n",
       "      <td>NaN</td>\n",
       "      <td>NaN</td>\n",
       "      <td>NaN</td>\n",
       "      <td>NaN</td>\n",
       "      <td>NaN</td>\n",
       "      <td>119.0</td>\n",
       "      <td>119.0</td>\n",
       "      <td>119.0</td>\n",
       "      <td>119.0</td>\n",
       "    </tr>\n",
       "  </tbody>\n",
       "</table>\n",
       "<p>5784421 rows × 13 columns</p>\n",
       "</div>"
      ],
      "text/plain": [
       "         subject_id  hadm_id  icustay_id            charttime  \\\n",
       "0                 3   145834    211552.0  2101-10-20 18:45:00   \n",
       "1                 3   145834    211552.0  2101-10-20 19:00:00   \n",
       "2                 3   145834    211552.0  2101-10-20 19:15:00   \n",
       "3                 3   145834    211552.0  2101-10-20 19:30:00   \n",
       "4                 3   145834    211552.0  2101-10-20 19:45:00   \n",
       "...             ...      ...         ...                  ...   \n",
       "5784416       99999   113369    246512.0  2117-12-31 22:00:00   \n",
       "5784417       99999   113369    246512.0  2117-12-31 23:00:00   \n",
       "5784418       99999   113369    246512.0  2118-01-01 00:01:00   \n",
       "5784419       99999   113369    246512.0  2117-12-31 11:59:00   \n",
       "5784420       99999   113369    246512.0  2118-01-01 05:05:00   \n",
       "\n",
       "         Arterial BP #2 [Systolic]  Arterial BP [Systolic]  \\\n",
       "0                              NaN                     NaN   \n",
       "1                              NaN                     NaN   \n",
       "2                              NaN                     0.0   \n",
       "3                              NaN                     NaN   \n",
       "4                              NaN                     NaN   \n",
       "...                            ...                     ...   \n",
       "5784416                        NaN                     NaN   \n",
       "5784417                        NaN                     NaN   \n",
       "5784418                        NaN                     NaN   \n",
       "5784419                        NaN                     NaN   \n",
       "5784420                        NaN                     NaN   \n",
       "\n",
       "         Arterial Blood Pressure systolic  Manual BP [Systolic]  \\\n",
       "0                                     NaN                   NaN   \n",
       "1                                     NaN                   NaN   \n",
       "2                                     NaN                   NaN   \n",
       "3                                     NaN                   NaN   \n",
       "4                                     NaN                   NaN   \n",
       "...                                   ...                   ...   \n",
       "5784416                               NaN                   NaN   \n",
       "5784417                               NaN                   NaN   \n",
       "5784418                               NaN                   NaN   \n",
       "5784419                               NaN                   NaN   \n",
       "5784420                               NaN                   NaN   \n",
       "\n",
       "         NBP [Systolic]  Non Invasive Blood Pressure systolic  BP_combined  \\\n",
       "0                  62.0                                   NaN         62.0   \n",
       "1                  66.0                                   NaN         66.0   \n",
       "2                 217.0                                   NaN          0.0   \n",
       "3                 102.0                                   NaN        102.0   \n",
       "4                  94.0                                   NaN         94.0   \n",
       "...                 ...                                   ...          ...   \n",
       "5784416             NaN                                 133.0        133.0   \n",
       "5784417             NaN                                 128.0        128.0   \n",
       "5784418             NaN                                 139.0        139.0   \n",
       "5784419             NaN                                 125.0        125.0   \n",
       "5784420             NaN                                 119.0        119.0   \n",
       "\n",
       "         Combined_Blood_Pressure_Systolic  Combined_Blood_Pressure  \n",
       "0                                    62.0                     62.0  \n",
       "1                                    66.0                     66.0  \n",
       "2                                     0.0                      0.0  \n",
       "3                                   102.0                    102.0  \n",
       "4                                    94.0                     94.0  \n",
       "...                                   ...                      ...  \n",
       "5784416                             133.0                    133.0  \n",
       "5784417                             128.0                    128.0  \n",
       "5784418                             139.0                    139.0  \n",
       "5784419                             125.0                    125.0  \n",
       "5784420                             119.0                    119.0  \n",
       "\n",
       "[5784421 rows x 13 columns]"
      ]
     },
     "execution_count": 54,
     "metadata": {},
     "output_type": "execute_result"
    }
   ],
   "source": [
    "chartevents_bp_df\n"
   ]
  },
  {
   "cell_type": "code",
   "execution_count": 55,
   "metadata": {},
   "outputs": [
    {
     "data": {
      "image/png": "[encoded data removed]",
      "text/plain": [
       "<Figure size 576x360 with 1 Axes>"
      ]
     },
     "metadata": {
      "needs_background": "light"
     },
     "output_type": "display_data"
    }
   ],
   "source": [
    "original_data = chartevents_bp_df['Combined_Blood_Pressure'].dropna().tolist()\n",
    "original_data = [value for value in original_data if 0 < value < 300]\n",
    "\n",
    "plt.figure(figsize=(8, 5))\n",
    "plt.hist(original_data, bins=20, color='skyblue', edgecolor='black')\n",
    "plt.title('Distribution of Blood Pressure - Original')\n",
    "plt.xlabel('Systolic Blood Pressure')\n",
    "plt.ylabel('Frequency')\n",
    "plt.show()"
   ]
  },
  {
   "cell_type": "code",
   "execution_count": 56,
   "metadata": {},
   "outputs": [
    {
     "name": "stderr",
     "output_type": "stream",
     "text": [
      "/var/folders/48/vk7lyccx60x4918_6lqc64fw0000gn/T/ipykernel_26693/2706379025.py:26: SettingWithCopyWarning: \n",
      "A value is trying to be set on a copy of a slice from a DataFrame.\n",
      "Try using .loc[row_indexer,col_indexer] = value instead\n",
      "\n",
      "See the caveats in the documentation: https://pandas.pydata.org/pandas-docs/stable/user_guide/indexing.html#returning-a-view-versus-a-copy\n",
      "  outliers['Combined_Blood_Pressure'] = to_fix\n"
     ]
    },
    {
     "data": {
      "text/html": [
       "<div>\n",
       "<style scoped>\n",
       "    .dataframe tbody tr th:only-of-type {\n",
       "        vertical-align: middle;\n",
       "    }\n",
       "\n",
       "    .dataframe tbody tr th {\n",
       "        vertical-align: top;\n",
       "    }\n",
       "\n",
       "    .dataframe thead th {\n",
       "        text-align: right;\n",
       "    }\n",
       "</style>\n",
       "<table border=\"1\" class=\"dataframe\">\n",
       "  <thead>\n",
       "    <tr style=\"text-align: right;\">\n",
       "      <th></th>\n",
       "      <th>subject_id</th>\n",
       "      <th>hadm_id</th>\n",
       "      <th>icustay_id</th>\n",
       "      <th>charttime</th>\n",
       "      <th>Arterial BP #2 [Systolic]</th>\n",
       "      <th>Arterial BP [Systolic]</th>\n",
       "      <th>Arterial Blood Pressure systolic</th>\n",
       "      <th>Manual BP [Systolic]</th>\n",
       "      <th>NBP [Systolic]</th>\n",
       "      <th>Non Invasive Blood Pressure systolic</th>\n",
       "      <th>BP_combined</th>\n",
       "      <th>Combined_Blood_Pressure_Systolic</th>\n",
       "      <th>Combined_Blood_Pressure</th>\n",
       "    </tr>\n",
       "  </thead>\n",
       "  <tbody>\n",
       "    <tr>\n",
       "      <th>1355514</th>\n",
       "      <td>11702</td>\n",
       "      <td>168672</td>\n",
       "      <td>297300.0</td>\n",
       "      <td>2155-09-24 17:00:00</td>\n",
       "      <td>NaN</td>\n",
       "      <td>NaN</td>\n",
       "      <td>NaN</td>\n",
       "      <td>NaN</td>\n",
       "      <td>NaN</td>\n",
       "      <td>1114.00</td>\n",
       "      <td>1114.00</td>\n",
       "      <td>1114.00</td>\n",
       "      <td>111.40000</td>\n",
       "    </tr>\n",
       "    <tr>\n",
       "      <th>2571346</th>\n",
       "      <td>22122</td>\n",
       "      <td>117059</td>\n",
       "      <td>289641.0</td>\n",
       "      <td>2172-03-11 11:00:00</td>\n",
       "      <td>NaN</td>\n",
       "      <td>NaN</td>\n",
       "      <td>NaN</td>\n",
       "      <td>NaN</td>\n",
       "      <td>NaN</td>\n",
       "      <td>141146.04</td>\n",
       "      <td>141146.04</td>\n",
       "      <td>141146.04</td>\n",
       "      <td>141.14604</td>\n",
       "    </tr>\n",
       "    <tr>\n",
       "      <th>2636417</th>\n",
       "      <td>22788</td>\n",
       "      <td>106135</td>\n",
       "      <td>226954.0</td>\n",
       "      <td>2175-10-09 07:00:00</td>\n",
       "      <td>NaN</td>\n",
       "      <td>NaN</td>\n",
       "      <td>NaN</td>\n",
       "      <td>NaN</td>\n",
       "      <td>NaN</td>\n",
       "      <td>2431.00</td>\n",
       "      <td>2431.00</td>\n",
       "      <td>2431.00</td>\n",
       "      <td>24.31000</td>\n",
       "    </tr>\n",
       "    <tr>\n",
       "      <th>2732229</th>\n",
       "      <td>23546</td>\n",
       "      <td>108640</td>\n",
       "      <td>203781.0</td>\n",
       "      <td>2195-08-02 11:00:00</td>\n",
       "      <td>NaN</td>\n",
       "      <td>NaN</td>\n",
       "      <td>NaN</td>\n",
       "      <td>NaN</td>\n",
       "      <td>NaN</td>\n",
       "      <td>10342.00</td>\n",
       "      <td>10342.00</td>\n",
       "      <td>10342.00</td>\n",
       "      <td>103.42000</td>\n",
       "    </tr>\n",
       "    <tr>\n",
       "      <th>2859680</th>\n",
       "      <td>24785</td>\n",
       "      <td>124880</td>\n",
       "      <td>212120.0</td>\n",
       "      <td>2167-11-06 17:00:00</td>\n",
       "      <td>NaN</td>\n",
       "      <td>NaN</td>\n",
       "      <td>NaN</td>\n",
       "      <td>NaN</td>\n",
       "      <td>NaN</td>\n",
       "      <td>101110.02</td>\n",
       "      <td>101110.02</td>\n",
       "      <td>101110.02</td>\n",
       "      <td>101.11002</td>\n",
       "    </tr>\n",
       "    <tr>\n",
       "      <th>3185649</th>\n",
       "      <td>27397</td>\n",
       "      <td>143435</td>\n",
       "      <td>271949.0</td>\n",
       "      <td>2166-08-22 12:00:00</td>\n",
       "      <td>NaN</td>\n",
       "      <td>NaN</td>\n",
       "      <td>14868.00</td>\n",
       "      <td>NaN</td>\n",
       "      <td>NaN</td>\n",
       "      <td>NaN</td>\n",
       "      <td>14868.00</td>\n",
       "      <td>14868.00</td>\n",
       "      <td>148.68000</td>\n",
       "    </tr>\n",
       "    <tr>\n",
       "      <th>3444727</th>\n",
       "      <td>29660</td>\n",
       "      <td>125319</td>\n",
       "      <td>202944.0</td>\n",
       "      <td>2134-11-05 22:56:00</td>\n",
       "      <td>NaN</td>\n",
       "      <td>NaN</td>\n",
       "      <td>NaN</td>\n",
       "      <td>NaN</td>\n",
       "      <td>NaN</td>\n",
       "      <td>1148.00</td>\n",
       "      <td>1148.00</td>\n",
       "      <td>1148.00</td>\n",
       "      <td>114.80000</td>\n",
       "    </tr>\n",
       "    <tr>\n",
       "      <th>3825301</th>\n",
       "      <td>41000</td>\n",
       "      <td>168796</td>\n",
       "      <td>227327.0</td>\n",
       "      <td>2146-04-19 14:12:00</td>\n",
       "      <td>NaN</td>\n",
       "      <td>NaN</td>\n",
       "      <td>NaN</td>\n",
       "      <td>NaN</td>\n",
       "      <td>NaN</td>\n",
       "      <td>9890.00</td>\n",
       "      <td>9890.00</td>\n",
       "      <td>9890.00</td>\n",
       "      <td>98.90000</td>\n",
       "    </tr>\n",
       "    <tr>\n",
       "      <th>3972812</th>\n",
       "      <td>46022</td>\n",
       "      <td>155140</td>\n",
       "      <td>217206.0</td>\n",
       "      <td>2155-10-04 11:28:00</td>\n",
       "      <td>NaN</td>\n",
       "      <td>NaN</td>\n",
       "      <td>1161.00</td>\n",
       "      <td>NaN</td>\n",
       "      <td>NaN</td>\n",
       "      <td>NaN</td>\n",
       "      <td>1161.00</td>\n",
       "      <td>1161.00</td>\n",
       "      <td>116.10000</td>\n",
       "    </tr>\n",
       "    <tr>\n",
       "      <th>4065957</th>\n",
       "      <td>48660</td>\n",
       "      <td>184168</td>\n",
       "      <td>255597.0</td>\n",
       "      <td>2130-11-24 09:00:00</td>\n",
       "      <td>NaN</td>\n",
       "      <td>NaN</td>\n",
       "      <td>87117.97</td>\n",
       "      <td>NaN</td>\n",
       "      <td>NaN</td>\n",
       "      <td>NaN</td>\n",
       "      <td>87117.97</td>\n",
       "      <td>87117.97</td>\n",
       "      <td>87.11797</td>\n",
       "    </tr>\n",
       "    <tr>\n",
       "      <th>4157720</th>\n",
       "      <td>51179</td>\n",
       "      <td>160654</td>\n",
       "      <td>264009.0</td>\n",
       "      <td>2180-03-17 16:00:00</td>\n",
       "      <td>NaN</td>\n",
       "      <td>NaN</td>\n",
       "      <td>NaN</td>\n",
       "      <td>NaN</td>\n",
       "      <td>NaN</td>\n",
       "      <td>1117.00</td>\n",
       "      <td>1117.00</td>\n",
       "      <td>1117.00</td>\n",
       "      <td>111.70000</td>\n",
       "    </tr>\n",
       "    <tr>\n",
       "      <th>4181062</th>\n",
       "      <td>52012</td>\n",
       "      <td>146937</td>\n",
       "      <td>234508.0</td>\n",
       "      <td>2162-10-16 17:00:00</td>\n",
       "      <td>NaN</td>\n",
       "      <td>NaN</td>\n",
       "      <td>NaN</td>\n",
       "      <td>NaN</td>\n",
       "      <td>NaN</td>\n",
       "      <td>11676.00</td>\n",
       "      <td>11676.00</td>\n",
       "      <td>11676.00</td>\n",
       "      <td>116.76000</td>\n",
       "    </tr>\n",
       "    <tr>\n",
       "      <th>4233740</th>\n",
       "      <td>53782</td>\n",
       "      <td>190648</td>\n",
       "      <td>246339.0</td>\n",
       "      <td>2101-10-31 06:00:00</td>\n",
       "      <td>NaN</td>\n",
       "      <td>NaN</td>\n",
       "      <td>13575.00</td>\n",
       "      <td>NaN</td>\n",
       "      <td>NaN</td>\n",
       "      <td>NaN</td>\n",
       "      <td>13575.00</td>\n",
       "      <td>13575.00</td>\n",
       "      <td>135.75000</td>\n",
       "    </tr>\n",
       "    <tr>\n",
       "      <th>4295428</th>\n",
       "      <td>55201</td>\n",
       "      <td>142001</td>\n",
       "      <td>242452.0</td>\n",
       "      <td>2201-05-18 14:30:00</td>\n",
       "      <td>NaN</td>\n",
       "      <td>NaN</td>\n",
       "      <td>NaN</td>\n",
       "      <td>NaN</td>\n",
       "      <td>NaN</td>\n",
       "      <td>72122.00</td>\n",
       "      <td>72122.00</td>\n",
       "      <td>72122.00</td>\n",
       "      <td>72.12200</td>\n",
       "    </tr>\n",
       "    <tr>\n",
       "      <th>4335534</th>\n",
       "      <td>55966</td>\n",
       "      <td>144067</td>\n",
       "      <td>293244.0</td>\n",
       "      <td>2118-02-01 10:00:00</td>\n",
       "      <td>NaN</td>\n",
       "      <td>NaN</td>\n",
       "      <td>1133.00</td>\n",
       "      <td>NaN</td>\n",
       "      <td>NaN</td>\n",
       "      <td>NaN</td>\n",
       "      <td>1133.00</td>\n",
       "      <td>1133.00</td>\n",
       "      <td>113.30000</td>\n",
       "    </tr>\n",
       "    <tr>\n",
       "      <th>4443979</th>\n",
       "      <td>58593</td>\n",
       "      <td>199515</td>\n",
       "      <td>265817.0</td>\n",
       "      <td>2164-04-09 12:00:00</td>\n",
       "      <td>NaN</td>\n",
       "      <td>NaN</td>\n",
       "      <td>NaN</td>\n",
       "      <td>NaN</td>\n",
       "      <td>NaN</td>\n",
       "      <td>116116.00</td>\n",
       "      <td>116116.00</td>\n",
       "      <td>116116.00</td>\n",
       "      <td>116.11600</td>\n",
       "    </tr>\n",
       "    <tr>\n",
       "      <th>4540604</th>\n",
       "      <td>61157</td>\n",
       "      <td>131297</td>\n",
       "      <td>226901.0</td>\n",
       "      <td>2175-05-07 09:00:00</td>\n",
       "      <td>NaN</td>\n",
       "      <td>NaN</td>\n",
       "      <td>NaN</td>\n",
       "      <td>NaN</td>\n",
       "      <td>NaN</td>\n",
       "      <td>13756.00</td>\n",
       "      <td>13756.00</td>\n",
       "      <td>13756.00</td>\n",
       "      <td>137.56000</td>\n",
       "    </tr>\n",
       "    <tr>\n",
       "      <th>4575888</th>\n",
       "      <td>62594</td>\n",
       "      <td>142590</td>\n",
       "      <td>228822.0</td>\n",
       "      <td>2144-12-10 17:00:00</td>\n",
       "      <td>NaN</td>\n",
       "      <td>NaN</td>\n",
       "      <td>NaN</td>\n",
       "      <td>NaN</td>\n",
       "      <td>NaN</td>\n",
       "      <td>119119.02</td>\n",
       "      <td>119119.02</td>\n",
       "      <td>119119.02</td>\n",
       "      <td>119.11902</td>\n",
       "    </tr>\n",
       "    <tr>\n",
       "      <th>4727175</th>\n",
       "      <td>67529</td>\n",
       "      <td>161507</td>\n",
       "      <td>288087.0</td>\n",
       "      <td>2121-12-09 07:00:00</td>\n",
       "      <td>NaN</td>\n",
       "      <td>NaN</td>\n",
       "      <td>1143.00</td>\n",
       "      <td>NaN</td>\n",
       "      <td>NaN</td>\n",
       "      <td>NaN</td>\n",
       "      <td>1143.00</td>\n",
       "      <td>1143.00</td>\n",
       "      <td>114.30000</td>\n",
       "    </tr>\n",
       "    <tr>\n",
       "      <th>5077782</th>\n",
       "      <td>78518</td>\n",
       "      <td>144855</td>\n",
       "      <td>237522.0</td>\n",
       "      <td>2175-09-04 15:00:00</td>\n",
       "      <td>NaN</td>\n",
       "      <td>NaN</td>\n",
       "      <td>95119.04</td>\n",
       "      <td>NaN</td>\n",
       "      <td>NaN</td>\n",
       "      <td>NaN</td>\n",
       "      <td>95119.04</td>\n",
       "      <td>95119.04</td>\n",
       "      <td>95.11904</td>\n",
       "    </tr>\n",
       "    <tr>\n",
       "      <th>5109056</th>\n",
       "      <td>79648</td>\n",
       "      <td>164854</td>\n",
       "      <td>211349.0</td>\n",
       "      <td>2180-04-23 07:04:00</td>\n",
       "      <td>NaN</td>\n",
       "      <td>NaN</td>\n",
       "      <td>NaN</td>\n",
       "      <td>NaN</td>\n",
       "      <td>NaN</td>\n",
       "      <td>1336.00</td>\n",
       "      <td>1336.00</td>\n",
       "      <td>1336.00</td>\n",
       "      <td>133.60000</td>\n",
       "    </tr>\n",
       "    <tr>\n",
       "      <th>5120678</th>\n",
       "      <td>80046</td>\n",
       "      <td>143595</td>\n",
       "      <td>298066.0</td>\n",
       "      <td>2186-04-14 18:00:00</td>\n",
       "      <td>NaN</td>\n",
       "      <td>NaN</td>\n",
       "      <td>NaN</td>\n",
       "      <td>NaN</td>\n",
       "      <td>NaN</td>\n",
       "      <td>8582.00</td>\n",
       "      <td>8582.00</td>\n",
       "      <td>8582.00</td>\n",
       "      <td>85.82000</td>\n",
       "    </tr>\n",
       "    <tr>\n",
       "      <th>5610690</th>\n",
       "      <td>94430</td>\n",
       "      <td>168161</td>\n",
       "      <td>287375.0</td>\n",
       "      <td>2159-09-30 13:00:00</td>\n",
       "      <td>NaN</td>\n",
       "      <td>NaN</td>\n",
       "      <td>1130.00</td>\n",
       "      <td>NaN</td>\n",
       "      <td>NaN</td>\n",
       "      <td>NaN</td>\n",
       "      <td>1130.00</td>\n",
       "      <td>1130.00</td>\n",
       "      <td>113.00000</td>\n",
       "    </tr>\n",
       "    <tr>\n",
       "      <th>5724850</th>\n",
       "      <td>98254</td>\n",
       "      <td>114329</td>\n",
       "      <td>237545.0</td>\n",
       "      <td>2107-10-17 02:35:00</td>\n",
       "      <td>NaN</td>\n",
       "      <td>NaN</td>\n",
       "      <td>NaN</td>\n",
       "      <td>NaN</td>\n",
       "      <td>NaN</td>\n",
       "      <td>127105.99</td>\n",
       "      <td>127105.99</td>\n",
       "      <td>127105.99</td>\n",
       "      <td>127.10599</td>\n",
       "    </tr>\n",
       "  </tbody>\n",
       "</table>\n",
       "</div>"
      ],
      "text/plain": [
       "         subject_id  hadm_id  icustay_id            charttime  \\\n",
       "1355514       11702   168672    297300.0  2155-09-24 17:00:00   \n",
       "2571346       22122   117059    289641.0  2172-03-11 11:00:00   \n",
       "2636417       22788   106135    226954.0  2175-10-09 07:00:00   \n",
       "2732229       23546   108640    203781.0  2195-08-02 11:00:00   \n",
       "2859680       24785   124880    212120.0  2167-11-06 17:00:00   \n",
       "3185649       27397   143435    271949.0  2166-08-22 12:00:00   \n",
       "3444727       29660   125319    202944.0  2134-11-05 22:56:00   \n",
       "3825301       41000   168796    227327.0  2146-04-19 14:12:00   \n",
       "3972812       46022   155140    217206.0  2155-10-04 11:28:00   \n",
       "4065957       48660   184168    255597.0  2130-11-24 09:00:00   \n",
       "4157720       51179   160654    264009.0  2180-03-17 16:00:00   \n",
       "4181062       52012   146937    234508.0  2162-10-16 17:00:00   \n",
       "4233740       53782   190648    246339.0  2101-10-31 06:00:00   \n",
       "4295428       55201   142001    242452.0  2201-05-18 14:30:00   \n",
       "4335534       55966   144067    293244.0  2118-02-01 10:00:00   \n",
       "4443979       58593   199515    265817.0  2164-04-09 12:00:00   \n",
       "4540604       61157   131297    226901.0  2175-05-07 09:00:00   \n",
       "4575888       62594   142590    228822.0  2144-12-10 17:00:00   \n",
       "4727175       67529   161507    288087.0  2121-12-09 07:00:00   \n",
       "5077782       78518   144855    237522.0  2175-09-04 15:00:00   \n",
       "5109056       79648   164854    211349.0  2180-04-23 07:04:00   \n",
       "5120678       80046   143595    298066.0  2186-04-14 18:00:00   \n",
       "5610690       94430   168161    287375.0  2159-09-30 13:00:00   \n",
       "5724850       98254   114329    237545.0  2107-10-17 02:35:00   \n",
       "\n",
       "         Arterial BP #2 [Systolic]  Arterial BP [Systolic]  \\\n",
       "1355514                        NaN                     NaN   \n",
       "2571346                        NaN                     NaN   \n",
       "2636417                        NaN                     NaN   \n",
       "2732229                        NaN                     NaN   \n",
       "2859680                        NaN                     NaN   \n",
       "3185649                        NaN                     NaN   \n",
       "3444727                        NaN                     NaN   \n",
       "3825301                        NaN                     NaN   \n",
       "3972812                        NaN                     NaN   \n",
       "4065957                        NaN                     NaN   \n",
       "4157720                        NaN                     NaN   \n",
       "4181062                        NaN                     NaN   \n",
       "4233740                        NaN                     NaN   \n",
       "4295428                        NaN                     NaN   \n",
       "4335534                        NaN                     NaN   \n",
       "4443979                        NaN                     NaN   \n",
       "4540604                        NaN                     NaN   \n",
       "4575888                        NaN                     NaN   \n",
       "4727175                        NaN                     NaN   \n",
       "5077782                        NaN                     NaN   \n",
       "5109056                        NaN                     NaN   \n",
       "5120678                        NaN                     NaN   \n",
       "5610690                        NaN                     NaN   \n",
       "5724850                        NaN                     NaN   \n",
       "\n",
       "         Arterial Blood Pressure systolic  Manual BP [Systolic]  \\\n",
       "1355514                               NaN                   NaN   \n",
       "2571346                               NaN                   NaN   \n",
       "2636417                               NaN                   NaN   \n",
       "2732229                               NaN                   NaN   \n",
       "2859680                               NaN                   NaN   \n",
       "3185649                          14868.00                   NaN   \n",
       "3444727                               NaN                   NaN   \n",
       "3825301                               NaN                   NaN   \n",
       "3972812                           1161.00                   NaN   \n",
       "4065957                          87117.97                   NaN   \n",
       "4157720                               NaN                   NaN   \n",
       "4181062                               NaN                   NaN   \n",
       "4233740                          13575.00                   NaN   \n",
       "4295428                               NaN                   NaN   \n",
       "4335534                           1133.00                   NaN   \n",
       "4443979                               NaN                   NaN   \n",
       "4540604                               NaN                   NaN   \n",
       "4575888                               NaN                   NaN   \n",
       "4727175                           1143.00                   NaN   \n",
       "5077782                          95119.04                   NaN   \n",
       "5109056                               NaN                   NaN   \n",
       "5120678                               NaN                   NaN   \n",
       "5610690                           1130.00                   NaN   \n",
       "5724850                               NaN                   NaN   \n",
       "\n",
       "         NBP [Systolic]  Non Invasive Blood Pressure systolic  BP_combined  \\\n",
       "1355514             NaN                               1114.00      1114.00   \n",
       "2571346             NaN                             141146.04    141146.04   \n",
       "2636417             NaN                               2431.00      2431.00   \n",
       "2732229             NaN                              10342.00     10342.00   \n",
       "2859680             NaN                             101110.02    101110.02   \n",
       "3185649             NaN                                   NaN     14868.00   \n",
       "3444727             NaN                               1148.00      1148.00   \n",
       "3825301             NaN                               9890.00      9890.00   \n",
       "3972812             NaN                                   NaN      1161.00   \n",
       "4065957             NaN                                   NaN     87117.97   \n",
       "4157720             NaN                               1117.00      1117.00   \n",
       "4181062             NaN                              11676.00     11676.00   \n",
       "4233740             NaN                                   NaN     13575.00   \n",
       "4295428             NaN                              72122.00     72122.00   \n",
       "4335534             NaN                                   NaN      1133.00   \n",
       "4443979             NaN                             116116.00    116116.00   \n",
       "4540604             NaN                              13756.00     13756.00   \n",
       "4575888             NaN                             119119.02    119119.02   \n",
       "4727175             NaN                                   NaN      1143.00   \n",
       "5077782             NaN                                   NaN     95119.04   \n",
       "5109056             NaN                               1336.00      1336.00   \n",
       "5120678             NaN                               8582.00      8582.00   \n",
       "5610690             NaN                                   NaN      1130.00   \n",
       "5724850             NaN                             127105.99    127105.99   \n",
       "\n",
       "         Combined_Blood_Pressure_Systolic  Combined_Blood_Pressure  \n",
       "1355514                           1114.00                111.40000  \n",
       "2571346                         141146.04                141.14604  \n",
       "2636417                           2431.00                 24.31000  \n",
       "2732229                          10342.00                103.42000  \n",
       "2859680                         101110.02                101.11002  \n",
       "3185649                          14868.00                148.68000  \n",
       "3444727                           1148.00                114.80000  \n",
       "3825301                           9890.00                 98.90000  \n",
       "3972812                           1161.00                116.10000  \n",
       "4065957                          87117.97                 87.11797  \n",
       "4157720                           1117.00                111.70000  \n",
       "4181062                          11676.00                116.76000  \n",
       "4233740                          13575.00                135.75000  \n",
       "4295428                          72122.00                 72.12200  \n",
       "4335534                           1133.00                113.30000  \n",
       "4443979                         116116.00                116.11600  \n",
       "4540604                          13756.00                137.56000  \n",
       "4575888                         119119.02                119.11902  \n",
       "4727175                           1143.00                114.30000  \n",
       "5077782                          95119.04                 95.11904  \n",
       "5109056                           1336.00                133.60000  \n",
       "5120678                           8582.00                 85.82000  \n",
       "5610690                           1130.00                113.00000  \n",
       "5724850                         127105.99                127.10599  "
      ]
     },
     "execution_count": 56,
     "metadata": {},
     "output_type": "execute_result"
    }
   ],
   "source": [
    "outliers = chartevents_bp_df[chartevents_bp_df['Combined_Blood_Pressure'] > 1000]\n",
    "\n",
    "def convert_to_hundreds_version(column):\n",
    "    def convert(x):\n",
    "        if x == 0:\n",
    "            return 0\n",
    "        length = len(str(int(x)))\n",
    "        if length <= 3:\n",
    "            return x / 10 ** (length - 3)\n",
    "        elif length <= 4:\n",
    "            return x / 10 ** 1\n",
    "        elif length <= 5:\n",
    "            return x / 10 ** 2\n",
    "        elif length <= 6:\n",
    "            return x / 10 ** 3\n",
    "        else:\n",
    "            return x / 10 ** 4\n",
    "    return column.apply(convert)\n",
    "\n",
    "\n",
    "\n",
    "\n",
    "to_fix = convert_to_hundreds_version(outliers.Combined_Blood_Pressure)\n",
    "to_fix = to_fix.apply(lambda x: x / 10 if x > 200 else x)\n",
    "\n",
    "outliers['Combined_Blood_Pressure'] = to_fix\n",
    "outliers\n",
    "\n"
   ]
  },
  {
   "cell_type": "code",
   "execution_count": 57,
   "metadata": {},
   "outputs": [
    {
     "name": "stderr",
     "output_type": "stream",
     "text": [
      "/var/folders/48/vk7lyccx60x4918_6lqc64fw0000gn/T/ipykernel_26693/3578432021.py:2: SettingWithCopyWarning: \n",
      "A value is trying to be set on a copy of a slice from a DataFrame.\n",
      "Try using .loc[row_indexer,col_indexer] = value instead\n",
      "\n",
      "See the caveats in the documentation: https://pandas.pydata.org/pandas-docs/stable/user_guide/indexing.html#returning-a-view-versus-a-copy\n",
      "  outliers['combined_key'] = outliers[['subject_id', 'charttime', 'hadm_id', 'icustay_id']].apply(tuple, axis=1)\n"
     ]
    }
   ],
   "source": [
    "\n",
    "chartevents_bp_df['combined_key'] = chartevents_bp_df[['subject_id', 'charttime', 'hadm_id', 'icustay_id']].apply(tuple, axis=1)\n",
    "outliers['combined_key'] = outliers[['subject_id', 'charttime', 'hadm_id', 'icustay_id']].apply(tuple, axis=1)\n",
    "\n",
    "outlier_mapping = outliers.set_index('combined_key')['Combined_Blood_Pressure'].to_dict()\n"
   ]
  },
  {
   "cell_type": "code",
   "execution_count": 58,
   "metadata": {},
   "outputs": [],
   "source": [
    "chartevents_bp_df['Combined_Blood_Pressure'] = chartevents_bp_df['combined_key'].map(outlier_mapping).fillna(chartevents_bp_df['Combined_Blood_Pressure'])\n",
    "\n",
    "chartevents_bp_df.drop(columns=['combined_key'], inplace=True)\n"
   ]
  },
  {
   "cell_type": "code",
   "execution_count": 59,
   "metadata": {},
   "outputs": [],
   "source": [
    "chartevents_bp_df[\"Combined_Blood_Pressure\"] = chartevents_bp_df['Combined_Blood_Pressure'].apply(\n",
    "    lambda x: x/10 if x > 200 else x\n",
    ")"
   ]
  },
  {
   "cell_type": "code",
   "execution_count": 60,
   "metadata": {},
   "outputs": [],
   "source": [
    "cohort_bp = pd.merge(cohort_df[['hadm_id']], chartevents_bp_df, on='hadm_id', how='inner')\n"
   ]
  },
  {
   "cell_type": "code",
   "execution_count": 142,
   "metadata": {},
   "outputs": [
    {
     "data": {
      "image/png": "[encoded data removed]",
      "text/plain": [
       "<Figure size 576x360 with 1 Axes>"
      ]
     },
     "metadata": {
      "needs_background": "light"
     },
     "output_type": "display_data"
    }
   ],
   "source": [
    "original_data = cohort_bp['Combined_Blood_Pressure'].dropna().tolist()\n",
    "original_data = [value for value in original_data if 0 < value < 300]\n",
    "\n",
    "plt.figure(figsize=(8, 5))\n",
    "plt.hist(original_data, bins=20, color='skyblue', edgecolor='black')\n",
    "plt.title('Distribution of Blood Pressure - Original')\n",
    "plt.xlabel('Systolic Blood Pressure')\n",
    "plt.ylabel('Frequency')\n",
    "plt.show()"
   ]
  },
  {
   "cell_type": "code",
   "execution_count": 61,
   "metadata": {},
   "outputs": [],
   "source": [
    "def merge_blood_pressure_to_subgroup(bp_df, subgroup_df):\n",
    "    bp_df['charttime'] = pd.to_datetime(bp_df['charttime'])\n",
    "\n",
    "    # Drop the existing 'level_0' column if it exists\n",
    "    if 'level_0' in subgroup_df.columns:\n",
    "        subgroup_df = subgroup_df.drop('level_0', axis=1)\n",
    "\n",
    "    subgroup_df.reset_index(inplace=True)\n",
    "\n",
    "    # Filter bp_df to include only rows where subject_id is in subgroup_df\n",
    "    filtered_bp_df = bp_df[bp_df['subject_id'].isin(subgroup_df['subject_id'])]\n",
    "\n",
    "    # Merge without including 'charttime'\n",
    "    merged_df = pd.merge(filtered_bp_df[['subject_id', 'hadm_id', 'icustay_id', 'charttime', 'Combined_Blood_Pressure']],\n",
    "                        subgroup_df[['subject_id', 'rounded_age', 'admission_type_encoded', 'subgroup']],\n",
    "                        on='subject_id', how='outer')\n",
    "    return merged_df"
   ]
  },
  {
   "cell_type": "code",
   "execution_count": 62,
   "metadata": {},
   "outputs": [],
   "source": [
    "subgroup_1_bp_df = merge_blood_pressure_to_subgroup(chartevents_bp_df, subgroup_1_df)\n",
    "subgroup_2_bp_df = merge_blood_pressure_to_subgroup(chartevents_bp_df, subgroup_2_df)\n",
    "subgroup_3_bp_df = merge_blood_pressure_to_subgroup(chartevents_bp_df, subgroup_3_df)\n",
    "subgroup_4_bp_df = merge_blood_pressure_to_subgroup(chartevents_bp_df, subgroup_4_df)\n",
    "subgroup_5_bp_df = merge_blood_pressure_to_subgroup(chartevents_bp_df, subgroup_5_df)\n",
    "subgroup_6_bp_df = merge_blood_pressure_to_subgroup(chartevents_bp_df, subgroup_6_df)\n",
    "subgroup_7_bp_df = merge_blood_pressure_to_subgroup(chartevents_bp_df, subgroup_7_df)"
   ]
  },
  {
   "cell_type": "code",
   "execution_count": 63,
   "metadata": {},
   "outputs": [
    {
     "data": {
      "text/html": [
       "<div>\n",
       "<style scoped>\n",
       "    .dataframe tbody tr th:only-of-type {\n",
       "        vertical-align: middle;\n",
       "    }\n",
       "\n",
       "    .dataframe tbody tr th {\n",
       "        vertical-align: top;\n",
       "    }\n",
       "\n",
       "    .dataframe thead th {\n",
       "        text-align: right;\n",
       "    }\n",
       "</style>\n",
       "<table border=\"1\" class=\"dataframe\">\n",
       "  <thead>\n",
       "    <tr style=\"text-align: right;\">\n",
       "      <th></th>\n",
       "      <th>Subgroup 1</th>\n",
       "      <th>Subgroup 2</th>\n",
       "      <th>Subgroup 3</th>\n",
       "      <th>Subgroup 4</th>\n",
       "      <th>Subgroup 5</th>\n",
       "      <th>Subgroup 6</th>\n",
       "      <th>Subgroup 7</th>\n",
       "      <th>Original Chartevents</th>\n",
       "    </tr>\n",
       "  </thead>\n",
       "  <tbody>\n",
       "    <tr>\n",
       "      <th>mean</th>\n",
       "      <td>118.08</td>\n",
       "      <td>121.35</td>\n",
       "      <td>119.43</td>\n",
       "      <td>126.35</td>\n",
       "      <td>121.22</td>\n",
       "      <td>118.03</td>\n",
       "      <td>123.12</td>\n",
       "      <td>120.55</td>\n",
       "    </tr>\n",
       "    <tr>\n",
       "      <th>max</th>\n",
       "      <td>200.00</td>\n",
       "      <td>200.00</td>\n",
       "      <td>200.00</td>\n",
       "      <td>200.00</td>\n",
       "      <td>200.00</td>\n",
       "      <td>200.00</td>\n",
       "      <td>200.00</td>\n",
       "      <td>200.00</td>\n",
       "    </tr>\n",
       "    <tr>\n",
       "      <th>mode</th>\n",
       "      <td>105.00</td>\n",
       "      <td>110.00</td>\n",
       "      <td>110.00</td>\n",
       "      <td>110.00</td>\n",
       "      <td>110.00</td>\n",
       "      <td>110.00</td>\n",
       "      <td>112.00</td>\n",
       "      <td>110.00</td>\n",
       "    </tr>\n",
       "    <tr>\n",
       "      <th>std</th>\n",
       "      <td>24.20</td>\n",
       "      <td>24.36</td>\n",
       "      <td>24.32</td>\n",
       "      <td>29.14</td>\n",
       "      <td>24.19</td>\n",
       "      <td>24.10</td>\n",
       "      <td>25.84</td>\n",
       "      <td>24.51</td>\n",
       "    </tr>\n",
       "    <tr>\n",
       "      <th>median</th>\n",
       "      <td>115.00</td>\n",
       "      <td>119.00</td>\n",
       "      <td>117.00</td>\n",
       "      <td>125.00</td>\n",
       "      <td>119.00</td>\n",
       "      <td>115.00</td>\n",
       "      <td>121.00</td>\n",
       "      <td>118.00</td>\n",
       "    </tr>\n",
       "  </tbody>\n",
       "</table>\n",
       "</div>"
      ],
      "text/plain": [
       "        Subgroup 1  Subgroup 2  Subgroup 3  Subgroup 4  Subgroup 5  \\\n",
       "mean        118.08      121.35      119.43      126.35      121.22   \n",
       "max         200.00      200.00      200.00      200.00      200.00   \n",
       "mode        105.00      110.00      110.00      110.00      110.00   \n",
       "std          24.20       24.36       24.32       29.14       24.19   \n",
       "median      115.00      119.00      117.00      125.00      119.00   \n",
       "\n",
       "        Subgroup 6  Subgroup 7  Original Chartevents  \n",
       "mean        118.03      123.12                120.55  \n",
       "max         200.00      200.00                200.00  \n",
       "mode        110.00      112.00                110.00  \n",
       "std          24.10       25.84                 24.51  \n",
       "median      115.00      121.00                118.00  "
      ]
     },
     "execution_count": 63,
     "metadata": {},
     "output_type": "execute_result"
    }
   ],
   "source": [
    "bp_dfs = [subgroup_1_bp_df,\n",
    "            subgroup_2_bp_df,\n",
    "            subgroup_3_bp_df,\n",
    "            subgroup_4_bp_df,\n",
    "            subgroup_5_bp_df,\n",
    "            subgroup_6_bp_df,\n",
    "            subgroup_7_bp_df]\n",
    "\n",
    "\n",
    "def calculate_stats(df):\n",
    "    return df['Combined_Blood_Pressure'].agg(lambda x: pd.Series({\n",
    "        'mean': x.mean(),\n",
    "        'max': x.max(),\n",
    "        'mode': x.mode().iloc[0],\n",
    "        'std': x.std(),\n",
    "        'median': x.median()\n",
    "    }))\n",
    "\n",
    "bp_stats_list = []\n",
    "\n",
    "for i, df in enumerate(bp_dfs):\n",
    "    subgroup_stats = calculate_stats(df)\n",
    "    bp_stats_list.append(subgroup_stats)\n",
    "\n",
    "result_bp_df = pd.DataFrame(bp_stats_list, index=[f'Subgroup {i + 1}' for i in range(len(bp_dfs))])\n",
    "\n",
    "result_bp_df.loc['Original Chartevents'] = calculate_stats(cohort_bp)\n",
    "\n",
    "result_bp_df = result_bp_df.transpose()\n",
    "\n",
    "\n",
    "# result_df.loc['max'] = (result_df.loc['max'])/10000\n",
    "\n",
    "result_bp_df.round(2)"
   ]
  },
  {
   "cell_type": "code",
   "execution_count": 64,
   "metadata": {},
   "outputs": [
    {
     "data": {
      "image/png": "[encoded data removed]",
      "text/plain": [
       "<Figure size 576x360 with 1 Axes>"
      ]
     },
     "metadata": {
      "needs_background": "light"
     },
     "output_type": "display_data"
    },
    {
     "data": {
      "image/png": "[encoded data removed]",
      "text/plain": [
       "<Figure size 576x360 with 1 Axes>"
      ]
     },
     "metadata": {
      "needs_background": "light"
     },
     "output_type": "display_data"
    },
    {
     "data": {
      "image/png": "[encoded data removed]",
      "text/plain": [
       "<Figure size 576x360 with 1 Axes>"
      ]
     },
     "metadata": {
      "needs_background": "light"
     },
     "output_type": "display_data"
    },
    {
     "data": {
      "image/png": "[encoded data removed]",
      "text/plain": [
       "<Figure size 576x360 with 1 Axes>"
      ]
     },
     "metadata": {
      "needs_background": "light"
     },
     "output_type": "display_data"
    },
    {
     "data": {
      "image/png": "[encoded data removed]",
      "text/plain": [
       "<Figure size 576x360 with 1 Axes>"
      ]
     },
     "metadata": {
      "needs_background": "light"
     },
     "output_type": "display_data"
    },
    {
     "data": {
      "image/png": "[encoded data removed]",
      "text/plain": [
       "<Figure size 576x360 with 1 Axes>"
      ]
     },
     "metadata": {
      "needs_background": "light"
     },
     "output_type": "display_data"
    },
    {
     "data": {
      "image/png": "[encoded data removed]",
      "text/plain": [
       "<Figure size 576x360 with 1 Axes>"
      ]
     },
     "metadata": {
      "needs_background": "light"
     },
     "output_type": "display_data"
    }
   ],
   "source": [
    "subgroups = [subgroup_1_bp_df, subgroup_2_bp_df, subgroup_3_bp_df,\n",
    "             subgroup_4_bp_df, subgroup_5_bp_df, subgroup_6_bp_df, subgroup_7_bp_df]\n",
    "\n",
    "for i, subgroup_df in enumerate(subgroups):\n",
    "    filtered_data = subgroup_df['Combined_Blood_Pressure'].dropna().tolist()\n",
    "    filtered_data = [value for value in filtered_data if value < 300]\n",
    "\n",
    "    plt.figure(figsize=(8, 5))\n",
    "    plt.hist(filtered_data, bins=20, color='skyblue', edgecolor='black')\n",
    "    plt.title(f'Distribution of Systolic Blood Pressure - Subgroup {i + 1}')\n",
    "    plt.xlabel('Respiratory Rate (combined)')\n",
    "    plt.ylabel('Frequency')\n",
    "    plt.show()"
   ]
  },
  {
   "cell_type": "code",
   "execution_count": 135,
   "metadata": {},
   "outputs": [],
   "source": [
    "def bootstrap_subgroup_blood_pressure(subgroup_data, cohort_data, num_bootstraps=1000, alpha=0.05):\n",
    "    \"\"\"\n",
    "    Perform bootstrapping for a subgroup's blood pressure data and conduct hypothesis testing to verify if it is statistically different from the entire cohort.\n",
    "\n",
    "    Parameters:\n",
    "    - subgroup_data (array-like): Blood pressure data for the subgroup.\n",
    "    - cohort_data (array-like): Blood pressure data for the entire cohort.\n",
    "    - num_bootstraps (int): Number of bootstrap samples to generate.\n",
    "    - alpha (float): Significance level for hypothesis testing.\n",
    "\n",
    "    Returns:\n",
    "    - p_value (float): The p-value from the hypothesis test.\n",
    "    \"\"\"\n",
    "\n",
    "    # Calculate observed difference in means\n",
    "    obs_diff = np.mean(subgroup_data) - np.mean(cohort_data)\n",
    "\n",
    "    # Bootstrap resampling\n",
    "    diffs = []\n",
    "    for _ in range(num_bootstraps):\n",
    "        # Resample with replacement\n",
    "        subgroup_sample = np.random.choice(subgroup_data, size=len(subgroup_data), replace=True)\n",
    "        cohort_sample = np.random.choice(cohort_data, size=len(cohort_data), replace=True)\n",
    "        \n",
    "        # Calculate difference in means for each sample\n",
    "        diff = np.mean(subgroup_sample) - np.mean(cohort_sample)\n",
    "        diffs.append(diff)\n",
    "\n",
    "    # Calculate p-value\n",
    "    p_value = (np.sum(np.abs(diffs) >= np.abs(obs_diff)) + 1) / (num_bootstraps + 1)\n",
    "\n",
    "    return p_value\n"
   ]
  },
  {
   "cell_type": "code",
   "execution_count": 136,
   "metadata": {},
   "outputs": [
    {
     "name": "stdout",
     "output_type": "stream",
     "text": [
      "P-value for Blood Pressure: 0.000999000999000999\n"
     ]
    }
   ],
   "source": [
    "subgroup1_data_bp = subgroup_1_bp_df['Combined_Blood_Pressure']\n",
    "cohort_data_bp = cohort_bp['Combined_Blood_Pressure']\n",
    "p_value_bp = bootstrap_subgroup_blood_pressure(subgroup1_data_bp, cohort_data_bp)\n",
    "print(\"P-value for Blood Pressure:\", p_value_bp)\n"
   ]
  },
  {
   "cell_type": "code",
   "execution_count": 138,
   "metadata": {},
   "outputs": [
    {
     "name": "stdout",
     "output_type": "stream",
     "text": [
      "P-value for Blood Pressure: 0.000999000999000999\n"
     ]
    }
   ],
   "source": [
    "subgroup2_data_bp = subgroup_2_bp_df['Combined_Blood_Pressure']\n",
    "cohort_data_bp = cohort_bp['Combined_Blood_Pressure']\n",
    "p_value_bp = bootstrap_subgroup_blood_pressure(subgroup2_data_bp, cohort_data_bp)\n",
    "print(\"P-value for Blood Pressure:\", p_value_bp)\n"
   ]
  },
  {
   "cell_type": "code",
   "execution_count": 139,
   "metadata": {},
   "outputs": [
    {
     "name": "stdout",
     "output_type": "stream",
     "text": [
      "P-value for Blood Pressure: 0.000999000999000999\n"
     ]
    }
   ],
   "source": [
    "subgroup3_data_bp = subgroup_3_bp_df['Combined_Blood_Pressure']\n",
    "cohort_data_bp = cohort_bp['Combined_Blood_Pressure']\n",
    "p_value_bp = bootstrap_subgroup_blood_pressure(subgroup3_data_bp, cohort_data_bp)\n",
    "print(\"P-value for Blood Pressure:\", p_value_bp)\n"
   ]
  },
  {
   "cell_type": "code",
   "execution_count": 145,
   "metadata": {},
   "outputs": [
    {
     "name": "stdout",
     "output_type": "stream",
     "text": [
      "P-value for Blood Pressure: 0.08191808191808192\n"
     ]
    }
   ],
   "source": [
    "subgroup4_data_bp = subgroup_4_bp_df['Combined_Blood_Pressure']\n",
    "cohort_data_bp = cohort_bp['Combined_Blood_Pressure']\n",
    "p_value_bp = bootstrap_subgroup_blood_pressure(subgroup4_data_bp, cohort_data_bp)\n",
    "print(\"P-value for Blood Pressure:\", p_value_bp)\n"
   ]
  },
  {
   "cell_type": "code",
   "execution_count": 141,
   "metadata": {},
   "outputs": [
    {
     "name": "stdout",
     "output_type": "stream",
     "text": [
      "P-value for Blood Pressure: 0.000999000999000999\n"
     ]
    }
   ],
   "source": [
    "subgroup5_data_bp = subgroup_5_bp_df['Combined_Blood_Pressure']\n",
    "cohort_data_bp = cohort_bp['Combined_Blood_Pressure']\n",
    "p_value_bp = bootstrap_subgroup_blood_pressure(subgroup5_data_bp, cohort_data_bp)\n",
    "print(\"P-value for Blood Pressure:\", p_value_bp)\n"
   ]
  },
  {
   "cell_type": "code",
   "execution_count": 144,
   "metadata": {},
   "outputs": [
    {
     "name": "stdout",
     "output_type": "stream",
     "text": [
      "P-value for Blood Pressure: 0.000999000999000999\n"
     ]
    }
   ],
   "source": [
    "subgroup6_data_bp = subgroup_6_bp_df['Combined_Blood_Pressure']\n",
    "cohort_data_bp = cohort_bp['Combined_Blood_Pressure']\n",
    "p_value_bp = bootstrap_subgroup_blood_pressure(subgroup6_data_bp, cohort_data_bp)\n",
    "print(\"P-value for Blood Pressure:\", p_value_bp)\n"
   ]
  },
  {
   "cell_type": "code",
   "execution_count": 143,
   "metadata": {},
   "outputs": [
    {
     "name": "stdout",
     "output_type": "stream",
     "text": [
      "P-value for Blood Pressure: 0.000999000999000999\n"
     ]
    }
   ],
   "source": [
    "subgroup7_data_bp = subgroup_7_bp_df['Combined_Blood_Pressure']\n",
    "cohort_data_bp = cohort_bp['Combined_Blood_Pressure']\n",
    "p_value_bp = bootstrap_subgroup_blood_pressure(subgroup7_data_bp, cohort_data_bp)\n",
    "print(\"P-value for Blood Pressure:\", p_value_bp)\n"
   ]
  },
  {
   "cell_type": "markdown",
   "metadata": {},
   "source": [
    "## Heart Rate"
   ]
  },
  {
   "cell_type": "code",
   "execution_count": 146,
   "metadata": {},
   "outputs": [],
   "source": [
    "chartevents_hr_df = pd.read_csv('../processed_data/chartevents_hr.csv')"
   ]
  },
  {
   "cell_type": "code",
   "execution_count": 147,
   "metadata": {},
   "outputs": [],
   "source": [
    "chartevents_hr_df.loc[chartevents_hr_df['Heart Rate'] > 300, 'Heart Rate'] /= 10\n"
   ]
  },
  {
   "cell_type": "code",
   "execution_count": 148,
   "metadata": {},
   "outputs": [
    {
     "data": {
      "text/html": [
       "<div>\n",
       "<style scoped>\n",
       "    .dataframe tbody tr th:only-of-type {\n",
       "        vertical-align: middle;\n",
       "    }\n",
       "\n",
       "    .dataframe tbody tr th {\n",
       "        vertical-align: top;\n",
       "    }\n",
       "\n",
       "    .dataframe thead th {\n",
       "        text-align: right;\n",
       "    }\n",
       "</style>\n",
       "<table border=\"1\" class=\"dataframe\">\n",
       "  <thead>\n",
       "    <tr style=\"text-align: right;\">\n",
       "      <th></th>\n",
       "      <th>subject_id</th>\n",
       "      <th>hadm_id</th>\n",
       "      <th>icustay_id</th>\n",
       "      <th>charttime</th>\n",
       "      <th>Heart Rate</th>\n",
       "      <th>Heart Rate Alarm - Low</th>\n",
       "      <th>Heart rate Alarm - High</th>\n",
       "    </tr>\n",
       "  </thead>\n",
       "  <tbody>\n",
       "    <tr>\n",
       "      <th>1521794</th>\n",
       "      <td>8533</td>\n",
       "      <td>152254</td>\n",
       "      <td>274086.0</td>\n",
       "      <td>2142-03-13 07:00:00</td>\n",
       "      <td>663.2</td>\n",
       "      <td>NaN</td>\n",
       "      <td>NaN</td>\n",
       "    </tr>\n",
       "    <tr>\n",
       "      <th>5891204</th>\n",
       "      <td>47240</td>\n",
       "      <td>167812</td>\n",
       "      <td>274340.0</td>\n",
       "      <td>2153-08-10 07:00:00</td>\n",
       "      <td>540.9</td>\n",
       "      <td>NaN</td>\n",
       "      <td>NaN</td>\n",
       "    </tr>\n",
       "    <tr>\n",
       "      <th>5934975</th>\n",
       "      <td>48220</td>\n",
       "      <td>108153</td>\n",
       "      <td>214944.0</td>\n",
       "      <td>2115-10-29 04:00:00</td>\n",
       "      <td>8610.1</td>\n",
       "      <td>NaN</td>\n",
       "      <td>NaN</td>\n",
       "    </tr>\n",
       "    <tr>\n",
       "      <th>7255785</th>\n",
       "      <td>80927</td>\n",
       "      <td>179544</td>\n",
       "      <td>252668.0</td>\n",
       "      <td>2155-06-08 01:00:00</td>\n",
       "      <td>1171.0</td>\n",
       "      <td>NaN</td>\n",
       "      <td>NaN</td>\n",
       "    </tr>\n",
       "    <tr>\n",
       "      <th>7764956</th>\n",
       "      <td>92373</td>\n",
       "      <td>130520</td>\n",
       "      <td>256824.0</td>\n",
       "      <td>2194-08-14 16:45:00</td>\n",
       "      <td>999999.9</td>\n",
       "      <td>NaN</td>\n",
       "      <td>NaN</td>\n",
       "    </tr>\n",
       "  </tbody>\n",
       "</table>\n",
       "</div>"
      ],
      "text/plain": [
       "         subject_id  hadm_id  icustay_id            charttime  Heart Rate  \\\n",
       "1521794        8533   152254    274086.0  2142-03-13 07:00:00       663.2   \n",
       "5891204       47240   167812    274340.0  2153-08-10 07:00:00       540.9   \n",
       "5934975       48220   108153    214944.0  2115-10-29 04:00:00      8610.1   \n",
       "7255785       80927   179544    252668.0  2155-06-08 01:00:00      1171.0   \n",
       "7764956       92373   130520    256824.0  2194-08-14 16:45:00    999999.9   \n",
       "\n",
       "         Heart Rate Alarm - Low  Heart rate Alarm - High  \n",
       "1521794                     NaN                      NaN  \n",
       "5891204                     NaN                      NaN  \n",
       "5934975                     NaN                      NaN  \n",
       "7255785                     NaN                      NaN  \n",
       "7764956                     NaN                      NaN  "
      ]
     },
     "execution_count": 148,
     "metadata": {},
     "output_type": "execute_result"
    }
   ],
   "source": [
    "chartevents_hr_df[chartevents_hr_df['Heart Rate'] > 300]"
   ]
  },
  {
   "cell_type": "code",
   "execution_count": 149,
   "metadata": {},
   "outputs": [],
   "source": [
    "chartevents_hr_df.loc[chartevents_hr_df['Heart Rate'] > 300, 'Heart Rate'] /= 10"
   ]
  },
  {
   "cell_type": "code",
   "execution_count": 150,
   "metadata": {},
   "outputs": [
    {
     "data": {
      "text/html": [
       "<div>\n",
       "<style scoped>\n",
       "    .dataframe tbody tr th:only-of-type {\n",
       "        vertical-align: middle;\n",
       "    }\n",
       "\n",
       "    .dataframe tbody tr th {\n",
       "        vertical-align: top;\n",
       "    }\n",
       "\n",
       "    .dataframe thead th {\n",
       "        text-align: right;\n",
       "    }\n",
       "</style>\n",
       "<table border=\"1\" class=\"dataframe\">\n",
       "  <thead>\n",
       "    <tr style=\"text-align: right;\">\n",
       "      <th></th>\n",
       "      <th>subject_id</th>\n",
       "      <th>hadm_id</th>\n",
       "      <th>icustay_id</th>\n",
       "      <th>charttime</th>\n",
       "      <th>Heart Rate</th>\n",
       "      <th>Heart Rate Alarm - Low</th>\n",
       "      <th>Heart rate Alarm - High</th>\n",
       "    </tr>\n",
       "  </thead>\n",
       "  <tbody>\n",
       "    <tr>\n",
       "      <th>5934975</th>\n",
       "      <td>48220</td>\n",
       "      <td>108153</td>\n",
       "      <td>214944.0</td>\n",
       "      <td>2115-10-29 04:00:00</td>\n",
       "      <td>861.01</td>\n",
       "      <td>NaN</td>\n",
       "      <td>NaN</td>\n",
       "    </tr>\n",
       "    <tr>\n",
       "      <th>7764956</th>\n",
       "      <td>92373</td>\n",
       "      <td>130520</td>\n",
       "      <td>256824.0</td>\n",
       "      <td>2194-08-14 16:45:00</td>\n",
       "      <td>99999.99</td>\n",
       "      <td>NaN</td>\n",
       "      <td>NaN</td>\n",
       "    </tr>\n",
       "  </tbody>\n",
       "</table>\n",
       "</div>"
      ],
      "text/plain": [
       "         subject_id  hadm_id  icustay_id            charttime  Heart Rate  \\\n",
       "5934975       48220   108153    214944.0  2115-10-29 04:00:00      861.01   \n",
       "7764956       92373   130520    256824.0  2194-08-14 16:45:00    99999.99   \n",
       "\n",
       "         Heart Rate Alarm - Low  Heart rate Alarm - High  \n",
       "5934975                     NaN                      NaN  \n",
       "7764956                     NaN                      NaN  "
      ]
     },
     "execution_count": 150,
     "metadata": {},
     "output_type": "execute_result"
    }
   ],
   "source": [
    "chartevents_hr_df[chartevents_hr_df['Heart Rate'] > 300]"
   ]
  },
  {
   "cell_type": "code",
   "execution_count": 151,
   "metadata": {},
   "outputs": [],
   "source": [
    "chartevents_hr_df.loc[chartevents_hr_df['Heart Rate'] > 300, 'Heart Rate'] /= 10"
   ]
  },
  {
   "cell_type": "code",
   "execution_count": 152,
   "metadata": {},
   "outputs": [
    {
     "data": {
      "text/html": [
       "<div>\n",
       "<style scoped>\n",
       "    .dataframe tbody tr th:only-of-type {\n",
       "        vertical-align: middle;\n",
       "    }\n",
       "\n",
       "    .dataframe tbody tr th {\n",
       "        vertical-align: top;\n",
       "    }\n",
       "\n",
       "    .dataframe thead th {\n",
       "        text-align: right;\n",
       "    }\n",
       "</style>\n",
       "<table border=\"1\" class=\"dataframe\">\n",
       "  <thead>\n",
       "    <tr style=\"text-align: right;\">\n",
       "      <th></th>\n",
       "      <th>subject_id</th>\n",
       "      <th>hadm_id</th>\n",
       "      <th>icustay_id</th>\n",
       "      <th>charttime</th>\n",
       "      <th>Heart Rate</th>\n",
       "      <th>Heart Rate Alarm - Low</th>\n",
       "      <th>Heart rate Alarm - High</th>\n",
       "    </tr>\n",
       "  </thead>\n",
       "  <tbody>\n",
       "    <tr>\n",
       "      <th>7764956</th>\n",
       "      <td>92373</td>\n",
       "      <td>130520</td>\n",
       "      <td>256824.0</td>\n",
       "      <td>2194-08-14 16:45:00</td>\n",
       "      <td>9999.999</td>\n",
       "      <td>NaN</td>\n",
       "      <td>NaN</td>\n",
       "    </tr>\n",
       "  </tbody>\n",
       "</table>\n",
       "</div>"
      ],
      "text/plain": [
       "         subject_id  hadm_id  icustay_id            charttime  Heart Rate  \\\n",
       "7764956       92373   130520    256824.0  2194-08-14 16:45:00    9999.999   \n",
       "\n",
       "         Heart Rate Alarm - Low  Heart rate Alarm - High  \n",
       "7764956                     NaN                      NaN  "
      ]
     },
     "execution_count": 152,
     "metadata": {},
     "output_type": "execute_result"
    }
   ],
   "source": [
    "chartevents_hr_df[chartevents_hr_df['Heart Rate'] > 300]"
   ]
  },
  {
   "cell_type": "code",
   "execution_count": 153,
   "metadata": {},
   "outputs": [],
   "source": [
    "chartevents_hr_df.loc[chartevents_hr_df['Heart Rate'] > 300, 'Heart Rate'] /= 10"
   ]
  },
  {
   "cell_type": "code",
   "execution_count": 154,
   "metadata": {},
   "outputs": [],
   "source": [
    "chartevents_hr_df.loc[chartevents_hr_df['Heart Rate'] > 300, 'Heart Rate'] /= 10"
   ]
  },
  {
   "cell_type": "code",
   "execution_count": 155,
   "metadata": {},
   "outputs": [
    {
     "data": {
      "text/html": [
       "<div>\n",
       "<style scoped>\n",
       "    .dataframe tbody tr th:only-of-type {\n",
       "        vertical-align: middle;\n",
       "    }\n",
       "\n",
       "    .dataframe tbody tr th {\n",
       "        vertical-align: top;\n",
       "    }\n",
       "\n",
       "    .dataframe thead th {\n",
       "        text-align: right;\n",
       "    }\n",
       "</style>\n",
       "<table border=\"1\" class=\"dataframe\">\n",
       "  <thead>\n",
       "    <tr style=\"text-align: right;\">\n",
       "      <th></th>\n",
       "      <th>subject_id</th>\n",
       "      <th>hadm_id</th>\n",
       "      <th>icustay_id</th>\n",
       "      <th>charttime</th>\n",
       "      <th>Heart Rate</th>\n",
       "      <th>Heart Rate Alarm - Low</th>\n",
       "      <th>Heart rate Alarm - High</th>\n",
       "    </tr>\n",
       "  </thead>\n",
       "  <tbody>\n",
       "  </tbody>\n",
       "</table>\n",
       "</div>"
      ],
      "text/plain": [
       "Empty DataFrame\n",
       "Columns: [subject_id, hadm_id, icustay_id, charttime, Heart Rate, Heart Rate Alarm - Low, Heart rate Alarm - High]\n",
       "Index: []"
      ]
     },
     "execution_count": 155,
     "metadata": {},
     "output_type": "execute_result"
    }
   ],
   "source": [
    "chartevents_hr_df[chartevents_hr_df['Heart Rate'] > 300] "
   ]
  },
  {
   "cell_type": "code",
   "execution_count": 156,
   "metadata": {},
   "outputs": [],
   "source": [
    "cohort_hr = pd.merge(cohort_df[['hadm_id']], chartevents_hr_df, on='hadm_id', how='inner')"
   ]
  },
  {
   "cell_type": "code",
   "execution_count": 157,
   "metadata": {},
   "outputs": [
    {
     "data": {
      "image/png": "[encoded data removed]",
      "text/plain": [
       "<Figure size 576x360 with 1 Axes>"
      ]
     },
     "metadata": {
      "needs_background": "light"
     },
     "output_type": "display_data"
    }
   ],
   "source": [
    "original_data = cohort_hr['Heart Rate'].dropna().tolist()\n",
    "original_data = [value for value in original_data if 0 < value]\n",
    "\n",
    "plt.figure(figsize=(8, 5))\n",
    "plt.hist(original_data, bins=20, color='skyblue', edgecolor='black')\n",
    "plt.title('Distribution of Heart Rate - Original')\n",
    "plt.xlabel('Heart Rate')\n",
    "plt.ylabel('Frequency')\n",
    "plt.show()"
   ]
  },
  {
   "cell_type": "code",
   "execution_count": 158,
   "metadata": {},
   "outputs": [],
   "source": [
    "def merge_heart_rate_to_subgroup(hr_df, subgroup_df):\n",
    "    hr_df['charttime'] = pd.to_datetime(hr_df['charttime'])\n",
    "\n",
    "    # Drop the existing 'level_0' column if it exists\n",
    "    if 'level_0' in subgroup_df.columns:\n",
    "        subgroup_df = subgroup_df.drop('level_0', axis=1)\n",
    "\n",
    "    subgroup_df.reset_index(inplace=True)\n",
    "\n",
    "    # Filter hr_df to include only rows where subject_id and hadm_id are in subgroup_df\n",
    "    filtered_hr_df = hr_df[(hr_df['subject_id'].isin(subgroup_df['subject_id'])) & (hr_df['hadm_id'].isin(subgroup_df['hadm_id']))]\n",
    "\n",
    "    # Merge without including 'charttime'\n",
    "    merged_df = pd.merge(subgroup_df[['subject_id', 'rounded_age', 'admission_type_encoded', 'subgroup', 'hadm_id']],\n",
    "                        filtered_hr_df[['subject_id', 'hadm_id', 'icustay_id', 'Heart Rate', 'charttime']],\n",
    "                        on=['subject_id', 'hadm_id'], how='outer')\n",
    "    return merged_df"
   ]
  },
  {
   "cell_type": "code",
   "execution_count": 159,
   "metadata": {},
   "outputs": [],
   "source": [
    "subgroup_1_hr_df = merge_heart_rate_to_subgroup(chartevents_hr_df, subgroup_1_df)\n",
    "subgroup_2_hr_df = merge_heart_rate_to_subgroup(chartevents_hr_df, subgroup_2_df)\n",
    "subgroup_3_hr_df = merge_heart_rate_to_subgroup(chartevents_hr_df, subgroup_3_df)\n",
    "subgroup_4_hr_df = merge_heart_rate_to_subgroup(chartevents_hr_df, subgroup_4_df)\n",
    "subgroup_5_hr_df = merge_heart_rate_to_subgroup(chartevents_hr_df, subgroup_5_df)\n",
    "subgroup_6_hr_df = merge_heart_rate_to_subgroup(chartevents_hr_df, subgroup_6_df)\n",
    "subgroup_7_hr_df = merge_heart_rate_to_subgroup(chartevents_hr_df, subgroup_7_df)"
   ]
  },
  {
   "cell_type": "code",
   "execution_count": 160,
   "metadata": {},
   "outputs": [
    {
     "data": {
      "text/html": [
       "<div>\n",
       "<style scoped>\n",
       "    .dataframe tbody tr th:only-of-type {\n",
       "        vertical-align: middle;\n",
       "    }\n",
       "\n",
       "    .dataframe tbody tr th {\n",
       "        vertical-align: top;\n",
       "    }\n",
       "\n",
       "    .dataframe thead th {\n",
       "        text-align: right;\n",
       "    }\n",
       "</style>\n",
       "<table border=\"1\" class=\"dataframe\">\n",
       "  <thead>\n",
       "    <tr style=\"text-align: right;\">\n",
       "      <th></th>\n",
       "      <th>Subgroup 1</th>\n",
       "      <th>Subgroup 2</th>\n",
       "      <th>Subgroup 3</th>\n",
       "      <th>Subgroup 4</th>\n",
       "      <th>Subgroup 5</th>\n",
       "      <th>Subgroup 6</th>\n",
       "      <th>Subgroup 7</th>\n",
       "      <th>Original Chartevents</th>\n",
       "    </tr>\n",
       "  </thead>\n",
       "  <tbody>\n",
       "    <tr>\n",
       "      <th>mean</th>\n",
       "      <td>85.57</td>\n",
       "      <td>91.19</td>\n",
       "      <td>92.04</td>\n",
       "      <td>84.59</td>\n",
       "      <td>85.23</td>\n",
       "      <td>86.00</td>\n",
       "      <td>87.28</td>\n",
       "      <td>87.33</td>\n",
       "    </tr>\n",
       "    <tr>\n",
       "      <th>max</th>\n",
       "      <td>256.00</td>\n",
       "      <td>223.00</td>\n",
       "      <td>245.00</td>\n",
       "      <td>240.00</td>\n",
       "      <td>300.00</td>\n",
       "      <td>300.00</td>\n",
       "      <td>300.00</td>\n",
       "      <td>300.00</td>\n",
       "    </tr>\n",
       "    <tr>\n",
       "      <th>mode</th>\n",
       "      <td>70.00</td>\n",
       "      <td>88.00</td>\n",
       "      <td>90.00</td>\n",
       "      <td>80.00</td>\n",
       "      <td>80.00</td>\n",
       "      <td>80.00</td>\n",
       "      <td>80.00</td>\n",
       "      <td>80.00</td>\n",
       "    </tr>\n",
       "    <tr>\n",
       "      <th>std</th>\n",
       "      <td>18.24</td>\n",
       "      <td>19.90</td>\n",
       "      <td>19.34</td>\n",
       "      <td>16.84</td>\n",
       "      <td>16.78</td>\n",
       "      <td>18.13</td>\n",
       "      <td>17.85</td>\n",
       "      <td>18.32</td>\n",
       "    </tr>\n",
       "    <tr>\n",
       "      <th>median</th>\n",
       "      <td>84.00</td>\n",
       "      <td>91.00</td>\n",
       "      <td>91.00</td>\n",
       "      <td>84.00</td>\n",
       "      <td>84.00</td>\n",
       "      <td>84.00</td>\n",
       "      <td>86.00</td>\n",
       "      <td>86.00</td>\n",
       "    </tr>\n",
       "  </tbody>\n",
       "</table>\n",
       "</div>"
      ],
      "text/plain": [
       "        Subgroup 1  Subgroup 2  Subgroup 3  Subgroup 4  Subgroup 5  \\\n",
       "mean         85.57       91.19       92.04       84.59       85.23   \n",
       "max         256.00      223.00      245.00      240.00      300.00   \n",
       "mode         70.00       88.00       90.00       80.00       80.00   \n",
       "std          18.24       19.90       19.34       16.84       16.78   \n",
       "median       84.00       91.00       91.00       84.00       84.00   \n",
       "\n",
       "        Subgroup 6  Subgroup 7  Original Chartevents  \n",
       "mean         86.00       87.28                 87.33  \n",
       "max         300.00      300.00                300.00  \n",
       "mode         80.00       80.00                 80.00  \n",
       "std          18.13       17.85                 18.32  \n",
       "median       84.00       86.00                 86.00  "
      ]
     },
     "execution_count": 160,
     "metadata": {},
     "output_type": "execute_result"
    }
   ],
   "source": [
    "hr_dfs = [subgroup_1_hr_df,\n",
    "            subgroup_2_hr_df,\n",
    "            subgroup_3_hr_df,\n",
    "            subgroup_4_hr_df,\n",
    "            subgroup_5_hr_df,\n",
    "            subgroup_6_hr_df,\n",
    "            subgroup_7_hr_df]\n",
    "\n",
    "\n",
    "def calculate_stats(df):\n",
    "    return df['Heart Rate'].agg(lambda x: pd.Series({\n",
    "        'mean': x.mean(),\n",
    "        'max': x.max(),\n",
    "        'mode': x.mode().iloc[0],\n",
    "        'std': x.std(),\n",
    "        'median': x.median()\n",
    "    }))\n",
    "\n",
    "hr_stats_list = []\n",
    "\n",
    "for i, df in enumerate(hr_dfs):\n",
    "    subgroup_stats = calculate_stats(df)\n",
    "    hr_stats_list.append(subgroup_stats)\n",
    "\n",
    "result_hr_df = pd.DataFrame(hr_stats_list, index=[f'Subgroup {i + 1}' for i in range(len(hr_dfs))])\n",
    "\n",
    "result_hr_df.loc['Original Chartevents'] = calculate_stats(cohort_hr)\n",
    "\n",
    "result_hr_df = result_hr_df.transpose()\n",
    "\n",
    "\n",
    "\n",
    "result_hr_df.round(2)"
   ]
  },
  {
   "cell_type": "code",
   "execution_count": 35,
   "metadata": {},
   "outputs": [
    {
     "data": {
      "image/png": "[encoded data removed]",
      "text/plain": [
       "<Figure size 576x360 with 1 Axes>"
      ]
     },
     "metadata": {
      "needs_background": "light"
     },
     "output_type": "display_data"
    },
    {
     "data": {
      "image/png": "[encoded data removed]",
      "text/plain": [
       "<Figure size 576x360 with 1 Axes>"
      ]
     },
     "metadata": {
      "needs_background": "light"
     },
     "output_type": "display_data"
    },
    {
     "data": {
      "image/png": "[encoded data removed]",
      "text/plain": [
       "<Figure size 576x360 with 1 Axes>"
      ]
     },
     "metadata": {
      "needs_background": "light"
     },
     "output_type": "display_data"
    },
    {
     "data": {
      "image/png": "[encoded data removed]",
      "text/plain": [
       "<Figure size 576x360 with 1 Axes>"
      ]
     },
     "metadata": {
      "needs_background": "light"
     },
     "output_type": "display_data"
    },
    {
     "data": {
      "image/png": "[encoded data removed]",
      "text/plain": [
       "<Figure size 576x360 with 1 Axes>"
      ]
     },
     "metadata": {
      "needs_background": "light"
     },
     "output_type": "display_data"
    },
    {
     "data": {
      "image/png": "[encoded data removed]",
      "text/plain": [
       "<Figure size 576x360 with 1 Axes>"
      ]
     },
     "metadata": {
      "needs_background": "light"
     },
     "output_type": "display_data"
    },
    {
     "data": {
      "image/png": "[encoded data removed]",
      "text/plain": [
       "<Figure size 576x360 with 1 Axes>"
      ]
     },
     "metadata": {
      "needs_background": "light"
     },
     "output_type": "display_data"
    }
   ],
   "source": [
    "subgroups = [subgroup_1_hr_df, subgroup_2_hr_df, subgroup_3_hr_df,\n",
    "             subgroup_4_hr_df, subgroup_5_hr_df, subgroup_6_hr_df, subgroup_7_hr_df]\n",
    "\n",
    "for i, subgroup_df in enumerate(subgroups):\n",
    "    filtered_data = subgroup_df['Heart Rate'].dropna().tolist()\n",
    "    filtered_data = [value for value in filtered_data if 0 < value]\n",
    "\n",
    "    plt.figure(figsize=(8, 5))\n",
    "    plt.hist(filtered_data, bins=20, color='skyblue', edgecolor='black')\n",
    "    plt.title(f'Distribution of Heart Rate - Subgroup {i + 1}')\n",
    "    plt.xlabel('Heart Rate')\n",
    "    plt.ylabel('Frequency')\n",
    "    plt.show()"
   ]
  },
  {
   "cell_type": "code",
   "execution_count": 161,
   "metadata": {},
   "outputs": [],
   "source": [
    "def bootstrap_subgroup_heart_rate(subgroup_data, cohort_data, num_bootstraps=1000, alpha=0.05):\n",
    "    \"\"\"\n",
    "    Perform bootstrapping for a subgroup's heart rate data and conduct hypothesis testing to verify if it is statistically different from the entire cohort.\n",
    "\n",
    "    Parameters:\n",
    "    - subgroup_data (array-like): Heart rate data for the subgroup.\n",
    "    - cohort_data (array-like): Heart rate data for the entire cohort.\n",
    "    - num_bootstraps (int): Number of bootstrap samples to generate.\n",
    "    - alpha (float): Significance level for hypothesis testing.\n",
    "\n",
    "    Returns:\n",
    "    - p_value (float): The p-value from the hypothesis test.\n",
    "    \"\"\"\n",
    "\n",
    "    # Calculate observed difference in means\n",
    "    obs_diff = np.mean(subgroup_data) - np.mean(cohort_data)\n",
    "\n",
    "    # Bootstrap resampling\n",
    "    diffs = []\n",
    "    for _ in range(num_bootstraps):\n",
    "        # Resample with replacement\n",
    "        subgroup_sample = np.random.choice(subgroup_data, size=len(subgroup_data), replace=True)\n",
    "        cohort_sample = np.random.choice(cohort_data, size=len(cohort_data), replace=True)\n",
    "        \n",
    "        # Calculate difference in means for each sample\n",
    "        diff = np.mean(subgroup_sample) - np.mean(cohort_sample)\n",
    "        diffs.append(diff)\n",
    "\n",
    "    # Calculate p-value\n",
    "    p_value = (np.sum(np.abs(diffs) >= np.abs(obs_diff)) + 1) / (num_bootstraps + 1)\n",
    "\n",
    "    return p_value\n"
   ]
  },
  {
   "cell_type": "code",
   "execution_count": 163,
   "metadata": {},
   "outputs": [
    {
     "name": "stdout",
     "output_type": "stream",
     "text": [
      "P-value for Heart Rate sub1: 0.000999000999000999\n"
     ]
    }
   ],
   "source": [
    "subgroup1_data_hr = subgroup_1_hr_df['Heart Rate']\n",
    "cohort_data_hr = cohort_hr['Heart Rate']\n",
    "p_value_hr = bootstrap_subgroup_blood_pressure(subgroup1_data_hr, cohort_data_hr)\n",
    "print(\"P-value for Heart Rate sub1:\", p_value_hr)"
   ]
  },
  {
   "cell_type": "code",
   "execution_count": 164,
   "metadata": {},
   "outputs": [
    {
     "name": "stdout",
     "output_type": "stream",
     "text": [
      "P-value for Heart Rate sub2: 0.000999000999000999\n"
     ]
    }
   ],
   "source": [
    "subgroup2_data_hr = subgroup_2_hr_df['Heart Rate']\n",
    "cohort_data_hr = cohort_hr['Heart Rate']\n",
    "p_value_hr = bootstrap_subgroup_blood_pressure(subgroup2_data_hr, cohort_data_hr)\n",
    "print(\"P-value for Heart Rate sub2:\", p_value_hr)\n"
   ]
  },
  {
   "cell_type": "code",
   "execution_count": 165,
   "metadata": {},
   "outputs": [
    {
     "name": "stdout",
     "output_type": "stream",
     "text": [
      "P-value for Heart Rate sub3: 0.000999000999000999\n"
     ]
    }
   ],
   "source": [
    "subgroup3_data_hr = subgroup_3_hr_df['Heart Rate']\n",
    "cohort_data_hr = cohort_hr['Heart Rate']\n",
    "p_value_hr = bootstrap_subgroup_blood_pressure(subgroup3_data_hr, cohort_data_hr)\n",
    "print(\"P-value for Heart Rate sub3:\", p_value_hr)\n"
   ]
  },
  {
   "cell_type": "code",
   "execution_count": 166,
   "metadata": {},
   "outputs": [
    {
     "name": "stdout",
     "output_type": "stream",
     "text": [
      "P-value for Heart Rate sub4: 0.000999000999000999\n"
     ]
    }
   ],
   "source": [
    "subgroup4_data_hr = subgroup_4_hr_df['Heart Rate']\n",
    "cohort_data_hr = cohort_hr['Heart Rate']\n",
    "p_value_hr = bootstrap_subgroup_blood_pressure(subgroup4_data_hr, cohort_data_hr)\n",
    "print(\"P-value for Heart Rate sub4:\", p_value_hr)\n"
   ]
  },
  {
   "cell_type": "code",
   "execution_count": 167,
   "metadata": {},
   "outputs": [
    {
     "name": "stdout",
     "output_type": "stream",
     "text": [
      "P-value for Heart Rate sub5: 0.000999000999000999\n"
     ]
    }
   ],
   "source": [
    "subgroup5_data_hr = subgroup_5_hr_df['Heart Rate']\n",
    "cohort_data_hr = cohort_hr['Heart Rate']\n",
    "p_value_hr = bootstrap_subgroup_blood_pressure(subgroup5_data_hr, cohort_data_hr)\n",
    "print(\"P-value for Heart Rate sub5:\", p_value_hr)"
   ]
  },
  {
   "cell_type": "code",
   "execution_count": 168,
   "metadata": {},
   "outputs": [
    {
     "name": "stdout",
     "output_type": "stream",
     "text": [
      "P-value for Heart Rate sub6: 0.000999000999000999\n"
     ]
    }
   ],
   "source": [
    "subgroup6_data_hr = subgroup_6_hr_df['Heart Rate']\n",
    "cohort_data_hr = cohort_hr['Heart Rate']\n",
    "p_value_hr = bootstrap_subgroup_blood_pressure(subgroup6_data_hr, cohort_data_hr)\n",
    "print(\"P-value for Heart Rate sub6:\", p_value_hr)"
   ]
  },
  {
   "cell_type": "code",
   "execution_count": 169,
   "metadata": {},
   "outputs": [
    {
     "name": "stdout",
     "output_type": "stream",
     "text": [
      "P-value for Heart Rate sub7: 0.000999000999000999\n"
     ]
    }
   ],
   "source": [
    "subgroup7_data_hr = subgroup_7_hr_df['Heart Rate']\n",
    "cohort_data_hr = cohort_hr['Heart Rate']\n",
    "p_value_hr = bootstrap_subgroup_blood_pressure(subgroup7_data_hr, cohort_data_hr)\n",
    "print(\"P-value for Heart Rate sub7:\", p_value_hr)"
   ]
  },
  {
   "cell_type": "markdown",
   "metadata": {},
   "source": [
    "## Oxygen Saturation"
   ]
  },
  {
   "cell_type": "code",
   "execution_count": 171,
   "metadata": {},
   "outputs": [],
   "source": [
    "chartevents_o2sat_df = pd.read_csv('../processed_data/chartevents_o2sat.csv')"
   ]
  },
  {
   "cell_type": "code",
   "execution_count": 173,
   "metadata": {},
   "outputs": [
    {
     "data": {
      "text/html": [
       "<div>\n",
       "<style scoped>\n",
       "    .dataframe tbody tr th:only-of-type {\n",
       "        vertical-align: middle;\n",
       "    }\n",
       "\n",
       "    .dataframe tbody tr th {\n",
       "        vertical-align: top;\n",
       "    }\n",
       "\n",
       "    .dataframe thead th {\n",
       "        text-align: right;\n",
       "    }\n",
       "</style>\n",
       "<table border=\"1\" class=\"dataframe\">\n",
       "  <thead>\n",
       "    <tr style=\"text-align: right;\">\n",
       "      <th></th>\n",
       "      <th>subject_id</th>\n",
       "      <th>hadm_id</th>\n",
       "      <th>icustay_id</th>\n",
       "      <th>charttime</th>\n",
       "      <th>SpO2</th>\n",
       "    </tr>\n",
       "  </thead>\n",
       "  <tbody>\n",
       "    <tr>\n",
       "      <th>4122</th>\n",
       "      <td>68</td>\n",
       "      <td>108329</td>\n",
       "      <td>272667.0</td>\n",
       "      <td>2174-01-10 19:00:00</td>\n",
       "      <td>0.0</td>\n",
       "    </tr>\n",
       "    <tr>\n",
       "      <th>4123</th>\n",
       "      <td>68</td>\n",
       "      <td>108329</td>\n",
       "      <td>272667.0</td>\n",
       "      <td>2174-01-10 21:00:00</td>\n",
       "      <td>0.0</td>\n",
       "    </tr>\n",
       "    <tr>\n",
       "      <th>4128</th>\n",
       "      <td>68</td>\n",
       "      <td>108329</td>\n",
       "      <td>272667.0</td>\n",
       "      <td>2174-01-11 02:00:00</td>\n",
       "      <td>0.0</td>\n",
       "    </tr>\n",
       "    <tr>\n",
       "      <th>4845</th>\n",
       "      <td>91</td>\n",
       "      <td>121205</td>\n",
       "      <td>256972.0</td>\n",
       "      <td>2177-05-10 14:00:00</td>\n",
       "      <td>0.0</td>\n",
       "    </tr>\n",
       "    <tr>\n",
       "      <th>4846</th>\n",
       "      <td>91</td>\n",
       "      <td>121205</td>\n",
       "      <td>256972.0</td>\n",
       "      <td>2177-05-10 14:05:00</td>\n",
       "      <td>0.0</td>\n",
       "    </tr>\n",
       "    <tr>\n",
       "      <th>...</th>\n",
       "      <td>...</td>\n",
       "      <td>...</td>\n",
       "      <td>...</td>\n",
       "      <td>...</td>\n",
       "      <td>...</td>\n",
       "    </tr>\n",
       "    <tr>\n",
       "      <th>3375397</th>\n",
       "      <td>32443</td>\n",
       "      <td>184083</td>\n",
       "      <td>223654.0</td>\n",
       "      <td>2161-03-26 02:45:00</td>\n",
       "      <td>0.0</td>\n",
       "    </tr>\n",
       "    <tr>\n",
       "      <th>3379470</th>\n",
       "      <td>32488</td>\n",
       "      <td>137459</td>\n",
       "      <td>249558.0</td>\n",
       "      <td>2199-10-01 12:25:00</td>\n",
       "      <td>0.0</td>\n",
       "    </tr>\n",
       "    <tr>\n",
       "      <th>3389056</th>\n",
       "      <td>32611</td>\n",
       "      <td>141765</td>\n",
       "      <td>276974.0</td>\n",
       "      <td>2192-07-08 03:00:00</td>\n",
       "      <td>7.0</td>\n",
       "    </tr>\n",
       "    <tr>\n",
       "      <th>3392897</th>\n",
       "      <td>32658</td>\n",
       "      <td>182532</td>\n",
       "      <td>255383.0</td>\n",
       "      <td>2143-05-27 19:00:00</td>\n",
       "      <td>0.0</td>\n",
       "    </tr>\n",
       "    <tr>\n",
       "      <th>3399092</th>\n",
       "      <td>32706</td>\n",
       "      <td>150492</td>\n",
       "      <td>246278.0</td>\n",
       "      <td>2157-05-10 15:20:00</td>\n",
       "      <td>0.0</td>\n",
       "    </tr>\n",
       "  </tbody>\n",
       "</table>\n",
       "<p>541 rows × 5 columns</p>\n",
       "</div>"
      ],
      "text/plain": [
       "         subject_id  hadm_id  icustay_id            charttime  SpO2\n",
       "4122             68   108329    272667.0  2174-01-10 19:00:00   0.0\n",
       "4123             68   108329    272667.0  2174-01-10 21:00:00   0.0\n",
       "4128             68   108329    272667.0  2174-01-11 02:00:00   0.0\n",
       "4845             91   121205    256972.0  2177-05-10 14:00:00   0.0\n",
       "4846             91   121205    256972.0  2177-05-10 14:05:00   0.0\n",
       "...             ...      ...         ...                  ...   ...\n",
       "3375397       32443   184083    223654.0  2161-03-26 02:45:00   0.0\n",
       "3379470       32488   137459    249558.0  2199-10-01 12:25:00   0.0\n",
       "3389056       32611   141765    276974.0  2192-07-08 03:00:00   7.0\n",
       "3392897       32658   182532    255383.0  2143-05-27 19:00:00   0.0\n",
       "3399092       32706   150492    246278.0  2157-05-10 15:20:00   0.0\n",
       "\n",
       "[541 rows x 5 columns]"
      ]
     },
     "execution_count": 173,
     "metadata": {},
     "output_type": "execute_result"
    }
   ],
   "source": [
    "chartevents_o2sat_df[chartevents_o2sat_df['SpO2'] < 10]"
   ]
  },
  {
   "cell_type": "code",
   "execution_count": 174,
   "metadata": {},
   "outputs": [],
   "source": [
    "cohort_o2sat = pd.merge(cohort_df[['hadm_id']], chartevents_o2sat_df, on='hadm_id', how='inner')\n"
   ]
  },
  {
   "cell_type": "code",
   "execution_count": 175,
   "metadata": {},
   "outputs": [
    {
     "data": {
      "image/png": "[encoded data removed]",
      "text/plain": [
       "<Figure size 576x360 with 1 Axes>"
      ]
     },
     "metadata": {
      "needs_background": "light"
     },
     "output_type": "display_data"
    }
   ],
   "source": [
    "original_data = cohort_o2sat['SpO2'].tolist()\n",
    "# original_data = [value for value in original_data if 80 < value]\n",
    "\n",
    "plt.figure(figsize=(8, 5))\n",
    "plt.hist(original_data, bins=20, color='skyblue', edgecolor='black')\n",
    "plt.title('Distribution of SpO2 - Original')\n",
    "plt.xlabel('SpO2')\n",
    "plt.ylabel('Frequency')\n",
    "plt.show()"
   ]
  },
  {
   "cell_type": "code",
   "execution_count": 176,
   "metadata": {},
   "outputs": [],
   "source": [
    "def merge_oxygen_saturation_to_subgroup(o2sat_df, subgroup_df):\n",
    "    o2sat_df['charttime'] = pd.to_datetime(o2sat_df['charttime'])\n",
    "\n",
    "    \n",
    "    if 'level_0' in subgroup_df.columns:\n",
    "        subgroup_df = subgroup_df.drop('level_0', axis=1)\n",
    "\n",
    "    subgroup_df.reset_index(inplace=True)\n",
    "\n",
    "    filtered_o2sat_df = o2sat_df[(o2sat_df['subject_id'].isin(subgroup_df['subject_id'])) & (o2sat_df['hadm_id'].isin(subgroup_df['hadm_id']))]\n",
    "\n",
    "    merged_df = pd.merge(subgroup_df[['subject_id', 'rounded_age', 'admission_type_encoded', 'subgroup', 'hadm_id']],\n",
    "                        filtered_o2sat_df[['subject_id', 'hadm_id', 'icustay_id', 'SpO2', 'charttime']],\n",
    "                        on=['subject_id', 'hadm_id'], how='outer')\n",
    "    return merged_df\n"
   ]
  },
  {
   "cell_type": "code",
   "execution_count": 177,
   "metadata": {},
   "outputs": [],
   "source": [
    "subgroup_1_o2sat_df = merge_oxygen_saturation_to_subgroup(chartevents_o2sat_df, subgroup_1_df)\n",
    "subgroup_2_o2sat_df = merge_oxygen_saturation_to_subgroup(chartevents_o2sat_df, subgroup_2_df)\n",
    "subgroup_3_o2sat_df = merge_oxygen_saturation_to_subgroup(chartevents_o2sat_df, subgroup_3_df)\n",
    "subgroup_4_o2sat_df = merge_oxygen_saturation_to_subgroup(chartevents_o2sat_df, subgroup_4_df)\n",
    "subgroup_5_o2sat_df = merge_oxygen_saturation_to_subgroup(chartevents_o2sat_df, subgroup_5_df)\n",
    "subgroup_6_o2sat_df = merge_oxygen_saturation_to_subgroup(chartevents_o2sat_df, subgroup_6_df)\n",
    "subgroup_7_o2sat_df = merge_oxygen_saturation_to_subgroup(chartevents_o2sat_df, subgroup_7_df)"
   ]
  },
  {
   "cell_type": "code",
   "execution_count": 178,
   "metadata": {},
   "outputs": [
    {
     "data": {
      "text/html": [
       "<div>\n",
       "<style scoped>\n",
       "    .dataframe tbody tr th:only-of-type {\n",
       "        vertical-align: middle;\n",
       "    }\n",
       "\n",
       "    .dataframe tbody tr th {\n",
       "        vertical-align: top;\n",
       "    }\n",
       "\n",
       "    .dataframe thead th {\n",
       "        text-align: right;\n",
       "    }\n",
       "</style>\n",
       "<table border=\"1\" class=\"dataframe\">\n",
       "  <thead>\n",
       "    <tr style=\"text-align: right;\">\n",
       "      <th></th>\n",
       "      <th>Subgroup 1</th>\n",
       "      <th>Subgroup 2</th>\n",
       "      <th>Subgroup 3</th>\n",
       "      <th>Subgroup 4</th>\n",
       "      <th>Subgroup 5</th>\n",
       "      <th>Subgroup 6</th>\n",
       "      <th>Subgroup 7</th>\n",
       "      <th>Original Chartevents</th>\n",
       "    </tr>\n",
       "  </thead>\n",
       "  <tbody>\n",
       "    <tr>\n",
       "      <th>mean</th>\n",
       "      <td>85.57</td>\n",
       "      <td>91.19</td>\n",
       "      <td>92.04</td>\n",
       "      <td>84.59</td>\n",
       "      <td>85.23</td>\n",
       "      <td>86.00</td>\n",
       "      <td>87.28</td>\n",
       "      <td>87.33</td>\n",
       "    </tr>\n",
       "    <tr>\n",
       "      <th>max</th>\n",
       "      <td>256.00</td>\n",
       "      <td>223.00</td>\n",
       "      <td>245.00</td>\n",
       "      <td>240.00</td>\n",
       "      <td>300.00</td>\n",
       "      <td>300.00</td>\n",
       "      <td>300.00</td>\n",
       "      <td>300.00</td>\n",
       "    </tr>\n",
       "    <tr>\n",
       "      <th>mode</th>\n",
       "      <td>70.00</td>\n",
       "      <td>88.00</td>\n",
       "      <td>90.00</td>\n",
       "      <td>80.00</td>\n",
       "      <td>80.00</td>\n",
       "      <td>80.00</td>\n",
       "      <td>80.00</td>\n",
       "      <td>80.00</td>\n",
       "    </tr>\n",
       "    <tr>\n",
       "      <th>std</th>\n",
       "      <td>18.24</td>\n",
       "      <td>19.90</td>\n",
       "      <td>19.34</td>\n",
       "      <td>16.84</td>\n",
       "      <td>16.78</td>\n",
       "      <td>18.13</td>\n",
       "      <td>17.85</td>\n",
       "      <td>18.32</td>\n",
       "    </tr>\n",
       "    <tr>\n",
       "      <th>median</th>\n",
       "      <td>84.00</td>\n",
       "      <td>91.00</td>\n",
       "      <td>91.00</td>\n",
       "      <td>84.00</td>\n",
       "      <td>84.00</td>\n",
       "      <td>84.00</td>\n",
       "      <td>86.00</td>\n",
       "      <td>86.00</td>\n",
       "    </tr>\n",
       "  </tbody>\n",
       "</table>\n",
       "</div>"
      ],
      "text/plain": [
       "        Subgroup 1  Subgroup 2  Subgroup 3  Subgroup 4  Subgroup 5  \\\n",
       "mean         85.57       91.19       92.04       84.59       85.23   \n",
       "max         256.00      223.00      245.00      240.00      300.00   \n",
       "mode         70.00       88.00       90.00       80.00       80.00   \n",
       "std          18.24       19.90       19.34       16.84       16.78   \n",
       "median       84.00       91.00       91.00       84.00       84.00   \n",
       "\n",
       "        Subgroup 6  Subgroup 7  Original Chartevents  \n",
       "mean         86.00       87.28                 87.33  \n",
       "max         300.00      300.00                300.00  \n",
       "mode         80.00       80.00                 80.00  \n",
       "std          18.13       17.85                 18.32  \n",
       "median       84.00       86.00                 86.00  "
      ]
     },
     "execution_count": 178,
     "metadata": {},
     "output_type": "execute_result"
    }
   ],
   "source": [
    "o2sat_dfs = [subgroup_1_o2sat_df,\n",
    "            subgroup_2_o2sat_df,\n",
    "            subgroup_3_o2sat_df,\n",
    "            subgroup_4_o2sat_df,\n",
    "            subgroup_5_o2sat_df,\n",
    "            subgroup_6_o2sat_df,\n",
    "            subgroup_7_o2sat_df]\n",
    "\n",
    "\n",
    "def calculate_stats(df):\n",
    "    return df['SpO2'].agg(lambda x: pd.Series({\n",
    "        'mean': x.mean(),\n",
    "        'max': x.max(),\n",
    "        'mode': x.mode().iloc[0],\n",
    "        'std': x.std(),\n",
    "        'median': x.median()\n",
    "    }))\n",
    "\n",
    "o2sat_stats_list = []\n",
    "\n",
    "for i, df in enumerate(o2sat_dfs):\n",
    "    subgroup_stats = calculate_stats(df)\n",
    "    o2sat_stats_list.append(subgroup_stats)\n",
    "\n",
    "result_o2sat_df = pd.DataFrame(o2sat_stats_list, index=[f'Subgroup {i + 1}' for i in range(len(o2sat_dfs))])\n",
    "\n",
    "result_o2sat_df.loc['Original Chartevents'] = calculate_stats(cohort_o2sat)\n",
    "\n",
    "result_o2sat_df = result_hr_df.transpose()\n",
    "\n",
    "\n",
    "# result_df.loc['max'] = (result_df.loc['max'])/10000\n",
    "\n",
    "result_hr_df.round(2)"
   ]
  },
  {
   "cell_type": "code",
   "execution_count": 179,
   "metadata": {},
   "outputs": [
    {
     "data": {
      "image/png": "[encoded data removed]",
      "text/plain": [
       "<Figure size 576x360 with 1 Axes>"
      ]
     },
     "metadata": {
      "needs_background": "light"
     },
     "output_type": "display_data"
    },
    {
     "data": {
      "image/png": "[encoded data removed]",
      "text/plain": [
       "<Figure size 576x360 with 1 Axes>"
      ]
     },
     "metadata": {
      "needs_background": "light"
     },
     "output_type": "display_data"
    },
    {
     "data": {
      "image/png": "[encoded data removed]",
      "text/plain": [
       "<Figure size 576x360 with 1 Axes>"
      ]
     },
     "metadata": {
      "needs_background": "light"
     },
     "output_type": "display_data"
    },
    {
     "data": {
      "image/png": "[encoded data removed]",
      "text/plain": [
       "<Figure size 576x360 with 1 Axes>"
      ]
     },
     "metadata": {
      "needs_background": "light"
     },
     "output_type": "display_data"
    },
    {
     "data": {
      "image/png": "[encoded data removed]",
      "text/plain": [
       "<Figure size 576x360 with 1 Axes>"
      ]
     },
     "metadata": {
      "needs_background": "light"
     },
     "output_type": "display_data"
    },
    {
     "data": {
      "image/png": "[encoded data removed]",
      "text/plain": [
       "<Figure size 576x360 with 1 Axes>"
      ]
     },
     "metadata": {
      "needs_background": "light"
     },
     "output_type": "display_data"
    },
    {
     "data": {
      "image/png": "[encoded data removed]",
      "text/plain": [
       "<Figure size 576x360 with 1 Axes>"
      ]
     },
     "metadata": {
      "needs_background": "light"
     },
     "output_type": "display_data"
    }
   ],
   "source": [
    "subgroups = [subgroup_1_o2sat_df, subgroup_2_o2sat_df, subgroup_3_o2sat_df,\n",
    "             subgroup_4_o2sat_df, subgroup_5_o2sat_df, subgroup_6_o2sat_df, subgroup_7_o2sat_df]\n",
    "\n",
    "for i, subgroup_df in enumerate(subgroups):\n",
    "    filtered_data = subgroup_df['SpO2'].dropna().tolist()\n",
    "    filtered_data = [value for value in filtered_data if 0 < value]\n",
    "\n",
    "    plt.figure(figsize=(8, 5))\n",
    "    plt.hist(filtered_data, bins=20, color='skyblue', edgecolor='black')\n",
    "    plt.title(f'Distribution of SpO2 - Subgroup {i + 1}')\n",
    "    plt.xlabel('SpO2')\n",
    "    plt.ylabel('Frequency')\n",
    "    plt.show()"
   ]
  },
  {
   "cell_type": "code",
   "execution_count": 180,
   "metadata": {},
   "outputs": [],
   "source": [
    "def bootstrap_subgroup_oxygen_saturation(subgroup_data, cohort_data, num_bootstraps=1000, alpha=0.05):\n",
    "    \"\"\"\n",
    "    Perform bootstrapping for a subgroup's oxygen saturation data and conduct hypothesis testing to verify if it is statistically different from the entire cohort.\n",
    "\n",
    "    Parameters:\n",
    "    - subgroup_data (array-like): Oxygen saturation data for the subgroup.\n",
    "    - cohort_data (array-like): Oxygen saturation data for the entire cohort.\n",
    "    - num_bootstraps (int): Number of bootstrap samples to generate.\n",
    "    - alpha (float): Significance level for hypothesis testing.\n",
    "\n",
    "    Returns:\n",
    "    - p_value (float): The p-value from the hypothesis test.\n",
    "    \"\"\"\n",
    "\n",
    "    # Calculate observed difference in means\n",
    "    obs_diff = np.mean(subgroup_data) - np.mean(cohort_data)\n",
    "\n",
    "    # Bootstrap resampling\n",
    "    diffs = []\n",
    "    for _ in range(num_bootstraps):\n",
    "        # Resample with replacement\n",
    "        subgroup_sample = np.random.choice(subgroup_data, size=len(subgroup_data), replace=True)\n",
    "        cohort_sample = np.random.choice(cohort_data, size=len(cohort_data), replace=True)\n",
    "        \n",
    "        # Calculate difference in means for each sample\n",
    "        diff = np.mean(subgroup_sample) - np.mean(cohort_sample)\n",
    "        diffs.append(diff)\n",
    "\n",
    "    # Calculate p-value\n",
    "    p_value = (np.sum(np.abs(diffs) >= np.abs(obs_diff)) + 1) / (num_bootstraps + 1)\n",
    "\n",
    "    return p_value\n"
   ]
  },
  {
   "cell_type": "code",
   "execution_count": 183,
   "metadata": {},
   "outputs": [
    {
     "name": "stdout",
     "output_type": "stream",
     "text": [
      "P-value for o2sat: 0.000999000999000999\n"
     ]
    }
   ],
   "source": [
    "subgroup1_data_o2sat = subgroup_1_o2sat_df['SpO2']\n",
    "cohort_data_o2sat = cohort_o2sat['SpO2']\n",
    "p_value_o2sat = bootstrap_subgroup_blood_pressure(subgroup1_data_o2sat, cohort_data_o2sat)\n",
    "print(\"P-value for o2sat:\", p_value_o2sat)"
   ]
  },
  {
   "cell_type": "code",
   "execution_count": 184,
   "metadata": {},
   "outputs": [
    {
     "name": "stdout",
     "output_type": "stream",
     "text": [
      "P-value for o2sat: 0.000999000999000999\n"
     ]
    }
   ],
   "source": [
    "subgroup2_data_o2sat = subgroup_2_o2sat_df['SpO2']\n",
    "cohort_data_o2sat = cohort_o2sat['SpO2']\n",
    "p_value_o2sat = bootstrap_subgroup_blood_pressure(subgroup2_data_o2sat, cohort_data_o2sat)\n",
    "print(\"P-value for o2sat:\", p_value_o2sat)"
   ]
  },
  {
   "cell_type": "code",
   "execution_count": 185,
   "metadata": {},
   "outputs": [
    {
     "name": "stdout",
     "output_type": "stream",
     "text": [
      "P-value for o2sat: 0.000999000999000999\n"
     ]
    }
   ],
   "source": [
    "subgroup3_data_o2sat = subgroup_3_o2sat_df['SpO2']\n",
    "cohort_data_o2sat = cohort_o2sat['SpO2']\n",
    "p_value_o2sat = bootstrap_subgroup_blood_pressure(subgroup3_data_o2sat, cohort_data_o2sat)\n",
    "print(\"P-value for o2sat:\", p_value_o2sat)"
   ]
  },
  {
   "cell_type": "code",
   "execution_count": 186,
   "metadata": {},
   "outputs": [
    {
     "name": "stdout",
     "output_type": "stream",
     "text": [
      "P-value for o2sat: 0.000999000999000999\n"
     ]
    }
   ],
   "source": [
    "subgroup4_data_o2sat = subgroup_4_o2sat_df['SpO2']\n",
    "cohort_data_o2sat = cohort_o2sat['SpO2']\n",
    "p_value_o2sat = bootstrap_subgroup_blood_pressure(subgroup4_data_o2sat, cohort_data_o2sat)\n",
    "print(\"P-value for o2sat:\", p_value_o2sat)"
   ]
  },
  {
   "cell_type": "code",
   "execution_count": 187,
   "metadata": {},
   "outputs": [
    {
     "name": "stdout",
     "output_type": "stream",
     "text": [
      "P-value for o2sat: 0.000999000999000999\n"
     ]
    }
   ],
   "source": [
    "subgroup5_data_o2sat = subgroup_5_o2sat_df['SpO2']\n",
    "cohort_data_o2sat = cohort_o2sat['SpO2']\n",
    "p_value_o2sat = bootstrap_subgroup_blood_pressure(subgroup5_data_o2sat, cohort_data_o2sat)\n",
    "print(\"P-value for o2sat:\", p_value_o2sat)"
   ]
  },
  {
   "cell_type": "code",
   "execution_count": 188,
   "metadata": {},
   "outputs": [
    {
     "name": "stdout",
     "output_type": "stream",
     "text": [
      "P-value for o2sat: 0.000999000999000999\n"
     ]
    }
   ],
   "source": [
    "subgroup6_data_o2sat = subgroup_6_o2sat_df['SpO2']\n",
    "cohort_data_o2sat = cohort_o2sat['SpO2']\n",
    "p_value_o2sat = bootstrap_subgroup_blood_pressure(subgroup6_data_o2sat, cohort_data_o2sat)\n",
    "print(\"P-value for o2sat:\", p_value_o2sat)"
   ]
  },
  {
   "cell_type": "code",
   "execution_count": 189,
   "metadata": {},
   "outputs": [
    {
     "name": "stdout",
     "output_type": "stream",
     "text": [
      "P-value for o2sat: 0.000999000999000999\n"
     ]
    }
   ],
   "source": [
    "subgroup7_data_o2sat = subgroup_7_o2sat_df['SpO2']\n",
    "cohort_data_o2sat = cohort_o2sat['SpO2']\n",
    "p_value_o2sat = bootstrap_subgroup_blood_pressure(subgroup7_data_o2sat, cohort_data_o2sat)\n",
    "print(\"P-value for o2sat:\", p_value_o2sat)"
   ]
  },
  {
   "cell_type": "markdown",
   "metadata": {},
   "source": [
    "## White Blood Cell Count"
   ]
  },
  {
   "cell_type": "code",
   "execution_count": 192,
   "metadata": {},
   "outputs": [],
   "source": [
    "chartevents_wbc_df = pd.read_csv('../processed_data/chartevents_wbc.csv')"
   ]
  },
  {
   "cell_type": "code",
   "execution_count": 193,
   "metadata": {},
   "outputs": [
    {
     "data": {
      "text/plain": [
       "count    177293.000000\n",
       "mean         12.633284\n",
       "std          31.056027\n",
       "min           0.000000\n",
       "25%           8.100000\n",
       "50%          11.100000\n",
       "75%          15.100000\n",
       "max       12500.000000\n",
       "Name: WBC_combined, dtype: float64"
      ]
     },
     "execution_count": 193,
     "metadata": {},
     "output_type": "execute_result"
    }
   ],
   "source": [
    "chartevents_wbc_df.WBC_combined.describe()"
   ]
  },
  {
   "cell_type": "code",
   "execution_count": 194,
   "metadata": {},
   "outputs": [
    {
     "data": {
      "text/html": [
       "<div>\n",
       "<style scoped>\n",
       "    .dataframe tbody tr th:only-of-type {\n",
       "        vertical-align: middle;\n",
       "    }\n",
       "\n",
       "    .dataframe tbody tr th {\n",
       "        vertical-align: top;\n",
       "    }\n",
       "\n",
       "    .dataframe thead th {\n",
       "        text-align: right;\n",
       "    }\n",
       "</style>\n",
       "<table border=\"1\" class=\"dataframe\">\n",
       "  <thead>\n",
       "    <tr style=\"text-align: right;\">\n",
       "      <th></th>\n",
       "      <th>subject_id</th>\n",
       "      <th>hadm_id</th>\n",
       "      <th>icustay_id</th>\n",
       "      <th>charttime</th>\n",
       "      <th>WBC</th>\n",
       "      <th>WBC   (4-11,000)</th>\n",
       "      <th>WBC (4-11,000)</th>\n",
       "      <th>WBC_combined</th>\n",
       "    </tr>\n",
       "  </thead>\n",
       "  <tbody>\n",
       "    <tr>\n",
       "      <th>2094</th>\n",
       "      <td>370</td>\n",
       "      <td>123421</td>\n",
       "      <td>228402.0</td>\n",
       "      <td>2153-03-04 04:45:00</td>\n",
       "      <td>NaN</td>\n",
       "      <td>206.3</td>\n",
       "      <td>206.3</td>\n",
       "      <td>206.3</td>\n",
       "    </tr>\n",
       "    <tr>\n",
       "      <th>2095</th>\n",
       "      <td>370</td>\n",
       "      <td>123421</td>\n",
       "      <td>228402.0</td>\n",
       "      <td>2153-03-04 21:00:00</td>\n",
       "      <td>NaN</td>\n",
       "      <td>222.8</td>\n",
       "      <td>222.8</td>\n",
       "      <td>222.8</td>\n",
       "    </tr>\n",
       "    <tr>\n",
       "      <th>2096</th>\n",
       "      <td>370</td>\n",
       "      <td>123421</td>\n",
       "      <td>228402.0</td>\n",
       "      <td>2153-03-05 05:00:00</td>\n",
       "      <td>NaN</td>\n",
       "      <td>180.4</td>\n",
       "      <td>180.4</td>\n",
       "      <td>180.4</td>\n",
       "    </tr>\n",
       "    <tr>\n",
       "      <th>24013</th>\n",
       "      <td>4145</td>\n",
       "      <td>130687</td>\n",
       "      <td>234089.0</td>\n",
       "      <td>2122-07-21 15:25:00</td>\n",
       "      <td>NaN</td>\n",
       "      <td>187.5</td>\n",
       "      <td>187.5</td>\n",
       "      <td>187.5</td>\n",
       "    </tr>\n",
       "    <tr>\n",
       "      <th>24014</th>\n",
       "      <td>4145</td>\n",
       "      <td>130687</td>\n",
       "      <td>234089.0</td>\n",
       "      <td>2122-07-21 20:10:00</td>\n",
       "      <td>NaN</td>\n",
       "      <td>140.8</td>\n",
       "      <td>140.8</td>\n",
       "      <td>140.8</td>\n",
       "    </tr>\n",
       "    <tr>\n",
       "      <th>...</th>\n",
       "      <td>...</td>\n",
       "      <td>...</td>\n",
       "      <td>...</td>\n",
       "      <td>...</td>\n",
       "      <td>...</td>\n",
       "      <td>...</td>\n",
       "      <td>...</td>\n",
       "      <td>...</td>\n",
       "    </tr>\n",
       "    <tr>\n",
       "      <th>163103</th>\n",
       "      <td>29641</td>\n",
       "      <td>109689</td>\n",
       "      <td>284954.0</td>\n",
       "      <td>2144-07-19 19:20:00</td>\n",
       "      <td>108.8</td>\n",
       "      <td>108.8</td>\n",
       "      <td>108.8</td>\n",
       "      <td>108.8</td>\n",
       "    </tr>\n",
       "    <tr>\n",
       "      <th>166891</th>\n",
       "      <td>30437</td>\n",
       "      <td>181115</td>\n",
       "      <td>277112.0</td>\n",
       "      <td>2180-02-17 16:21:00</td>\n",
       "      <td>12500.0</td>\n",
       "      <td>12500.0</td>\n",
       "      <td>12500.0</td>\n",
       "      <td>12500.0</td>\n",
       "    </tr>\n",
       "    <tr>\n",
       "      <th>167368</th>\n",
       "      <td>30547</td>\n",
       "      <td>134271</td>\n",
       "      <td>207886.0</td>\n",
       "      <td>2164-06-28 03:02:00</td>\n",
       "      <td>119.9</td>\n",
       "      <td>119.9</td>\n",
       "      <td>119.9</td>\n",
       "      <td>119.9</td>\n",
       "    </tr>\n",
       "    <tr>\n",
       "      <th>173495</th>\n",
       "      <td>32060</td>\n",
       "      <td>117616</td>\n",
       "      <td>294910.0</td>\n",
       "      <td>2107-04-02 03:12:00</td>\n",
       "      <td>104.7</td>\n",
       "      <td>104.7</td>\n",
       "      <td>104.7</td>\n",
       "      <td>104.7</td>\n",
       "    </tr>\n",
       "    <tr>\n",
       "      <th>173496</th>\n",
       "      <td>32060</td>\n",
       "      <td>117616</td>\n",
       "      <td>294910.0</td>\n",
       "      <td>2107-04-03 02:22:00</td>\n",
       "      <td>164.8</td>\n",
       "      <td>164.8</td>\n",
       "      <td>164.8</td>\n",
       "      <td>164.8</td>\n",
       "    </tr>\n",
       "  </tbody>\n",
       "</table>\n",
       "<p>144 rows × 8 columns</p>\n",
       "</div>"
      ],
      "text/plain": [
       "        subject_id  hadm_id  icustay_id            charttime      WBC  \\\n",
       "2094           370   123421    228402.0  2153-03-04 04:45:00      NaN   \n",
       "2095           370   123421    228402.0  2153-03-04 21:00:00      NaN   \n",
       "2096           370   123421    228402.0  2153-03-05 05:00:00      NaN   \n",
       "24013         4145   130687    234089.0  2122-07-21 15:25:00      NaN   \n",
       "24014         4145   130687    234089.0  2122-07-21 20:10:00      NaN   \n",
       "...            ...      ...         ...                  ...      ...   \n",
       "163103       29641   109689    284954.0  2144-07-19 19:20:00    108.8   \n",
       "166891       30437   181115    277112.0  2180-02-17 16:21:00  12500.0   \n",
       "167368       30547   134271    207886.0  2164-06-28 03:02:00    119.9   \n",
       "173495       32060   117616    294910.0  2107-04-02 03:12:00    104.7   \n",
       "173496       32060   117616    294910.0  2107-04-03 02:22:00    164.8   \n",
       "\n",
       "        WBC   (4-11,000)  WBC (4-11,000)  WBC_combined  \n",
       "2094               206.3           206.3         206.3  \n",
       "2095               222.8           222.8         222.8  \n",
       "2096               180.4           180.4         180.4  \n",
       "24013              187.5           187.5         187.5  \n",
       "24014              140.8           140.8         140.8  \n",
       "...                  ...             ...           ...  \n",
       "163103             108.8           108.8         108.8  \n",
       "166891           12500.0         12500.0       12500.0  \n",
       "167368             119.9           119.9         119.9  \n",
       "173495             104.7           104.7         104.7  \n",
       "173496             164.8           164.8         164.8  \n",
       "\n",
       "[144 rows x 8 columns]"
      ]
     },
     "execution_count": 194,
     "metadata": {},
     "output_type": "execute_result"
    }
   ],
   "source": [
    "chartevents_wbc_df[chartevents_wbc_df['WBC_combined'] > 100] "
   ]
  },
  {
   "cell_type": "code",
   "execution_count": 195,
   "metadata": {},
   "outputs": [],
   "source": [
    "chartevents_wbc_df['WBC_combined'] = chartevents_wbc_df['WBC_combined'].apply(lambda x: round(x, 2) if x <= 100 else round(x / 10**int(len(str(x))-2), 2))\n"
   ]
  },
  {
   "cell_type": "code",
   "execution_count": 196,
   "metadata": {},
   "outputs": [
    {
     "name": "stderr",
     "output_type": "stream",
     "text": [
      "/var/folders/48/vk7lyccx60x4918_6lqc64fw0000gn/T/ipykernel_26693/2277305429.py:1: SettingWithCopyWarning: \n",
      "A value is trying to be set on a copy of a slice from a DataFrame\n",
      "\n",
      "See the caveats in the documentation: https://pandas.pydata.org/pandas-docs/stable/user_guide/indexing.html#returning-a-view-versus-a-copy\n",
      "  chartevents_wbc_df['WBC_combined'].loc[chartevents_wbc_df['WBC_combined'] > 11] /= 10\n"
     ]
    }
   ],
   "source": [
    "chartevents_wbc_df['WBC_combined'].loc[chartevents_wbc_df['WBC_combined'] > 11] /= 10"
   ]
  },
  {
   "cell_type": "code",
   "execution_count": 197,
   "metadata": {},
   "outputs": [
    {
     "data": {
      "text/plain": [
       "count    177293.000000\n",
       "mean          4.644356\n",
       "std           3.445496\n",
       "min           0.000000\n",
       "25%           1.480000\n",
       "50%           2.850000\n",
       "75%           8.000000\n",
       "max          11.000000\n",
       "Name: WBC_combined, dtype: float64"
      ]
     },
     "execution_count": 197,
     "metadata": {},
     "output_type": "execute_result"
    }
   ],
   "source": [
    "chartevents_wbc_df['WBC_combined'].describe()"
   ]
  },
  {
   "cell_type": "code",
   "execution_count": 198,
   "metadata": {},
   "outputs": [],
   "source": [
    "cohort_wbc = pd.merge(cohort_df[['hadm_id']], chartevents_wbc_df, on='hadm_id', how='inner')\n"
   ]
  },
  {
   "cell_type": "code",
   "execution_count": 199,
   "metadata": {},
   "outputs": [
    {
     "data": {
      "image/png": "[encoded data removed]",
      "text/plain": [
       "<Figure size 576x360 with 1 Axes>"
      ]
     },
     "metadata": {
      "needs_background": "light"
     },
     "output_type": "display_data"
    }
   ],
   "source": [
    "original_data = cohort_wbc['WBC_combined'].tolist()\n",
    "# original_data = [value for value in original_data if value > 100]\n",
    "\n",
    "plt.figure(figsize=(8, 5))\n",
    "plt.hist(original_data, bins=20, color='skyblue', edgecolor='black')\n",
    "plt.title('Distribution of WBC_combined - Original')\n",
    "plt.xlabel('WBC_combined')\n",
    "plt.ylabel('Frequency')\n",
    "plt.show()"
   ]
  },
  {
   "cell_type": "code",
   "execution_count": 200,
   "metadata": {},
   "outputs": [],
   "source": [
    "def merge_white_blood_cell_count_to_subgroup(wbc_df, subgroup_df):\n",
    "    wbc_df['charttime'] = pd.to_datetime(wbc_df['charttime'])\n",
    "\n",
    "    if 'level_0' in subgroup_df.columns:\n",
    "        subgroup_df = subgroup_df.drop('level_0', axis=1)\n",
    "        \n",
    "    subgroup_df.reset_index(inplace=True)\n",
    "\n",
    "    filtered_wbc_df = wbc_df[(wbc_df['subject_id'].isin(subgroup_df['subject_id'])) & (wbc_df['hadm_id'].isin(subgroup_df['hadm_id']))]\n",
    "\n",
    "    merged_df = pd.merge(subgroup_df[['subject_id', 'rounded_age', 'admission_type_encoded', 'subgroup', 'hadm_id']],\n",
    "                        filtered_wbc_df[['subject_id', 'hadm_id', 'icustay_id', 'WBC_combined', 'charttime']],\n",
    "                        on=['subject_id', 'hadm_id'], how='outer')\n",
    "    return merged_df\n"
   ]
  },
  {
   "cell_type": "code",
   "execution_count": 201,
   "metadata": {},
   "outputs": [],
   "source": [
    "subgroup_1_wbc_df = merge_white_blood_cell_count_to_subgroup(chartevents_wbc_df, subgroup_1_df)\n",
    "subgroup_2_wbc_df = merge_white_blood_cell_count_to_subgroup(chartevents_wbc_df, subgroup_2_df)\n",
    "subgroup_3_wbc_df = merge_white_blood_cell_count_to_subgroup(chartevents_wbc_df, subgroup_3_df)\n",
    "subgroup_4_wbc_df = merge_white_blood_cell_count_to_subgroup(chartevents_wbc_df, subgroup_4_df)\n",
    "subgroup_5_wbc_df = merge_white_blood_cell_count_to_subgroup(chartevents_wbc_df, subgroup_5_df)\n",
    "subgroup_6_wbc_df = merge_white_blood_cell_count_to_subgroup(chartevents_wbc_df, subgroup_6_df)\n",
    "subgroup_7_wbc_df = merge_white_blood_cell_count_to_subgroup(chartevents_wbc_df, subgroup_7_df)"
   ]
  },
  {
   "cell_type": "code",
   "execution_count": 202,
   "metadata": {},
   "outputs": [
    {
     "data": {
      "text/html": [
       "<div>\n",
       "<style scoped>\n",
       "    .dataframe tbody tr th:only-of-type {\n",
       "        vertical-align: middle;\n",
       "    }\n",
       "\n",
       "    .dataframe tbody tr th {\n",
       "        vertical-align: top;\n",
       "    }\n",
       "\n",
       "    .dataframe thead th {\n",
       "        text-align: right;\n",
       "    }\n",
       "</style>\n",
       "<table border=\"1\" class=\"dataframe\">\n",
       "  <thead>\n",
       "    <tr style=\"text-align: right;\">\n",
       "      <th></th>\n",
       "      <th>Subgroup 1</th>\n",
       "      <th>Subgroup 2</th>\n",
       "      <th>Subgroup 3</th>\n",
       "      <th>Subgroup 4</th>\n",
       "      <th>Subgroup 5</th>\n",
       "      <th>Subgroup 6</th>\n",
       "      <th>Subgroup 7</th>\n",
       "      <th>Original Chartevents</th>\n",
       "    </tr>\n",
       "  </thead>\n",
       "  <tbody>\n",
       "    <tr>\n",
       "      <th>mean</th>\n",
       "      <td>4.77</td>\n",
       "      <td>4.53</td>\n",
       "      <td>4.66</td>\n",
       "      <td>4.77</td>\n",
       "      <td>4.60</td>\n",
       "      <td>4.67</td>\n",
       "      <td>4.58</td>\n",
       "      <td>4.63</td>\n",
       "    </tr>\n",
       "    <tr>\n",
       "      <th>max</th>\n",
       "      <td>11.00</td>\n",
       "      <td>11.00</td>\n",
       "      <td>11.00</td>\n",
       "      <td>11.00</td>\n",
       "      <td>11.00</td>\n",
       "      <td>11.00</td>\n",
       "      <td>11.00</td>\n",
       "      <td>11.00</td>\n",
       "    </tr>\n",
       "    <tr>\n",
       "      <th>mode</th>\n",
       "      <td>1.19</td>\n",
       "      <td>10.70</td>\n",
       "      <td>6.80</td>\n",
       "      <td>9.50</td>\n",
       "      <td>9.80</td>\n",
       "      <td>1.12</td>\n",
       "      <td>9.40</td>\n",
       "      <td>9.40</td>\n",
       "    </tr>\n",
       "    <tr>\n",
       "      <th>std</th>\n",
       "      <td>3.42</td>\n",
       "      <td>3.38</td>\n",
       "      <td>3.13</td>\n",
       "      <td>3.44</td>\n",
       "      <td>3.55</td>\n",
       "      <td>3.45</td>\n",
       "      <td>3.44</td>\n",
       "      <td>3.43</td>\n",
       "    </tr>\n",
       "    <tr>\n",
       "      <th>median</th>\n",
       "      <td>3.82</td>\n",
       "      <td>2.77</td>\n",
       "      <td>3.90</td>\n",
       "      <td>3.49</td>\n",
       "      <td>2.37</td>\n",
       "      <td>2.82</td>\n",
       "      <td>2.72</td>\n",
       "      <td>2.89</td>\n",
       "    </tr>\n",
       "  </tbody>\n",
       "</table>\n",
       "</div>"
      ],
      "text/plain": [
       "        Subgroup 1  Subgroup 2  Subgroup 3  Subgroup 4  Subgroup 5  \\\n",
       "mean          4.77        4.53        4.66        4.77        4.60   \n",
       "max          11.00       11.00       11.00       11.00       11.00   \n",
       "mode          1.19       10.70        6.80        9.50        9.80   \n",
       "std           3.42        3.38        3.13        3.44        3.55   \n",
       "median        3.82        2.77        3.90        3.49        2.37   \n",
       "\n",
       "        Subgroup 6  Subgroup 7  Original Chartevents  \n",
       "mean          4.67        4.58                  4.63  \n",
       "max          11.00       11.00                 11.00  \n",
       "mode          1.12        9.40                  9.40  \n",
       "std           3.45        3.44                  3.43  \n",
       "median        2.82        2.72                  2.89  "
      ]
     },
     "execution_count": 202,
     "metadata": {},
     "output_type": "execute_result"
    }
   ],
   "source": [
    "import pandas as pd\n",
    "\n",
    "wbc_dfs = [subgroup_1_wbc_df, subgroup_2_wbc_df, subgroup_3_wbc_df, subgroup_4_wbc_df, subgroup_5_wbc_df, subgroup_6_wbc_df, subgroup_7_wbc_df]\n",
    "\n",
    "def calculate_stats(df):\n",
    "    return df['WBC_combined'].agg({\n",
    "        'mean': 'mean',\n",
    "        'max': 'max',\n",
    "        'mode': lambda x: x.mode().iloc[0],\n",
    "        'std': 'std',\n",
    "        'median': 'median'\n",
    "    })\n",
    "\n",
    "wbc_stats_list = []\n",
    "\n",
    "for i, df in enumerate(wbc_dfs):\n",
    "    subgroup_stats = calculate_stats(df)\n",
    "    wbc_stats_list.append(subgroup_stats)\n",
    "\n",
    "result_wbc_df = pd.DataFrame(wbc_stats_list, index=[f'Subgroup {i + 1}' for i in range(len(wbc_dfs))])\n",
    "\n",
    "result_wbc_df.loc['Original Chartevents'] = calculate_stats(cohort_wbc)\n",
    "\n",
    "result_wbc_df = result_wbc_df.transpose()\n",
    "\n",
    "result_wbc_df.round(2)\n"
   ]
  },
  {
   "cell_type": "code",
   "execution_count": 203,
   "metadata": {},
   "outputs": [
    {
     "data": {
      "image/png": "[encoded data removed]",
      "text/plain": [
       "<Figure size 576x360 with 1 Axes>"
      ]
     },
     "metadata": {
      "needs_background": "light"
     },
     "output_type": "display_data"
    },
    {
     "data": {
      "image/png": "[encoded data removed]",
      "text/plain": [
       "<Figure size 576x360 with 1 Axes>"
      ]
     },
     "metadata": {
      "needs_background": "light"
     },
     "output_type": "display_data"
    },
    {
     "data": {
      "image/png": "[encoded data removed]",
      "text/plain": [
       "<Figure size 576x360 with 1 Axes>"
      ]
     },
     "metadata": {
      "needs_background": "light"
     },
     "output_type": "display_data"
    },
    {
     "data": {
      "image/png": "[encoded data removed]",
      "text/plain": [
       "<Figure size 576x360 with 1 Axes>"
      ]
     },
     "metadata": {
      "needs_background": "light"
     },
     "output_type": "display_data"
    },
    {
     "data": {
      "image/png": "[encoded data removed]",
      "text/plain": [
       "<Figure size 576x360 with 1 Axes>"
      ]
     },
     "metadata": {
      "needs_background": "light"
     },
     "output_type": "display_data"
    },
    {
     "data": {
      "image/png": "[encoded data removed]",
      "text/plain": [
       "<Figure size 576x360 with 1 Axes>"
      ]
     },
     "metadata": {
      "needs_background": "light"
     },
     "output_type": "display_data"
    },
    {
     "data": {
      "image/png": "[encoded data removed]",
      "text/plain": [
       "<Figure size 576x360 with 1 Axes>"
      ]
     },
     "metadata": {
      "needs_background": "light"
     },
     "output_type": "display_data"
    }
   ],
   "source": [
    "subgroups = [subgroup_1_wbc_df, subgroup_2_wbc_df, subgroup_3_wbc_df,\n",
    "             subgroup_4_wbc_df, subgroup_5_wbc_df, subgroup_6_wbc_df, subgroup_7_wbc_df]\n",
    "\n",
    "for i, subgroup_df in enumerate(subgroups):\n",
    "    filtered_data = subgroup_df['WBC_combined'].dropna().tolist()\n",
    "   \n",
    "    plt.figure(figsize=(8, 5))\n",
    "    plt.hist(filtered_data, bins=20, color='skyblue', edgecolor='black')\n",
    "    plt.title(f'Distribution of WBC - Subgroup {i + 1}')\n",
    "    plt.xlabel('WBC')\n",
    "    plt.ylabel('Frequency')\n",
    "    plt.show()"
   ]
  },
  {
   "cell_type": "code",
   "execution_count": 204,
   "metadata": {},
   "outputs": [],
   "source": [
    "def bootstrap_subgroup_wbc(subgroup_data, cohort_data, num_bootstraps=1000, alpha=0.05):\n",
    "    \"\"\"\n",
    "    Perform bootstrapping for a subgroup's white blood cell count data and conduct hypothesis testing to verify if it is statistically different from the entire cohort.\n",
    "\n",
    "    Parameters:\n",
    "    - subgroup_data (array-like): White blood cell count data for the subgroup.\n",
    "    - cohort_data (array-like): White blood cell count data for the entire cohort.\n",
    "    - num_bootstraps (int): Number of bootstrap samples to generate.\n",
    "    - alpha (float): Significance level for hypothesis testing.\n",
    "\n",
    "    Returns:\n",
    "    - p_value (float): The p-value from the hypothesis test.\n",
    "    \"\"\"\n",
    "\n",
    "    # Calculate observed difference in means\n",
    "    obs_diff = np.mean(subgroup_data) - np.mean(cohort_data)\n",
    "\n",
    "    # Bootstrap resampling\n",
    "    diffs = []\n",
    "    for _ in range(num_bootstraps):\n",
    "        # Resample with replacement\n",
    "        subgroup_sample = np.random.choice(subgroup_data, size=len(subgroup_data), replace=True)\n",
    "        cohort_sample = np.random.choice(cohort_data, size=len(cohort_data), replace=True)\n",
    "        \n",
    "        # Calculate difference in means for each sample\n",
    "        diff = np.mean(subgroup_sample) - np.mean(cohort_sample)\n",
    "        diffs.append(diff)\n",
    "\n",
    "    # Calculate p-value\n",
    "    p_value = (np.sum(np.abs(diffs) >= np.abs(obs_diff)) + 1) / (num_bootstraps + 1)\n",
    "\n",
    "    return p_value\n"
   ]
  },
  {
   "cell_type": "code",
   "execution_count": 209,
   "metadata": {},
   "outputs": [
    {
     "name": "stdout",
     "output_type": "stream",
     "text": [
      "P-value for wbc: 0.000999000999000999\n"
     ]
    }
   ],
   "source": [
    "subgroup1_data_wbc = subgroup_1_wbc_df['WBC_combined']\n",
    "cohort_data_wbc = cohort_wbc['WBC_combined']\n",
    "p_value_wbc = bootstrap_subgroup_wbc(subgroup1_data_wbc, cohort_data_wbc)\n",
    "print(\"P-value for wbc:\", p_value_wbc)"
   ]
  },
  {
   "cell_type": "code",
   "execution_count": 211,
   "metadata": {},
   "outputs": [
    {
     "name": "stdout",
     "output_type": "stream",
     "text": [
      "P-value for wbc: 0.000999000999000999\n"
     ]
    }
   ],
   "source": [
    "subgroup2_data_wbc = subgroup_2_wbc_df['WBC_combined']\n",
    "cohort_data_wbc = cohort_wbc['WBC_combined']\n",
    "p_value_wbc = bootstrap_subgroup_wbc(subgroup2_data_wbc, cohort_data_wbc)\n",
    "print(\"P-value for wbc:\", p_value_wbc)"
   ]
  },
  {
   "cell_type": "code",
   "execution_count": 212,
   "metadata": {},
   "outputs": [
    {
     "name": "stdout",
     "output_type": "stream",
     "text": [
      "P-value for wbc: 0.000999000999000999\n"
     ]
    }
   ],
   "source": [
    "subgroup3_data_wbc = subgroup_3_wbc_df['WBC_combined']\n",
    "cohort_data_wbc = cohort_wbc['WBC_combined']\n",
    "p_value_wbc = bootstrap_subgroup_wbc(subgroup3_data_wbc, cohort_data_wbc)\n",
    "print(\"P-value for wbc:\", p_value_wbc)"
   ]
  },
  {
   "cell_type": "code",
   "execution_count": 213,
   "metadata": {},
   "outputs": [
    {
     "name": "stdout",
     "output_type": "stream",
     "text": [
      "P-value for wbc: 0.000999000999000999\n"
     ]
    }
   ],
   "source": [
    "subgroup4_data_wbc = subgroup_4_wbc_df['WBC_combined']\n",
    "cohort_data_wbc = cohort_wbc['WBC_combined']\n",
    "p_value_wbc = bootstrap_subgroup_wbc(subgroup4_data_wbc, cohort_data_wbc)\n",
    "print(\"P-value for wbc:\", p_value_wbc)"
   ]
  },
  {
   "cell_type": "code",
   "execution_count": 215,
   "metadata": {},
   "outputs": [
    {
     "name": "stdout",
     "output_type": "stream",
     "text": [
      "P-value for wbc: 0.000999000999000999\n"
     ]
    }
   ],
   "source": [
    "subgroup5_data_wbc = subgroup_5_wbc_df['WBC_combined']\n",
    "cohort_data_wbc = cohort_wbc['WBC_combined']\n",
    "p_value_wbc = bootstrap_subgroup_wbc(subgroup5_data_wbc, cohort_data_wbc)\n",
    "print(\"P-value for wbc:\", p_value_wbc)"
   ]
  },
  {
   "cell_type": "code",
   "execution_count": 216,
   "metadata": {},
   "outputs": [
    {
     "name": "stdout",
     "output_type": "stream",
     "text": [
      "P-value for wbc: 0.000999000999000999\n"
     ]
    }
   ],
   "source": [
    "subgroup6_data_wbc = subgroup_6_wbc_df['WBC_combined']\n",
    "cohort_data_wbc = cohort_wbc['WBC_combined']\n",
    "p_value_wbc = bootstrap_subgroup_wbc(subgroup6_data_wbc, cohort_data_wbc)\n",
    "print(\"P-value for wbc:\", p_value_wbc)"
   ]
  },
  {
   "cell_type": "code",
   "execution_count": 217,
   "metadata": {},
   "outputs": [
    {
     "name": "stdout",
     "output_type": "stream",
     "text": [
      "P-value for wbc: 0.000999000999000999\n"
     ]
    }
   ],
   "source": [
    "subgroup7_data_wbc = subgroup_7_wbc_df['WBC_combined']\n",
    "cohort_data_wbc = cohort_wbc['WBC_combined']\n",
    "p_value_wbc = bootstrap_subgroup_wbc(subgroup7_data_wbc, cohort_data_wbc)\n",
    "print(\"P-value for wbc:\", p_value_wbc)"
   ]
  },
  {
   "cell_type": "code",
   "execution_count": null,
   "metadata": {},
   "outputs": [],
   "source": []
  }
 ],
 "metadata": {
  "interpreter": {
   "hash": "f7a5dfd4167ee2f30e272bbd6d3acb394782ff01539581bf148ac0e5b4403f3e"
  },
  "kernelspec": {
   "display_name": "Python 3.9.12 ('base')",
   "language": "python",
   "name": "python3"
  },
  "language_info": {
   "codemirror_mode": {
    "name": "ipython",
    "version": 3
   },
   "file_extension": ".py",
   "mimetype": "text/x-python",
   "name": "python",
   "nbconvert_exporter": "python",
   "pygments_lexer": "ipython3",
   "version": "3.9.12"
  },
  "orig_nbformat": 4
 },
 "nbformat": 4,
 "nbformat_minor": 2
}
