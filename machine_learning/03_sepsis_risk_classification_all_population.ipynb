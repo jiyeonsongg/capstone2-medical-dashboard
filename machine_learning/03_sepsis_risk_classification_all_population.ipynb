{
 "cells": [
  {
   "cell_type": "markdown",
   "id": "19fdd3a3",
   "metadata": {},
   "source": [
    "## Model for Sepsis Risk Categorization for Entire Population"
   ]
  },
  {
   "cell_type": "markdown",
   "id": "97728cc1",
   "metadata": {},
   "source": [
    "#### Create Useable DataFrame - same as created dataframe for comorbidities groups"
   ]
  },
  {
   "cell_type": "code",
   "execution_count": null,
   "id": "fa8e528c",
   "metadata": {},
   "outputs": [],
   "source": [
    "import pandas as pd\n",
    "import numpy as np\n",
    "from sklearn.metrics import confusion_matrix, ConfusionMatrixDisplay\n",
    "import matplotlib.pyplot as plt\n",
    "from sklearn.ensemble import RandomForestClassifier"
   ]
  },
  {
   "cell_type": "code",
   "execution_count": null,
   "id": "46f7dee7",
   "metadata": {},
   "outputs": [],
   "source": [
    "sofa_score = pd.read_csv('../processed_data/sofa_scores.csv')\n",
    "all_subgroups = pd.read_csv('../processed_data/all_subgroups.csv')\n",
    "#all_subgroups = all_subgroups[['subject_id', 'hadm_id', 'subgroup', 'rounded_age']]\n",
    "temp = pd.read_csv('../processed_data/chartevents_temp.csv')\n",
    "temp = temp[temp['hadm_id'].isin(all_subgroups['hadm_id'].value_counts().index)][['hadm_id', 'Final_Temperature_F', 'charttime']]\n",
    "#temp = temp[temp['charttime'].isin(all_subgroups['charttime'].value_counts().index)][['hadm_id', 'Final_Temperature_F', 'charttime']]\n",
    "bp = pd.read_csv('../processed_data/chartevents_bp.csv')\n",
    "bp = bp[bp['hadm_id'].isin(all_subgroups['hadm_id'].value_counts().index)][['hadm_id', 'Combined_Blood_Pressure', 'charttime']].dropna()\n",
    "def impute(heart_rate, max_rate):\n",
    "    if pd.isna(heart_rate) == True:\n",
    "        return max_rate\n",
    "    else:\n",
    "        return heart_rate\n",
    "heart_rate = pd.read_csv('../processed_data/chartevents_hr.csv')\n",
    "heart_rate['heart_rate'] = heart_rate.apply(lambda x: impute(x[\"Heart Rate\"], x[\"Heart rate Alarm - High\"]), axis=1)\n",
    "heart_rate = heart_rate[['hadm_id', 'charttime', 'heart_rate']]\n",
    "o2_state = pd.read_csv('../processed_data/chartevents_o2sat.csv')\n",
    "o2_state = o2_state[['hadm_id', 'charttime', 'SpO2']]\n",
    "respiritory_rate = pd.read_csv('../processed_data/chartevents_rr.csv')\n",
    "respiritory_rate = respiritory_rate[['hadm_id', 'charttime', 'RespiratoryRate_combined']]\n",
    "white_blood_cell = pd.read_csv('../processed_data/chartevents_wbc.csv')\n",
    "white_blood_cell = white_blood_cell[['hadm_id', 'charttime', 'WBC_combined', 'subject_id']]\n",
    "\n",
    "model_subgroups = all_subgroups[['subject_id', 'hadm_id', 'subgroup', 'rounded_age']]\n",
    "\n",
    "df = model_subgroups.merge(bp, on = 'hadm_id', how = 'outer')\n",
    "\n",
    "df = df.merge(temp, on = ['charttime', 'hadm_id'], how = 'left')\n",
    "\n",
    "df = df.merge(heart_rate, on = ['charttime', 'hadm_id'], how = 'left')\n",
    "\n",
    "\n",
    "df = df.merge(respiritory_rate, on = ['charttime', 'hadm_id'], how = 'left')\n",
    "\n",
    "df = df.merge(o2_state, on = ['charttime', 'hadm_id'], how = 'left')\n",
    "\n",
    "df = df.dropna()\n",
    "\n",
    "\n",
    "df['date'] = pd.to_datetime(df['charttime']).dt.date\n",
    "df['charttime'] = pd.to_datetime(df['charttime'])\n",
    "\n",
    "df.isna().sum()\n",
    "\n",
    "#accounts for readmission \n",
    "df['hadm_number'] = df.groupby('subject_id')['hadm_id'].rank(method='dense').astype(int)\n",
    "\n",
    "df_sorted = df.sort_values(by=['subject_id', 'hadm_id', 'charttime'])\n",
    "\n",
    "# Define a function to assign hours\n",
    "def assign_hours(group):\n",
    "    group['hours_in_hospital'] = (group['charttime'] - group['charttime'].iloc[0]).dt.total_seconds() / 3600\n",
    "    return group\n",
    "\n",
    "# Apply the function to each group of subject_id and hadm_id\n",
    "df_with_hours = df_sorted.groupby(['subject_id', 'hadm_id']).apply(assign_hours)\n",
    "\n",
    "# Convert hours_in_hospital to integers\n",
    "df_with_hours['hours_in_hospital'] = df_with_hours['hours_in_hospital'].astype(int)\n",
    "\n",
    "# Display the DataFrame with the new column\n",
    "df_with_hours = df_with_hours.reset_index(drop = True)\n",
    "\n",
    "import seaborn as sns\n",
    "\n",
    "def groups(x):\n",
    "    if 0<=x<=4:\n",
    "        return 0 \n",
    "    elif 5<=x<=11:\n",
    "        return 1 \n",
    "    else:\n",
    "        return 2\n",
    "\n",
    "sofa_score = sofa_score[['hadm_id', 'sofa']]\n",
    "\n",
    "final_df = df_with_hours.merge(sofa_score, on = 'hadm_id', how = 'inner')\n",
    "\n",
    "final_df['group'] = final_df['sofa'].apply(lambda x: groups(x))"
   ]
  },
  {
   "cell_type": "markdown",
   "id": "81349c41",
   "metadata": {},
   "source": [
    "#### Sample from entire population"
   ]
  },
  {
   "cell_type": "code",
   "execution_count": null,
   "id": "ecc293dd",
   "metadata": {},
   "outputs": [],
   "source": [
    "sample = final_df.sample(frac = 0.05)\n",
    "sample"
   ]
  },
  {
   "cell_type": "code",
   "execution_count": null,
   "id": "0841d525",
   "metadata": {},
   "outputs": [],
   "source": [
    "X = sample.iloc[:,:-1][['Final_Temperature_F', 'heart_rate', 'RespiratoryRate_combined', 'SpO2', 'Combined_Blood_Pressure', 'hadm_number', 'hours_in_hospital', 'rounded_age']]\n",
    "y = sample['group']"
   ]
  },
  {
   "cell_type": "code",
   "execution_count": null,
   "id": "3f733935",
   "metadata": {},
   "outputs": [],
   "source": [
    "from sklearn.model_selection import train_test_split\n",
    "X_train, X_test, y_train, y_test = train_test_split(X, y, test_size=0.33, random_state=42)"
   ]
  },
  {
   "cell_type": "markdown",
   "id": "4d79b7c5",
   "metadata": {},
   "source": [
    "#### Create Random Forest Classification for entire population"
   ]
  },
  {
   "cell_type": "code",
   "execution_count": null,
   "id": "245a1e31",
   "metadata": {},
   "outputs": [],
   "source": [
    "from sklearn.ensemble import RandomForestClassifier"
   ]
  },
  {
   "cell_type": "code",
   "execution_count": null,
   "id": "1caac5ea",
   "metadata": {},
   "outputs": [],
   "source": [
    "from sklearn.model_selection import GridSearchCV\n",
    "# Create the parameter grid based on the results of random search \n",
    "param_grid = {'bootstrap': [True],\n",
    " 'max_depth': [90, 100, 500, 1000],\n",
    " 'max_features': ['auto', 'sqrt'],\n",
    " 'min_samples_leaf': [1, 2, 4, 10],\n",
    " 'min_samples_split': [ 1, 5, 10],\n",
    " 'n_estimators': [100, 600, 1000]}\n",
    "# Create a based model\n",
    "rf = RandomForestClassifier()\n",
    "# Instantiate the grid search model\n",
    "grid_search = GridSearchCV(estimator = rf, param_grid = param_grid, \n",
    "                          cv = 3, n_jobs = -1, verbose = 2)\n",
    "grid_search.fit(X_train, y_train)\n",
    "predictions = grid_search.predict(X_test)\n",
    "print(sum(predictions == y_test)/len(y_test))"
   ]
  },
  {
   "cell_type": "code",
   "execution_count": null,
   "id": "20a2b338",
   "metadata": {},
   "outputs": [],
   "source": [
    "grid_search.best_params_"
   ]
  },
  {
   "cell_type": "markdown",
   "id": "3098de9b",
   "metadata": {},
   "source": [
    "#### Look at other models for entire population"
   ]
  },
  {
   "cell_type": "code",
   "execution_count": null,
   "id": "bca728fc",
   "metadata": {},
   "outputs": [],
   "source": [
    "from sklearn import linear_model\n",
    "regr = linear_model.LogisticRegression()\n",
    "regr.fit(X_train, y_train)"
   ]
  },
  {
   "cell_type": "code",
   "execution_count": null,
   "id": "626fbfbd",
   "metadata": {},
   "outputs": [],
   "source": [
    "sum(regr.predict(X_test) == y_test)/len(X_test)"
   ]
  },
  {
   "cell_type": "code",
   "execution_count": 27,
   "id": "f81499f6",
   "metadata": {},
   "outputs": [],
   "source": [
    "rf = RandomForestClassifier(bootstrap = True,\n",
    " max_depth= 90,\n",
    " max_features= 2,\n",
    " min_samples_leaf= 2,\n",
    " min_samples_split= 5,\n",
    " n_estimators= 500)"
   ]
  },
  {
   "cell_type": "code",
   "execution_count": 28,
   "id": "1a9e29bb",
   "metadata": {},
   "outputs": [
    {
     "data": {
      "text/plain": [
       "RandomForestClassifier(max_depth=90, max_features=2, min_samples_leaf=2,\n",
       "                       min_samples_split=5, n_estimators=500)"
      ]
     },
     "execution_count": 28,
     "metadata": {},
     "output_type": "execute_result"
    }
   ],
   "source": [
    "rf.fit(X_train, y_train)"
   ]
  },
  {
   "cell_type": "code",
   "execution_count": 29,
   "id": "b5680604",
   "metadata": {},
   "outputs": [
    {
     "data": {
      "text/plain": [
       "0.6195337944157793"
      ]
     },
     "execution_count": 29,
     "metadata": {},
     "output_type": "execute_result"
    }
   ],
   "source": [
    "sum(rf.predict(X_test) == y_test)/len(y_test)"
   ]
  },
  {
   "cell_type": "code",
   "execution_count": null,
   "id": "731d8ab6",
   "metadata": {},
   "outputs": [],
   "source": []
  }
 ],
 "metadata": {
  "kernelspec": {
   "display_name": "Python 3 (clean)",
   "language": "python",
   "name": "python3_clean"
  },
  "language_info": {
   "codemirror_mode": {
    "name": "ipython",
    "version": 3
   },
   "file_extension": ".py",
   "mimetype": "text/x-python",
   "name": "python",
   "nbconvert_exporter": "python",
   "pygments_lexer": "ipython3",
   "version": "3.9.5"
  }
 },
 "nbformat": 4,
 "nbformat_minor": 5
}
