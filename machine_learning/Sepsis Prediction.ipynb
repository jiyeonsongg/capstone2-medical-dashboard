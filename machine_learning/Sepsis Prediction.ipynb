{
 "cells": [
  {
   "cell_type": "code",
   "execution_count": 23,
   "id": "8c9eee05",
   "metadata": {},
   "outputs": [],
   "source": [
    "import pandas as pd\n",
    "import numpy as np\n",
    "from sklearn.metrics import confusion_matrix, ConfusionMatrixDisplay\n",
    "import matplotlib.pyplot as plt\n",
    "from sklearn.ensemble import RandomForestClassifier"
   ]
  },
  {
   "cell_type": "code",
   "execution_count": 3,
   "id": "1df7392c",
   "metadata": {},
   "outputs": [],
   "source": [
    "sofa_score = pd.read_csv('sofa_scores.csv')"
   ]
  },
  {
   "cell_type": "code",
   "execution_count": 4,
   "id": "dab9c04e",
   "metadata": {},
   "outputs": [],
   "source": [
    "all_subgroups = pd.read_csv('all_subgroups.csv')\n",
    "#all_subgroups = all_subgroups[['subject_id', 'hadm_id', 'subgroup', 'rounded_age']]\n",
    "temp = pd.read_csv('chartevents_temp_cleaned.csv')\n",
    "temp = temp[temp['hadm_id'].isin(all_subgroups['hadm_id'].value_counts().index)][['hadm_id', 'Final_Temperature_F', 'charttime']]\n",
    "#temp = temp[temp['charttime'].isin(all_subgroups['charttime'].value_counts().index)][['hadm_id', 'Final_Temperature_F', 'charttime']]\n",
    "bp = pd.read_csv('chartevents_bp_cleaned.csv')\n",
    "bp = bp[bp['hadm_id'].isin(all_subgroups['hadm_id'].value_counts().index)][['hadm_id', 'Combined_Blood_Pressure', 'charttime']].dropna()\n",
    "def impute(heart_rate, max_rate):\n",
    "    if pd.isna(heart_rate) == True:\n",
    "        return max_rate\n",
    "    else:\n",
    "        return heart_rate\n",
    "heart_rate = pd.read_csv('chartevents_hr_cleaned.csv')\n",
    "heart_rate['heart_rate'] = heart_rate.apply(lambda x: impute(x[\"Heart Rate\"], x[\"Heart rate Alarm - High\"]), axis=1)\n",
    "heart_rate = heart_rate[['hadm_id', 'charttime', 'heart_rate']]\n",
    "o2_state = pd.read_csv('chartevents_o2sat.csv')\n",
    "o2_state = o2_state[['hadm_id', 'charttime', 'SpO2']]\n",
    "respiritory_rate = pd.read_csv('chartevents_rr_cleaned.csv')\n",
    "respiritory_rate = respiritory_rate[['hadm_id', 'charttime', 'RespiratoryRate_combined']]\n",
    "white_blood_cell = pd.read_csv('chartevents_wbc_cleaned.csv')\n",
    "white_blood_cell = white_blood_cell[['hadm_id', 'charttime', 'WBC_combined']]"
   ]
  },
  {
   "cell_type": "code",
   "execution_count": 5,
   "id": "d512193f",
   "metadata": {},
   "outputs": [],
   "source": [
    "model_subgroups = all_subgroups[['subject_id', 'hadm_id', 'subgroup', 'rounded_age']]"
   ]
  },
  {
   "cell_type": "code",
   "execution_count": 6,
   "id": "bc1a79d8",
   "metadata": {},
   "outputs": [],
   "source": [
    "df = model_subgroups.merge(bp, on = 'hadm_id', how = 'outer')"
   ]
  },
  {
   "cell_type": "code",
   "execution_count": 7,
   "id": "f279d668",
   "metadata": {},
   "outputs": [],
   "source": [
    "df = df.merge(temp, on = ['charttime', 'hadm_id'], how = 'left')"
   ]
  },
  {
   "cell_type": "code",
   "execution_count": 8,
   "id": "3ee15992",
   "metadata": {},
   "outputs": [],
   "source": [
    "df = df.merge(heart_rate, on = ['charttime', 'hadm_id'], how = 'left')\n"
   ]
  },
  {
   "cell_type": "code",
   "execution_count": 9,
   "id": "dbdc2bb3",
   "metadata": {},
   "outputs": [],
   "source": [
    "df = df.merge(respiritory_rate, on = ['charttime', 'hadm_id'], how = 'left')"
   ]
  },
  {
   "cell_type": "code",
   "execution_count": 10,
   "id": "460734a1",
   "metadata": {},
   "outputs": [],
   "source": [
    "df = df.merge(o2_state, on = ['charttime', 'hadm_id'], how = 'left')"
   ]
  },
  {
   "cell_type": "code",
   "execution_count": 11,
   "id": "cecafde7",
   "metadata": {
    "scrolled": true
   },
   "outputs": [],
   "source": [
    "df = df.dropna()"
   ]
  },
  {
   "cell_type": "code",
   "execution_count": 12,
   "id": "93fc8709",
   "metadata": {},
   "outputs": [],
   "source": [
    "\n",
    "df['date'] = pd.to_datetime(df['charttime']).dt.date\n",
    "df['charttime'] = pd.to_datetime(df['charttime'])"
   ]
  },
  {
   "cell_type": "code",
   "execution_count": 13,
   "id": "5c5f7de8",
   "metadata": {},
   "outputs": [
    {
     "data": {
      "text/plain": [
       "subject_id                  0\n",
       "hadm_id                     0\n",
       "subgroup                    0\n",
       "rounded_age                 0\n",
       "Combined_Blood_Pressure     0\n",
       "charttime                   0\n",
       "Final_Temperature_F         0\n",
       "heart_rate                  0\n",
       "RespiratoryRate_combined    0\n",
       "SpO2                        0\n",
       "date                        0\n",
       "dtype: int64"
      ]
     },
     "execution_count": 13,
     "metadata": {},
     "output_type": "execute_result"
    }
   ],
   "source": [
    "df.isna().sum()"
   ]
  },
  {
   "cell_type": "code",
   "execution_count": 14,
   "id": "48ec4640",
   "metadata": {},
   "outputs": [],
   "source": [
    "#accounts for readmission \n",
    "df['hadm_number'] = df.groupby('subject_id')['hadm_id'].rank(method='dense').astype(int)"
   ]
  },
  {
   "cell_type": "code",
   "execution_count": 15,
   "id": "0fa67411",
   "metadata": {},
   "outputs": [],
   "source": [
    "df_sorted = df.sort_values(by=['subject_id', 'hadm_id', 'charttime'])\n",
    "\n",
    "# Define a function to assign hours\n",
    "def assign_hours(group):\n",
    "    group['hours_in_hospital'] = (group['charttime'] - group['charttime'].iloc[0]).dt.total_seconds() / 3600\n",
    "    return group\n",
    "\n",
    "# Apply the function to each group of subject_id and hadm_id\n",
    "df_with_hours = df_sorted.groupby(['subject_id', 'hadm_id']).apply(assign_hours)\n",
    "\n",
    "# Convert hours_in_hospital to integers\n",
    "df_with_hours['hours_in_hospital'] = df_with_hours['hours_in_hospital'].astype(int)\n",
    "\n",
    "# Display the DataFrame with the new column\n",
    "df_with_hours = df_with_hours.reset_index(drop = True)"
   ]
  },
  {
   "cell_type": "code",
   "execution_count": 16,
   "id": "10a64924",
   "metadata": {},
   "outputs": [],
   "source": [
    "import seaborn as sns"
   ]
  },
  {
   "cell_type": "code",
   "execution_count": 17,
   "id": "1386d78f",
   "metadata": {},
   "outputs": [],
   "source": [
    "def groups(x):\n",
    "    if 0<=x<=3:\n",
    "        return 0 \n",
    "    elif 4<=x<=6:\n",
    "        return 1 \n",
    "    else:\n",
    "        return 2"
   ]
  },
  {
   "cell_type": "code",
   "execution_count": 18,
   "id": "7b026aa1",
   "metadata": {},
   "outputs": [],
   "source": [
    "sofa_score = sofa_score[['hadm_id', 'sofa']]\n",
    "\n",
    "final_df = df_with_hours.merge(sofa_score, on = 'hadm_id', how = 'inner')"
   ]
  },
  {
   "cell_type": "code",
   "execution_count": 19,
   "id": "bac82891",
   "metadata": {},
   "outputs": [],
   "source": [
    "final_df['group'] = final_df['sofa'].apply(lambda x: groups(x))"
   ]
  },
  {
   "cell_type": "code",
   "execution_count": 20,
   "id": "9d01a007",
   "metadata": {},
   "outputs": [],
   "source": [
    "subgroup_1 = final_df[final_df['subgroup'] == 1]\n",
    "subgroup_2 = final_df[final_df['subgroup'] == 2]\n",
    "subgroup_3 = final_df[final_df['subgroup'] == 3]\n",
    "subgroup_4 = final_df[final_df['subgroup'] == 4]\n",
    "subgroup_5 = final_df[final_df['subgroup'] == 5]\n",
    "subgroup_6 = final_df[final_df['subgroup'] == 6]\n",
    "subgroup_7 = final_df[final_df['subgroup'] == 7]"
   ]
  },
  {
   "cell_type": "code",
   "execution_count": 21,
   "id": "e748a42a",
   "metadata": {},
   "outputs": [],
   "source": [
    "subgroup_7_sample =subgroup_7.sample(frac = 0.9)"
   ]
  },
  {
   "cell_type": "code",
   "execution_count": 21,
   "id": "0841d525",
   "metadata": {},
   "outputs": [],
   "source": [
    "# X = subgroup_7_sample.iloc[:,:-1][['Final_Temperature_F', 'heart_rate', 'RespiratoryRate_combined', 'SpO2', 'Combined_Blood_Pressure', 'hadm_number', 'hours_in_hospital', 'rounded_age']]\n",
    "# y = subgroup_7_sample['group']"
   ]
  },
  {
   "cell_type": "code",
   "execution_count": 22,
   "id": "3f733935",
   "metadata": {},
   "outputs": [],
   "source": [
    "# from sklearn.model_selection import train_test_split\n",
    "# X_train, X_test, y_train, y_test = train_test_split(X, y, test_size=0.2, random_state=42)"
   ]
  },
  {
   "cell_type": "code",
   "execution_count": 23,
   "id": "245a1e31",
   "metadata": {},
   "outputs": [],
   "source": [
    "from sklearn.ensemble import RandomForestClassifier"
   ]
  },
  {
   "cell_type": "code",
   "execution_count": 24,
   "id": "1caac5ea",
   "metadata": {},
   "outputs": [],
   "source": [
    "# from sklearn.model_selection import GridSearchCV\n",
    "# # Create the parameter grid based on the results of random search \n",
    "# param_grid = {'bootstrap': [True],\n",
    "#  'max_depth': [90, 100, 500, 1000],\n",
    "#  'max_features': ['auto', 'sqrt'],\n",
    "#  'min_samples_leaf': [1, 2, 4, 10],\n",
    "#  'min_samples_split': [ 1, 5, 10],\n",
    "#  'n_estimators': [100, 600, 1000]}\n",
    "# # Create a based model\n",
    "# rf = RandomForestClassifier()\n",
    "# # Instantiate the grid search model\n",
    "# grid_search = GridSearchCV(estimator = rf, param_grid = param_grid, \n",
    "#                           cv = 3, n_jobs = -1, verbose = 2)\n",
    "# grid_search.fit(X_train, y_train)"
   ]
  },
  {
   "cell_type": "code",
   "execution_count": 25,
   "id": "c9d5c78b",
   "metadata": {},
   "outputs": [],
   "source": [
    "# sum(grid_search.predict(X_test) == y_test)/len(y_test)"
   ]
  },
  {
   "cell_type": "code",
   "execution_count": 26,
   "id": "4ff5b979",
   "metadata": {},
   "outputs": [],
   "source": [
    "# grid_search.best_params_"
   ]
  },
  {
   "cell_type": "code",
   "execution_count": 27,
   "id": "dbff3bd8",
   "metadata": {},
   "outputs": [
    {
     "name": "stdout",
     "output_type": "stream",
     "text": [
      "0.671412235563179\n"
     ]
    }
   ],
   "source": [
    "#subgroup 1 \n",
    "X = subgroup_1.iloc[:,:-1][['Final_Temperature_F', 'heart_rate', 'RespiratoryRate_combined', 'SpO2', 'Combined_Blood_Pressure', 'hadm_number', 'hours_in_hospital', 'rounded_age']]\n",
    "y = subgroup_1['group']\n",
    "from sklearn.model_selection import train_test_split\n",
    "X_train, X_test, y_train, y_test = train_test_split(X, y, test_size=0.2, random_state=42)\n",
    "rf_sub_1 = RandomForestClassifier(bootstrap = True,\n",
    " max_depth = 1000,\n",
    " max_features =  'sqrt',\n",
    " min_samples_leaf =  1,\n",
    " min_samples_split = 5,\n",
    " n_estimators =  1000)\n",
    "rf_sub_1.fit(X_train, y_train)\n",
    "predictions_1 = rf_sub_1.predict(X_test)\n",
    "y_test_1 = y_test\n",
    "print(sum(rf_sub_1.predict(X_test) == y_test)/len(y_test))"
   ]
  },
  {
   "cell_type": "code",
   "execution_count": 33,
   "id": "08716bc8",
   "metadata": {},
   "outputs": [
    {
     "data": {
      "image/png": "[encoded data removed]",
      "text/plain": [
       "<Figure size 432x288 with 2 Axes>"
      ]
     },
     "metadata": {
      "needs_background": "light"
     },
     "output_type": "display_data"
    }
   ],
   "source": [
    "cm = confusion_matrix(y_test_1, predictions_1, labels=rf_sub_1.classes_)\n",
    "disp = ConfusionMatrixDisplay(confusion_matrix=cm,\n",
    "                              display_labels=rf_sub_1.classes_)\n",
    "disp.plot()\n",
    "\n",
    "plt.show()"
   ]
  },
  {
   "cell_type": "code",
   "execution_count": null,
   "id": "20a2b338",
   "metadata": {
    "scrolled": true
   },
   "outputs": [],
   "source": [
    "subgroup_1_predictions = rf_sub_1.predict(subgroup_1.iloc[:,:-1][['Final_Temperature_F', 'heart_rate', 'RespiratoryRate_combined', 'SpO2', 'Combined_Blood_Pressure', 'hadm_number', 'hours_in_hospital', 'rounded_age']])"
   ]
  },
  {
   "cell_type": "code",
   "execution_count": null,
   "id": "d44e6398",
   "metadata": {
    "scrolled": false
   },
   "outputs": [],
   "source": [
    "subgroup_1['predictions'] = subgroup_1_predictions"
   ]
  },
  {
   "cell_type": "code",
   "execution_count": null,
   "id": "65601e12",
   "metadata": {},
   "outputs": [],
   "source": [
    "print(sum(rf_sub_1.predict(X_test) == y_test)/len(y_test))"
   ]
  },
  {
   "cell_type": "code",
   "execution_count": null,
   "id": "07c3081a",
   "metadata": {},
   "outputs": [],
   "source": [
    "# subgroup_1.merge(all_subgroups[all_subgroups['subgroup'] == 1], on = ['hadm_id' , 'subject_id', 'rounded_age'], how = 'left').drop_duplicates()[['subject_id', 'hadm_id', 'subgroup_x', 'rounded_age',\n",
    "#        'Combined_Blood_Pressure', 'charttime', 'Final_Temperature_F',\n",
    "#        'heart_rate', 'RespiratoryRate_combined', 'SpO2', 'date', 'hadm_number',\n",
    "#        'hours_in_hospital', 'sofa', 'group', 'predictions','congestive_heart_failure',\n",
    "#        'cardiac_arrhythmias', 'valvular_disease', 'pulmonary_circulation',\n",
    "#        'peripheral_vascular', 'hypertension', 'paralysis',\n",
    "#        'other_neurological', 'chronic_pulmonary', 'diabetes_uncomplicated',\n",
    "#        'diabetes_complicated', 'hypothyroidism', 'renal_failure',\n",
    "#        'liver_disease', 'peptic_ulcer', 'aids', 'lymphoma',\n",
    "#        'metastatic_cancer', 'solid_tumor', 'rheumatoid_arthritis',\n",
    "#        'coagulopathy', 'obesity', 'weight_loss', 'fluid_electrolyte',\n",
    "#        'blood_loss_anemia', 'deficiency_anemias', 'alcohol_abuse',\n",
    "#        'drug_abuse', 'psychoses', 'depression']].to_csv('subgroup_1_predictions.csv')"
   ]
  },
  {
   "cell_type": "code",
   "execution_count": null,
   "id": "e41f02a7",
   "metadata": {
    "scrolled": true
   },
   "outputs": [],
   "source": [
    "grid_search.best_params_"
   ]
  },
  {
   "cell_type": "code",
   "execution_count": 34,
   "id": "27314b2a",
   "metadata": {},
   "outputs": [],
   "source": [
    "subgroup_2_sample = subgroup_2.sample(frac = 0.3)"
   ]
  },
  {
   "cell_type": "code",
   "execution_count": 35,
   "id": "033b5a4e",
   "metadata": {},
   "outputs": [
    {
     "name": "stdout",
     "output_type": "stream",
     "text": [
      "0.5878850634222107\n"
     ]
    }
   ],
   "source": [
    "#subgroup 2\n",
    "X = subgroup_2_sample.iloc[:,:-1][['Final_Temperature_F', 'heart_rate', 'RespiratoryRate_combined', 'SpO2', 'Combined_Blood_Pressure', 'hadm_number', 'hours_in_hospital', 'rounded_age']]\n",
    "y = subgroup_2_sample['group']\n",
    "from sklearn.model_selection import train_test_split\n",
    "X_train, X_test, y_train, y_test = train_test_split(X, y, test_size=0.2, random_state=42)\n",
    "rf_sub_2 = RandomForestClassifier(bootstrap = True,\n",
    " max_depth = 90,\n",
    " max_features =  'auto',\n",
    " min_samples_leaf =  1,\n",
    " min_samples_split = 5,\n",
    " n_estimators =  600)\n",
    "rf_sub_2.fit(X_train, y_train)\n",
    "predictions_2 = rf_sub_2.predict(X_test)\n",
    "y_test_2 = y_test\n",
    "print(sum(rf_sub_2.predict(X_test) == y_test)/len(y_test))"
   ]
  },
  {
   "cell_type": "code",
   "execution_count": 36,
   "id": "28f292ba",
   "metadata": {},
   "outputs": [
    {
     "data": {
      "image/png": "[encoded data removed]",
      "text/plain": [
       "<Figure size 432x288 with 2 Axes>"
      ]
     },
     "metadata": {
      "needs_background": "light"
     },
     "output_type": "display_data"
    }
   ],
   "source": [
    "cm = confusion_matrix(y_test_2, predictions_2, labels=rf_sub_2.classes_)\n",
    "disp = ConfusionMatrixDisplay(confusion_matrix=cm,\n",
    "                              display_labels=rf_sub_2.classes_)\n",
    "disp.plot()\n",
    "\n",
    "plt.show()"
   ]
  },
  {
   "cell_type": "code",
   "execution_count": null,
   "id": "b7b20394",
   "metadata": {},
   "outputs": [],
   "source": [
    "subgroup_2_predictions = rf_sub_2.predict(subgroup_2.iloc[:,:-1][['Final_Temperature_F', 'heart_rate', 'RespiratoryRate_combined', 'SpO2', 'Combined_Blood_Pressure', 'hadm_number', 'hours_in_hospital', 'rounded_age']])"
   ]
  },
  {
   "cell_type": "code",
   "execution_count": null,
   "id": "e09ff384",
   "metadata": {},
   "outputs": [],
   "source": [
    "subgroup_2['predictions'] = subgroup_2_predictions"
   ]
  },
  {
   "cell_type": "code",
   "execution_count": null,
   "id": "61313b08",
   "metadata": {},
   "outputs": [],
   "source": [
    "print(sum(rf_sub_2.predict(X_test) == y_test)/len(y_test))"
   ]
  },
  {
   "cell_type": "code",
   "execution_count": null,
   "id": "f32e9a78",
   "metadata": {},
   "outputs": [],
   "source": [
    "subgroup_2_return_df = subgroup_2.merge(all_subgroups[all_subgroups['subgroup'] == 2], on = ['hadm_id' , 'subject_id', 'rounded_age'], how = 'left').drop_duplicates()"
   ]
  },
  {
   "cell_type": "code",
   "execution_count": null,
   "id": "924098fe",
   "metadata": {},
   "outputs": [],
   "source": [
    "# subgroup_2_return_df[['subject_id', 'hadm_id', 'subgroup_x', 'rounded_age',\n",
    "#        'Combined_Blood_Pressure', 'charttime', 'Final_Temperature_F',\n",
    "#        'heart_rate', 'RespiratoryRate_combined', 'SpO2', 'date', 'hadm_number',\n",
    "#        'hours_in_hospital', 'sofa', 'group', 'predictions','congestive_heart_failure',\n",
    "#        'cardiac_arrhythmias', 'valvular_disease', 'pulmonary_circulation',\n",
    "#        'peripheral_vascular', 'hypertension', 'paralysis',\n",
    "#        'other_neurological', 'chronic_pulmonary', 'diabetes_uncomplicated',\n",
    "#        'diabetes_complicated', 'hypothyroidism', 'renal_failure',\n",
    "#        'liver_disease', 'peptic_ulcer', 'aids', 'lymphoma',\n",
    "#        'metastatic_cancer', 'solid_tumor', 'rheumatoid_arthritis',\n",
    "#        'coagulopathy', 'obesity', 'weight_loss', 'fluid_electrolyte',\n",
    "#        'blood_loss_anemia', 'deficiency_anemias', 'alcohol_abuse',\n",
    "#        'drug_abuse', 'psychoses', 'depression']].to_csv('subgroup_2_predictions.csv')"
   ]
  },
  {
   "cell_type": "code",
   "execution_count": 37,
   "id": "c49f30e8",
   "metadata": {},
   "outputs": [],
   "source": [
    "subgroup_3_sample = subgroup_3.sample(frac = 0.5)"
   ]
  },
  {
   "cell_type": "code",
   "execution_count": 38,
   "id": "a4adfd66",
   "metadata": {},
   "outputs": [
    {
     "name": "stdout",
     "output_type": "stream",
     "text": [
      "0.686750944015761\n"
     ]
    }
   ],
   "source": [
    "#subgroup 3\n",
    "X = subgroup_3_sample.iloc[:,:-1][['Final_Temperature_F', 'heart_rate', 'RespiratoryRate_combined', 'SpO2', 'Combined_Blood_Pressure', 'hadm_number', 'hours_in_hospital', 'rounded_age']]\n",
    "y = subgroup_3_sample['group']\n",
    "from sklearn.model_selection import train_test_split\n",
    "X_train, X_test, y_train, y_test = train_test_split(X, y, test_size=0.2, random_state=42)\n",
    "rf_sub_3 = RandomForestClassifier(bootstrap = True,\n",
    " max_depth = 100,\n",
    " max_features =  'auto',\n",
    " min_samples_leaf =  1,\n",
    " min_samples_split = 5,\n",
    " n_estimators =  600)\n",
    "rf_sub_3.fit(X_train, y_train)\n",
    "predictions_3 = rf_sub_3.predict(X_test)\n",
    "y_test_3 = y_test\n",
    "print(sum(rf_sub_3.predict(X_test) == y_test)/len(y_test))"
   ]
  },
  {
   "cell_type": "code",
   "execution_count": 39,
   "id": "73a0f780",
   "metadata": {},
   "outputs": [
    {
     "data": {
      "image/png": "[encoded data removed]",
      "text/plain": [
       "<Figure size 432x288 with 2 Axes>"
      ]
     },
     "metadata": {
      "needs_background": "light"
     },
     "output_type": "display_data"
    }
   ],
   "source": [
    "cm = confusion_matrix(y_test_3, predictions_3, labels=rf_sub_3.classes_)\n",
    "disp = ConfusionMatrixDisplay(confusion_matrix=cm,\n",
    "                              display_labels=rf_sub_3.classes_)\n",
    "disp.plot()\n",
    "\n",
    "plt.show()"
   ]
  },
  {
   "cell_type": "code",
   "execution_count": null,
   "id": "9aeff690",
   "metadata": {},
   "outputs": [],
   "source": [
    "subgroup_3_predictions = rf_sub_3.predict(subgroup_3.iloc[:,:-1][['Final_Temperature_F', 'heart_rate', 'RespiratoryRate_combined', 'SpO2', 'Combined_Blood_Pressure', 'hadm_number', 'hours_in_hospital', 'rounded_age']])"
   ]
  },
  {
   "cell_type": "code",
   "execution_count": null,
   "id": "c4c27387",
   "metadata": {},
   "outputs": [],
   "source": [
    "subgroup_3['predictions'] = subgroup_3_predictions"
   ]
  },
  {
   "cell_type": "code",
   "execution_count": null,
   "id": "67c3ed43",
   "metadata": {},
   "outputs": [],
   "source": [
    "print(sum(rf_sub_3.predict(X_test) == y_test)/len(y_test))"
   ]
  },
  {
   "cell_type": "code",
   "execution_count": null,
   "id": "2003a1c1",
   "metadata": {},
   "outputs": [],
   "source": [
    "subgroup_3_return_df = subgroup_3.merge(all_subgroups[all_subgroups['subgroup'] == 3], on = ['hadm_id' , 'subject_id', 'rounded_age'], how = 'left').drop_duplicates()"
   ]
  },
  {
   "cell_type": "code",
   "execution_count": null,
   "id": "6ae0a049",
   "metadata": {},
   "outputs": [],
   "source": [
    "# subgroup_3_return_df[['subject_id', 'hadm_id', 'subgroup_x', 'rounded_age',\n",
    "#        'Combined_Blood_Pressure', 'charttime', 'Final_Temperature_F',\n",
    "#        'heart_rate', 'RespiratoryRate_combined', 'SpO2', 'date', 'hadm_number',\n",
    "#        'hours_in_hospital', 'sofa', 'group', 'predictions','congestive_heart_failure',\n",
    "#        'cardiac_arrhythmias', 'valvular_disease', 'pulmonary_circulation',\n",
    "#        'peripheral_vascular', 'hypertension', 'paralysis',\n",
    "#        'other_neurological', 'chronic_pulmonary', 'diabetes_uncomplicated',\n",
    "#        'diabetes_complicated', 'hypothyroidism', 'renal_failure',\n",
    "#        'liver_disease', 'peptic_ulcer', 'aids', 'lymphoma',\n",
    "#        'metastatic_cancer', 'solid_tumor', 'rheumatoid_arthritis',\n",
    "#        'coagulopathy', 'obesity', 'weight_loss', 'fluid_electrolyte',\n",
    "#        'blood_loss_anemia', 'deficiency_anemias', 'alcohol_abuse',\n",
    "#        'drug_abuse', 'psychoses', 'depression']].to_csv('subgroup_3_predictions.csv')"
   ]
  },
  {
   "cell_type": "code",
   "execution_count": 40,
   "id": "904e9b49",
   "metadata": {},
   "outputs": [],
   "source": [
    "subgroup_4_sample = subgroup_4.sample(frac = 0.2)"
   ]
  },
  {
   "cell_type": "code",
   "execution_count": null,
   "id": "9753b2dd",
   "metadata": {},
   "outputs": [],
   "source": [
    "subgroup_4_sample"
   ]
  },
  {
   "cell_type": "code",
   "execution_count": 41,
   "id": "19119fab",
   "metadata": {},
   "outputs": [
    {
     "name": "stdout",
     "output_type": "stream",
     "text": [
      "0.6067381316998468\n"
     ]
    }
   ],
   "source": [
    "#subgroup 4\n",
    "X = subgroup_4_sample.iloc[:,:-1][['Final_Temperature_F', 'heart_rate', 'RespiratoryRate_combined', 'SpO2', 'Combined_Blood_Pressure', 'hadm_number', 'hours_in_hospital', 'rounded_age']]\n",
    "y = subgroup_4_sample['group']\n",
    "from sklearn.model_selection import train_test_split\n",
    "X_train, X_test, y_train, y_test = train_test_split(X, y, test_size=0.2, random_state=42)\n",
    "rf_sub_4 = RandomForestClassifier(bootstrap = True,\n",
    " max_depth = 90,\n",
    " max_features =  'auto',\n",
    " min_samples_leaf =  1,\n",
    " min_samples_split = 5,\n",
    " n_estimators =  1000)\n",
    "rf_sub_4.fit(X_train, y_train)\n",
    "predictions_4 = rf_sub_4.predict(X_test)\n",
    "y_test_4 = y_test\n",
    "print(sum(rf_sub_4.predict(X_test) == y_test)/len(y_test))"
   ]
  },
  {
   "cell_type": "code",
   "execution_count": 42,
   "id": "b8548583",
   "metadata": {},
   "outputs": [
    {
     "data": {
      "image/png": "[encoded data removed]",
      "text/plain": [
       "<Figure size 432x288 with 2 Axes>"
      ]
     },
     "metadata": {
      "needs_background": "light"
     },
     "output_type": "display_data"
    }
   ],
   "source": [
    "cm = confusion_matrix(y_test_4, predictions_4, labels=rf_sub_4.classes_)\n",
    "disp = ConfusionMatrixDisplay(confusion_matrix=cm,\n",
    "                              display_labels=rf_sub_4.classes_)\n",
    "disp.plot()\n",
    "\n",
    "plt.show()"
   ]
  },
  {
   "cell_type": "code",
   "execution_count": null,
   "id": "9b2072fc",
   "metadata": {},
   "outputs": [],
   "source": [
    "subgroup_4_predictions = rf_sub_4.predict(subgroup_4.iloc[:,:-1][['Final_Temperature_F', 'heart_rate', 'RespiratoryRate_combined', 'SpO2', 'Combined_Blood_Pressure', 'hadm_number', 'hours_in_hospital', 'rounded_age']])"
   ]
  },
  {
   "cell_type": "code",
   "execution_count": null,
   "id": "3595a765",
   "metadata": {},
   "outputs": [],
   "source": [
    "subgroup_4['predictions'] = subgroup_4_predictions"
   ]
  },
  {
   "cell_type": "code",
   "execution_count": null,
   "id": "8e89e7a0",
   "metadata": {},
   "outputs": [],
   "source": [
    "print(sum(rf_sub_4.predict(X_test) == y_test)/len(y_test))"
   ]
  },
  {
   "cell_type": "code",
   "execution_count": null,
   "id": "e08003a3",
   "metadata": {},
   "outputs": [],
   "source": [
    "subgroup_4_return_df = subgroup_4.merge(all_subgroups[all_subgroups['subgroup'] == 4], on = ['hadm_id' , 'subject_id', 'rounded_age'], how = 'left').drop_duplicates()"
   ]
  },
  {
   "cell_type": "code",
   "execution_count": null,
   "id": "01b79916",
   "metadata": {},
   "outputs": [],
   "source": [
    "subgroup_4"
   ]
  },
  {
   "cell_type": "code",
   "execution_count": null,
   "id": "89e18e3c",
   "metadata": {},
   "outputs": [],
   "source": [
    "# subgroup_4_return_df[['subject_id', 'hadm_id', 'subgroup_x', 'rounded_age',\n",
    "#        'Combined_Blood_Pressure', 'charttime', 'Final_Temperature_F',\n",
    "#        'heart_rate', 'RespiratoryRate_combined', 'SpO2', 'date', 'hadm_number',\n",
    "#        'hours_in_hospital', 'sofa', 'group', 'predictions','congestive_heart_failure',\n",
    "#        'cardiac_arrhythmias', 'valvular_disease', 'pulmonary_circulation',\n",
    "#        'peripheral_vascular', 'hypertension', 'paralysis',\n",
    "#        'other_neurological', 'chronic_pulmonary', 'diabetes_uncomplicated',\n",
    "#        'diabetes_complicated', 'hypothyroidism', 'renal_failure',\n",
    "#        'liver_disease', 'peptic_ulcer', 'aids', 'lymphoma',\n",
    "#        'metastatic_cancer', 'solid_tumor', 'rheumatoid_arthritis',\n",
    "#        'coagulopathy', 'obesity', 'weight_loss', 'fluid_electrolyte',\n",
    "#        'blood_loss_anemia', 'deficiency_anemias', 'alcohol_abuse',\n",
    "#        'drug_abuse', 'psychoses', 'depression']].to_csv('subgroup_4_predictions.csv')"
   ]
  },
  {
   "cell_type": "code",
   "execution_count": 49,
   "id": "df693879",
   "metadata": {},
   "outputs": [],
   "source": [
    "subgroup_5_sample = subgroup_5.sample(frac = 0.4)\n"
   ]
  },
  {
   "cell_type": "code",
   "execution_count": 50,
   "id": "96a123e0",
   "metadata": {},
   "outputs": [
    {
     "name": "stdout",
     "output_type": "stream",
     "text": [
      "0.6817413355874894\n"
     ]
    }
   ],
   "source": [
    "#subgroup 5\n",
    "X = subgroup_5_sample.iloc[:,:-1][['Final_Temperature_F', 'heart_rate', 'RespiratoryRate_combined', 'SpO2', 'Combined_Blood_Pressure', 'hadm_number', 'hours_in_hospital', 'rounded_age']]\n",
    "y = subgroup_5_sample['group']\n",
    "from sklearn.model_selection import train_test_split\n",
    "X_train, X_test, y_train, y_test = train_test_split(X, y, test_size=0.2, random_state=42)\n",
    "rf_sub_5 = RandomForestClassifier(bootstrap = True,\n",
    " max_depth = 1000,\n",
    " max_features =  'sqrt',\n",
    " min_samples_leaf =  1,\n",
    " min_samples_split = 5,\n",
    " n_estimators =  1000)\n",
    "rf_sub_5.fit(X_train, y_train)\n",
    "predictions_5 = rf_sub_5.predict(X_test)\n",
    "y_test_5 = y_test\n",
    "print(sum(rf_sub_5.predict(X_test) == y_test)/len(y_test))\n",
    "\n",
    "\n",
    "\n"
   ]
  },
  {
   "cell_type": "code",
   "execution_count": null,
   "id": "52249736",
   "metadata": {},
   "outputs": [],
   "source": [
    "subgroup_5_predictions = rf_sub_5.predict(subgroup_5.iloc[:,:-1][['Final_Temperature_F', 'heart_rate', 'RespiratoryRate_combined', 'SpO2', 'Combined_Blood_Pressure', 'hadm_number', 'hours_in_hospital', 'rounded_age']])\n",
    "\n",
    "subgroup_5['predictions'] = subgroup_5_predictions\n",
    "\n",
    "subgroup_5_return_df = subgroup_5.merge(all_subgroups[all_subgroups['subgroup'] == 5], on = ['hadm_id' , 'subject_id', 'rounded_age'], how = 'left').drop_duplicates()\n",
    "\n",
    "subgroup_5_return_df"
   ]
  },
  {
   "cell_type": "code",
   "execution_count": 51,
   "id": "02f08137",
   "metadata": {},
   "outputs": [
    {
     "data": {
      "image/png": "[encoded data removed]",
      "text/plain": [
       "<Figure size 432x288 with 2 Axes>"
      ]
     },
     "metadata": {
      "needs_background": "light"
     },
     "output_type": "display_data"
    }
   ],
   "source": [
    "cm = confusion_matrix(y_test_5, predictions_5, labels=rf_sub_5.classes_)\n",
    "disp = ConfusionMatrixDisplay(confusion_matrix=cm,\n",
    "                              display_labels=rf_sub_5.classes_)\n",
    "disp.plot()\n",
    "\n",
    "plt.show()"
   ]
  },
  {
   "cell_type": "code",
   "execution_count": null,
   "id": "c694714e",
   "metadata": {},
   "outputs": [],
   "source": [
    "# subgroup_5_return_df[['subject_id', 'hadm_id', 'subgroup_x', 'rounded_age',\n",
    "#        'Combined_Blood_Pressure', 'charttime', 'Final_Temperature_F',\n",
    "#        'heart_rate', 'RespiratoryRate_combined', 'SpO2', 'date', 'hadm_number',\n",
    "#        'hours_in_hospital', 'sofa', 'group', 'predictions','congestive_heart_failure',\n",
    "#        'cardiac_arrhythmias', 'valvular_disease', 'pulmonary_circulation',\n",
    "#        'peripheral_vascular', 'hypertension', 'paralysis',\n",
    "#        'other_neurological', 'chronic_pulmonary', 'diabetes_uncomplicated',\n",
    "#        'diabetes_complicated', 'hypothyroidism', 'renal_failure',\n",
    "#        'liver_disease', 'peptic_ulcer', 'aids', 'lymphoma',\n",
    "#        'metastatic_cancer', 'solid_tumor', 'rheumatoid_arthritis',\n",
    "#        'coagulopathy', 'obesity', 'weight_loss', 'fluid_electrolyte',\n",
    "#        'blood_loss_anemia', 'deficiency_anemias', 'alcohol_abuse',\n",
    "#        'drug_abuse', 'psychoses', 'depression']].to_csv('subgroup_5_predictions.csv')"
   ]
  },
  {
   "cell_type": "code",
   "execution_count": 52,
   "id": "6b74f5ab",
   "metadata": {},
   "outputs": [],
   "source": [
    "subgroup_6_sample = subgroup_6.sample(frac = 0.4)"
   ]
  },
  {
   "cell_type": "code",
   "execution_count": 53,
   "id": "a60cf04f",
   "metadata": {},
   "outputs": [
    {
     "name": "stdout",
     "output_type": "stream",
     "text": [
      "0.6464834405401095\n"
     ]
    }
   ],
   "source": [
    "#subgroup 6 \n",
    "X = subgroup_6_sample.iloc[:,:-1][['Final_Temperature_F', 'heart_rate', 'RespiratoryRate_combined', 'SpO2', 'Combined_Blood_Pressure', 'hadm_number', 'hours_in_hospital', 'rounded_age']]\n",
    "y = subgroup_6_sample['group']\n",
    "from sklearn.model_selection import train_test_split\n",
    "X_train, X_test, y_train, y_test = train_test_split(X, y, test_size=0.2, random_state=42)\n",
    "rf_sub_6 = RandomForestClassifier(bootstrap = True,\n",
    " max_depth = 500,\n",
    " max_features =  'sqrt',\n",
    " min_samples_leaf =  1,\n",
    " min_samples_split = 5,\n",
    " n_estimators =  1000)\n",
    "rf_sub_6.fit(X_train, y_train)\n",
    "predictions_6 = rf_sub_6.predict(X_test)\n",
    "y_test_6 = y_test\n",
    "print(sum(rf_sub_6.predict(X_test) == y_test)/len(y_test))"
   ]
  },
  {
   "cell_type": "code",
   "execution_count": 54,
   "id": "54cf35fd",
   "metadata": {},
   "outputs": [
    {
     "data": {
      "image/png": "[encoded data removed]",
      "text/plain": [
       "<Figure size 432x288 with 2 Axes>"
      ]
     },
     "metadata": {
      "needs_background": "light"
     },
     "output_type": "display_data"
    }
   ],
   "source": [
    "cm = confusion_matrix(y_test_6, predictions_6, labels=rf_sub_6.classes_)\n",
    "disp = ConfusionMatrixDisplay(confusion_matrix=cm,\n",
    "                              display_labels=rf_sub_6.classes_)\n",
    "disp.plot()\n",
    "\n",
    "plt.show()"
   ]
  },
  {
   "cell_type": "code",
   "execution_count": null,
   "id": "7e3e824f",
   "metadata": {},
   "outputs": [],
   "source": [
    "subgroup_6_predictions = rf_sub_6.predict(subgroup_6.iloc[:,:-1][['Final_Temperature_F', 'heart_rate', 'RespiratoryRate_combined', 'SpO2', 'Combined_Blood_Pressure', 'hadm_number', 'hours_in_hospital', 'rounded_age']])"
   ]
  },
  {
   "cell_type": "code",
   "execution_count": null,
   "id": "1de29a7f",
   "metadata": {},
   "outputs": [],
   "source": [
    "subgroup_6['predictions'] = subgroup_6_predictions"
   ]
  },
  {
   "cell_type": "code",
   "execution_count": null,
   "id": "31648b5c",
   "metadata": {},
   "outputs": [],
   "source": [
    "subgroup_6_return_df = subgroup_6.merge(all_subgroups[all_subgroups['subgroup'] == 6], on = ['hadm_id' , 'subject_id', 'rounded_age'], how = 'left').drop_duplicates()"
   ]
  },
  {
   "cell_type": "code",
   "execution_count": null,
   "id": "d9422856",
   "metadata": {},
   "outputs": [],
   "source": [
    "# subgroup_6_return_df[['subject_id', 'hadm_id', 'subgroup_x', 'rounded_age',\n",
    "#        'Combined_Blood_Pressure', 'charttime', 'Final_Temperature_F',\n",
    "#        'heart_rate', 'RespiratoryRate_combined', 'SpO2', 'date', 'hadm_number',\n",
    "#        'hours_in_hospital', 'sofa', 'group', 'predictions','congestive_heart_failure',\n",
    "#        'cardiac_arrhythmias', 'valvular_disease', 'pulmonary_circulation',\n",
    "#        'peripheral_vascular', 'hypertension', 'paralysis',\n",
    "#        'other_neurological', 'chronic_pulmonary', 'diabetes_uncomplicated',\n",
    "#        'diabetes_complicated', 'hypothyroidism', 'renal_failure',\n",
    "#        'liver_disease', 'peptic_ulcer', 'aids', 'lymphoma',\n",
    "#        'metastatic_cancer', 'solid_tumor', 'rheumatoid_arthritis',\n",
    "#        'coagulopathy', 'obesity', 'weight_loss', 'fluid_electrolyte',\n",
    "#        'blood_loss_anemia', 'deficiency_anemias', 'alcohol_abuse',\n",
    "#        'drug_abuse', 'psychoses', 'depression']].to_csv('subgroup_6_predictions.csv')"
   ]
  },
  {
   "cell_type": "code",
   "execution_count": null,
   "id": "1ee44d09",
   "metadata": {},
   "outputs": [],
   "source": [
    "subgroup_7_sample =subgroup_7.sample(frac = 0.9)"
   ]
  },
  {
   "cell_type": "code",
   "execution_count": 24,
   "id": "39f3186f",
   "metadata": {},
   "outputs": [
    {
     "name": "stdout",
     "output_type": "stream",
     "text": [
      "0.624728085131401\n"
     ]
    }
   ],
   "source": [
    "#subgroup 7 \n",
    "X = subgroup_7.iloc[:,:-1][['Final_Temperature_F', 'heart_rate', 'RespiratoryRate_combined', 'SpO2', 'Combined_Blood_Pressure', 'hadm_number', 'hours_in_hospital', 'rounded_age']]\n",
    "y = subgroup_7['group']\n",
    "from sklearn.model_selection import train_test_split\n",
    "X_train, X_test, y_train, y_test = train_test_split(X, y, test_size=0.2, random_state=42)\n",
    "rf_sub_7 = RandomForestClassifier(bootstrap = True,\n",
    " max_depth = 1000,\n",
    " max_features =  'auto',\n",
    " min_samples_leaf =  1,\n",
    " min_samples_split = 5,\n",
    " n_estimators =  1000)\n",
    "rf_sub_7.fit(X_train, y_train)\n",
    "predictions_7 = rf_sub_7.predict(X_test)\n",
    "y_test_7 = y_test\n",
    "print(sum(rf_sub_7.predict(X_test) == y_test)/len(y_test))"
   ]
  },
  {
   "cell_type": "code",
   "execution_count": 25,
   "id": "c97f608d",
   "metadata": {},
   "outputs": [
    {
     "data": {
      "image/png": "[encoded data removed]",
      "text/plain": [
       "<Figure size 432x288 with 2 Axes>"
      ]
     },
     "metadata": {
      "needs_background": "light"
     },
     "output_type": "display_data"
    }
   ],
   "source": [
    "cm = confusion_matrix(y_test_7, predictions_7, labels=rf_sub_7.classes_)\n",
    "disp = ConfusionMatrixDisplay(confusion_matrix=cm,\n",
    "                              display_labels=rf_sub_7.classes_)\n",
    "disp.plot()\n",
    "\n",
    "plt.show()"
   ]
  },
  {
   "cell_type": "code",
   "execution_count": null,
   "id": "1944cb14",
   "metadata": {},
   "outputs": [],
   "source": [
    "subgroup_7_predictions = rf_sub_7.predict(subgroup_7.iloc[:,:-1][['Final_Temperature_F', 'heart_rate', 'RespiratoryRate_combined', 'SpO2', 'Combined_Blood_Pressure', 'hadm_number', 'hours_in_hospital', 'rounded_age']])"
   ]
  },
  {
   "cell_type": "code",
   "execution_count": null,
   "id": "31ff2d7e",
   "metadata": {},
   "outputs": [],
   "source": [
    "subgroup_7['predictions'] = subgroup_7_predictions"
   ]
  },
  {
   "cell_type": "code",
   "execution_count": null,
   "id": "377091a3",
   "metadata": {},
   "outputs": [],
   "source": [
    "subgroup_7_return_df = subgroup_7.merge(all_subgroups[all_subgroups['subgroup'] == 7], on = ['hadm_id' , 'subject_id', 'rounded_age'], how = 'left').drop_duplicates()"
   ]
  },
  {
   "cell_type": "code",
   "execution_count": null,
   "id": "599323ab",
   "metadata": {},
   "outputs": [],
   "source": [
    "# subgroup_7_return_df[['subject_id', 'hadm_id', 'subgroup_x', 'rounded_age',\n",
    "#        'Combined_Blood_Pressure', 'charttime', 'Final_Temperature_F',\n",
    "#        'heart_rate', 'RespiratoryRate_combined', 'SpO2', 'date', 'hadm_number',\n",
    "#        'hours_in_hospital', 'sofa', 'group', 'predictions','congestive_heart_failure',\n",
    "#        'cardiac_arrhythmias', 'valvular_disease', 'pulmonary_circulation',\n",
    "#        'peripheral_vascular', 'hypertension', 'paralysis',\n",
    "#        'other_neurological', 'chronic_pulmonary', 'diabetes_uncomplicated',\n",
    "#        'diabetes_complicated', 'hypothyroidism', 'renal_failure',\n",
    "#        'liver_disease', 'peptic_ulcer', 'aids', 'lymphoma',\n",
    "#        'metastatic_cancer', 'solid_tumor', 'rheumatoid_arthritis',\n",
    "#        'coagulopathy', 'obesity', 'weight_loss', 'fluid_electrolyte',\n",
    "#        'blood_loss_anemia', 'deficiency_anemias', 'alcohol_abuse',\n",
    "#        'drug_abuse', 'psychoses', 'depression']].to_csv('subgroup_7_predictions.csv')"
   ]
  }
 ],
 "metadata": {
  "kernelspec": {
   "display_name": "myenv",
   "language": "python",
   "name": "myenv"
  },
  "language_info": {
   "codemirror_mode": {
    "name": "ipython",
    "version": 3
   },
   "file_extension": ".py",
   "mimetype": "text/x-python",
   "name": "python",
   "nbconvert_exporter": "python",
   "pygments_lexer": "ipython3",
   "version": "3.9.5"
  }
 },
 "nbformat": 4,
 "nbformat_minor": 5
}
