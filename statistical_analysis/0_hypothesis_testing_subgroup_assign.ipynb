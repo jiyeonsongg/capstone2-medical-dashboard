{
 "cells": [
  {
   "cell_type": "code",
   "execution_count": 1,
   "metadata": {},
   "outputs": [],
   "source": [
    "import pandas as pd\n",
    "import statsmodels.api as sm"
   ]
  },
  {
   "cell_type": "markdown",
   "metadata": {},
   "source": [
    "# Hypothesis Test for Subgroup Classification Machine Learning Model"
   ]
  },
  {
   "cell_type": "markdown",
   "metadata": {},
   "source": [
    "* Null hypothesis:\n",
    "* Alternate hypothesis:\n",
    "\n",
    "Chi-Square Hypothesis Testing:\n",
    "- Test of Independence\n",
    "- Goodness of fit"
   ]
  },
  {
   "cell_type": "markdown",
   "metadata": {},
   "source": [
    "P-value: the strength of evidence in support of a null hypothesis\n",
    "\n",
    "P-value < significance level(alpha): \"statistically significant evidence against the null hypothesis\" --> reject the null hypothesis\n",
    "\n",
    "vice versa --> fail to reject the null hypothesis"
   ]
  },
  {
   "cell_type": "code",
   "execution_count": null,
   "metadata": {},
   "outputs": [],
   "source": []
  },
  {
   "cell_type": "markdown",
   "metadata": {},
   "source": [
    "Error Table\n",
    "|       | Null True | Null False |\n",
    "| ----------- | ----------- | ----------- |\n",
    "| Reject Null      | Type 1       | Correct       |\n",
    "| Fail to Reject Null   | Correct        | Type 2       |"
   ]
  },
  {
   "cell_type": "code",
   "execution_count": null,
   "metadata": {},
   "outputs": [],
   "source": []
  }
 ],
 "metadata": {
  "kernelspec": {
   "display_name": "dsc80",
   "language": "python",
   "name": "python3"
  },
  "language_info": {
   "codemirror_mode": {
    "name": "ipython",
    "version": 3
   },
   "file_extension": ".py",
   "mimetype": "text/x-python",
   "name": "python",
   "nbconvert_exporter": "python",
   "pygments_lexer": "ipython3",
   "version": "3.8.13"
  }
 },
 "nbformat": 4,
 "nbformat_minor": 2
}
