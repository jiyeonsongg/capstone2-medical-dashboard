{
 "cells": [
  {
   "cell_type": "code",
   "execution_count": 2,
   "metadata": {},
   "outputs": [],
   "source": [
    "import psycopg2\n",
    "import pandas as pd\n",
    "from scipy import stats\n",
    "import numpy as np\n",
    "import matplotlib.pyplot as plt\n",
    "import seaborn as sns"
   ]
  },
  {
   "cell_type": "markdown",
   "metadata": {},
   "source": [
    "# EDA: Vitals"
   ]
  },
  {
   "cell_type": "markdown",
   "metadata": {},
   "source": [
    "## Temperature"
   ]
  },
  {
   "cell_type": "code",
   "execution_count": 4,
   "metadata": {},
   "outputs": [],
   "source": [
    "chartevents_temp_df = pd.read_csv('chartevents_temp.csv')\n"
   ]
  },
  {
   "cell_type": "code",
   "execution_count": 6,
   "metadata": {},
   "outputs": [
    {
     "data": {
      "image/png": "[encoded data removed]",
      "text/plain": [
       "<Figure size 864x432 with 1 Axes>"
      ]
     },
     "metadata": {
      "needs_background": "light"
     },
     "output_type": "display_data"
    }
   ],
   "source": [
    "# Convert 'charttime' to datetime format\n",
    "chartevents_temp_df['charttime'] = pd.to_datetime(chartevents_temp_df['charttime'])\n",
    "chartevents_temp_df = chartevents_temp_df[(chartevents_temp_df['Final_Temperature_F'] > 70) & (chartevents_temp_df['Final_Temperature_F'] < 110)]\n",
    "\n",
    "# Set up the plot\n",
    "plt.figure(figsize=(12, 6))\n",
    "\n",
    "# Plot the histogram\n",
    "sns.histplot(x='charttime', y='Final_Temperature_F', data=chartevents_temp_df, kde=True, bins=30)\n",
    "\n",
    "# Customize plot labels and title\n",
    "plt.title('Histogram of Temperature Values Over Time')\n",
    "plt.xlabel('Chart Time')\n",
    "plt.ylabel('Temperature (°F)')\n",
    "\n",
    "# Rotate x-axis labels for better visibility\n",
    "plt.xticks(rotation=45, ha='right')\n",
    "\n",
    "# Show the plot\n",
    "plt.tight_layout()\n",
    "plt.show()\n"
   ]
  },
  {
   "cell_type": "code",
   "execution_count": 8,
   "metadata": {},
   "outputs": [],
   "source": [
    "subgroup_1_df = pd.read_csv('subgroup_1.csv')\n",
    "subgroup_2_df = pd.read_csv('subgroup_2.csv')\n",
    "subgroup_3_df = pd.read_csv('subgroup_3.csv')\n",
    "subgroup_4_df = pd.read_csv('subgroup_4.csv')\n",
    "subgroup_5_df = pd.read_csv('subgroup_5.csv')\n",
    "subgroup_6_df = pd.read_csv('subgroup_6.csv')\n",
    "subgroup_7_df = pd.read_csv('subgroup_7.csv')"
   ]
  },
  {
   "cell_type": "code",
   "execution_count": 9,
   "metadata": {},
   "outputs": [],
   "source": [
    "def merge_temperature_for_subgroup(chartevents_temp_df, subgroup_df, subgroup_number):\n",
    "    if 'level_0' in subgroup_df.columns:\n",
    "        subgroup_df = subgroup_df.drop('level_0', axis=1)\n",
    "\n",
    "    subgroup_df.reset_index(inplace=True)\n",
    "\n",
    "    merged_df = pd.merge(chartevents_temp_df[['subject_id', 'hadm_id', 'icustay_id', 'charttime', 'Final_Temperature_F']],\n",
    "                        subgroup_df[['subject_id', 'rounded_age', 'admission_type_encoded', 'subgroup']],\n",
    "                        on='subject_id', how='inner')\n",
    "\n",
    "    return merged_df"
   ]
  },
  {
   "cell_type": "code",
   "execution_count": 10,
   "metadata": {},
   "outputs": [],
   "source": [
    "subgroup_1_temp_df = merge_temperature_for_subgroup(chartevents_temp_df, subgroup_1_df, 1)\n",
    "subgroup_2_temp_df = merge_temperature_for_subgroup(chartevents_temp_df, subgroup_2_df, 2)\n",
    "subgroup_3_temp_df = merge_temperature_for_subgroup(chartevents_temp_df, subgroup_3_df, 3)\n",
    "subgroup_4_temp_df = merge_temperature_for_subgroup(chartevents_temp_df, subgroup_4_df, 4)\n",
    "subgroup_5_temp_df = merge_temperature_for_subgroup(chartevents_temp_df, subgroup_5_df, 5)\n",
    "subgroup_6_temp_df = merge_temperature_for_subgroup(chartevents_temp_df, subgroup_6_df, 6)\n",
    "subgroup_7_temp_df = merge_temperature_for_subgroup(chartevents_temp_df, subgroup_7_df, 7)\n"
   ]
  },
  {
   "cell_type": "code",
   "execution_count": 11,
   "metadata": {},
   "outputs": [],
   "source": [
    "filter_condition = (subgroup_1_temp_df['Final_Temperature_F'] > 70) & (subgroup_1_temp_df['Final_Temperature_F'] < 110)\n",
    "subgroup_1_temp_df = subgroup_1_temp_df[filter_condition].reset_index(drop=True)\n",
    "\n",
    "filter_condition = (subgroup_2_temp_df['Final_Temperature_F'] > 70) & (subgroup_2_temp_df['Final_Temperature_F'] < 110)\n",
    "subgroup_2_temp_df = subgroup_2_temp_df[filter_condition].reset_index(drop=True)\n",
    "\n",
    "filter_condition = (subgroup_3_temp_df['Final_Temperature_F'] > 70) & (subgroup_3_temp_df['Final_Temperature_F'] < 110)\n",
    "subgroup_3_temp_df = subgroup_3_temp_df[filter_condition].reset_index(drop=True)\n",
    "\n",
    "filter_condition = (subgroup_4_temp_df['Final_Temperature_F'] > 70) & (subgroup_4_temp_df['Final_Temperature_F'] < 110)\n",
    "subgroup_4_temp_df = subgroup_4_temp_df[filter_condition].reset_index(drop=True)\n",
    "\n",
    "filter_condition = (subgroup_5_temp_df['Final_Temperature_F'] > 70) & (subgroup_5_temp_df['Final_Temperature_F'] < 110)\n",
    "subgroup_5_temp_df = subgroup_5_temp_df[filter_condition].reset_index(drop=True)\n",
    "\n",
    "filter_condition = (subgroup_6_temp_df['Final_Temperature_F'] > 70) & (subgroup_6_temp_df['Final_Temperature_F'] < 110)\n",
    "subgroup_6_temp_df = subgroup_6_temp_df[filter_condition].reset_index(drop=True)\n",
    "\n",
    "filter_condition = (subgroup_7_temp_df['Final_Temperature_F'] > 70) & (subgroup_7_temp_df['Final_Temperature_F'] < 110)\n",
    "subgroup_7_temp_df = subgroup_7_temp_df[filter_condition].reset_index(drop=True)\n"
   ]
  },
  {
   "cell_type": "code",
   "execution_count": 12,
   "metadata": {},
   "outputs": [
    {
     "data": {
      "text/html": [
       "<div>\n",
       "<style scoped>\n",
       "    .dataframe tbody tr th:only-of-type {\n",
       "        vertical-align: middle;\n",
       "    }\n",
       "\n",
       "    .dataframe tbody tr th {\n",
       "        vertical-align: top;\n",
       "    }\n",
       "\n",
       "    .dataframe thead th {\n",
       "        text-align: right;\n",
       "    }\n",
       "</style>\n",
       "<table border=\"1\" class=\"dataframe\">\n",
       "  <thead>\n",
       "    <tr style=\"text-align: right;\">\n",
       "      <th></th>\n",
       "      <th>Original Chartevents</th>\n",
       "      <th>Subgroup 1</th>\n",
       "      <th>Subgroup 2</th>\n",
       "      <th>Subgroup 3</th>\n",
       "      <th>Subgroup 4</th>\n",
       "      <th>Subgroup 5</th>\n",
       "      <th>Subgroup 6</th>\n",
       "      <th>Subgroup 7</th>\n",
       "    </tr>\n",
       "    <tr>\n",
       "      <th>Statistic</th>\n",
       "      <th></th>\n",
       "      <th></th>\n",
       "      <th></th>\n",
       "      <th></th>\n",
       "      <th></th>\n",
       "      <th></th>\n",
       "      <th></th>\n",
       "      <th></th>\n",
       "    </tr>\n",
       "  </thead>\n",
       "  <tbody>\n",
       "    <tr>\n",
       "      <th>mean</th>\n",
       "      <td>98.612467</td>\n",
       "      <td>98.381712</td>\n",
       "      <td>98.289350</td>\n",
       "      <td>98.404344</td>\n",
       "      <td>98.698643</td>\n",
       "      <td>98.909630</td>\n",
       "      <td>98.559659</td>\n",
       "      <td>98.270449</td>\n",
       "    </tr>\n",
       "    <tr>\n",
       "      <th>max</th>\n",
       "      <td>109.000043</td>\n",
       "      <td>107.000057</td>\n",
       "      <td>109.000043</td>\n",
       "      <td>107.900057</td>\n",
       "      <td>109.000043</td>\n",
       "      <td>108.139999</td>\n",
       "      <td>109.000043</td>\n",
       "      <td>106.900002</td>\n",
       "    </tr>\n",
       "    <tr>\n",
       "      <th>mode</th>\n",
       "      <td>98.600000</td>\n",
       "      <td>98.600000</td>\n",
       "      <td>98.600000</td>\n",
       "      <td>98.600000</td>\n",
       "      <td>98.600000</td>\n",
       "      <td>98.600000</td>\n",
       "      <td>98.600000</td>\n",
       "      <td>98.600000</td>\n",
       "    </tr>\n",
       "    <tr>\n",
       "      <th>std</th>\n",
       "      <td>1.520419</td>\n",
       "      <td>1.450650</td>\n",
       "      <td>1.435112</td>\n",
       "      <td>1.508261</td>\n",
       "      <td>1.449904</td>\n",
       "      <td>1.555369</td>\n",
       "      <td>1.507753</td>\n",
       "      <td>1.401591</td>\n",
       "    </tr>\n",
       "    <tr>\n",
       "      <th>median</th>\n",
       "      <td>98.600000</td>\n",
       "      <td>98.300003</td>\n",
       "      <td>98.239999</td>\n",
       "      <td>98.300003</td>\n",
       "      <td>98.700079</td>\n",
       "      <td>98.800003</td>\n",
       "      <td>98.500000</td>\n",
       "      <td>98.200043</td>\n",
       "    </tr>\n",
       "  </tbody>\n",
       "</table>\n",
       "</div>"
      ],
      "text/plain": [
       "           Original Chartevents  Subgroup 1  Subgroup 2  Subgroup 3  \\\n",
       "Statistic                                                             \n",
       "mean                  98.612467   98.381712   98.289350   98.404344   \n",
       "max                  109.000043  107.000057  109.000043  107.900057   \n",
       "mode                  98.600000   98.600000   98.600000   98.600000   \n",
       "std                    1.520419    1.450650    1.435112    1.508261   \n",
       "median                98.600000   98.300003   98.239999   98.300003   \n",
       "\n",
       "           Subgroup 4  Subgroup 5  Subgroup 6  Subgroup 7  \n",
       "Statistic                                                  \n",
       "mean        98.698643   98.909630   98.559659   98.270449  \n",
       "max        109.000043  108.139999  109.000043  106.900002  \n",
       "mode        98.600000   98.600000   98.600000   98.600000  \n",
       "std          1.449904    1.555369    1.507753    1.401591  \n",
       "median      98.700079   98.800003   98.500000   98.200043  "
      ]
     },
     "execution_count": 12,
     "metadata": {},
     "output_type": "execute_result"
    }
   ],
   "source": [
    "\n",
    "\n",
    "original_stats = chartevents_temp_df['Final_Temperature_F'].agg(lambda x: pd.Series({'mean': x.mean(), 'max': x.max(), 'mode': x.mode().iloc[0], 'std': x.std(), 'median': x.median()}))\n",
    "\n",
    "subgroup_1_stats = subgroup_1_temp_df['Final_Temperature_F'].agg(lambda x: pd.Series({'mean': x.mean(), 'max': x.max(), 'mode': x.mode().iloc[0], 'std': x.std(), 'median': x.median()}))\n",
    "\n",
    "subgroup_2_stats = subgroup_2_temp_df['Final_Temperature_F'].agg(lambda x: pd.Series({'mean': x.mean(), 'max': x.max(), 'mode': x.mode().iloc[0], 'std': x.std(), 'median': x.median()}))\n",
    "\n",
    "subgroup_3_stats = subgroup_3_temp_df['Final_Temperature_F'].agg(lambda x: pd.Series({'mean': x.mean(), 'max': x.max(), 'mode': x.mode().iloc[0], 'std': x.std(), 'median': x.median()}))\n",
    "\n",
    "subgroup_4_stats = subgroup_4_temp_df['Final_Temperature_F'].agg(lambda x: pd.Series({'mean': x.mean(), 'max': x.max(), 'mode': x.mode().iloc[0], 'std': x.std(), 'median': x.median()}))\n",
    "\n",
    "subgroup_5_stats = subgroup_5_temp_df['Final_Temperature_F'].agg(lambda x: pd.Series({'mean': x.mean(), 'max': x.max(), 'mode': x.mode().iloc[0], 'std': x.std(), 'median': x.median()}))\n",
    "\n",
    "subgroup_6_stats = subgroup_6_temp_df['Final_Temperature_F'].agg(lambda x: pd.Series({'mean': x.mean(), 'max': x.max(), 'mode': x.mode().iloc[0], 'std': x.std(), 'median': x.median()}))\n",
    "\n",
    "subgroup_7_stats = subgroup_7_temp_df['Final_Temperature_F'].agg(lambda x: pd.Series({'mean': x.mean(), 'max': x.max(), 'mode': x.mode().iloc[0], 'std': x.std(), 'median': x.median()}))\n",
    "\n",
    "result_df = pd.DataFrame({\n",
    "    'Statistic': ['mean', 'max', 'mode', 'std', 'median'],\n",
    "    'Original Chartevents': original_stats.values,\n",
    "    'Subgroup 1': subgroup_1_stats.values,\n",
    "    'Subgroup 2': subgroup_2_stats.values,\n",
    "    'Subgroup 3': subgroup_3_stats.values,\n",
    "    'Subgroup 4': subgroup_4_stats.values,\n",
    "    'Subgroup 5': subgroup_5_stats.values,\n",
    "    'Subgroup 6': subgroup_6_stats.values,\n",
    "    'Subgroup 7': subgroup_7_stats.values\n",
    "})\n",
    "\n",
    "result_df.set_index('Statistic', inplace=True)\n",
    "\n",
    "result_df\n"
   ]
  },
  {
   "cell_type": "code",
   "execution_count": 16,
   "metadata": {},
   "outputs": [
    {
     "name": "stderr",
     "output_type": "stream",
     "text": [
      "/var/folders/48/vk7lyccx60x4918_6lqc64fw0000gn/T/ipykernel_88121/3053405559.py:1: FutureWarning: The behavior of pd.concat with len(keys) != len(objs) is deprecated. In a future version this will raise instead of truncating to the smaller of the two sequences\n",
      "  all_subgroups_df = pd.concat([subgroup_1_temp_df, subgroup_2_temp_df, subgroup_3_temp_df,\n"
     ]
    },
    {
     "data": {
      "image/png": "[encoded data removed]",
      "text/plain": [
       "<Figure size 1152x576 with 1 Axes>"
      ]
     },
     "metadata": {
      "needs_background": "light"
     },
     "output_type": "display_data"
    },
    {
     "data": {
      "image/png": "[encoded data removed]",
      "text/plain": [
       "<Figure size 1152x576 with 1 Axes>"
      ]
     },
     "metadata": {
      "needs_background": "light"
     },
     "output_type": "display_data"
    }
   ],
   "source": [
    "all_subgroups_df = pd.concat([subgroup_1_temp_df, subgroup_2_temp_df, subgroup_3_temp_df, \n",
    "                                subgroup_4_temp_df, subgroup_5_temp_df, subgroup_6_temp_df, \n",
    "                                subgroup_7_temp_df], keys=['Subgroup 1', 'Subgroup 2', 'Subgroup 3', 'Subgroup 4', 'Subgroup 5', 'Subgroup 6', 'Subgroup 7', 'Original'])\n",
    "\n",
    "# Plot boxplot\n",
    "plt.figure(figsize=(16, 8))\n",
    "sns.boxplot(data=all_subgroups_df, x='subgroup', y='Final_Temperature_F')\n",
    "plt.title('Temperature Distribution Comparison')\n",
    "plt.xlabel('Subgroup')\n",
    "plt.ylabel('Final Temperature (F)')\n",
    "plt.show()\n",
    "\n",
    "# Plot boxplot\n",
    "plt.figure(figsize=(16, 8))\n",
    "sns.boxplot(data=chartevents_temp_df, y='Final_Temperature_F')\n",
    "plt.title('Temperature Distribution Comparison')\n",
    "plt.ylabel('Final Temperature (F)')\n",
    "plt.show()"
   ]
  },
  {
   "cell_type": "markdown",
   "metadata": {},
   "source": [
    "## Respiratory Rate"
   ]
  },
  {
   "cell_type": "code",
   "execution_count": 18,
   "metadata": {},
   "outputs": [],
   "source": [
    "chartevents_rr_df = pd.read_csv('chartevents_rr.csv')"
   ]
  },
  {
   "cell_type": "code",
   "execution_count": 21,
   "metadata": {},
   "outputs": [
    {
     "data": {
      "text/plain": [
       "count    5.783901e+06\n",
       "mean     1.907183e+01\n",
       "std      4.832210e+00\n",
       "min      1.200000e-01\n",
       "25%      1.600000e+01\n",
       "50%      1.900000e+01\n",
       "75%      2.300000e+01\n",
       "max      2.900000e+01\n",
       "Name: RespiratoryRate_combined, dtype: float64"
      ]
     },
     "execution_count": 21,
     "metadata": {},
     "output_type": "execute_result"
    }
   ],
   "source": [
    "chartevents_rr_df[(chartevents_rr_df['RespiratoryRate_combined'] < 30) & (chartevents_rr_df['RespiratoryRate_combined'] > 0)].RespiratoryRate_combined.describe()\n",
    "\n"
   ]
  },
  {
   "cell_type": "code",
   "execution_count": 487,
   "metadata": {},
   "outputs": [
    {
     "data": {
      "text/plain": [
       "count    6.263265e+06\n",
       "mean     2.039807e+01\n",
       "std      9.412437e+02\n",
       "min      0.000000e+00\n",
       "25%      1.600000e+01\n",
       "50%      1.900000e+01\n",
       "75%      2.400000e+01\n",
       "max      2.355555e+06\n",
       "Name: RespiratoryRate_combined, dtype: float64"
      ]
     },
     "execution_count": 487,
     "metadata": {},
     "output_type": "execute_result"
    }
   ],
   "source": [
    "chartevents_rr_df.RespiratoryRate_combined.describe()\n"
   ]
  },
  {
   "cell_type": "code",
   "execution_count": 28,
   "metadata": {},
   "outputs": [
    {
     "ename": "ValueError",
     "evalue": "Multi-dimensional indexing (e.g. `obj[:, None]`) is no longer supported. Convert to a numpy array before indexing instead.",
     "output_type": "error",
     "traceback": [
      "\u001b[0;31m---------------------------------------------------------------------------\u001b[0m",
      "\u001b[0;31mValueError\u001b[0m                                Traceback (most recent call last)",
      "\u001b[1;32m/Users/vibhasastry/dsc180b-wi24-quarter2/data_extraction/eda_subgroups.ipynb Cell 16'\u001b[0m in \u001b[0;36m<cell line: 6>\u001b[0;34m()\u001b[0m\n\u001b[1;32m      <a href='vscode-notebook-cell:/Users/vibhasastry/dsc180b-wi24-quarter2/data_extraction/eda_subgroups.ipynb#ch0000031?line=3'>4</a>\u001b[0m \u001b[39m# Create a histogram\u001b[39;00m\n\u001b[1;32m      <a href='vscode-notebook-cell:/Users/vibhasastry/dsc180b-wi24-quarter2/data_extraction/eda_subgroups.ipynb#ch0000031?line=4'>5</a>\u001b[0m plt\u001b[39m.\u001b[39mfigure(figsize\u001b[39m=\u001b[39m(\u001b[39m10\u001b[39m, \u001b[39m6\u001b[39m))\n\u001b[0;32m----> <a href='vscode-notebook-cell:/Users/vibhasastry/dsc180b-wi24-quarter2/data_extraction/eda_subgroups.ipynb#ch0000031?line=5'>6</a>\u001b[0m sns\u001b[39m.\u001b[39;49mhistplot(filtered_data[\u001b[39m'\u001b[39;49m\u001b[39mRespiratoryRate_combined\u001b[39;49m\u001b[39m'\u001b[39;49m], bins\u001b[39m=\u001b[39;49m\u001b[39m20\u001b[39;49m, kde\u001b[39m=\u001b[39;49m\u001b[39mTrue\u001b[39;49;00m, color\u001b[39m=\u001b[39;49m\u001b[39m'\u001b[39;49m\u001b[39mskyblue\u001b[39;49m\u001b[39m'\u001b[39;49m)\n\u001b[1;32m      <a href='vscode-notebook-cell:/Users/vibhasastry/dsc180b-wi24-quarter2/data_extraction/eda_subgroups.ipynb#ch0000031?line=6'>7</a>\u001b[0m plt\u001b[39m.\u001b[39mtitle(\u001b[39m'\u001b[39m\u001b[39mDistribution of Respiratory Rates\u001b[39m\u001b[39m'\u001b[39m)\n\u001b[1;32m      <a href='vscode-notebook-cell:/Users/vibhasastry/dsc180b-wi24-quarter2/data_extraction/eda_subgroups.ipynb#ch0000031?line=7'>8</a>\u001b[0m plt\u001b[39m.\u001b[39mxlabel(\u001b[39m'\u001b[39m\u001b[39mRespiratory Rate (combined)\u001b[39m\u001b[39m'\u001b[39m)\n",
      "File \u001b[0;32m~/opt/anaconda3/lib/python3.9/site-packages/seaborn/distributions.py:1416\u001b[0m, in \u001b[0;36mhistplot\u001b[0;34m(data, x, y, hue, weights, stat, bins, binwidth, binrange, discrete, cumulative, common_bins, common_norm, multiple, element, fill, shrink, kde, kde_kws, line_kws, thresh, pthresh, pmax, cbar, cbar_ax, cbar_kws, palette, hue_order, hue_norm, color, log_scale, legend, ax, **kwargs)\u001b[0m\n\u001b[1;32m   <a href='file:///Users/vibhasastry/opt/anaconda3/lib/python3.9/site-packages/seaborn/distributions.py?line=1404'>1405</a>\u001b[0m estimate_kws \u001b[39m=\u001b[39m \u001b[39mdict\u001b[39m(\n\u001b[1;32m   <a href='file:///Users/vibhasastry/opt/anaconda3/lib/python3.9/site-packages/seaborn/distributions.py?line=1405'>1406</a>\u001b[0m     stat\u001b[39m=\u001b[39mstat,\n\u001b[1;32m   <a href='file:///Users/vibhasastry/opt/anaconda3/lib/python3.9/site-packages/seaborn/distributions.py?line=1406'>1407</a>\u001b[0m     bins\u001b[39m=\u001b[39mbins,\n\u001b[0;32m   (...)\u001b[0m\n\u001b[1;32m   <a href='file:///Users/vibhasastry/opt/anaconda3/lib/python3.9/site-packages/seaborn/distributions.py?line=1410'>1411</a>\u001b[0m     cumulative\u001b[39m=\u001b[39mcumulative,\n\u001b[1;32m   <a href='file:///Users/vibhasastry/opt/anaconda3/lib/python3.9/site-packages/seaborn/distributions.py?line=1411'>1412</a>\u001b[0m )\n\u001b[1;32m   <a href='file:///Users/vibhasastry/opt/anaconda3/lib/python3.9/site-packages/seaborn/distributions.py?line=1413'>1414</a>\u001b[0m \u001b[39mif\u001b[39;00m p\u001b[39m.\u001b[39munivariate:\n\u001b[0;32m-> <a href='file:///Users/vibhasastry/opt/anaconda3/lib/python3.9/site-packages/seaborn/distributions.py?line=1415'>1416</a>\u001b[0m     p\u001b[39m.\u001b[39;49mplot_univariate_histogram(\n\u001b[1;32m   <a href='file:///Users/vibhasastry/opt/anaconda3/lib/python3.9/site-packages/seaborn/distributions.py?line=1416'>1417</a>\u001b[0m         multiple\u001b[39m=\u001b[39;49mmultiple,\n\u001b[1;32m   <a href='file:///Users/vibhasastry/opt/anaconda3/lib/python3.9/site-packages/seaborn/distributions.py?line=1417'>1418</a>\u001b[0m         element\u001b[39m=\u001b[39;49melement,\n\u001b[1;32m   <a href='file:///Users/vibhasastry/opt/anaconda3/lib/python3.9/site-packages/seaborn/distributions.py?line=1418'>1419</a>\u001b[0m         fill\u001b[39m=\u001b[39;49mfill,\n\u001b[1;32m   <a href='file:///Users/vibhasastry/opt/anaconda3/lib/python3.9/site-packages/seaborn/distributions.py?line=1419'>1420</a>\u001b[0m         shrink\u001b[39m=\u001b[39;49mshrink,\n\u001b[1;32m   <a href='file:///Users/vibhasastry/opt/anaconda3/lib/python3.9/site-packages/seaborn/distributions.py?line=1420'>1421</a>\u001b[0m         common_norm\u001b[39m=\u001b[39;49mcommon_norm,\n\u001b[1;32m   <a href='file:///Users/vibhasastry/opt/anaconda3/lib/python3.9/site-packages/seaborn/distributions.py?line=1421'>1422</a>\u001b[0m         common_bins\u001b[39m=\u001b[39;49mcommon_bins,\n\u001b[1;32m   <a href='file:///Users/vibhasastry/opt/anaconda3/lib/python3.9/site-packages/seaborn/distributions.py?line=1422'>1423</a>\u001b[0m         kde\u001b[39m=\u001b[39;49mkde,\n\u001b[1;32m   <a href='file:///Users/vibhasastry/opt/anaconda3/lib/python3.9/site-packages/seaborn/distributions.py?line=1423'>1424</a>\u001b[0m         kde_kws\u001b[39m=\u001b[39;49mkde_kws,\n\u001b[1;32m   <a href='file:///Users/vibhasastry/opt/anaconda3/lib/python3.9/site-packages/seaborn/distributions.py?line=1424'>1425</a>\u001b[0m         color\u001b[39m=\u001b[39;49mcolor,\n\u001b[1;32m   <a href='file:///Users/vibhasastry/opt/anaconda3/lib/python3.9/site-packages/seaborn/distributions.py?line=1425'>1426</a>\u001b[0m         legend\u001b[39m=\u001b[39;49mlegend,\n\u001b[1;32m   <a href='file:///Users/vibhasastry/opt/anaconda3/lib/python3.9/site-packages/seaborn/distributions.py?line=1426'>1427</a>\u001b[0m         estimate_kws\u001b[39m=\u001b[39;49mestimate_kws,\n\u001b[1;32m   <a href='file:///Users/vibhasastry/opt/anaconda3/lib/python3.9/site-packages/seaborn/distributions.py?line=1427'>1428</a>\u001b[0m         line_kws\u001b[39m=\u001b[39;49mline_kws,\n\u001b[1;32m   <a href='file:///Users/vibhasastry/opt/anaconda3/lib/python3.9/site-packages/seaborn/distributions.py?line=1428'>1429</a>\u001b[0m         \u001b[39m*\u001b[39;49m\u001b[39m*\u001b[39;49mkwargs,\n\u001b[1;32m   <a href='file:///Users/vibhasastry/opt/anaconda3/lib/python3.9/site-packages/seaborn/distributions.py?line=1429'>1430</a>\u001b[0m     )\n\u001b[1;32m   <a href='file:///Users/vibhasastry/opt/anaconda3/lib/python3.9/site-packages/seaborn/distributions.py?line=1431'>1432</a>\u001b[0m \u001b[39melse\u001b[39;00m:\n\u001b[1;32m   <a href='file:///Users/vibhasastry/opt/anaconda3/lib/python3.9/site-packages/seaborn/distributions.py?line=1433'>1434</a>\u001b[0m     p\u001b[39m.\u001b[39mplot_bivariate_histogram(\n\u001b[1;32m   <a href='file:///Users/vibhasastry/opt/anaconda3/lib/python3.9/site-packages/seaborn/distributions.py?line=1434'>1435</a>\u001b[0m         common_bins\u001b[39m=\u001b[39mcommon_bins,\n\u001b[1;32m   <a href='file:///Users/vibhasastry/opt/anaconda3/lib/python3.9/site-packages/seaborn/distributions.py?line=1435'>1436</a>\u001b[0m         common_norm\u001b[39m=\u001b[39mcommon_norm,\n\u001b[0;32m   (...)\u001b[0m\n\u001b[1;32m   <a href='file:///Users/vibhasastry/opt/anaconda3/lib/python3.9/site-packages/seaborn/distributions.py?line=1445'>1446</a>\u001b[0m         \u001b[39m*\u001b[39m\u001b[39m*\u001b[39mkwargs,\n\u001b[1;32m   <a href='file:///Users/vibhasastry/opt/anaconda3/lib/python3.9/site-packages/seaborn/distributions.py?line=1446'>1447</a>\u001b[0m     )\n",
      "File \u001b[0;32m~/opt/anaconda3/lib/python3.9/site-packages/seaborn/distributions.py:651\u001b[0m, in \u001b[0;36m_DistributionPlotter.plot_univariate_histogram\u001b[0;34m(self, multiple, element, fill, common_norm, common_bins, shrink, kde, kde_kws, color, legend, line_kws, estimate_kws, **plot_kws)\u001b[0m\n\u001b[1;32m    <a href='file:///Users/vibhasastry/opt/anaconda3/lib/python3.9/site-packages/seaborn/distributions.py?line=647'>648</a>\u001b[0m     sticky_x, sticky_y \u001b[39m=\u001b[39m (\u001b[39m0\u001b[39m, np\u001b[39m.\u001b[39minf), \u001b[39mNone\u001b[39;00m\n\u001b[1;32m    <a href='file:///Users/vibhasastry/opt/anaconda3/lib/python3.9/site-packages/seaborn/distributions.py?line=649'>650</a>\u001b[0m line_kws[\u001b[39m\"\u001b[39m\u001b[39mcolor\u001b[39m\u001b[39m\"\u001b[39m] \u001b[39m=\u001b[39m to_rgba(sub_color, \u001b[39m1\u001b[39m)\n\u001b[0;32m--> <a href='file:///Users/vibhasastry/opt/anaconda3/lib/python3.9/site-packages/seaborn/distributions.py?line=650'>651</a>\u001b[0m line, \u001b[39m=\u001b[39m ax\u001b[39m.\u001b[39;49mplot(\n\u001b[1;32m    <a href='file:///Users/vibhasastry/opt/anaconda3/lib/python3.9/site-packages/seaborn/distributions.py?line=651'>652</a>\u001b[0m     \u001b[39m*\u001b[39;49mline_args, \u001b[39m*\u001b[39;49m\u001b[39m*\u001b[39;49mline_kws,\n\u001b[1;32m    <a href='file:///Users/vibhasastry/opt/anaconda3/lib/python3.9/site-packages/seaborn/distributions.py?line=652'>653</a>\u001b[0m )\n\u001b[1;32m    <a href='file:///Users/vibhasastry/opt/anaconda3/lib/python3.9/site-packages/seaborn/distributions.py?line=654'>655</a>\u001b[0m \u001b[39mif\u001b[39;00m sticky_x \u001b[39mis\u001b[39;00m \u001b[39mnot\u001b[39;00m \u001b[39mNone\u001b[39;00m:\n\u001b[1;32m    <a href='file:///Users/vibhasastry/opt/anaconda3/lib/python3.9/site-packages/seaborn/distributions.py?line=655'>656</a>\u001b[0m     line\u001b[39m.\u001b[39msticky_edges\u001b[39m.\u001b[39mx[:] \u001b[39m=\u001b[39m sticky_x\n",
      "File \u001b[0;32m~/opt/anaconda3/lib/python3.9/site-packages/matplotlib/axes/_axes.py:1632\u001b[0m, in \u001b[0;36mAxes.plot\u001b[0;34m(self, scalex, scaley, data, *args, **kwargs)\u001b[0m\n\u001b[1;32m   <a href='file:///Users/vibhasastry/opt/anaconda3/lib/python3.9/site-packages/matplotlib/axes/_axes.py?line=1389'>1390</a>\u001b[0m \u001b[39m\"\"\"\u001b[39;00m\n\u001b[1;32m   <a href='file:///Users/vibhasastry/opt/anaconda3/lib/python3.9/site-packages/matplotlib/axes/_axes.py?line=1390'>1391</a>\u001b[0m \u001b[39mPlot y versus x as lines and/or markers.\u001b[39;00m\n\u001b[1;32m   <a href='file:///Users/vibhasastry/opt/anaconda3/lib/python3.9/site-packages/matplotlib/axes/_axes.py?line=1391'>1392</a>\u001b[0m \n\u001b[0;32m   (...)\u001b[0m\n\u001b[1;32m   <a href='file:///Users/vibhasastry/opt/anaconda3/lib/python3.9/site-packages/matplotlib/axes/_axes.py?line=1628'>1629</a>\u001b[0m \u001b[39m(``'green'``) or hex strings (``'#008000'``).\u001b[39;00m\n\u001b[1;32m   <a href='file:///Users/vibhasastry/opt/anaconda3/lib/python3.9/site-packages/matplotlib/axes/_axes.py?line=1629'>1630</a>\u001b[0m \u001b[39m\"\"\"\u001b[39;00m\n\u001b[1;32m   <a href='file:///Users/vibhasastry/opt/anaconda3/lib/python3.9/site-packages/matplotlib/axes/_axes.py?line=1630'>1631</a>\u001b[0m kwargs \u001b[39m=\u001b[39m cbook\u001b[39m.\u001b[39mnormalize_kwargs(kwargs, mlines\u001b[39m.\u001b[39mLine2D)\n\u001b[0;32m-> <a href='file:///Users/vibhasastry/opt/anaconda3/lib/python3.9/site-packages/matplotlib/axes/_axes.py?line=1631'>1632</a>\u001b[0m lines \u001b[39m=\u001b[39m [\u001b[39m*\u001b[39m\u001b[39mself\u001b[39m\u001b[39m.\u001b[39m_get_lines(\u001b[39m*\u001b[39margs, data\u001b[39m=\u001b[39mdata, \u001b[39m*\u001b[39m\u001b[39m*\u001b[39mkwargs)]\n\u001b[1;32m   <a href='file:///Users/vibhasastry/opt/anaconda3/lib/python3.9/site-packages/matplotlib/axes/_axes.py?line=1632'>1633</a>\u001b[0m \u001b[39mfor\u001b[39;00m line \u001b[39min\u001b[39;00m lines:\n\u001b[1;32m   <a href='file:///Users/vibhasastry/opt/anaconda3/lib/python3.9/site-packages/matplotlib/axes/_axes.py?line=1633'>1634</a>\u001b[0m     \u001b[39mself\u001b[39m\u001b[39m.\u001b[39madd_line(line)\n",
      "File \u001b[0;32m~/opt/anaconda3/lib/python3.9/site-packages/matplotlib/axes/_base.py:312\u001b[0m, in \u001b[0;36m_process_plot_var_args.__call__\u001b[0;34m(self, data, *args, **kwargs)\u001b[0m\n\u001b[1;32m    <a href='file:///Users/vibhasastry/opt/anaconda3/lib/python3.9/site-packages/matplotlib/axes/_base.py?line=309'>310</a>\u001b[0m     this \u001b[39m+\u001b[39m\u001b[39m=\u001b[39m args[\u001b[39m0\u001b[39m],\n\u001b[1;32m    <a href='file:///Users/vibhasastry/opt/anaconda3/lib/python3.9/site-packages/matplotlib/axes/_base.py?line=310'>311</a>\u001b[0m     args \u001b[39m=\u001b[39m args[\u001b[39m1\u001b[39m:]\n\u001b[0;32m--> <a href='file:///Users/vibhasastry/opt/anaconda3/lib/python3.9/site-packages/matplotlib/axes/_base.py?line=311'>312</a>\u001b[0m \u001b[39myield from\u001b[39;00m \u001b[39mself\u001b[39;49m\u001b[39m.\u001b[39;49m_plot_args(this, kwargs)\n",
      "File \u001b[0;32m~/opt/anaconda3/lib/python3.9/site-packages/matplotlib/axes/_base.py:487\u001b[0m, in \u001b[0;36m_process_plot_var_args._plot_args\u001b[0;34m(self, tup, kwargs, return_kwargs)\u001b[0m\n\u001b[1;32m    <a href='file:///Users/vibhasastry/opt/anaconda3/lib/python3.9/site-packages/matplotlib/axes/_base.py?line=483'>484</a>\u001b[0m         kw[prop_name] \u001b[39m=\u001b[39m val\n\u001b[1;32m    <a href='file:///Users/vibhasastry/opt/anaconda3/lib/python3.9/site-packages/matplotlib/axes/_base.py?line=485'>486</a>\u001b[0m \u001b[39mif\u001b[39;00m \u001b[39mlen\u001b[39m(xy) \u001b[39m==\u001b[39m \u001b[39m2\u001b[39m:\n\u001b[0;32m--> <a href='file:///Users/vibhasastry/opt/anaconda3/lib/python3.9/site-packages/matplotlib/axes/_base.py?line=486'>487</a>\u001b[0m     x \u001b[39m=\u001b[39m _check_1d(xy[\u001b[39m0\u001b[39;49m])\n\u001b[1;32m    <a href='file:///Users/vibhasastry/opt/anaconda3/lib/python3.9/site-packages/matplotlib/axes/_base.py?line=487'>488</a>\u001b[0m     y \u001b[39m=\u001b[39m _check_1d(xy[\u001b[39m1\u001b[39m])\n\u001b[1;32m    <a href='file:///Users/vibhasastry/opt/anaconda3/lib/python3.9/site-packages/matplotlib/axes/_base.py?line=488'>489</a>\u001b[0m \u001b[39melse\u001b[39;00m:\n",
      "File \u001b[0;32m~/opt/anaconda3/lib/python3.9/site-packages/matplotlib/cbook/__init__.py:1327\u001b[0m, in \u001b[0;36m_check_1d\u001b[0;34m(x)\u001b[0m\n\u001b[1;32m   <a href='file:///Users/vibhasastry/opt/anaconda3/lib/python3.9/site-packages/matplotlib/cbook/__init__.py?line=1320'>1321</a>\u001b[0m \u001b[39mwith\u001b[39;00m warnings\u001b[39m.\u001b[39mcatch_warnings(record\u001b[39m=\u001b[39m\u001b[39mTrue\u001b[39;00m) \u001b[39mas\u001b[39;00m w:\n\u001b[1;32m   <a href='file:///Users/vibhasastry/opt/anaconda3/lib/python3.9/site-packages/matplotlib/cbook/__init__.py?line=1321'>1322</a>\u001b[0m     warnings\u001b[39m.\u001b[39mfilterwarnings(\n\u001b[1;32m   <a href='file:///Users/vibhasastry/opt/anaconda3/lib/python3.9/site-packages/matplotlib/cbook/__init__.py?line=1322'>1323</a>\u001b[0m         \u001b[39m\"\u001b[39m\u001b[39malways\u001b[39m\u001b[39m\"\u001b[39m,\n\u001b[1;32m   <a href='file:///Users/vibhasastry/opt/anaconda3/lib/python3.9/site-packages/matplotlib/cbook/__init__.py?line=1323'>1324</a>\u001b[0m         category\u001b[39m=\u001b[39m\u001b[39mWarning\u001b[39;00m,\n\u001b[1;32m   <a href='file:///Users/vibhasastry/opt/anaconda3/lib/python3.9/site-packages/matplotlib/cbook/__init__.py?line=1324'>1325</a>\u001b[0m         message\u001b[39m=\u001b[39m\u001b[39m'\u001b[39m\u001b[39mSupport for multi-dimensional indexing\u001b[39m\u001b[39m'\u001b[39m)\n\u001b[0;32m-> <a href='file:///Users/vibhasastry/opt/anaconda3/lib/python3.9/site-packages/matplotlib/cbook/__init__.py?line=1326'>1327</a>\u001b[0m     ndim \u001b[39m=\u001b[39m x[:, \u001b[39mNone\u001b[39;49;00m]\u001b[39m.\u001b[39mndim\n\u001b[1;32m   <a href='file:///Users/vibhasastry/opt/anaconda3/lib/python3.9/site-packages/matplotlib/cbook/__init__.py?line=1327'>1328</a>\u001b[0m     \u001b[39m# we have definitely hit a pandas index or series object\u001b[39;00m\n\u001b[1;32m   <a href='file:///Users/vibhasastry/opt/anaconda3/lib/python3.9/site-packages/matplotlib/cbook/__init__.py?line=1328'>1329</a>\u001b[0m     \u001b[39m# cast to a numpy array.\u001b[39;00m\n\u001b[1;32m   <a href='file:///Users/vibhasastry/opt/anaconda3/lib/python3.9/site-packages/matplotlib/cbook/__init__.py?line=1329'>1330</a>\u001b[0m     \u001b[39mif\u001b[39;00m \u001b[39mlen\u001b[39m(w) \u001b[39m>\u001b[39m \u001b[39m0\u001b[39m:\n",
      "File \u001b[0;32m~/opt/anaconda3/lib/python3.9/site-packages/pandas/core/indexes/base.py:5385\u001b[0m, in \u001b[0;36mIndex.__getitem__\u001b[0;34m(self, key)\u001b[0m\n\u001b[1;32m   <a href='file:///Users/vibhasastry/opt/anaconda3/lib/python3.9/site-packages/pandas/core/indexes/base.py?line=5382'>5383</a>\u001b[0m \u001b[39m# Because we ruled out integer above, we always get an arraylike here\u001b[39;00m\n\u001b[1;32m   <a href='file:///Users/vibhasastry/opt/anaconda3/lib/python3.9/site-packages/pandas/core/indexes/base.py?line=5383'>5384</a>\u001b[0m \u001b[39mif\u001b[39;00m result\u001b[39m.\u001b[39mndim \u001b[39m>\u001b[39m \u001b[39m1\u001b[39m:\n\u001b[0;32m-> <a href='file:///Users/vibhasastry/opt/anaconda3/lib/python3.9/site-packages/pandas/core/indexes/base.py?line=5384'>5385</a>\u001b[0m     disallow_ndim_indexing(result)\n\u001b[1;32m   <a href='file:///Users/vibhasastry/opt/anaconda3/lib/python3.9/site-packages/pandas/core/indexes/base.py?line=5386'>5387</a>\u001b[0m \u001b[39m# NB: Using _constructor._simple_new would break if MultiIndex\u001b[39;00m\n\u001b[1;32m   <a href='file:///Users/vibhasastry/opt/anaconda3/lib/python3.9/site-packages/pandas/core/indexes/base.py?line=5387'>5388</a>\u001b[0m \u001b[39m#  didn't override __getitem__\u001b[39;00m\n\u001b[1;32m   <a href='file:///Users/vibhasastry/opt/anaconda3/lib/python3.9/site-packages/pandas/core/indexes/base.py?line=5388'>5389</a>\u001b[0m \u001b[39mreturn\u001b[39;00m \u001b[39mself\u001b[39m\u001b[39m.\u001b[39m_constructor\u001b[39m.\u001b[39m_simple_new(result, name\u001b[39m=\u001b[39m\u001b[39mself\u001b[39m\u001b[39m.\u001b[39m_name)\n",
      "File \u001b[0;32m~/opt/anaconda3/lib/python3.9/site-packages/pandas/core/indexers/utils.py:341\u001b[0m, in \u001b[0;36mdisallow_ndim_indexing\u001b[0;34m(result)\u001b[0m\n\u001b[1;32m    <a href='file:///Users/vibhasastry/opt/anaconda3/lib/python3.9/site-packages/pandas/core/indexers/utils.py?line=332'>333</a>\u001b[0m \u001b[39m\"\"\"\u001b[39;00m\n\u001b[1;32m    <a href='file:///Users/vibhasastry/opt/anaconda3/lib/python3.9/site-packages/pandas/core/indexers/utils.py?line=333'>334</a>\u001b[0m \u001b[39mHelper function to disallow multi-dimensional indexing on 1D Series/Index.\u001b[39;00m\n\u001b[1;32m    <a href='file:///Users/vibhasastry/opt/anaconda3/lib/python3.9/site-packages/pandas/core/indexers/utils.py?line=334'>335</a>\u001b[0m \n\u001b[0;32m   (...)\u001b[0m\n\u001b[1;32m    <a href='file:///Users/vibhasastry/opt/anaconda3/lib/python3.9/site-packages/pandas/core/indexers/utils.py?line=337'>338</a>\u001b[0m \u001b[39min GH#30588.\u001b[39;00m\n\u001b[1;32m    <a href='file:///Users/vibhasastry/opt/anaconda3/lib/python3.9/site-packages/pandas/core/indexers/utils.py?line=338'>339</a>\u001b[0m \u001b[39m\"\"\"\u001b[39;00m\n\u001b[1;32m    <a href='file:///Users/vibhasastry/opt/anaconda3/lib/python3.9/site-packages/pandas/core/indexers/utils.py?line=339'>340</a>\u001b[0m \u001b[39mif\u001b[39;00m np\u001b[39m.\u001b[39mndim(result) \u001b[39m>\u001b[39m \u001b[39m1\u001b[39m:\n\u001b[0;32m--> <a href='file:///Users/vibhasastry/opt/anaconda3/lib/python3.9/site-packages/pandas/core/indexers/utils.py?line=340'>341</a>\u001b[0m     \u001b[39mraise\u001b[39;00m \u001b[39mValueError\u001b[39;00m(\n\u001b[1;32m    <a href='file:///Users/vibhasastry/opt/anaconda3/lib/python3.9/site-packages/pandas/core/indexers/utils.py?line=341'>342</a>\u001b[0m         \u001b[39m\"\u001b[39m\u001b[39mMulti-dimensional indexing (e.g. `obj[:, None]`) is no longer \u001b[39m\u001b[39m\"\u001b[39m\n\u001b[1;32m    <a href='file:///Users/vibhasastry/opt/anaconda3/lib/python3.9/site-packages/pandas/core/indexers/utils.py?line=342'>343</a>\u001b[0m         \u001b[39m\"\u001b[39m\u001b[39msupported. Convert to a numpy array before indexing instead.\u001b[39m\u001b[39m\"\u001b[39m\n\u001b[1;32m    <a href='file:///Users/vibhasastry/opt/anaconda3/lib/python3.9/site-packages/pandas/core/indexers/utils.py?line=343'>344</a>\u001b[0m     )\n",
      "\u001b[0;31mValueError\u001b[0m: Multi-dimensional indexing (e.g. `obj[:, None]`) is no longer supported. Convert to a numpy array before indexing instead."
     ]
    },
    {
     "data": {
      "image/png": "[encoded data removed]",
      "text/plain": [
       "<Figure size 720x432 with 1 Axes>"
      ]
     },
     "metadata": {
      "needs_background": "light"
     },
     "output_type": "display_data"
    }
   ],
   "source": [
    "\n",
    "filtered_data = chartevents_rr_df[(chartevents_rr_df['RespiratoryRate_combined'] < 50) & (chartevents_rr_df['RespiratoryRate_combined'] > 0)]\n",
    "\n",
    "plt.figure(figsize=(10, 6))\n",
    "sns.histplot(filtered_data['RespiratoryRate_combined'], bins=20, kde=True, color='skyblue')\n",
    "plt.title('Distribution of Respiratory Rates')\n",
    "plt.xlabel('Respiratory Rate (combined)')\n",
    "plt.show()\n"
   ]
  },
  {
   "cell_type": "code",
   "execution_count": 29,
   "metadata": {},
   "outputs": [],
   "source": [
    "\n",
    "index_to_replace = chartevents_rr_df[chartevents_rr_df['RespiratoryRate_combined'] < 0].index[0]\n",
    "chartevents_rr_df.loc[index_to_replace, 'RespiratoryRate_combined'] = chartevents_rr_df.loc[index_to_replace, 'Respiratory Rate (spontaneous)']"
   ]
  },
  {
   "cell_type": "code",
   "execution_count": 33,
   "metadata": {},
   "outputs": [
    {
     "data": {
      "text/html": [
       "<div>\n",
       "<style scoped>\n",
       "    .dataframe tbody tr th:only-of-type {\n",
       "        vertical-align: middle;\n",
       "    }\n",
       "\n",
       "    .dataframe tbody tr th {\n",
       "        vertical-align: top;\n",
       "    }\n",
       "\n",
       "    .dataframe thead th {\n",
       "        text-align: right;\n",
       "    }\n",
       "</style>\n",
       "<table border=\"1\" class=\"dataframe\">\n",
       "  <thead>\n",
       "    <tr style=\"text-align: right;\">\n",
       "      <th></th>\n",
       "      <th>subject_id</th>\n",
       "      <th>hadm_id</th>\n",
       "      <th>icustay_id</th>\n",
       "      <th>charttime</th>\n",
       "      <th>Respiratory Rate</th>\n",
       "      <th>Respiratory Rate (Set)</th>\n",
       "      <th>Respiratory Rate (Total)</th>\n",
       "      <th>Respiratory Rate (spontaneous)</th>\n",
       "      <th>Respiratory Rate Set</th>\n",
       "      <th>RespiratoryRate_combined</th>\n",
       "    </tr>\n",
       "  </thead>\n",
       "  <tbody>\n",
       "  </tbody>\n",
       "</table>\n",
       "</div>"
      ],
      "text/plain": [
       "Empty DataFrame\n",
       "Columns: [subject_id, hadm_id, icustay_id, charttime, Respiratory Rate, Respiratory Rate (Set), Respiratory Rate (Total), Respiratory Rate (spontaneous), Respiratory Rate Set, RespiratoryRate_combined]\n",
       "Index: []"
      ]
     },
     "execution_count": 33,
     "metadata": {},
     "output_type": "execute_result"
    }
   ],
   "source": [
    "\n",
    "\n",
    "column_name = 'RespiratoryRate_combined'\n",
    "\n",
    "\n",
    "Q1 = chartevents_rr_df[column_name].quantile(0.25)\n",
    "Q3 = chartevents_rr_df[column_name].quantile(0.75)\n",
    "IQR = Q3 - Q1\n",
    "\n",
    "lower_bound = Q1 - 1.5 * IQR\n",
    "upper_bound = Q3 + 1.5 * IQR\n",
    "\n",
    "\n",
    "outliers = chartevents_rr_df[(chartevents_rr_df[column_name] < lower_bound) | (chartevents_rr_df[column_name] > upper_bound)]\n",
    "\n",
    "outliers.loc[outliers['RespiratoryRate_combined'] > 100, 'RespiratoryRate_combined'] /= 10\n",
    "outliers.loc[outliers['RespiratoryRate_combined'] > 100, 'RespiratoryRate_combined'] /= 10\n",
    "outliers.loc[outliers['RespiratoryRate_combined'] > 100, 'RespiratoryRate_combined'] /= 1000\n",
    "\n",
    "outliers[outliers['RespiratoryRate_combined'] > 100]"
   ]
  },
  {
   "cell_type": "code",
   "execution_count": 38,
   "metadata": {},
   "outputs": [
    {
     "data": {
      "text/plain": [
       "Index(['subject_id', 'hadm_id', 'icustay_id', 'charttime', 'Respiratory Rate',\n",
       "       'Respiratory Rate (Set)', 'Respiratory Rate (Total)',\n",
       "       'Respiratory Rate (spontaneous)', 'Respiratory Rate Set',\n",
       "       'RespiratoryRate_combined'],\n",
       "      dtype='object')"
      ]
     },
     "execution_count": 38,
     "metadata": {},
     "output_type": "execute_result"
    }
   ],
   "source": [
    "chartevents_rr_df.columns"
   ]
  },
  {
   "cell_type": "code",
   "execution_count": null,
   "metadata": {},
   "outputs": [],
   "source": [
    "outliers.set_index(['subject_id', 'hadm_id', 'charttime'], inplace=True)\n",
    "chartevents_rr_df.set_index(['subject_id', 'hadm_id', 'charttime'], inplace=True)\n",
    "\n",
    "chartevents_rr_df.update(outliers[['RespiratoryRate_combined']])\n",
    "\n",
    "chartevents_rr_df.reset_index(inplace=True)"
   ]
  },
  {
   "cell_type": "code",
   "execution_count": 91,
   "metadata": {},
   "outputs": [],
   "source": [
    "def choose_reasonable_respiratory_rate(row):\n",
    "    respiratory_columns = ['Respiratory Rate', 'Respiratory Rate (Set)', 'Respiratory Rate (Total)',\n",
    "                            'Respiratory Rate (spontaneous)', 'Respiratory Rate Set',\n",
    "                            'RespiratoryRate_combined']\n",
    "\n",
    "    valid_values = [row[column] for column in respiratory_columns if not np.isnan(row[column])]\n",
    "\n",
    "    if not valid_values:\n",
    "        return row\n",
    "\n",
    "    # Find the closest value to the median (robust to outliers)\n",
    "    closest_value = min(valid_values, key=lambda x: abs(x - np.median(valid_values)))\n",
    "\n",
    "    row['RespiratoryRate_combined'] = closest_value\n",
    "\n",
    "    return row\n"
   ]
  },
  {
   "cell_type": "code",
   "execution_count": 92,
   "metadata": {},
   "outputs": [],
   "source": [
    "to_fix = chartevents_rr_df[chartevents_rr_df['RespiratoryRate_combined'] > 60].reset_index()"
   ]
  },
  {
   "cell_type": "code",
   "execution_count": 93,
   "metadata": {},
   "outputs": [
    {
     "data": {
      "text/plain": [
       "Index(['subject_id', 'hadm_id', 'charttime', 'icustay_id', 'Respiratory Rate',\n",
       "       'Respiratory Rate (Set)', 'Respiratory Rate (Total)',\n",
       "       'Respiratory Rate (spontaneous)', 'Respiratory Rate Set',\n",
       "       'RespiratoryRate_combined'],\n",
       "      dtype='object')"
      ]
     },
     "execution_count": 93,
     "metadata": {},
     "output_type": "execute_result"
    }
   ],
   "source": [
    "to_fix.columns"
   ]
  },
  {
   "cell_type": "code",
   "execution_count": 78,
   "metadata": {},
   "outputs": [
    {
     "data": {
      "text/plain": [
       "Index(['icustay_id', 'Respiratory Rate', 'Respiratory Rate (Set)',\n",
       "       'Respiratory Rate (Total)', 'Respiratory Rate (spontaneous)',\n",
       "       'Respiratory Rate Set', 'RespiratoryRate_combined'],\n",
       "      dtype='object')"
      ]
     },
     "execution_count": 78,
     "metadata": {},
     "output_type": "execute_result"
    }
   ],
   "source": [
    "to_fix.columns"
   ]
  },
  {
   "cell_type": "code",
   "execution_count": 100,
   "metadata": {},
   "outputs": [],
   "source": [
    "chartevents_rr_df = chartevents_rr_df.reset_index()"
   ]
  },
  {
   "cell_type": "code",
   "execution_count": null,
   "metadata": {},
   "outputs": [],
   "source": [
    "# Select the relevant data\n",
    "# filtered_data = chartevents_rr_df[(chartevents_rr_df['RespiratoryRate_combined'] < 50) & (chartevents_rr_df['RespiratoryRate_combined'] > 0)]\n",
    "\n",
    "# Create a histogram\n",
    "plt.figure(figsize=(10, 6))\n",
    "sns.histplot(chartevents_rr_df['RespiratoryRate_combined'], bins=20, kde=True, color='skyblue')\n",
    "plt.title('Distribution of Respiratory Rates')\n",
    "plt.xlabel('Respiratory Rate (combined)')\n",
    "plt.show()"
   ]
  },
  {
   "cell_type": "code",
   "execution_count": 96,
   "metadata": {},
   "outputs": [],
   "source": [
    "def merge_respiratory_to_subgroup(respiratory_df, subgroup_df):\n",
    "    respiratory_df['charttime'] = pd.to_datetime(respiratory_df['charttime'])\n",
    "    \n",
    "    if 'level_0' in subgroup_df.columns:\n",
    "        subgroup_df = subgroup_df.drop('level_0', axis=1)\n",
    "\n",
    "    subgroup_df.reset_index(inplace=True)\n",
    "\n",
    "    filtered_respiratory_df = respiratory_df[respiratory_df['subject_id'].isin(subgroup_df['subject_id'])]\n",
    "\n",
    "    merged_df = pd.merge(filtered_respiratory_df[['subject_id', 'hadm_id', 'icustay_id', 'charttime', 'RespiratoryRate_combined']],\n",
    "                        subgroup_df[['subject_id', 'rounded_age', 'admission_type_encoded', 'subgroup']],\n",
    "                        on='subject_id', how='outer')\n",
    "\n",
    "    return merged_df"
   ]
  },
  {
   "cell_type": "code",
   "execution_count": 101,
   "metadata": {},
   "outputs": [],
   "source": [
    "subgroup_1_rr_df = merge_respiratory_to_subgroup(chartevents_rr_df, subgroup_1_df)\n",
    "subgroup_2_rr_df = merge_respiratory_to_subgroup(chartevents_rr_df, subgroup_2_df)\n",
    "subgroup_3_rr_df = merge_respiratory_to_subgroup(chartevents_rr_df, subgroup_3_df)\n",
    "subgroup_4_rr_df = merge_respiratory_to_subgroup(chartevents_rr_df, subgroup_4_df)\n",
    "subgroup_5_rr_df = merge_respiratory_to_subgroup(chartevents_rr_df, subgroup_5_df)\n",
    "subgroup_6_rr_df = merge_respiratory_to_subgroup(chartevents_rr_df, subgroup_6_df)\n",
    "subgroup_7_rr_df = merge_respiratory_to_subgroup(chartevents_rr_df, subgroup_7_df)\n"
   ]
  },
  {
   "cell_type": "code",
   "execution_count": 392,
   "metadata": {},
   "outputs": [
    {
     "data": {
      "text/plain": [
       "Index(['subject_id', 'hadm_id', 'icustay_id', 'charttime',\n",
       "       'RespiratoryRate_combined', 'rounded_age', 'admission_type_encoded',\n",
       "       'subgroup'],\n",
       "      dtype='object')"
      ]
     },
     "execution_count": 392,
     "metadata": {},
     "output_type": "execute_result"
    }
   ],
   "source": [
    "subgroup_1_rr_df.columns"
   ]
  },
  {
   "cell_type": "code",
   "execution_count": 393,
   "metadata": {},
   "outputs": [
    {
     "data": {
      "text/plain": [
       "Index(['subject_id', 'hadm_id', 'icustay_id', 'charttime', 'Respiratory Rate',\n",
       "       'Respiratory Rate (Set)', 'Respiratory Rate (Total)',\n",
       "       'Respiratory Rate (spontaneous)', 'Respiratory Rate Set',\n",
       "       'RespiratoryRate_combined'],\n",
       "      dtype='object')"
      ]
     },
     "execution_count": 393,
     "metadata": {},
     "output_type": "execute_result"
    }
   ],
   "source": [
    "chartevents_rr_df.columns"
   ]
  },
  {
   "cell_type": "code",
   "execution_count": 399,
   "metadata": {},
   "outputs": [
    {
     "data": {
      "text/html": [
       "<div>\n",
       "<style scoped>\n",
       "    .dataframe tbody tr th:only-of-type {\n",
       "        vertical-align: middle;\n",
       "    }\n",
       "\n",
       "    .dataframe tbody tr th {\n",
       "        vertical-align: top;\n",
       "    }\n",
       "\n",
       "    .dataframe thead th {\n",
       "        text-align: right;\n",
       "    }\n",
       "</style>\n",
       "<table border=\"1\" class=\"dataframe\">\n",
       "  <thead>\n",
       "    <tr style=\"text-align: right;\">\n",
       "      <th></th>\n",
       "      <th>Subgroup 1</th>\n",
       "      <th>Subgroup 2</th>\n",
       "      <th>Subgroup 3</th>\n",
       "      <th>Subgroup 4</th>\n",
       "      <th>Subgroup 5</th>\n",
       "      <th>Subgroup 6</th>\n",
       "      <th>Subgroup 7</th>\n",
       "      <th>Original Chartevents</th>\n",
       "    </tr>\n",
       "  </thead>\n",
       "  <tbody>\n",
       "    <tr>\n",
       "      <th>mean</th>\n",
       "      <td>18.817742</td>\n",
       "      <td>20.473921</td>\n",
       "      <td>19.990236</td>\n",
       "      <td>2.080735e+01</td>\n",
       "      <td>19.558376</td>\n",
       "      <td>20.302311</td>\n",
       "      <td>20.251847</td>\n",
       "      <td>2.039807e+01</td>\n",
       "    </tr>\n",
       "    <tr>\n",
       "      <th>max</th>\n",
       "      <td>1416.000000</td>\n",
       "      <td>2615.000000</td>\n",
       "      <td>3129.000000</td>\n",
       "      <td>2.355555e+06</td>\n",
       "      <td>464.000000</td>\n",
       "      <td>2423.000000</td>\n",
       "      <td>2210.000000</td>\n",
       "      <td>2.355555e+06</td>\n",
       "    </tr>\n",
       "    <tr>\n",
       "      <th>mode</th>\n",
       "      <td>16.000000</td>\n",
       "      <td>20.000000</td>\n",
       "      <td>18.000000</td>\n",
       "      <td>1.800000e+01</td>\n",
       "      <td>16.000000</td>\n",
       "      <td>20.000000</td>\n",
       "      <td>20.000000</td>\n",
       "      <td>1.800000e+01</td>\n",
       "    </tr>\n",
       "    <tr>\n",
       "      <th>std</th>\n",
       "      <td>6.025228</td>\n",
       "      <td>6.503185</td>\n",
       "      <td>8.496758</td>\n",
       "      <td>1.554295e+03</td>\n",
       "      <td>6.541060</td>\n",
       "      <td>7.289371</td>\n",
       "      <td>6.775131</td>\n",
       "      <td>9.412437e+02</td>\n",
       "    </tr>\n",
       "    <tr>\n",
       "      <th>median</th>\n",
       "      <td>18.000000</td>\n",
       "      <td>20.000000</td>\n",
       "      <td>19.000000</td>\n",
       "      <td>1.900000e+01</td>\n",
       "      <td>19.000000</td>\n",
       "      <td>20.000000</td>\n",
       "      <td>20.000000</td>\n",
       "      <td>1.900000e+01</td>\n",
       "    </tr>\n",
       "  </tbody>\n",
       "</table>\n",
       "</div>"
      ],
      "text/plain": [
       "         Subgroup 1   Subgroup 2   Subgroup 3    Subgroup 4  Subgroup 5  \\\n",
       "mean      18.817742    20.473921    19.990236  2.080735e+01   19.558376   \n",
       "max     1416.000000  2615.000000  3129.000000  2.355555e+06  464.000000   \n",
       "mode      16.000000    20.000000    18.000000  1.800000e+01   16.000000   \n",
       "std        6.025228     6.503185     8.496758  1.554295e+03    6.541060   \n",
       "median    18.000000    20.000000    19.000000  1.900000e+01   19.000000   \n",
       "\n",
       "         Subgroup 6   Subgroup 7  Original Chartevents  \n",
       "mean      20.302311    20.251847          2.039807e+01  \n",
       "max     2423.000000  2210.000000          2.355555e+06  \n",
       "mode      20.000000    20.000000          1.800000e+01  \n",
       "std        7.289371     6.775131          9.412437e+02  \n",
       "median    20.000000    20.000000          1.900000e+01  "
      ]
     },
     "execution_count": 399,
     "metadata": {},
     "output_type": "execute_result"
    }
   ],
   "source": [
    "\n",
    "resp_dfs = [subgroup_1_rr_df,\n",
    "            subgroup_2_rr_df,\n",
    "            subgroup_3_rr_df,\n",
    "            subgroup_4_rr_df,\n",
    "            subgroup_5_rr_df,\n",
    "            subgroup_6_rr_df,\n",
    "            subgroup_7_rr_df]\n",
    "\n",
    "\n",
    "def calculate_stats(df):\n",
    "    return df['RespiratoryRate_combined'].agg(lambda x: pd.Series({\n",
    "        'mean': x.mean(),\n",
    "        'max': x.max(),\n",
    "        'mode': x.mode().iloc[0],\n",
    "        'std': x.std(),\n",
    "        'median': x.median()\n",
    "    }))\n",
    "\n",
    "resp_stats_list = []\n",
    "\n",
    "for i, df in enumerate(resp_dfs):\n",
    "    subgroup_stats = calculate_stats(df)\n",
    "    resp_stats_list.append(subgroup_stats)\n",
    "\n",
    "result_resp_df = pd.DataFrame(resp_stats_list, index=[f'Subgroup {i + 1}' for i in range(len(resp_dfs))])\n",
    "\n",
    "result_resp_df.loc['Original Chartevents'] = calculate_stats(chartevents_rr_df)\n",
    "\n",
    "result_resp_df = result_resp_df.transpose()\n",
    "\n",
    "result_resp_df\n"
   ]
  },
  {
   "cell_type": "code",
   "execution_count": 108,
   "metadata": {},
   "outputs": [
    {
     "ename": "ValueError",
     "evalue": "Multi-dimensional indexing (e.g. `obj[:, None]`) is no longer supported. Convert to a numpy array before indexing instead.",
     "output_type": "error",
     "traceback": [
      "\u001b[0;31m---------------------------------------------------------------------------\u001b[0m",
      "\u001b[0;31mValueError\u001b[0m                                Traceback (most recent call last)",
      "\u001b[1;32m/Users/vibhasastry/dsc180b-wi24-quarter2/data_extraction/eda_subgroups.ipynb Cell 32'\u001b[0m in \u001b[0;36m<cell line: 2>\u001b[0;34m()\u001b[0m\n\u001b[1;32m      <a href='vscode-notebook-cell:/Users/vibhasastry/dsc180b-wi24-quarter2/data_extraction/eda_subgroups.ipynb#ch0000029?line=4'>5</a>\u001b[0m filtered_data \u001b[39m=\u001b[39m [value \u001b[39mfor\u001b[39;00m value \u001b[39min\u001b[39;00m filtered_data \u001b[39mif\u001b[39;00m \u001b[39m0\u001b[39m \u001b[39m<\u001b[39m value \u001b[39m<\u001b[39m \u001b[39m50\u001b[39m]\n\u001b[1;32m      <a href='vscode-notebook-cell:/Users/vibhasastry/dsc180b-wi24-quarter2/data_extraction/eda_subgroups.ipynb#ch0000029?line=6'>7</a>\u001b[0m plt\u001b[39m.\u001b[39mfigure(figsize\u001b[39m=\u001b[39m(\u001b[39m8\u001b[39m, \u001b[39m5\u001b[39m))\n\u001b[0;32m----> <a href='vscode-notebook-cell:/Users/vibhasastry/dsc180b-wi24-quarter2/data_extraction/eda_subgroups.ipynb#ch0000029?line=7'>8</a>\u001b[0m sns\u001b[39m.\u001b[39;49mhistplot(filtered_data, bins\u001b[39m=\u001b[39;49m\u001b[39m20\u001b[39;49m, kde\u001b[39m=\u001b[39;49m\u001b[39mTrue\u001b[39;49;00m, color\u001b[39m=\u001b[39;49m\u001b[39m'\u001b[39;49m\u001b[39mskyblue\u001b[39;49m\u001b[39m'\u001b[39;49m)\n\u001b[1;32m      <a href='vscode-notebook-cell:/Users/vibhasastry/dsc180b-wi24-quarter2/data_extraction/eda_subgroups.ipynb#ch0000029?line=8'>9</a>\u001b[0m plt\u001b[39m.\u001b[39mtitle(\u001b[39mf\u001b[39m\u001b[39m'\u001b[39m\u001b[39mDistribution of Respiratory Rates - Subgroup \u001b[39m\u001b[39m{\u001b[39;00mi \u001b[39m+\u001b[39m \u001b[39m1\u001b[39m\u001b[39m}\u001b[39;00m\u001b[39m'\u001b[39m)\n\u001b[1;32m     <a href='vscode-notebook-cell:/Users/vibhasastry/dsc180b-wi24-quarter2/data_extraction/eda_subgroups.ipynb#ch0000029?line=9'>10</a>\u001b[0m plt\u001b[39m.\u001b[39mxlabel(\u001b[39m'\u001b[39m\u001b[39mRespiratory Rate (combined)\u001b[39m\u001b[39m'\u001b[39m)\n",
      "File \u001b[0;32m~/opt/anaconda3/lib/python3.9/site-packages/seaborn/distributions.py:1416\u001b[0m, in \u001b[0;36mhistplot\u001b[0;34m(data, x, y, hue, weights, stat, bins, binwidth, binrange, discrete, cumulative, common_bins, common_norm, multiple, element, fill, shrink, kde, kde_kws, line_kws, thresh, pthresh, pmax, cbar, cbar_ax, cbar_kws, palette, hue_order, hue_norm, color, log_scale, legend, ax, **kwargs)\u001b[0m\n\u001b[1;32m   <a href='file:///Users/vibhasastry/opt/anaconda3/lib/python3.9/site-packages/seaborn/distributions.py?line=1404'>1405</a>\u001b[0m estimate_kws \u001b[39m=\u001b[39m \u001b[39mdict\u001b[39m(\n\u001b[1;32m   <a href='file:///Users/vibhasastry/opt/anaconda3/lib/python3.9/site-packages/seaborn/distributions.py?line=1405'>1406</a>\u001b[0m     stat\u001b[39m=\u001b[39mstat,\n\u001b[1;32m   <a href='file:///Users/vibhasastry/opt/anaconda3/lib/python3.9/site-packages/seaborn/distributions.py?line=1406'>1407</a>\u001b[0m     bins\u001b[39m=\u001b[39mbins,\n\u001b[0;32m   (...)\u001b[0m\n\u001b[1;32m   <a href='file:///Users/vibhasastry/opt/anaconda3/lib/python3.9/site-packages/seaborn/distributions.py?line=1410'>1411</a>\u001b[0m     cumulative\u001b[39m=\u001b[39mcumulative,\n\u001b[1;32m   <a href='file:///Users/vibhasastry/opt/anaconda3/lib/python3.9/site-packages/seaborn/distributions.py?line=1411'>1412</a>\u001b[0m )\n\u001b[1;32m   <a href='file:///Users/vibhasastry/opt/anaconda3/lib/python3.9/site-packages/seaborn/distributions.py?line=1413'>1414</a>\u001b[0m \u001b[39mif\u001b[39;00m p\u001b[39m.\u001b[39munivariate:\n\u001b[0;32m-> <a href='file:///Users/vibhasastry/opt/anaconda3/lib/python3.9/site-packages/seaborn/distributions.py?line=1415'>1416</a>\u001b[0m     p\u001b[39m.\u001b[39;49mplot_univariate_histogram(\n\u001b[1;32m   <a href='file:///Users/vibhasastry/opt/anaconda3/lib/python3.9/site-packages/seaborn/distributions.py?line=1416'>1417</a>\u001b[0m         multiple\u001b[39m=\u001b[39;49mmultiple,\n\u001b[1;32m   <a href='file:///Users/vibhasastry/opt/anaconda3/lib/python3.9/site-packages/seaborn/distributions.py?line=1417'>1418</a>\u001b[0m         element\u001b[39m=\u001b[39;49melement,\n\u001b[1;32m   <a href='file:///Users/vibhasastry/opt/anaconda3/lib/python3.9/site-packages/seaborn/distributions.py?line=1418'>1419</a>\u001b[0m         fill\u001b[39m=\u001b[39;49mfill,\n\u001b[1;32m   <a href='file:///Users/vibhasastry/opt/anaconda3/lib/python3.9/site-packages/seaborn/distributions.py?line=1419'>1420</a>\u001b[0m         shrink\u001b[39m=\u001b[39;49mshrink,\n\u001b[1;32m   <a href='file:///Users/vibhasastry/opt/anaconda3/lib/python3.9/site-packages/seaborn/distributions.py?line=1420'>1421</a>\u001b[0m         common_norm\u001b[39m=\u001b[39;49mcommon_norm,\n\u001b[1;32m   <a href='file:///Users/vibhasastry/opt/anaconda3/lib/python3.9/site-packages/seaborn/distributions.py?line=1421'>1422</a>\u001b[0m         common_bins\u001b[39m=\u001b[39;49mcommon_bins,\n\u001b[1;32m   <a href='file:///Users/vibhasastry/opt/anaconda3/lib/python3.9/site-packages/seaborn/distributions.py?line=1422'>1423</a>\u001b[0m         kde\u001b[39m=\u001b[39;49mkde,\n\u001b[1;32m   <a href='file:///Users/vibhasastry/opt/anaconda3/lib/python3.9/site-packages/seaborn/distributions.py?line=1423'>1424</a>\u001b[0m         kde_kws\u001b[39m=\u001b[39;49mkde_kws,\n\u001b[1;32m   <a href='file:///Users/vibhasastry/opt/anaconda3/lib/python3.9/site-packages/seaborn/distributions.py?line=1424'>1425</a>\u001b[0m         color\u001b[39m=\u001b[39;49mcolor,\n\u001b[1;32m   <a href='file:///Users/vibhasastry/opt/anaconda3/lib/python3.9/site-packages/seaborn/distributions.py?line=1425'>1426</a>\u001b[0m         legend\u001b[39m=\u001b[39;49mlegend,\n\u001b[1;32m   <a href='file:///Users/vibhasastry/opt/anaconda3/lib/python3.9/site-packages/seaborn/distributions.py?line=1426'>1427</a>\u001b[0m         estimate_kws\u001b[39m=\u001b[39;49mestimate_kws,\n\u001b[1;32m   <a href='file:///Users/vibhasastry/opt/anaconda3/lib/python3.9/site-packages/seaborn/distributions.py?line=1427'>1428</a>\u001b[0m         line_kws\u001b[39m=\u001b[39;49mline_kws,\n\u001b[1;32m   <a href='file:///Users/vibhasastry/opt/anaconda3/lib/python3.9/site-packages/seaborn/distributions.py?line=1428'>1429</a>\u001b[0m         \u001b[39m*\u001b[39;49m\u001b[39m*\u001b[39;49mkwargs,\n\u001b[1;32m   <a href='file:///Users/vibhasastry/opt/anaconda3/lib/python3.9/site-packages/seaborn/distributions.py?line=1429'>1430</a>\u001b[0m     )\n\u001b[1;32m   <a href='file:///Users/vibhasastry/opt/anaconda3/lib/python3.9/site-packages/seaborn/distributions.py?line=1431'>1432</a>\u001b[0m \u001b[39melse\u001b[39;00m:\n\u001b[1;32m   <a href='file:///Users/vibhasastry/opt/anaconda3/lib/python3.9/site-packages/seaborn/distributions.py?line=1433'>1434</a>\u001b[0m     p\u001b[39m.\u001b[39mplot_bivariate_histogram(\n\u001b[1;32m   <a href='file:///Users/vibhasastry/opt/anaconda3/lib/python3.9/site-packages/seaborn/distributions.py?line=1434'>1435</a>\u001b[0m         common_bins\u001b[39m=\u001b[39mcommon_bins,\n\u001b[1;32m   <a href='file:///Users/vibhasastry/opt/anaconda3/lib/python3.9/site-packages/seaborn/distributions.py?line=1435'>1436</a>\u001b[0m         common_norm\u001b[39m=\u001b[39mcommon_norm,\n\u001b[0;32m   (...)\u001b[0m\n\u001b[1;32m   <a href='file:///Users/vibhasastry/opt/anaconda3/lib/python3.9/site-packages/seaborn/distributions.py?line=1445'>1446</a>\u001b[0m         \u001b[39m*\u001b[39m\u001b[39m*\u001b[39mkwargs,\n\u001b[1;32m   <a href='file:///Users/vibhasastry/opt/anaconda3/lib/python3.9/site-packages/seaborn/distributions.py?line=1446'>1447</a>\u001b[0m     )\n",
      "File \u001b[0;32m~/opt/anaconda3/lib/python3.9/site-packages/seaborn/distributions.py:651\u001b[0m, in \u001b[0;36m_DistributionPlotter.plot_univariate_histogram\u001b[0;34m(self, multiple, element, fill, common_norm, common_bins, shrink, kde, kde_kws, color, legend, line_kws, estimate_kws, **plot_kws)\u001b[0m\n\u001b[1;32m    <a href='file:///Users/vibhasastry/opt/anaconda3/lib/python3.9/site-packages/seaborn/distributions.py?line=647'>648</a>\u001b[0m     sticky_x, sticky_y \u001b[39m=\u001b[39m (\u001b[39m0\u001b[39m, np\u001b[39m.\u001b[39minf), \u001b[39mNone\u001b[39;00m\n\u001b[1;32m    <a href='file:///Users/vibhasastry/opt/anaconda3/lib/python3.9/site-packages/seaborn/distributions.py?line=649'>650</a>\u001b[0m line_kws[\u001b[39m\"\u001b[39m\u001b[39mcolor\u001b[39m\u001b[39m\"\u001b[39m] \u001b[39m=\u001b[39m to_rgba(sub_color, \u001b[39m1\u001b[39m)\n\u001b[0;32m--> <a href='file:///Users/vibhasastry/opt/anaconda3/lib/python3.9/site-packages/seaborn/distributions.py?line=650'>651</a>\u001b[0m line, \u001b[39m=\u001b[39m ax\u001b[39m.\u001b[39;49mplot(\n\u001b[1;32m    <a href='file:///Users/vibhasastry/opt/anaconda3/lib/python3.9/site-packages/seaborn/distributions.py?line=651'>652</a>\u001b[0m     \u001b[39m*\u001b[39;49mline_args, \u001b[39m*\u001b[39;49m\u001b[39m*\u001b[39;49mline_kws,\n\u001b[1;32m    <a href='file:///Users/vibhasastry/opt/anaconda3/lib/python3.9/site-packages/seaborn/distributions.py?line=652'>653</a>\u001b[0m )\n\u001b[1;32m    <a href='file:///Users/vibhasastry/opt/anaconda3/lib/python3.9/site-packages/seaborn/distributions.py?line=654'>655</a>\u001b[0m \u001b[39mif\u001b[39;00m sticky_x \u001b[39mis\u001b[39;00m \u001b[39mnot\u001b[39;00m \u001b[39mNone\u001b[39;00m:\n\u001b[1;32m    <a href='file:///Users/vibhasastry/opt/anaconda3/lib/python3.9/site-packages/seaborn/distributions.py?line=655'>656</a>\u001b[0m     line\u001b[39m.\u001b[39msticky_edges\u001b[39m.\u001b[39mx[:] \u001b[39m=\u001b[39m sticky_x\n",
      "File \u001b[0;32m~/opt/anaconda3/lib/python3.9/site-packages/matplotlib/axes/_axes.py:1632\u001b[0m, in \u001b[0;36mAxes.plot\u001b[0;34m(self, scalex, scaley, data, *args, **kwargs)\u001b[0m\n\u001b[1;32m   <a href='file:///Users/vibhasastry/opt/anaconda3/lib/python3.9/site-packages/matplotlib/axes/_axes.py?line=1389'>1390</a>\u001b[0m \u001b[39m\"\"\"\u001b[39;00m\n\u001b[1;32m   <a href='file:///Users/vibhasastry/opt/anaconda3/lib/python3.9/site-packages/matplotlib/axes/_axes.py?line=1390'>1391</a>\u001b[0m \u001b[39mPlot y versus x as lines and/or markers.\u001b[39;00m\n\u001b[1;32m   <a href='file:///Users/vibhasastry/opt/anaconda3/lib/python3.9/site-packages/matplotlib/axes/_axes.py?line=1391'>1392</a>\u001b[0m \n\u001b[0;32m   (...)\u001b[0m\n\u001b[1;32m   <a href='file:///Users/vibhasastry/opt/anaconda3/lib/python3.9/site-packages/matplotlib/axes/_axes.py?line=1628'>1629</a>\u001b[0m \u001b[39m(``'green'``) or hex strings (``'#008000'``).\u001b[39;00m\n\u001b[1;32m   <a href='file:///Users/vibhasastry/opt/anaconda3/lib/python3.9/site-packages/matplotlib/axes/_axes.py?line=1629'>1630</a>\u001b[0m \u001b[39m\"\"\"\u001b[39;00m\n\u001b[1;32m   <a href='file:///Users/vibhasastry/opt/anaconda3/lib/python3.9/site-packages/matplotlib/axes/_axes.py?line=1630'>1631</a>\u001b[0m kwargs \u001b[39m=\u001b[39m cbook\u001b[39m.\u001b[39mnormalize_kwargs(kwargs, mlines\u001b[39m.\u001b[39mLine2D)\n\u001b[0;32m-> <a href='file:///Users/vibhasastry/opt/anaconda3/lib/python3.9/site-packages/matplotlib/axes/_axes.py?line=1631'>1632</a>\u001b[0m lines \u001b[39m=\u001b[39m [\u001b[39m*\u001b[39m\u001b[39mself\u001b[39m\u001b[39m.\u001b[39m_get_lines(\u001b[39m*\u001b[39margs, data\u001b[39m=\u001b[39mdata, \u001b[39m*\u001b[39m\u001b[39m*\u001b[39mkwargs)]\n\u001b[1;32m   <a href='file:///Users/vibhasastry/opt/anaconda3/lib/python3.9/site-packages/matplotlib/axes/_axes.py?line=1632'>1633</a>\u001b[0m \u001b[39mfor\u001b[39;00m line \u001b[39min\u001b[39;00m lines:\n\u001b[1;32m   <a href='file:///Users/vibhasastry/opt/anaconda3/lib/python3.9/site-packages/matplotlib/axes/_axes.py?line=1633'>1634</a>\u001b[0m     \u001b[39mself\u001b[39m\u001b[39m.\u001b[39madd_line(line)\n",
      "File \u001b[0;32m~/opt/anaconda3/lib/python3.9/site-packages/matplotlib/axes/_base.py:312\u001b[0m, in \u001b[0;36m_process_plot_var_args.__call__\u001b[0;34m(self, data, *args, **kwargs)\u001b[0m\n\u001b[1;32m    <a href='file:///Users/vibhasastry/opt/anaconda3/lib/python3.9/site-packages/matplotlib/axes/_base.py?line=309'>310</a>\u001b[0m     this \u001b[39m+\u001b[39m\u001b[39m=\u001b[39m args[\u001b[39m0\u001b[39m],\n\u001b[1;32m    <a href='file:///Users/vibhasastry/opt/anaconda3/lib/python3.9/site-packages/matplotlib/axes/_base.py?line=310'>311</a>\u001b[0m     args \u001b[39m=\u001b[39m args[\u001b[39m1\u001b[39m:]\n\u001b[0;32m--> <a href='file:///Users/vibhasastry/opt/anaconda3/lib/python3.9/site-packages/matplotlib/axes/_base.py?line=311'>312</a>\u001b[0m \u001b[39myield from\u001b[39;00m \u001b[39mself\u001b[39;49m\u001b[39m.\u001b[39;49m_plot_args(this, kwargs)\n",
      "File \u001b[0;32m~/opt/anaconda3/lib/python3.9/site-packages/matplotlib/axes/_base.py:487\u001b[0m, in \u001b[0;36m_process_plot_var_args._plot_args\u001b[0;34m(self, tup, kwargs, return_kwargs)\u001b[0m\n\u001b[1;32m    <a href='file:///Users/vibhasastry/opt/anaconda3/lib/python3.9/site-packages/matplotlib/axes/_base.py?line=483'>484</a>\u001b[0m         kw[prop_name] \u001b[39m=\u001b[39m val\n\u001b[1;32m    <a href='file:///Users/vibhasastry/opt/anaconda3/lib/python3.9/site-packages/matplotlib/axes/_base.py?line=485'>486</a>\u001b[0m \u001b[39mif\u001b[39;00m \u001b[39mlen\u001b[39m(xy) \u001b[39m==\u001b[39m \u001b[39m2\u001b[39m:\n\u001b[0;32m--> <a href='file:///Users/vibhasastry/opt/anaconda3/lib/python3.9/site-packages/matplotlib/axes/_base.py?line=486'>487</a>\u001b[0m     x \u001b[39m=\u001b[39m _check_1d(xy[\u001b[39m0\u001b[39;49m])\n\u001b[1;32m    <a href='file:///Users/vibhasastry/opt/anaconda3/lib/python3.9/site-packages/matplotlib/axes/_base.py?line=487'>488</a>\u001b[0m     y \u001b[39m=\u001b[39m _check_1d(xy[\u001b[39m1\u001b[39m])\n\u001b[1;32m    <a href='file:///Users/vibhasastry/opt/anaconda3/lib/python3.9/site-packages/matplotlib/axes/_base.py?line=488'>489</a>\u001b[0m \u001b[39melse\u001b[39;00m:\n",
      "File \u001b[0;32m~/opt/anaconda3/lib/python3.9/site-packages/matplotlib/cbook/__init__.py:1327\u001b[0m, in \u001b[0;36m_check_1d\u001b[0;34m(x)\u001b[0m\n\u001b[1;32m   <a href='file:///Users/vibhasastry/opt/anaconda3/lib/python3.9/site-packages/matplotlib/cbook/__init__.py?line=1320'>1321</a>\u001b[0m \u001b[39mwith\u001b[39;00m warnings\u001b[39m.\u001b[39mcatch_warnings(record\u001b[39m=\u001b[39m\u001b[39mTrue\u001b[39;00m) \u001b[39mas\u001b[39;00m w:\n\u001b[1;32m   <a href='file:///Users/vibhasastry/opt/anaconda3/lib/python3.9/site-packages/matplotlib/cbook/__init__.py?line=1321'>1322</a>\u001b[0m     warnings\u001b[39m.\u001b[39mfilterwarnings(\n\u001b[1;32m   <a href='file:///Users/vibhasastry/opt/anaconda3/lib/python3.9/site-packages/matplotlib/cbook/__init__.py?line=1322'>1323</a>\u001b[0m         \u001b[39m\"\u001b[39m\u001b[39malways\u001b[39m\u001b[39m\"\u001b[39m,\n\u001b[1;32m   <a href='file:///Users/vibhasastry/opt/anaconda3/lib/python3.9/site-packages/matplotlib/cbook/__init__.py?line=1323'>1324</a>\u001b[0m         category\u001b[39m=\u001b[39m\u001b[39mWarning\u001b[39;00m,\n\u001b[1;32m   <a href='file:///Users/vibhasastry/opt/anaconda3/lib/python3.9/site-packages/matplotlib/cbook/__init__.py?line=1324'>1325</a>\u001b[0m         message\u001b[39m=\u001b[39m\u001b[39m'\u001b[39m\u001b[39mSupport for multi-dimensional indexing\u001b[39m\u001b[39m'\u001b[39m)\n\u001b[0;32m-> <a href='file:///Users/vibhasastry/opt/anaconda3/lib/python3.9/site-packages/matplotlib/cbook/__init__.py?line=1326'>1327</a>\u001b[0m     ndim \u001b[39m=\u001b[39m x[:, \u001b[39mNone\u001b[39;49;00m]\u001b[39m.\u001b[39mndim\n\u001b[1;32m   <a href='file:///Users/vibhasastry/opt/anaconda3/lib/python3.9/site-packages/matplotlib/cbook/__init__.py?line=1327'>1328</a>\u001b[0m     \u001b[39m# we have definitely hit a pandas index or series object\u001b[39;00m\n\u001b[1;32m   <a href='file:///Users/vibhasastry/opt/anaconda3/lib/python3.9/site-packages/matplotlib/cbook/__init__.py?line=1328'>1329</a>\u001b[0m     \u001b[39m# cast to a numpy array.\u001b[39;00m\n\u001b[1;32m   <a href='file:///Users/vibhasastry/opt/anaconda3/lib/python3.9/site-packages/matplotlib/cbook/__init__.py?line=1329'>1330</a>\u001b[0m     \u001b[39mif\u001b[39;00m \u001b[39mlen\u001b[39m(w) \u001b[39m>\u001b[39m \u001b[39m0\u001b[39m:\n",
      "File \u001b[0;32m~/opt/anaconda3/lib/python3.9/site-packages/pandas/core/indexes/base.py:5385\u001b[0m, in \u001b[0;36mIndex.__getitem__\u001b[0;34m(self, key)\u001b[0m\n\u001b[1;32m   <a href='file:///Users/vibhasastry/opt/anaconda3/lib/python3.9/site-packages/pandas/core/indexes/base.py?line=5382'>5383</a>\u001b[0m \u001b[39m# Because we ruled out integer above, we always get an arraylike here\u001b[39;00m\n\u001b[1;32m   <a href='file:///Users/vibhasastry/opt/anaconda3/lib/python3.9/site-packages/pandas/core/indexes/base.py?line=5383'>5384</a>\u001b[0m \u001b[39mif\u001b[39;00m result\u001b[39m.\u001b[39mndim \u001b[39m>\u001b[39m \u001b[39m1\u001b[39m:\n\u001b[0;32m-> <a href='file:///Users/vibhasastry/opt/anaconda3/lib/python3.9/site-packages/pandas/core/indexes/base.py?line=5384'>5385</a>\u001b[0m     disallow_ndim_indexing(result)\n\u001b[1;32m   <a href='file:///Users/vibhasastry/opt/anaconda3/lib/python3.9/site-packages/pandas/core/indexes/base.py?line=5386'>5387</a>\u001b[0m \u001b[39m# NB: Using _constructor._simple_new would break if MultiIndex\u001b[39;00m\n\u001b[1;32m   <a href='file:///Users/vibhasastry/opt/anaconda3/lib/python3.9/site-packages/pandas/core/indexes/base.py?line=5387'>5388</a>\u001b[0m \u001b[39m#  didn't override __getitem__\u001b[39;00m\n\u001b[1;32m   <a href='file:///Users/vibhasastry/opt/anaconda3/lib/python3.9/site-packages/pandas/core/indexes/base.py?line=5388'>5389</a>\u001b[0m \u001b[39mreturn\u001b[39;00m \u001b[39mself\u001b[39m\u001b[39m.\u001b[39m_constructor\u001b[39m.\u001b[39m_simple_new(result, name\u001b[39m=\u001b[39m\u001b[39mself\u001b[39m\u001b[39m.\u001b[39m_name)\n",
      "File \u001b[0;32m~/opt/anaconda3/lib/python3.9/site-packages/pandas/core/indexers/utils.py:341\u001b[0m, in \u001b[0;36mdisallow_ndim_indexing\u001b[0;34m(result)\u001b[0m\n\u001b[1;32m    <a href='file:///Users/vibhasastry/opt/anaconda3/lib/python3.9/site-packages/pandas/core/indexers/utils.py?line=332'>333</a>\u001b[0m \u001b[39m\"\"\"\u001b[39;00m\n\u001b[1;32m    <a href='file:///Users/vibhasastry/opt/anaconda3/lib/python3.9/site-packages/pandas/core/indexers/utils.py?line=333'>334</a>\u001b[0m \u001b[39mHelper function to disallow multi-dimensional indexing on 1D Series/Index.\u001b[39;00m\n\u001b[1;32m    <a href='file:///Users/vibhasastry/opt/anaconda3/lib/python3.9/site-packages/pandas/core/indexers/utils.py?line=334'>335</a>\u001b[0m \n\u001b[0;32m   (...)\u001b[0m\n\u001b[1;32m    <a href='file:///Users/vibhasastry/opt/anaconda3/lib/python3.9/site-packages/pandas/core/indexers/utils.py?line=337'>338</a>\u001b[0m \u001b[39min GH#30588.\u001b[39;00m\n\u001b[1;32m    <a href='file:///Users/vibhasastry/opt/anaconda3/lib/python3.9/site-packages/pandas/core/indexers/utils.py?line=338'>339</a>\u001b[0m \u001b[39m\"\"\"\u001b[39;00m\n\u001b[1;32m    <a href='file:///Users/vibhasastry/opt/anaconda3/lib/python3.9/site-packages/pandas/core/indexers/utils.py?line=339'>340</a>\u001b[0m \u001b[39mif\u001b[39;00m np\u001b[39m.\u001b[39mndim(result) \u001b[39m>\u001b[39m \u001b[39m1\u001b[39m:\n\u001b[0;32m--> <a href='file:///Users/vibhasastry/opt/anaconda3/lib/python3.9/site-packages/pandas/core/indexers/utils.py?line=340'>341</a>\u001b[0m     \u001b[39mraise\u001b[39;00m \u001b[39mValueError\u001b[39;00m(\n\u001b[1;32m    <a href='file:///Users/vibhasastry/opt/anaconda3/lib/python3.9/site-packages/pandas/core/indexers/utils.py?line=341'>342</a>\u001b[0m         \u001b[39m\"\u001b[39m\u001b[39mMulti-dimensional indexing (e.g. `obj[:, None]`) is no longer \u001b[39m\u001b[39m\"\u001b[39m\n\u001b[1;32m    <a href='file:///Users/vibhasastry/opt/anaconda3/lib/python3.9/site-packages/pandas/core/indexers/utils.py?line=342'>343</a>\u001b[0m         \u001b[39m\"\u001b[39m\u001b[39msupported. Convert to a numpy array before indexing instead.\u001b[39m\u001b[39m\"\u001b[39m\n\u001b[1;32m    <a href='file:///Users/vibhasastry/opt/anaconda3/lib/python3.9/site-packages/pandas/core/indexers/utils.py?line=343'>344</a>\u001b[0m     )\n",
      "\u001b[0;31mValueError\u001b[0m: Multi-dimensional indexing (e.g. `obj[:, None]`) is no longer supported. Convert to a numpy array before indexing instead."
     ]
    },
    {
     "data": {
      "image/png": "[encoded data removed]",
      "text/plain": [
       "<Figure size 576x360 with 1 Axes>"
      ]
     },
     "metadata": {
      "needs_background": "light"
     },
     "output_type": "display_data"
    }
   ],
   "source": [
    "# Plot histograms for each subgroup one by one\n",
    "for i, subgroup_df in enumerate([subgroup_1_rr_df, subgroup_2_rr_df, subgroup_3_rr_df, \n",
    "                                 subgroup_4_rr_df, subgroup_5_rr_df, subgroup_6_rr_df, subgroup_7_rr_df]):\n",
    "    filtered_data = subgroup_df['RespiratoryRate_combined'].tolist()\n",
    "    filtered_data = [value for value in filtered_data if 0 < value < 50]\n",
    "\n",
    "    plt.figure(figsize=(8, 5))\n",
    "    sns.histplot(filtered_data, bins=20, kde=True, color='skyblue')\n",
    "    plt.title(f'Distribution of Respiratory Rates - Subgroup {i + 1}')\n",
    "    plt.xlabel('Respiratory Rate (combined)')\n",
    "    plt.ylabel('Frequency')\n",
    "    plt.show()"
   ]
  },
  {
   "cell_type": "code",
   "execution_count": null,
   "metadata": {},
   "outputs": [],
   "source": []
  }
 ],
 "metadata": {
  "interpreter": {
   "hash": "f7a5dfd4167ee2f30e272bbd6d3acb394782ff01539581bf148ac0e5b4403f3e"
  },
  "kernelspec": {
   "display_name": "Python 3.9.12 ('base')",
   "language": "python",
   "name": "python3"
  },
  "language_info": {
   "codemirror_mode": {
    "name": "ipython",
    "version": 3
   },
   "file_extension": ".py",
   "mimetype": "text/x-python",
   "name": "python",
   "nbconvert_exporter": "python",
   "pygments_lexer": "ipython3",
   "version": "3.9.12"
  },
  "orig_nbformat": 4
 },
 "nbformat": 4,
 "nbformat_minor": 2
}
