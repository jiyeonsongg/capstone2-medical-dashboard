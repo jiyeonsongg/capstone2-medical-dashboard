{
 "cells": [
  {
   "cell_type": "code",
   "execution_count": 1,
   "metadata": {},
   "outputs": [
    {
     "name": "stdout",
     "output_type": "stream",
     "text": [
      "Collecting xgboost\n",
      "  Downloading xgboost-2.0.3-py3-none-win_amd64.whl.metadata (2.0 kB)\n",
      "Requirement already satisfied: numpy in c:\\users\\jyson\\anaconda3\\envs\\dsc180a_a05_t2\\lib\\site-packages (from xgboost) (1.26.2)\n",
      "Requirement already satisfied: scipy in c:\\users\\jyson\\anaconda3\\envs\\dsc180a_a05_t2\\lib\\site-packages (from xgboost) (1.11.4)\n",
      "Downloading xgboost-2.0.3-py3-none-win_amd64.whl (99.8 MB)\n",
      "   ---------------------------------------- 0.0/99.8 MB ? eta -:--:--\n",
      "   ---------------------------------------- 0.0/99.8 MB ? eta -:--:--\n",
      "   ---------------------------------------- 0.1/99.8 MB 2.4 MB/s eta 0:00:42\n",
      "   ---------------------------------------- 0.7/99.8 MB 7.0 MB/s eta 0:00:15\n",
      "    --------------------------------------- 1.4/99.8 MB 10.2 MB/s eta 0:00:10\n",
      "    --------------------------------------- 2.2/99.8 MB 11.5 MB/s eta 0:00:09\n",
      "   - -------------------------------------- 3.0/99.8 MB 12.6 MB/s eta 0:00:08\n",
      "   - -------------------------------------- 3.6/99.8 MB 13.6 MB/s eta 0:00:08\n",
      "   - -------------------------------------- 4.6/99.8 MB 14.7 MB/s eta 0:00:07\n",
      "   -- ------------------------------------- 5.4/99.8 MB 14.5 MB/s eta 0:00:07\n",
      "   -- ------------------------------------- 6.4/99.8 MB 15.7 MB/s eta 0:00:06\n",
      "   -- ------------------------------------- 7.4/99.8 MB 16.4 MB/s eta 0:00:06\n",
      "   --- ------------------------------------ 8.4/99.8 MB 16.8 MB/s eta 0:00:06\n",
      "   --- ------------------------------------ 9.4/99.8 MB 17.1 MB/s eta 0:00:06\n",
      "   ---- ----------------------------------- 10.2/99.8 MB 17.6 MB/s eta 0:00:06\n",
      "   ---- ----------------------------------- 10.9/99.8 MB 19.3 MB/s eta 0:00:05\n",
      "   ---- ----------------------------------- 11.7/99.8 MB 20.5 MB/s eta 0:00:05\n",
      "   ----- ---------------------------------- 12.6/99.8 MB 20.5 MB/s eta 0:00:05\n",
      "   ----- ---------------------------------- 13.6/99.8 MB 20.5 MB/s eta 0:00:05\n",
      "   ----- ---------------------------------- 14.5/99.8 MB 20.5 MB/s eta 0:00:05\n",
      "   ------ --------------------------------- 15.4/99.8 MB 20.5 MB/s eta 0:00:05\n",
      "   ------ --------------------------------- 16.4/99.8 MB 21.8 MB/s eta 0:00:04\n",
      "   ------ --------------------------------- 17.2/99.8 MB 21.1 MB/s eta 0:00:04\n",
      "   ------- -------------------------------- 18.4/99.8 MB 20.5 MB/s eta 0:00:04\n",
      "   ------- -------------------------------- 19.5/99.8 MB 20.5 MB/s eta 0:00:04\n",
      "   -------- ------------------------------- 20.4/99.8 MB 20.5 MB/s eta 0:00:04\n",
      "   -------- ------------------------------- 21.3/99.8 MB 21.8 MB/s eta 0:00:04\n",
      "   -------- ------------------------------- 22.1/99.8 MB 21.1 MB/s eta 0:00:04\n",
      "   --------- ------------------------------ 23.2/99.8 MB 21.1 MB/s eta 0:00:04\n",
      "   --------- ------------------------------ 24.1/99.8 MB 21.8 MB/s eta 0:00:04\n",
      "   ---------- ----------------------------- 25.0/99.8 MB 21.8 MB/s eta 0:00:04\n",
      "   ---------- ----------------------------- 26.1/99.8 MB 21.8 MB/s eta 0:00:04\n",
      "   ---------- ----------------------------- 27.0/99.8 MB 21.8 MB/s eta 0:00:04\n",
      "   ----------- ---------------------------- 27.9/99.8 MB 22.6 MB/s eta 0:00:04\n",
      "   ----------- ---------------------------- 29.1/99.8 MB 21.8 MB/s eta 0:00:04\n",
      "   ----------- ---------------------------- 29.9/99.8 MB 21.8 MB/s eta 0:00:04\n",
      "   ------------ --------------------------- 31.1/99.8 MB 21.9 MB/s eta 0:00:04\n",
      "   ------------ --------------------------- 31.6/99.8 MB 21.1 MB/s eta 0:00:04\n",
      "   ------------- -------------------------- 32.6/99.8 MB 21.8 MB/s eta 0:00:04\n",
      "   ------------- -------------------------- 33.6/99.8 MB 21.1 MB/s eta 0:00:04\n",
      "   ------------- -------------------------- 34.4/99.8 MB 21.8 MB/s eta 0:00:03\n",
      "   -------------- ------------------------- 35.3/99.8 MB 22.6 MB/s eta 0:00:03\n",
      "   -------------- ------------------------- 36.2/99.8 MB 21.1 MB/s eta 0:00:04\n",
      "   -------------- ------------------------- 37.1/99.8 MB 21.8 MB/s eta 0:00:03\n",
      "   --------------- ------------------------ 38.3/99.8 MB 21.9 MB/s eta 0:00:03\n",
      "   --------------- ------------------------ 39.3/99.8 MB 21.9 MB/s eta 0:00:03\n",
      "   ---------------- ----------------------- 40.2/99.8 MB 21.8 MB/s eta 0:00:03\n",
      "   ---------------- ----------------------- 41.0/99.8 MB 21.1 MB/s eta 0:00:03\n",
      "   ---------------- ----------------------- 42.0/99.8 MB 21.1 MB/s eta 0:00:03\n",
      "   ----------------- ---------------------- 42.9/99.8 MB 21.8 MB/s eta 0:00:03\n",
      "   ----------------- ---------------------- 43.8/99.8 MB 21.8 MB/s eta 0:00:03\n",
      "   ----------------- ---------------------- 44.7/99.8 MB 21.1 MB/s eta 0:00:03\n",
      "   ------------------ --------------------- 45.6/99.8 MB 21.8 MB/s eta 0:00:03\n",
      "   ------------------ --------------------- 46.5/99.8 MB 21.8 MB/s eta 0:00:03\n",
      "   ------------------- -------------------- 47.4/99.8 MB 21.1 MB/s eta 0:00:03\n",
      "   ------------------- -------------------- 48.6/99.8 MB 21.8 MB/s eta 0:00:03\n",
      "   ------------------- -------------------- 49.7/99.8 MB 21.8 MB/s eta 0:00:03\n",
      "   -------------------- ------------------- 50.8/99.8 MB 21.8 MB/s eta 0:00:03\n",
      "   -------------------- ------------------- 51.9/99.8 MB 22.6 MB/s eta 0:00:03\n",
      "   --------------------- ------------------ 52.9/99.8 MB 21.9 MB/s eta 0:00:03\n",
      "   --------------------- ------------------ 53.9/99.8 MB 23.4 MB/s eta 0:00:02\n",
      "   --------------------- ------------------ 54.7/99.8 MB 22.6 MB/s eta 0:00:02\n",
      "   ---------------------- ----------------- 55.7/99.8 MB 22.6 MB/s eta 0:00:02\n",
      "   ---------------------- ----------------- 56.7/99.8 MB 22.6 MB/s eta 0:00:02\n",
      "   ----------------------- ---------------- 57.5/99.8 MB 21.8 MB/s eta 0:00:02\n",
      "   ----------------------- ---------------- 58.4/99.8 MB 22.6 MB/s eta 0:00:02\n",
      "   ----------------------- ---------------- 59.1/99.8 MB 21.8 MB/s eta 0:00:02\n",
      "   ------------------------ --------------- 60.0/99.8 MB 21.8 MB/s eta 0:00:02\n",
      "   ------------------------ --------------- 61.0/99.8 MB 21.9 MB/s eta 0:00:02\n",
      "   ------------------------ --------------- 61.9/99.8 MB 21.8 MB/s eta 0:00:02\n",
      "   ------------------------- -------------- 62.8/99.8 MB 21.9 MB/s eta 0:00:02\n",
      "   ------------------------- -------------- 63.7/99.8 MB 21.9 MB/s eta 0:00:02\n",
      "   ------------------------- -------------- 64.7/99.8 MB 21.1 MB/s eta 0:00:02\n",
      "   -------------------------- ------------- 65.6/99.8 MB 21.1 MB/s eta 0:00:02\n",
      "   -------------------------- ------------- 66.5/99.8 MB 21.1 MB/s eta 0:00:02\n",
      "   --------------------------- ------------ 67.6/99.8 MB 21.8 MB/s eta 0:00:02\n",
      "   --------------------------- ------------ 68.7/99.8 MB 21.8 MB/s eta 0:00:02\n",
      "   --------------------------- ------------ 69.7/99.8 MB 21.8 MB/s eta 0:00:02\n",
      "   ---------------------------- ----------- 70.8/99.8 MB 22.6 MB/s eta 0:00:02\n",
      "   ---------------------------- ----------- 71.7/99.8 MB 22.6 MB/s eta 0:00:02\n",
      "   ----------------------------- ---------- 72.5/99.8 MB 21.8 MB/s eta 0:00:02\n",
      "   ----------------------------- ---------- 73.3/99.8 MB 21.8 MB/s eta 0:00:02\n",
      "   ----------------------------- ---------- 74.3/99.8 MB 21.8 MB/s eta 0:00:02\n",
      "   ------------------------------ --------- 75.1/99.8 MB 21.8 MB/s eta 0:00:02\n",
      "   ------------------------------ --------- 76.3/99.8 MB 21.1 MB/s eta 0:00:02\n",
      "   ------------------------------- -------- 77.4/99.8 MB 21.1 MB/s eta 0:00:02\n",
      "   ------------------------------- -------- 78.2/99.8 MB 21.8 MB/s eta 0:00:01\n",
      "   ------------------------------- -------- 79.3/99.8 MB 21.1 MB/s eta 0:00:01\n",
      "   -------------------------------- ------- 80.0/99.8 MB 20.5 MB/s eta 0:00:01\n",
      "   -------------------------------- ------- 80.9/99.8 MB 20.5 MB/s eta 0:00:01\n",
      "   -------------------------------- ------- 81.8/99.8 MB 20.5 MB/s eta 0:00:01\n",
      "   --------------------------------- ------ 82.5/99.8 MB 19.8 MB/s eta 0:00:01\n",
      "   --------------------------------- ------ 83.4/99.8 MB 20.5 MB/s eta 0:00:01\n",
      "   --------------------------------- ------ 84.4/99.8 MB 20.5 MB/s eta 0:00:01\n",
      "   ---------------------------------- ----- 85.4/99.8 MB 20.5 MB/s eta 0:00:01\n",
      "   ---------------------------------- ----- 86.5/99.8 MB 21.1 MB/s eta 0:00:01\n",
      "   ----------------------------------- ---- 87.6/99.8 MB 21.1 MB/s eta 0:00:01\n",
      "   ----------------------------------- ---- 88.5/99.8 MB 21.1 MB/s eta 0:00:01\n",
      "   ----------------------------------- ---- 89.6/99.8 MB 21.8 MB/s eta 0:00:01\n",
      "   ------------------------------------ --- 90.5/99.8 MB 21.1 MB/s eta 0:00:01\n",
      "   ------------------------------------ --- 91.5/99.8 MB 22.6 MB/s eta 0:00:01\n",
      "   ------------------------------------- -- 92.4/99.8 MB 21.8 MB/s eta 0:00:01\n",
      "   ------------------------------------- -- 93.3/99.8 MB 21.8 MB/s eta 0:00:01\n",
      "   ------------------------------------- -- 94.5/99.8 MB 22.6 MB/s eta 0:00:01\n",
      "   -------------------------------------- - 95.8/99.8 MB 23.4 MB/s eta 0:00:01\n",
      "   -------------------------------------- - 96.6/99.8 MB 22.5 MB/s eta 0:00:01\n",
      "   ---------------------------------------  97.5/99.8 MB 21.9 MB/s eta 0:00:01\n",
      "   ---------------------------------------  98.6/99.8 MB 21.9 MB/s eta 0:00:01\n",
      "   ---------------------------------------  99.6/99.8 MB 21.8 MB/s eta 0:00:01\n",
      "   ---------------------------------------  99.7/99.8 MB 22.6 MB/s eta 0:00:01\n",
      "   ---------------------------------------  99.7/99.8 MB 22.6 MB/s eta 0:00:01\n",
      "   ---------------------------------------  99.7/99.8 MB 22.6 MB/s eta 0:00:01\n",
      "   ---------------------------------------  99.7/99.8 MB 22.6 MB/s eta 0:00:01\n",
      "   ---------------------------------------  99.7/99.8 MB 22.6 MB/s eta 0:00:01\n",
      "   ---------------------------------------  99.7/99.8 MB 22.6 MB/s eta 0:00:01\n",
      "   ---------------------------------------  99.7/99.8 MB 22.6 MB/s eta 0:00:01\n",
      "   ---------------------------------------  99.7/99.8 MB 22.6 MB/s eta 0:00:01\n",
      "   ---------------------------------------- 99.8/99.8 MB 12.6 MB/s eta 0:00:00\n",
      "Installing collected packages: xgboost\n",
      "Successfully installed xgboost-2.0.3\n",
      "Note: you may need to restart the kernel to use updated packages.\n"
     ]
    }
   ],
   "source": [
    "pip install xgboost"
   ]
  },
  {
   "cell_type": "code",
   "execution_count": 19,
   "metadata": {},
   "outputs": [],
   "source": [
    "import xgboost as xgb\n",
    "import numpy as np\n",
    "import pandas as pd\n",
    "from sklearn.model_selection import train_test_split\n",
    "from sklearn.metrics import accuracy_score"
   ]
  },
  {
   "cell_type": "code",
   "execution_count": 20,
   "metadata": {},
   "outputs": [],
   "source": [
    "# match your subgroups again\n",
    "sub1 = pd.read_csv(\"C:/Users/jyson/dsc180ab/dsc180b-wi24-quarter2/processed_data/subgroup_1.csv\").assign(subgroup = 1) # Complicated Diabetes\n",
    "sub2 = pd.read_csv(\"C:/Users/jyson/dsc180ab/dsc180b-wi24-quarter2/processed_data/subgroup_2.csv\").assign(subgroup = 2) # Cardiac\n",
    "sub3 = pd.read_csv(\"C:/Users/jyson/dsc180ab/dsc180b-wi24-quarter2/processed_data/subgroup_3.csv\").assign(subgroup = 3) # Hepatic and Addiction\n",
    "sub4 = pd.read_csv(\"C:/Users/jyson/dsc180ab/dsc180b-wi24-quarter2/processed_data/subgroup_4.csv\").assign(subgroup = 4) # Cardiopulmonary\n",
    "sub5 = pd.read_csv(\"C:/Users/jyson/dsc180ab/dsc180b-wi24-quarter2/processed_data/subgroup_5.csv\").assign(subgroup = 5) # Young\n",
    "sub6 = pd.read_csv(\"C:/Users/jyson/dsc180ab/dsc180b-wi24-quarter2/processed_data/subgroup_6.csv\").assign(subgroup = 6) # \n",
    "sub7 = pd.read_csv(\"C:/Users/jyson/dsc180ab/dsc180b-wi24-quarter2/processed_data/subgroup_7.csv\").assign(subgroup = 7) # Cardiopulmonary"
   ]
  },
  {
   "cell_type": "code",
   "execution_count": 46,
   "metadata": {},
   "outputs": [
    {
     "data": {
      "text/html": [
       "<div>\n",
       "<style scoped>\n",
       "    .dataframe tbody tr th:only-of-type {\n",
       "        vertical-align: middle;\n",
       "    }\n",
       "\n",
       "    .dataframe tbody tr th {\n",
       "        vertical-align: top;\n",
       "    }\n",
       "\n",
       "    .dataframe thead th {\n",
       "        text-align: right;\n",
       "    }\n",
       "</style>\n",
       "<table border=\"1\" class=\"dataframe\">\n",
       "  <thead>\n",
       "    <tr style=\"text-align: right;\">\n",
       "      <th></th>\n",
       "      <th>subject_id</th>\n",
       "      <th>hadm_id</th>\n",
       "      <th>rounded_age</th>\n",
       "      <th>admission_type_encoded</th>\n",
       "      <th>congestive_heart_failure</th>\n",
       "      <th>cardiac_arrhythmias</th>\n",
       "      <th>valvular_disease</th>\n",
       "      <th>pulmonary_circulation</th>\n",
       "      <th>peripheral_vascular</th>\n",
       "      <th>hypertension</th>\n",
       "      <th>...</th>\n",
       "      <th>weight_loss</th>\n",
       "      <th>fluid_electrolyte</th>\n",
       "      <th>blood_loss_anemia</th>\n",
       "      <th>deficiency_anemias</th>\n",
       "      <th>alcohol_abuse</th>\n",
       "      <th>drug_abuse</th>\n",
       "      <th>psychoses</th>\n",
       "      <th>depression</th>\n",
       "      <th>age</th>\n",
       "      <th>subgroup</th>\n",
       "    </tr>\n",
       "  </thead>\n",
       "  <tbody>\n",
       "    <tr>\n",
       "      <th>44</th>\n",
       "      <td>453</td>\n",
       "      <td>187961</td>\n",
       "      <td>80</td>\n",
       "      <td>1</td>\n",
       "      <td>1</td>\n",
       "      <td>0</td>\n",
       "      <td>1</td>\n",
       "      <td>0</td>\n",
       "      <td>0</td>\n",
       "      <td>1</td>\n",
       "      <td>...</td>\n",
       "      <td>0</td>\n",
       "      <td>0</td>\n",
       "      <td>0</td>\n",
       "      <td>0</td>\n",
       "      <td>0</td>\n",
       "      <td>0</td>\n",
       "      <td>0</td>\n",
       "      <td>0</td>\n",
       "      <td>80</td>\n",
       "      <td>1</td>\n",
       "    </tr>\n",
       "  </tbody>\n",
       "</table>\n",
       "<p>1 rows × 36 columns</p>\n",
       "</div>"
      ],
      "text/plain": [
       "    subject_id  hadm_id  rounded_age  admission_type_encoded  \\\n",
       "44         453   187961           80                       1   \n",
       "\n",
       "    congestive_heart_failure  cardiac_arrhythmias  valvular_disease  \\\n",
       "44                         1                    0                 1   \n",
       "\n",
       "    pulmonary_circulation  peripheral_vascular  hypertension  ...  \\\n",
       "44                      0                    0             1  ...   \n",
       "\n",
       "    weight_loss  fluid_electrolyte  blood_loss_anemia  deficiency_anemias  \\\n",
       "44            0                  0                  0                   0   \n",
       "\n",
       "    alcohol_abuse  drug_abuse  psychoses  depression  age  subgroup  \n",
       "44              0           0          0           0   80         1  \n",
       "\n",
       "[1 rows x 36 columns]"
      ]
     },
     "execution_count": 46,
     "metadata": {},
     "output_type": "execute_result"
    }
   ],
   "source": [
    "sub1[sub1['subject_id'] == 453]"
   ]
  },
  {
   "cell_type": "code",
   "execution_count": 61,
   "metadata": {},
   "outputs": [
    {
     "data": {
      "text/plain": [
       "48289"
      ]
     },
     "execution_count": 61,
     "metadata": {},
     "output_type": "execute_result"
    }
   ],
   "source": [
    "sub_all = pd.concat([sub1, sub2, sub3, sub4, sub5, sub6, sub7], axis=0, ignore_index=False).drop(columns = ['rounded_age'])\n",
    "len(sub_all['hadm_id'].unique())"
   ]
  },
  {
   "cell_type": "code",
   "execution_count": 48,
   "metadata": {},
   "outputs": [
    {
     "data": {
      "text/html": [
       "<div>\n",
       "<style scoped>\n",
       "    .dataframe tbody tr th:only-of-type {\n",
       "        vertical-align: middle;\n",
       "    }\n",
       "\n",
       "    .dataframe tbody tr th {\n",
       "        vertical-align: top;\n",
       "    }\n",
       "\n",
       "    .dataframe thead th {\n",
       "        text-align: right;\n",
       "    }\n",
       "</style>\n",
       "<table border=\"1\" class=\"dataframe\">\n",
       "  <thead>\n",
       "    <tr style=\"text-align: right;\">\n",
       "      <th></th>\n",
       "      <th>subject_id</th>\n",
       "      <th>admission_type_encoded</th>\n",
       "      <th>congestive_heart_failure</th>\n",
       "      <th>cardiac_arrhythmias</th>\n",
       "      <th>valvular_disease</th>\n",
       "      <th>pulmonary_circulation</th>\n",
       "      <th>peripheral_vascular</th>\n",
       "      <th>hypertension</th>\n",
       "      <th>paralysis</th>\n",
       "      <th>other_neurological</th>\n",
       "      <th>...</th>\n",
       "      <th>weight_loss</th>\n",
       "      <th>fluid_electrolyte</th>\n",
       "      <th>blood_loss_anemia</th>\n",
       "      <th>deficiency_anemias</th>\n",
       "      <th>alcohol_abuse</th>\n",
       "      <th>drug_abuse</th>\n",
       "      <th>psychoses</th>\n",
       "      <th>depression</th>\n",
       "      <th>age</th>\n",
       "      <th>subgroup</th>\n",
       "    </tr>\n",
       "  </thead>\n",
       "  <tbody>\n",
       "    <tr>\n",
       "      <th>44</th>\n",
       "      <td>453</td>\n",
       "      <td>1</td>\n",
       "      <td>1</td>\n",
       "      <td>0</td>\n",
       "      <td>1</td>\n",
       "      <td>0</td>\n",
       "      <td>0</td>\n",
       "      <td>1</td>\n",
       "      <td>0</td>\n",
       "      <td>0</td>\n",
       "      <td>...</td>\n",
       "      <td>0</td>\n",
       "      <td>0</td>\n",
       "      <td>0</td>\n",
       "      <td>0</td>\n",
       "      <td>0</td>\n",
       "      <td>0</td>\n",
       "      <td>0</td>\n",
       "      <td>0</td>\n",
       "      <td>80</td>\n",
       "      <td>1</td>\n",
       "    </tr>\n",
       "  </tbody>\n",
       "</table>\n",
       "<p>1 rows × 34 columns</p>\n",
       "</div>"
      ],
      "text/plain": [
       "    subject_id  admission_type_encoded  congestive_heart_failure  \\\n",
       "44         453                       1                         1   \n",
       "\n",
       "    cardiac_arrhythmias  valvular_disease  pulmonary_circulation  \\\n",
       "44                    0                 1                      0   \n",
       "\n",
       "    peripheral_vascular  hypertension  paralysis  other_neurological  ...  \\\n",
       "44                    0             1          0                   0  ...   \n",
       "\n",
       "    weight_loss  fluid_electrolyte  blood_loss_anemia  deficiency_anemias  \\\n",
       "44            0                  0                  0                   0   \n",
       "\n",
       "    alcohol_abuse  drug_abuse  psychoses  depression  age  subgroup  \n",
       "44              0           0          0           0   80         1  \n",
       "\n",
       "[1 rows x 34 columns]"
      ]
     },
     "execution_count": 48,
     "metadata": {},
     "output_type": "execute_result"
    }
   ],
   "source": [
    "sub_all[sub_all['subject_id'] == 453]"
   ]
  },
  {
   "cell_type": "code",
   "execution_count": 38,
   "metadata": {},
   "outputs": [],
   "source": [
    "# 'subgroup' is the target column\n",
    "X = sub_all.drop('subgroup', axis = 1)\n",
    "y = sub_all['subgroup']"
   ]
  },
  {
   "cell_type": "code",
   "execution_count": 39,
   "metadata": {},
   "outputs": [],
   "source": [
    "X_train, X_test, y_train, y_test = train_test_split(X, y, test_size=0.2, random_state=42)"
   ]
  },
  {
   "cell_type": "code",
   "execution_count": 40,
   "metadata": {},
   "outputs": [],
   "source": [
    "# train the XGBoost model\n",
    "y_train_adj = y_train - 1\n",
    "y_test_adj = y_test - 1\n",
    "\n",
    "dtrain = xgb.DMatrix(X_train, label=y_train_adj)\n",
    "dtest = xgb.DMatrix(X_test, label=y_test_adj)\n",
    "\n",
    "\n",
    "# Specify parameters for the XGBoost model\n",
    "params = {\n",
    "    'max_depth': 3,  # the maximum depth of each tree\n",
    "    'eta': 0.3,  # the training step for each iteration\n",
    "    'objective': 'multi:softprob',  # error evaluation for multiclass training\n",
    "    'num_class': 7  # the number of classes that exist in this datset\n",
    "}\n",
    "\n",
    "# Train the model\n",
    "num_round = 100  # the number of training iterations\n",
    "bst = xgb.train(params, dtrain, num_round)"
   ]
  },
  {
   "cell_type": "code",
   "execution_count": 41,
   "metadata": {},
   "outputs": [
    {
     "name": "stdout",
     "output_type": "stream",
     "text": [
      "Accuracy: 0.66%\n"
     ]
    }
   ],
   "source": [
    "# make predictions and evaluate the model\n",
    "# Make prediction\n",
    "preds = bst.predict(dtest)\n",
    "best_preds = np.asarray([np.argmax(line) for line in preds])\n",
    "\n",
    "# Evaluate the model\n",
    "accuracy = accuracy_score(y_test, best_preds)\n",
    "print(\"Accuracy: %.2f%%\" % (accuracy * 100.0))"
   ]
  },
  {
   "cell_type": "code",
   "execution_count": 35,
   "metadata": {},
   "outputs": [],
   "source": [
    "# Make probability predictions\n",
    "probabilities = bst.predict(dtest)"
   ]
  },
  {
   "cell_type": "code",
   "execution_count": 69,
   "metadata": {},
   "outputs": [
    {
     "data": {
      "text/plain": [
       "array([0., 0., 1., 0., 0., 0., 0.], dtype=float32)"
      ]
     },
     "execution_count": 69,
     "metadata": {},
     "output_type": "execute_result"
    }
   ],
   "source": [
    "# subject_id = 453's index\n",
    "patient_probabilities = probabilities[44]\n",
    "patient_probabilities.round()"
   ]
  },
  {
   "cell_type": "code",
   "execution_count": null,
   "metadata": {},
   "outputs": [],
   "source": []
  }
 ],
 "metadata": {
  "kernelspec": {
   "display_name": "DSC180A_A05_T2",
   "language": "python",
   "name": "python3"
  },
  "language_info": {
   "codemirror_mode": {
    "name": "ipython",
    "version": 3
   },
   "file_extension": ".py",
   "mimetype": "text/x-python",
   "name": "python",
   "nbconvert_exporter": "python",
   "pygments_lexer": "ipython3",
   "version": "3.12.0"
  }
 },
 "nbformat": 4,
 "nbformat_minor": 2
}
